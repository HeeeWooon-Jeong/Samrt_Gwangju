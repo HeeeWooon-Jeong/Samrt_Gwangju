{
 "cells": [
  {
   "cell_type": "code",
   "execution_count": null,
   "id": "90e89614",
   "metadata": {
    "scrolled": true
   },
   "outputs": [],
   "source": [
    "import numpy as np \n",
    "import pandas as pd \n",
    "import matplotlib.pyplot as plt\n",
    "import matplotlib\n",
    "import seaborn as sns\n",
    "from sklearn.preprocessing import LabelEncoder\n",
    "from sklearn.ensemble import RandomForestClassifier\n",
    "from sklearn.model_selection import train_test_split\n",
    "from sklearn.metrics import confusion_matrix, accuracy_score\n",
    "from sklearn.neighbors import KNeighborsClassifier\n",
    "import missingno as msno\n"
   ]
  },
  {
   "cell_type": "code",
   "execution_count": null,
   "id": "b73da425",
   "metadata": {},
   "outputs": [],
   "source": [
    "train = pd.read_csv(\"train.csv\")\n",
    "test = pd.read_csv(\"test.csv\")"
   ]
  },
  {
   "cell_type": "markdown",
   "id": "b12cb7c3",
   "metadata": {},
   "source": [
    "# 결측치 처리\n",
    "\n",
    "3 Customer_care_calls 5423 non-null float64   -  0 으로 채움  \n",
    "6 Prior_purchases 6049 non-null float64  - 0 으로 채움  \n",
    "9 Discount_offered 3468 non-null float64  - 0 으로 채움  "
   ]
  },
  {
   "cell_type": "code",
   "execution_count": 17,
   "id": "d7267bdd",
   "metadata": {
    "scrolled": false
   },
   "outputs": [
    {
     "data": {
      "text/plain": [
       "0       2.0\n",
       "1       5.0\n",
       "2       3.0\n",
       "3       3.0\n",
       "4       NaN\n",
       "       ... \n",
       "6994    4.0\n",
       "6995    3.0\n",
       "6996    NaN\n",
       "6997    3.0\n",
       "6998    3.0\n",
       "Name: Customer_care_calls, Length: 6999, dtype: float64"
      ]
     },
     "execution_count": 17,
     "metadata": {},
     "output_type": "execute_result"
    }
   ],
   "source": [
    "train['Customer_care_calls']"
   ]
  },
  {
   "cell_type": "code",
   "execution_count": 18,
   "id": "c147c256",
   "metadata": {},
   "outputs": [],
   "source": [
    "# 3 Customer_care_calls 5423 non-null float64 - 0 으로 채움\n",
    "train['Customer_care_calls'].fillna(0, inplace=True)"
   ]
  },
  {
   "cell_type": "code",
   "execution_count": 19,
   "id": "5d25425e",
   "metadata": {},
   "outputs": [
    {
     "name": "stdout",
     "output_type": "stream",
     "text": [
      "<class 'pandas.core.series.Series'>\n",
      "RangeIndex: 6999 entries, 0 to 6998\n",
      "Series name: Customer_care_calls\n",
      "Non-Null Count  Dtype  \n",
      "--------------  -----  \n",
      "6999 non-null   float64\n",
      "dtypes: float64(1)\n",
      "memory usage: 54.8 KB\n"
     ]
    }
   ],
   "source": [
    "train['Customer_care_calls'].info()"
   ]
  },
  {
   "cell_type": "code",
   "execution_count": 20,
   "id": "f5d4bdaa",
   "metadata": {},
   "outputs": [
    {
     "data": {
      "text/plain": [
       "count    6999.000000\n",
       "mean      214.249178\n",
       "std       208.294273\n",
       "min        96.000000\n",
       "25%       169.000000\n",
       "50%       214.000000\n",
       "75%       251.000000\n",
       "max      9999.000000\n",
       "Name: Cost_of_the_Product, dtype: float64"
      ]
     },
     "execution_count": 20,
     "metadata": {},
     "output_type": "execute_result"
    }
   ],
   "source": [
    "train['Cost_of_the_Product'].describe()"
   ]
  },
  {
   "cell_type": "code",
   "execution_count": 21,
   "id": "a66945a4",
   "metadata": {},
   "outputs": [
    {
     "ename": "SyntaxError",
     "evalue": "invalid syntax (4226743416.py, line 1)",
     "output_type": "error",
     "traceback": [
      "\u001b[1;36m  Cell \u001b[1;32mIn[21], line 1\u001b[1;36m\u001b[0m\n\u001b[1;33m    Customer_care_calls 5423\u001b[0m\n\u001b[1;37m                        ^\u001b[0m\n\u001b[1;31mSyntaxError\u001b[0m\u001b[1;31m:\u001b[0m invalid syntax\n"
     ]
    }
   ],
   "source": [
    "Customer_care_calls 5423"
   ]
  },
  {
   "cell_type": "code",
   "execution_count": null,
   "id": "5820cae1",
   "metadata": {},
   "outputs": [],
   "source": []
  },
  {
   "cell_type": "code",
   "execution_count": 22,
   "id": "34f4fb98",
   "metadata": {},
   "outputs": [],
   "source": [
    "# 6 Prior_purchases 6049 non-null float64 - 0 으로 채움\n",
    "train['Prior_purchases'].fillna(0, inplace=True)"
   ]
  },
  {
   "cell_type": "code",
   "execution_count": 23,
   "id": "9b589e92",
   "metadata": {},
   "outputs": [
    {
     "name": "stdout",
     "output_type": "stream",
     "text": [
      "<class 'pandas.core.series.Series'>\n",
      "RangeIndex: 6999 entries, 0 to 6998\n",
      "Series name: Prior_purchases\n",
      "Non-Null Count  Dtype  \n",
      "--------------  -----  \n",
      "6999 non-null   float64\n",
      "dtypes: float64(1)\n",
      "memory usage: 54.8 KB\n"
     ]
    }
   ],
   "source": [
    "train['Prior_purchases'].info()"
   ]
  },
  {
   "cell_type": "code",
   "execution_count": 24,
   "id": "597453ce",
   "metadata": {},
   "outputs": [],
   "source": [
    "# 9 Discount_offered 3468 non-null float64 - 0 으로 채움\n",
    "train['Discount_offered'].fillna(0, inplace=True)"
   ]
  },
  {
   "cell_type": "code",
   "execution_count": 25,
   "id": "6c84be13",
   "metadata": {},
   "outputs": [],
   "source": [
    "train['Prior_purchases'].replace('0', 'null', inplace=True)"
   ]
  },
  {
   "cell_type": "code",
   "execution_count": null,
   "id": "850fd109",
   "metadata": {},
   "outputs": [],
   "source": []
  },
  {
   "cell_type": "code",
   "execution_count": 26,
   "id": "ee8a3dd7",
   "metadata": {},
   "outputs": [
    {
     "data": {
      "text/plain": [
       "array([ 0.,  6.,  2.,  9.,  3., 34.,  7.,  1., 53.,  8., 63.,  4., 43.,\n",
       "       60., 51.,  5., 10., 55., 17., 62., 15., 23., 38., 32., 39., 29.,\n",
       "       45., 14., 52., 41., 58., 11., 50., 35., 28., 31., 24., 64., 61.,\n",
       "       48., 65., 40., 18., 22., 56., 49., 21., 27., 20., 13., 30., 26.,\n",
       "       54., 16., 57., 47., 42., 36., 37., 46., 19., 12., 25., 44., 33.,\n",
       "       59.])"
      ]
     },
     "execution_count": 26,
     "metadata": {},
     "output_type": "execute_result"
    }
   ],
   "source": [
    "train['Discount_offered'].unique()"
   ]
  },
  {
   "cell_type": "code",
   "execution_count": 27,
   "id": "13d8f3a7",
   "metadata": {},
   "outputs": [
    {
     "name": "stdout",
     "output_type": "stream",
     "text": [
      "<class 'pandas.core.frame.DataFrame'>\n",
      "RangeIndex: 6999 entries, 0 to 6998\n",
      "Data columns (total 12 columns):\n",
      " #   Column               Non-Null Count  Dtype  \n",
      "---  ------               --------------  -----  \n",
      " 0   ID                   6999 non-null   int64  \n",
      " 1   Warehouse_block      6999 non-null   object \n",
      " 2   Mode_of_Shipment     6999 non-null   object \n",
      " 3   Customer_care_calls  6999 non-null   float64\n",
      " 4   Customer_rating      6999 non-null   int64  \n",
      " 5   Cost_of_the_Product  6999 non-null   int64  \n",
      " 6   Prior_purchases      6999 non-null   float64\n",
      " 7   Product_importance   6999 non-null   object \n",
      " 8   Gender               6999 non-null   object \n",
      " 9   Discount_offered     6999 non-null   float64\n",
      " 10  Weight_in_gms        6999 non-null   object \n",
      " 11  Reached.on.Time_Y.N  6999 non-null   int64  \n",
      "dtypes: float64(3), int64(4), object(5)\n",
      "memory usage: 656.3+ KB\n"
     ]
    }
   ],
   "source": [
    "# 결측치 처리 완료 확인\n",
    "train.info()"
   ]
  },
  {
   "cell_type": "markdown",
   "id": "24f4f323",
   "metadata": {},
   "source": [
    "# 이상치"
   ]
  },
  {
   "cell_type": "code",
   "execution_count": 28,
   "id": "8411d571",
   "metadata": {},
   "outputs": [],
   "source": [
    "# Cost_of_the_Product - 9999이상치 제거 후 중앙값으로 대체\n",
    "# Customer_rating - 평점 99 2개 평균 평점으로 대체\n",
    "# Product_importance - 데이터 카테고리 이름 오타 수정"
   ]
  },
  {
   "cell_type": "code",
   "execution_count": 29,
   "id": "c6ceb9a8",
   "metadata": {},
   "outputs": [],
   "source": [
    "# 1. Cost_of_the_Product 9999 이상치 제거 \n",
    "# 2. Cost_of_the_Product 제거 후 중앙값 찾기\n",
    "# 3. Cost_of_the_Product 9999자리에 중앙값 대체"
   ]
  },
  {
   "cell_type": "markdown",
   "id": "e42bad8f",
   "metadata": {},
   "source": [
    "# Cost_of_the_Product"
   ]
  },
  {
   "cell_type": "code",
   "execution_count": 30,
   "id": "decb2c0c",
   "metadata": {},
   "outputs": [],
   "source": [
    "# Cost_of_the_Product 9999 이상치 제거 \n",
    "train_filtered = train[train['Cost_of_the_Product'] != 9999]"
   ]
  },
  {
   "cell_type": "code",
   "execution_count": 31,
   "id": "700c0d39",
   "metadata": {},
   "outputs": [
    {
     "data": {
      "text/plain": [
       "214.0"
      ]
     },
     "execution_count": 31,
     "metadata": {},
     "output_type": "execute_result"
    }
   ],
   "source": [
    "# Cost_of_the_Product 제거 후 중앙값 찾기\n",
    "\n",
    "train_filtered['Cost_of_the_Product'].median()"
   ]
  },
  {
   "cell_type": "code",
   "execution_count": 32,
   "id": "dc4e1aca",
   "metadata": {},
   "outputs": [],
   "source": [
    "# Cost_of_the_Product 9999자리에 중앙값 대체\n",
    "median_cost = train['Cost_of_the_Product'].median()\n",
    "\n",
    "train['Cost_of_the_Product'].replace(9999, median_cost, inplace=True)"
   ]
  },
  {
   "cell_type": "code",
   "execution_count": 33,
   "id": "20e2dd5d",
   "metadata": {},
   "outputs": [
    {
     "data": {
      "text/plain": [
       "0"
      ]
     },
     "execution_count": 33,
     "metadata": {},
     "output_type": "execute_result"
    }
   ],
   "source": [
    "# 이상치 제거 확인\n",
    "count_99 = (train['Cost_of_the_Product'] == 9999)\n",
    "count_99.sum()"
   ]
  },
  {
   "cell_type": "markdown",
   "id": "019bc933",
   "metadata": {},
   "source": [
    "# Customer_rating"
   ]
  },
  {
   "cell_type": "code",
   "execution_count": null,
   "id": "1c777dc2",
   "metadata": {},
   "outputs": [],
   "source": [
    "train['Customer_rating'].describe()"
   ]
  },
  {
   "cell_type": "code",
   "execution_count": 35,
   "id": "c6f9a039",
   "metadata": {},
   "outputs": [
    {
     "data": {
      "text/plain": [
       "array([ 2,  3,  1,  5,  4, 99], dtype=int64)"
      ]
     },
     "execution_count": 35,
     "metadata": {},
     "output_type": "execute_result"
    }
   ],
   "source": [
    "train['Customer_rating'].unique()"
   ]
  },
  {
   "cell_type": "code",
   "execution_count": 36,
   "id": "3e989348",
   "metadata": {},
   "outputs": [
    {
     "data": {
      "text/plain": [
       "2"
      ]
     },
     "execution_count": 36,
     "metadata": {},
     "output_type": "execute_result"
    }
   ],
   "source": [
    "# 이상치 99 개수 확인\n",
    "count_excluding_1_to_5 = ((train['Customer_rating'] < 1) | (train['Customer_rating'] > 5)).sum()\n",
    "count_excluding_1_to_5"
   ]
  },
  {
   "cell_type": "code",
   "execution_count": 37,
   "id": "851e7ed9",
   "metadata": {},
   "outputs": [],
   "source": [
    "# 평점 99 제거\n",
    "train_filtered = train[train['Customer_rating'] != 99]"
   ]
  },
  {
   "cell_type": "code",
   "execution_count": 38,
   "id": "47521ee5",
   "metadata": {},
   "outputs": [
    {
     "data": {
      "text/plain": [
       "3.0"
      ]
     },
     "execution_count": 38,
     "metadata": {},
     "output_type": "execute_result"
    }
   ],
   "source": [
    "# 중앙값 \n",
    "train_filtered['Customer_rating'].median()"
   ]
  },
  {
   "cell_type": "code",
   "execution_count": 39,
   "id": "c76331b1",
   "metadata": {},
   "outputs": [],
   "source": [
    "# 99를 평점 중앙값으로 대체\n",
    "median_cost = train['Customer_rating'].median()\n",
    "\n",
    "train['Customer_rating'].replace(99, median_cost, inplace=True)"
   ]
  },
  {
   "cell_type": "code",
   "execution_count": 40,
   "id": "605c6223",
   "metadata": {},
   "outputs": [
    {
     "data": {
      "text/plain": [
       "0"
      ]
     },
     "execution_count": 40,
     "metadata": {},
     "output_type": "execute_result"
    }
   ],
   "source": [
    "# 이상치 99 개수 확인\n",
    "count_excluding_1_to_5 = ((train['Customer_rating'] < 1) | (train['Customer_rating'] > 5)).sum()\n",
    "count_excluding_1_to_5"
   ]
  },
  {
   "cell_type": "markdown",
   "id": "c38960fc",
   "metadata": {},
   "source": [
    "# Product_importance"
   ]
  },
  {
   "cell_type": "code",
   "execution_count": 41,
   "id": "e70ce6ad",
   "metadata": {},
   "outputs": [
    {
     "data": {
      "text/plain": [
       "array(['low', 'medium', 'high', '?', 'mediumm', 'loww', 'highh'],\n",
       "      dtype=object)"
      ]
     },
     "execution_count": 41,
     "metadata": {},
     "output_type": "execute_result"
    }
   ],
   "source": [
    "train['Product_importance'].unique()"
   ]
  },
  {
   "cell_type": "code",
   "execution_count": 42,
   "id": "92524dbd",
   "metadata": {},
   "outputs": [
    {
     "data": {
      "text/plain": [
       "97"
      ]
     },
     "execution_count": 42,
     "metadata": {},
     "output_type": "execute_result"
    }
   ],
   "source": [
    "(train['Product_importance'] == '?').sum()"
   ]
  },
  {
   "cell_type": "markdown",
   "id": "b4782046",
   "metadata": {},
   "source": [
    "# 카테고리 이름 수정"
   ]
  },
  {
   "cell_type": "code",
   "execution_count": 43,
   "id": "81ed7868",
   "metadata": {},
   "outputs": [],
   "source": [
    "train['Product_importance'].replace('mediumm', 'medium', inplace=True)"
   ]
  },
  {
   "cell_type": "code",
   "execution_count": 44,
   "id": "fb045f85",
   "metadata": {},
   "outputs": [],
   "source": [
    "train['Product_importance'].replace('loww', 'low', inplace=True)"
   ]
  },
  {
   "cell_type": "code",
   "execution_count": 45,
   "id": "1dcc39c2",
   "metadata": {},
   "outputs": [],
   "source": [
    "train['Product_importance'].replace('highh', 'high', inplace=True)"
   ]
  },
  {
   "cell_type": "markdown",
   "id": "ca83c1c5",
   "metadata": {},
   "source": [
    "# ? 이름 수정  손안댐\n",
    "- 어떻게 수정해야 좋을지 확인 못함"
   ]
  },
  {
   "cell_type": "code",
   "execution_count": 46,
   "id": "cf2ebe77",
   "metadata": {},
   "outputs": [],
   "source": [
    "# train['Product_importance'].replace('?', '?', inplace=True)"
   ]
  },
  {
   "cell_type": "code",
   "execution_count": null,
   "id": "b2ad0547",
   "metadata": {},
   "outputs": [],
   "source": []
  },
  {
   "cell_type": "code",
   "execution_count": 47,
   "id": "63e6a955",
   "metadata": {},
   "outputs": [
    {
     "name": "stdout",
     "output_type": "stream",
     "text": [
      "<class 'pandas.core.frame.DataFrame'>\n",
      "RangeIndex: 6999 entries, 0 to 6998\n",
      "Data columns (total 12 columns):\n",
      " #   Column               Non-Null Count  Dtype  \n",
      "---  ------               --------------  -----  \n",
      " 0   ID                   6999 non-null   int64  \n",
      " 1   Warehouse_block      6999 non-null   object \n",
      " 2   Mode_of_Shipment     6999 non-null   object \n",
      " 3   Customer_care_calls  6999 non-null   float64\n",
      " 4   Customer_rating      6999 non-null   int64  \n",
      " 5   Cost_of_the_Product  6999 non-null   int64  \n",
      " 6   Prior_purchases      6999 non-null   float64\n",
      " 7   Product_importance   6999 non-null   object \n",
      " 8   Gender               6999 non-null   object \n",
      " 9   Discount_offered     6999 non-null   float64\n",
      " 10  Weight_in_gms        6999 non-null   object \n",
      " 11  Reached.on.Time_Y.N  6999 non-null   int64  \n",
      "dtypes: float64(3), int64(4), object(5)\n",
      "memory usage: 656.3+ KB\n"
     ]
    }
   ],
   "source": [
    "train.info()"
   ]
  },
  {
   "cell_type": "code",
   "execution_count": 48,
   "id": "f8e46e25",
   "metadata": {},
   "outputs": [
    {
     "data": {
      "text/plain": [
       "<Axes: >"
      ]
     },
     "execution_count": 48,
     "metadata": {},
     "output_type": "execute_result"
    },
    {
     "data": {
      "image/png": "[encoded data removed]",
      "text/plain": [
       "<Figure size 2500x1000 with 2 Axes>"
      ]
     },
     "metadata": {},
     "output_type": "display_data"
    }
   ],
   "source": [
    "msno.matrix(train)\n"
   ]
  },
  {
   "cell_type": "code",
   "execution_count": 49,
   "id": "cfd77927",
   "metadata": {},
   "outputs": [
    {
     "name": "stderr",
     "output_type": "stream",
     "text": [
      "C:\\Users\\heewo\\AppData\\Local\\Temp\\ipykernel_16744\\2189804198.py:1: FutureWarning: The default value of numeric_only in DataFrame.corr is deprecated. In a future version, it will default to False. Select only valid columns or specify the value of numeric_only to silence this warning.\n",
      "  train.corr()\n"
     ]
    },
    {
     "data": {
      "text/html": [
       "<div>\n",
       "<style scoped>\n",
       "    .dataframe tbody tr th:only-of-type {\n",
       "        vertical-align: middle;\n",
       "    }\n",
       "\n",
       "    .dataframe tbody tr th {\n",
       "        vertical-align: top;\n",
       "    }\n",
       "\n",
       "    .dataframe thead th {\n",
       "        text-align: right;\n",
       "    }\n",
       "</style>\n",
       "<table border=\"1\" class=\"dataframe\">\n",
       "  <thead>\n",
       "    <tr style=\"text-align: right;\">\n",
       "      <th></th>\n",
       "      <th>ID</th>\n",
       "      <th>Customer_care_calls</th>\n",
       "      <th>Customer_rating</th>\n",
       "      <th>Cost_of_the_Product</th>\n",
       "      <th>Prior_purchases</th>\n",
       "      <th>Discount_offered</th>\n",
       "      <th>Reached.on.Time_Y.N</th>\n",
       "    </tr>\n",
       "  </thead>\n",
       "  <tbody>\n",
       "    <tr>\n",
       "      <th>ID</th>\n",
       "      <td>1.000000</td>\n",
       "      <td>0.010603</td>\n",
       "      <td>-0.000533</td>\n",
       "      <td>0.006460</td>\n",
       "      <td>0.016337</td>\n",
       "      <td>-0.002613</td>\n",
       "      <td>-0.014909</td>\n",
       "    </tr>\n",
       "    <tr>\n",
       "      <th>Customer_care_calls</th>\n",
       "      <td>0.010603</td>\n",
       "      <td>1.000000</td>\n",
       "      <td>0.009423</td>\n",
       "      <td>0.144350</td>\n",
       "      <td>0.059339</td>\n",
       "      <td>-0.046734</td>\n",
       "      <td>-0.061375</td>\n",
       "    </tr>\n",
       "    <tr>\n",
       "      <th>Customer_rating</th>\n",
       "      <td>-0.000533</td>\n",
       "      <td>0.009423</td>\n",
       "      <td>1.000000</td>\n",
       "      <td>0.006108</td>\n",
       "      <td>0.013079</td>\n",
       "      <td>-0.010548</td>\n",
       "      <td>0.001127</td>\n",
       "    </tr>\n",
       "    <tr>\n",
       "      <th>Cost_of_the_Product</th>\n",
       "      <td>0.006460</td>\n",
       "      <td>0.144350</td>\n",
       "      <td>0.006108</td>\n",
       "      <td>1.000000</td>\n",
       "      <td>0.095558</td>\n",
       "      <td>-0.080011</td>\n",
       "      <td>-0.068100</td>\n",
       "    </tr>\n",
       "    <tr>\n",
       "      <th>Prior_purchases</th>\n",
       "      <td>0.016337</td>\n",
       "      <td>0.059339</td>\n",
       "      <td>0.013079</td>\n",
       "      <td>0.095558</td>\n",
       "      <td>1.000000</td>\n",
       "      <td>-0.033104</td>\n",
       "      <td>-0.032579</td>\n",
       "    </tr>\n",
       "    <tr>\n",
       "      <th>Discount_offered</th>\n",
       "      <td>-0.002613</td>\n",
       "      <td>-0.046734</td>\n",
       "      <td>-0.010548</td>\n",
       "      <td>-0.080011</td>\n",
       "      <td>-0.033104</td>\n",
       "      <td>1.000000</td>\n",
       "      <td>0.242017</td>\n",
       "    </tr>\n",
       "    <tr>\n",
       "      <th>Reached.on.Time_Y.N</th>\n",
       "      <td>-0.014909</td>\n",
       "      <td>-0.061375</td>\n",
       "      <td>0.001127</td>\n",
       "      <td>-0.068100</td>\n",
       "      <td>-0.032579</td>\n",
       "      <td>0.242017</td>\n",
       "      <td>1.000000</td>\n",
       "    </tr>\n",
       "  </tbody>\n",
       "</table>\n",
       "</div>"
      ],
      "text/plain": [
       "                           ID  Customer_care_calls  Customer_rating  \\\n",
       "ID                   1.000000             0.010603        -0.000533   \n",
       "Customer_care_calls  0.010603             1.000000         0.009423   \n",
       "Customer_rating     -0.000533             0.009423         1.000000   \n",
       "Cost_of_the_Product  0.006460             0.144350         0.006108   \n",
       "Prior_purchases      0.016337             0.059339         0.013079   \n",
       "Discount_offered    -0.002613            -0.046734        -0.010548   \n",
       "Reached.on.Time_Y.N -0.014909            -0.061375         0.001127   \n",
       "\n",
       "                     Cost_of_the_Product  Prior_purchases  Discount_offered  \\\n",
       "ID                              0.006460         0.016337         -0.002613   \n",
       "Customer_care_calls             0.144350         0.059339         -0.046734   \n",
       "Customer_rating                 0.006108         0.013079         -0.010548   \n",
       "Cost_of_the_Product             1.000000         0.095558         -0.080011   \n",
       "Prior_purchases                 0.095558         1.000000         -0.033104   \n",
       "Discount_offered               -0.080011        -0.033104          1.000000   \n",
       "Reached.on.Time_Y.N            -0.068100        -0.032579          0.242017   \n",
       "\n",
       "                     Reached.on.Time_Y.N  \n",
       "ID                             -0.014909  \n",
       "Customer_care_calls            -0.061375  \n",
       "Customer_rating                 0.001127  \n",
       "Cost_of_the_Product            -0.068100  \n",
       "Prior_purchases                -0.032579  \n",
       "Discount_offered                0.242017  \n",
       "Reached.on.Time_Y.N             1.000000  "
      ]
     },
     "execution_count": 49,
     "metadata": {},
     "output_type": "execute_result"
    }
   ],
   "source": [
    "# train.corr()"
   ]
  },
  {
   "cell_type": "code",
   "execution_count": 50,
   "id": "2d1bfef8",
   "metadata": {},
   "outputs": [
    {
     "data": {
      "text/html": [
       "<div>\n",
       "<style scoped>\n",
       "    .dataframe tbody tr th:only-of-type {\n",
       "        vertical-align: middle;\n",
       "    }\n",
       "\n",
       "    .dataframe tbody tr th {\n",
       "        vertical-align: top;\n",
       "    }\n",
       "\n",
       "    .dataframe thead th {\n",
       "        text-align: right;\n",
       "    }\n",
       "</style>\n",
       "<table border=\"1\" class=\"dataframe\">\n",
       "  <thead>\n",
       "    <tr style=\"text-align: right;\">\n",
       "      <th></th>\n",
       "      <th>Cost_of_the_Product</th>\n",
       "    </tr>\n",
       "    <tr>\n",
       "      <th>Customer_care_calls</th>\n",
       "      <th></th>\n",
       "    </tr>\n",
       "  </thead>\n",
       "  <tbody>\n",
       "    <tr>\n",
       "      <th>7.0</th>\n",
       "      <td>277.658120</td>\n",
       "    </tr>\n",
       "    <tr>\n",
       "      <th>6.0</th>\n",
       "      <td>246.665323</td>\n",
       "    </tr>\n",
       "    <tr>\n",
       "      <th>5.0</th>\n",
       "      <td>215.332171</td>\n",
       "    </tr>\n",
       "    <tr>\n",
       "      <th>0.0</th>\n",
       "      <td>210.540609</td>\n",
       "    </tr>\n",
       "    <tr>\n",
       "      <th>4.0</th>\n",
       "      <td>205.936219</td>\n",
       "    </tr>\n",
       "    <tr>\n",
       "      <th>3.0</th>\n",
       "      <td>198.543827</td>\n",
       "    </tr>\n",
       "    <tr>\n",
       "      <th>2.0</th>\n",
       "      <td>185.644599</td>\n",
       "    </tr>\n",
       "  </tbody>\n",
       "</table>\n",
       "</div>"
      ],
      "text/plain": [
       "                     Cost_of_the_Product\n",
       "Customer_care_calls                     \n",
       "7.0                           277.658120\n",
       "6.0                           246.665323\n",
       "5.0                           215.332171\n",
       "0.0                           210.540609\n",
       "4.0                           205.936219\n",
       "3.0                           198.543827\n",
       "2.0                           185.644599"
      ]
     },
     "execution_count": 50,
     "metadata": {},
     "output_type": "execute_result"
    }
   ],
   "source": [
    "# 상관관계가 높은 데이터를 가지고 피봇테이블을 만들어보자\n",
    "pt1 = train.pivot_table(values='Cost_of_the_Product', # 데이터로 사용할 데이터 지정\n",
    "                       index=['Customer_care_calls'], # 인덱스를 설정하겠다(멀티 인덱스)\n",
    "                        # 생존 여부에 영향을 많이 미치는 성별도 추가\n",
    "                        # 인덱스를 설정할 때 1차로 Pclass로 나눈 뒤 성별로 한번 더 나눔\n",
    "                        aggfunc='mean' # 데이터 요약시 사용하는 함수를 지정\n",
    "                        # (mean / sum / count)\n",
    "                       )\n",
    "pt1\n",
    "pt1_sorted = pt1.sort_values(by='Cost_of_the_Product', ascending=False)\n",
    "pt1_sorted\n",
    "\n",
    "\n"
   ]
  },
  {
   "cell_type": "markdown",
   "id": "d94578b4",
   "metadata": {},
   "source": [
    " - 상품의 금액이 클수록 문의 전화가 많이 왔다."
   ]
  },
  {
   "cell_type": "code",
   "execution_count": 51,
   "id": "cc76f6fa",
   "metadata": {},
   "outputs": [],
   "source": [
    "# 정답과 관계성 파악 Reached.on.Time_Y.N"
   ]
  },
  {
   "cell_type": "code",
   "execution_count": 52,
   "id": "d498f6a2",
   "metadata": {},
   "outputs": [
    {
     "data": {
      "text/html": [
       "<div>\n",
       "<style scoped>\n",
       "    .dataframe tbody tr th:only-of-type {\n",
       "        vertical-align: middle;\n",
       "    }\n",
       "\n",
       "    .dataframe tbody tr th {\n",
       "        vertical-align: top;\n",
       "    }\n",
       "\n",
       "    .dataframe thead th {\n",
       "        text-align: right;\n",
       "    }\n",
       "</style>\n",
       "<table border=\"1\" class=\"dataframe\">\n",
       "  <thead>\n",
       "    <tr style=\"text-align: right;\">\n",
       "      <th></th>\n",
       "      <th>Discount_offered</th>\n",
       "    </tr>\n",
       "    <tr>\n",
       "      <th>Reached.on.Time_Y.N</th>\n",
       "      <th></th>\n",
       "    </tr>\n",
       "  </thead>\n",
       "  <tbody>\n",
       "    <tr>\n",
       "      <th>1</th>\n",
       "      <td>9.194858</td>\n",
       "    </tr>\n",
       "    <tr>\n",
       "      <th>0</th>\n",
       "      <td>2.731054</td>\n",
       "    </tr>\n",
       "  </tbody>\n",
       "</table>\n",
       "</div>"
      ],
      "text/plain": [
       "                     Discount_offered\n",
       "Reached.on.Time_Y.N                  \n",
       "1                            9.194858\n",
       "0                            2.731054"
      ]
     },
     "execution_count": 52,
     "metadata": {},
     "output_type": "execute_result"
    }
   ],
   "source": [
    "pt1 = train.pivot_table(values='Discount_offered',\n",
    "                       index=['Reached.on.Time_Y.N',],\n",
    "                       aggfunc='mean')\n",
    "\n",
    "pt1_sorted_descending = pt1.sort_values(by='Reached.on.Time_Y.N', ascending=False)\n",
    "\n",
    "pt1_sorted_descending"
   ]
  },
  {
   "cell_type": "markdown",
   "id": "4121e4de",
   "metadata": {},
   "source": [
    "- 할인제공 물품과 제때 배송 여부와 관계도가 가장 깊어보임\n",
    "- 두번째로 상품의 금액이 높을수록 배송 여부 높음\n",
    "- 세번째로 고객 전화가 연관성 높음 "
   ]
  },
  {
   "cell_type": "markdown",
   "id": "f060635b",
   "metadata": {},
   "source": [
    "원핫 인코딩 해보려다 망함  \n",
    "\n",
    "<class 'pandas.core.frame.DataFrame'>  \n",
    "RangeIndex: 6999 entries, 0 to 6998  \n",
    "Columns: 3357 entries, ID to Weight_in_gms_?  \n",
    "dtypes: float64(3), int64(4), uint8(3350)  \n",
    "memory usage: 22.7 MB  \n",
    "\n",
    "#원핫 인코딩  \n",
    "X_train = pd.get_dummies(train)  \n",
    "X_test = pd.get_dummies(test)  \n",
    "\n",
    "컬럼이 3천 개가 되는 바람에 유의미한 결과 보기 어려움  \n",
    "필요없는 컬럼 제거 / 범주형데이터만 원핫 인코딩 해야함  \n",
    "\n",
    "\n",
    "범주형만 원핫 햇으나 컬럼 3천개\n",
    "원핫에 필요없는 컬럼   \n",
    "\n",
    "상품 무게  ?  \n",
    "젠더  \n"
   ]
  },
  {
   "cell_type": "code",
   "execution_count": 53,
   "id": "b0d88ca0",
   "metadata": {},
   "outputs": [
    {
     "data": {
      "text/html": [
       "<div>\n",
       "<style scoped>\n",
       "    .dataframe tbody tr th:only-of-type {\n",
       "        vertical-align: middle;\n",
       "    }\n",
       "\n",
       "    .dataframe tbody tr th {\n",
       "        vertical-align: top;\n",
       "    }\n",
       "\n",
       "    .dataframe thead th {\n",
       "        text-align: right;\n",
       "    }\n",
       "</style>\n",
       "<table border=\"1\" class=\"dataframe\">\n",
       "  <thead>\n",
       "    <tr style=\"text-align: right;\">\n",
       "      <th></th>\n",
       "      <th>Warehouse_block</th>\n",
       "      <th>Mode_of_Shipment</th>\n",
       "      <th>Product_importance</th>\n",
       "      <th>Gender</th>\n",
       "      <th>Weight_in_gms</th>\n",
       "    </tr>\n",
       "  </thead>\n",
       "  <tbody>\n",
       "    <tr>\n",
       "      <th>0</th>\n",
       "      <td>C</td>\n",
       "      <td>Ship</td>\n",
       "      <td>low</td>\n",
       "      <td>M</td>\n",
       "      <td>1339</td>\n",
       "    </tr>\n",
       "    <tr>\n",
       "      <th>1</th>\n",
       "      <td>F</td>\n",
       "      <td>Flight</td>\n",
       "      <td>low</td>\n",
       "      <td>F</td>\n",
       "      <td>1082</td>\n",
       "    </tr>\n",
       "    <tr>\n",
       "      <th>2</th>\n",
       "      <td>F</td>\n",
       "      <td>Ship</td>\n",
       "      <td>low</td>\n",
       "      <td>M</td>\n",
       "      <td>4971</td>\n",
       "    </tr>\n",
       "    <tr>\n",
       "      <th>3</th>\n",
       "      <td>F</td>\n",
       "      <td>Ship</td>\n",
       "      <td>medium</td>\n",
       "      <td>M</td>\n",
       "      <td>5640</td>\n",
       "    </tr>\n",
       "    <tr>\n",
       "      <th>4</th>\n",
       "      <td>D</td>\n",
       "      <td>Flight</td>\n",
       "      <td>high</td>\n",
       "      <td>F</td>\n",
       "      <td>4944</td>\n",
       "    </tr>\n",
       "    <tr>\n",
       "      <th>...</th>\n",
       "      <td>...</td>\n",
       "      <td>...</td>\n",
       "      <td>...</td>\n",
       "      <td>...</td>\n",
       "      <td>...</td>\n",
       "    </tr>\n",
       "    <tr>\n",
       "      <th>6994</th>\n",
       "      <td>D</td>\n",
       "      <td>Ship</td>\n",
       "      <td>medium</td>\n",
       "      <td>F</td>\n",
       "      <td>1783</td>\n",
       "    </tr>\n",
       "    <tr>\n",
       "      <th>6995</th>\n",
       "      <td>F</td>\n",
       "      <td>Ship</td>\n",
       "      <td>medium</td>\n",
       "      <td>F</td>\n",
       "      <td>5208</td>\n",
       "    </tr>\n",
       "    <tr>\n",
       "      <th>6996</th>\n",
       "      <td>D</td>\n",
       "      <td>Ship</td>\n",
       "      <td>low</td>\n",
       "      <td>F</td>\n",
       "      <td>1787</td>\n",
       "    </tr>\n",
       "    <tr>\n",
       "      <th>6997</th>\n",
       "      <td>A</td>\n",
       "      <td>Road</td>\n",
       "      <td>medium</td>\n",
       "      <td>M</td>\n",
       "      <td>4719</td>\n",
       "    </tr>\n",
       "    <tr>\n",
       "      <th>6998</th>\n",
       "      <td>A</td>\n",
       "      <td>Ship</td>\n",
       "      <td>high</td>\n",
       "      <td>F</td>\n",
       "      <td>5097</td>\n",
       "    </tr>\n",
       "  </tbody>\n",
       "</table>\n",
       "<p>6999 rows × 5 columns</p>\n",
       "</div>"
      ],
      "text/plain": [
       "     Warehouse_block  Mode_of_Shipment Product_importance Gender Weight_in_gms\n",
       "0                   C             Ship                low      M          1339\n",
       "1                   F           Flight                low      F          1082\n",
       "2                   F             Ship                low      M          4971\n",
       "3                   F             Ship             medium      M          5640\n",
       "4                   D           Flight               high      F          4944\n",
       "...               ...              ...                ...    ...           ...\n",
       "6994                D             Ship             medium      F          1783\n",
       "6995                F             Ship             medium      F          5208\n",
       "6996                D             Ship                low      F          1787\n",
       "6997                A             Road             medium      M          4719\n",
       "6998                A             Ship               high      F          5097\n",
       "\n",
       "[6999 rows x 5 columns]"
      ]
     },
     "execution_count": 53,
     "metadata": {},
     "output_type": "execute_result"
    }
   ],
   "source": [
    "# 범주형 데이터만 뽑기\n",
    "train_ob=train.select_dtypes(include=['object'])\n",
    "train_ob"
   ]
  },
  {
   "cell_type": "code",
   "execution_count": 54,
   "id": "74fcbd65",
   "metadata": {},
   "outputs": [
    {
     "data": {
      "text/html": [
       "<div>\n",
       "<style scoped>\n",
       "    .dataframe tbody tr th:only-of-type {\n",
       "        vertical-align: middle;\n",
       "    }\n",
       "\n",
       "    .dataframe tbody tr th {\n",
       "        vertical-align: top;\n",
       "    }\n",
       "\n",
       "    .dataframe thead th {\n",
       "        text-align: right;\n",
       "    }\n",
       "</style>\n",
       "<table border=\"1\" class=\"dataframe\">\n",
       "  <thead>\n",
       "    <tr style=\"text-align: right;\">\n",
       "      <th></th>\n",
       "      <th>Warehouse_block _A</th>\n",
       "      <th>Warehouse_block _B</th>\n",
       "      <th>Warehouse_block _C</th>\n",
       "      <th>Warehouse_block _D</th>\n",
       "      <th>Warehouse_block _F</th>\n",
       "      <th>Mode_of_Shipment_ Flight</th>\n",
       "      <th>Mode_of_Shipment_ Flightzk</th>\n",
       "      <th>Mode_of_Shipment_ Road</th>\n",
       "      <th>Mode_of_Shipment_ Roadzk</th>\n",
       "      <th>Mode_of_Shipment_ Ship</th>\n",
       "      <th>...</th>\n",
       "      <th>Weight_in_gms_5995</th>\n",
       "      <th>Weight_in_gms_5997</th>\n",
       "      <th>Weight_in_gms_5998</th>\n",
       "      <th>Weight_in_gms_5999</th>\n",
       "      <th>Weight_in_gms_6000</th>\n",
       "      <th>Weight_in_gms_6064</th>\n",
       "      <th>Weight_in_gms_7401</th>\n",
       "      <th>Weight_in_gms_7640</th>\n",
       "      <th>Weight_in_gms_7846</th>\n",
       "      <th>Weight_in_gms_?</th>\n",
       "    </tr>\n",
       "  </thead>\n",
       "  <tbody>\n",
       "    <tr>\n",
       "      <th>0</th>\n",
       "      <td>0</td>\n",
       "      <td>0</td>\n",
       "      <td>1</td>\n",
       "      <td>0</td>\n",
       "      <td>0</td>\n",
       "      <td>0</td>\n",
       "      <td>0</td>\n",
       "      <td>0</td>\n",
       "      <td>0</td>\n",
       "      <td>1</td>\n",
       "      <td>...</td>\n",
       "      <td>0</td>\n",
       "      <td>0</td>\n",
       "      <td>0</td>\n",
       "      <td>0</td>\n",
       "      <td>0</td>\n",
       "      <td>0</td>\n",
       "      <td>0</td>\n",
       "      <td>0</td>\n",
       "      <td>0</td>\n",
       "      <td>0</td>\n",
       "    </tr>\n",
       "    <tr>\n",
       "      <th>1</th>\n",
       "      <td>0</td>\n",
       "      <td>0</td>\n",
       "      <td>0</td>\n",
       "      <td>0</td>\n",
       "      <td>1</td>\n",
       "      <td>1</td>\n",
       "      <td>0</td>\n",
       "      <td>0</td>\n",
       "      <td>0</td>\n",
       "      <td>0</td>\n",
       "      <td>...</td>\n",
       "      <td>0</td>\n",
       "      <td>0</td>\n",
       "      <td>0</td>\n",
       "      <td>0</td>\n",
       "      <td>0</td>\n",
       "      <td>0</td>\n",
       "      <td>0</td>\n",
       "      <td>0</td>\n",
       "      <td>0</td>\n",
       "      <td>0</td>\n",
       "    </tr>\n",
       "    <tr>\n",
       "      <th>2</th>\n",
       "      <td>0</td>\n",
       "      <td>0</td>\n",
       "      <td>0</td>\n",
       "      <td>0</td>\n",
       "      <td>1</td>\n",
       "      <td>0</td>\n",
       "      <td>0</td>\n",
       "      <td>0</td>\n",
       "      <td>0</td>\n",
       "      <td>1</td>\n",
       "      <td>...</td>\n",
       "      <td>0</td>\n",
       "      <td>0</td>\n",
       "      <td>0</td>\n",
       "      <td>0</td>\n",
       "      <td>0</td>\n",
       "      <td>0</td>\n",
       "      <td>0</td>\n",
       "      <td>0</td>\n",
       "      <td>0</td>\n",
       "      <td>0</td>\n",
       "    </tr>\n",
       "    <tr>\n",
       "      <th>3</th>\n",
       "      <td>0</td>\n",
       "      <td>0</td>\n",
       "      <td>0</td>\n",
       "      <td>0</td>\n",
       "      <td>1</td>\n",
       "      <td>0</td>\n",
       "      <td>0</td>\n",
       "      <td>0</td>\n",
       "      <td>0</td>\n",
       "      <td>1</td>\n",
       "      <td>...</td>\n",
       "      <td>0</td>\n",
       "      <td>0</td>\n",
       "      <td>0</td>\n",
       "      <td>0</td>\n",
       "      <td>0</td>\n",
       "      <td>0</td>\n",
       "      <td>0</td>\n",
       "      <td>0</td>\n",
       "      <td>0</td>\n",
       "      <td>0</td>\n",
       "    </tr>\n",
       "    <tr>\n",
       "      <th>4</th>\n",
       "      <td>0</td>\n",
       "      <td>0</td>\n",
       "      <td>0</td>\n",
       "      <td>1</td>\n",
       "      <td>0</td>\n",
       "      <td>1</td>\n",
       "      <td>0</td>\n",
       "      <td>0</td>\n",
       "      <td>0</td>\n",
       "      <td>0</td>\n",
       "      <td>...</td>\n",
       "      <td>0</td>\n",
       "      <td>0</td>\n",
       "      <td>0</td>\n",
       "      <td>0</td>\n",
       "      <td>0</td>\n",
       "      <td>0</td>\n",
       "      <td>0</td>\n",
       "      <td>0</td>\n",
       "      <td>0</td>\n",
       "      <td>0</td>\n",
       "    </tr>\n",
       "    <tr>\n",
       "      <th>...</th>\n",
       "      <td>...</td>\n",
       "      <td>...</td>\n",
       "      <td>...</td>\n",
       "      <td>...</td>\n",
       "      <td>...</td>\n",
       "      <td>...</td>\n",
       "      <td>...</td>\n",
       "      <td>...</td>\n",
       "      <td>...</td>\n",
       "      <td>...</td>\n",
       "      <td>...</td>\n",
       "      <td>...</td>\n",
       "      <td>...</td>\n",
       "      <td>...</td>\n",
       "      <td>...</td>\n",
       "      <td>...</td>\n",
       "      <td>...</td>\n",
       "      <td>...</td>\n",
       "      <td>...</td>\n",
       "      <td>...</td>\n",
       "      <td>...</td>\n",
       "    </tr>\n",
       "    <tr>\n",
       "      <th>6994</th>\n",
       "      <td>0</td>\n",
       "      <td>0</td>\n",
       "      <td>0</td>\n",
       "      <td>1</td>\n",
       "      <td>0</td>\n",
       "      <td>0</td>\n",
       "      <td>0</td>\n",
       "      <td>0</td>\n",
       "      <td>0</td>\n",
       "      <td>1</td>\n",
       "      <td>...</td>\n",
       "      <td>0</td>\n",
       "      <td>0</td>\n",
       "      <td>0</td>\n",
       "      <td>0</td>\n",
       "      <td>0</td>\n",
       "      <td>0</td>\n",
       "      <td>0</td>\n",
       "      <td>0</td>\n",
       "      <td>0</td>\n",
       "      <td>0</td>\n",
       "    </tr>\n",
       "    <tr>\n",
       "      <th>6995</th>\n",
       "      <td>0</td>\n",
       "      <td>0</td>\n",
       "      <td>0</td>\n",
       "      <td>0</td>\n",
       "      <td>1</td>\n",
       "      <td>0</td>\n",
       "      <td>0</td>\n",
       "      <td>0</td>\n",
       "      <td>0</td>\n",
       "      <td>1</td>\n",
       "      <td>...</td>\n",
       "      <td>0</td>\n",
       "      <td>0</td>\n",
       "      <td>0</td>\n",
       "      <td>0</td>\n",
       "      <td>0</td>\n",
       "      <td>0</td>\n",
       "      <td>0</td>\n",
       "      <td>0</td>\n",
       "      <td>0</td>\n",
       "      <td>0</td>\n",
       "    </tr>\n",
       "    <tr>\n",
       "      <th>6996</th>\n",
       "      <td>0</td>\n",
       "      <td>0</td>\n",
       "      <td>0</td>\n",
       "      <td>1</td>\n",
       "      <td>0</td>\n",
       "      <td>0</td>\n",
       "      <td>0</td>\n",
       "      <td>0</td>\n",
       "      <td>0</td>\n",
       "      <td>1</td>\n",
       "      <td>...</td>\n",
       "      <td>0</td>\n",
       "      <td>0</td>\n",
       "      <td>0</td>\n",
       "      <td>0</td>\n",
       "      <td>0</td>\n",
       "      <td>0</td>\n",
       "      <td>0</td>\n",
       "      <td>0</td>\n",
       "      <td>0</td>\n",
       "      <td>0</td>\n",
       "    </tr>\n",
       "    <tr>\n",
       "      <th>6997</th>\n",
       "      <td>1</td>\n",
       "      <td>0</td>\n",
       "      <td>0</td>\n",
       "      <td>0</td>\n",
       "      <td>0</td>\n",
       "      <td>0</td>\n",
       "      <td>0</td>\n",
       "      <td>1</td>\n",
       "      <td>0</td>\n",
       "      <td>0</td>\n",
       "      <td>...</td>\n",
       "      <td>0</td>\n",
       "      <td>0</td>\n",
       "      <td>0</td>\n",
       "      <td>0</td>\n",
       "      <td>0</td>\n",
       "      <td>0</td>\n",
       "      <td>0</td>\n",
       "      <td>0</td>\n",
       "      <td>0</td>\n",
       "      <td>0</td>\n",
       "    </tr>\n",
       "    <tr>\n",
       "      <th>6998</th>\n",
       "      <td>1</td>\n",
       "      <td>0</td>\n",
       "      <td>0</td>\n",
       "      <td>0</td>\n",
       "      <td>0</td>\n",
       "      <td>0</td>\n",
       "      <td>0</td>\n",
       "      <td>0</td>\n",
       "      <td>0</td>\n",
       "      <td>1</td>\n",
       "      <td>...</td>\n",
       "      <td>0</td>\n",
       "      <td>0</td>\n",
       "      <td>0</td>\n",
       "      <td>0</td>\n",
       "      <td>0</td>\n",
       "      <td>0</td>\n",
       "      <td>0</td>\n",
       "      <td>0</td>\n",
       "      <td>0</td>\n",
       "      <td>0</td>\n",
       "    </tr>\n",
       "  </tbody>\n",
       "</table>\n",
       "<p>6999 rows × 3350 columns</p>\n",
       "</div>"
      ],
      "text/plain": [
       "      Warehouse_block _A  Warehouse_block _B  Warehouse_block _C  \\\n",
       "0                      0                   0                   1   \n",
       "1                      0                   0                   0   \n",
       "2                      0                   0                   0   \n",
       "3                      0                   0                   0   \n",
       "4                      0                   0                   0   \n",
       "...                  ...                 ...                 ...   \n",
       "6994                   0                   0                   0   \n",
       "6995                   0                   0                   0   \n",
       "6996                   0                   0                   0   \n",
       "6997                   1                   0                   0   \n",
       "6998                   1                   0                   0   \n",
       "\n",
       "      Warehouse_block _D  Warehouse_block _F  Mode_of_Shipment_ Flight  \\\n",
       "0                      0                   0                         0   \n",
       "1                      0                   1                         1   \n",
       "2                      0                   1                         0   \n",
       "3                      0                   1                         0   \n",
       "4                      1                   0                         1   \n",
       "...                  ...                 ...                       ...   \n",
       "6994                   1                   0                         0   \n",
       "6995                   0                   1                         0   \n",
       "6996                   1                   0                         0   \n",
       "6997                   0                   0                         0   \n",
       "6998                   0                   0                         0   \n",
       "\n",
       "      Mode_of_Shipment_ Flightzk  Mode_of_Shipment_ Road  \\\n",
       "0                              0                       0   \n",
       "1                              0                       0   \n",
       "2                              0                       0   \n",
       "3                              0                       0   \n",
       "4                              0                       0   \n",
       "...                          ...                     ...   \n",
       "6994                           0                       0   \n",
       "6995                           0                       0   \n",
       "6996                           0                       0   \n",
       "6997                           0                       1   \n",
       "6998                           0                       0   \n",
       "\n",
       "      Mode_of_Shipment_ Roadzk  Mode_of_Shipment_ Ship  ...  \\\n",
       "0                            0                       1  ...   \n",
       "1                            0                       0  ...   \n",
       "2                            0                       1  ...   \n",
       "3                            0                       1  ...   \n",
       "4                            0                       0  ...   \n",
       "...                        ...                     ...  ...   \n",
       "6994                         0                       1  ...   \n",
       "6995                         0                       1  ...   \n",
       "6996                         0                       1  ...   \n",
       "6997                         0                       0  ...   \n",
       "6998                         0                       1  ...   \n",
       "\n",
       "      Weight_in_gms_5995  Weight_in_gms_5997  Weight_in_gms_5998  \\\n",
       "0                      0                   0                   0   \n",
       "1                      0                   0                   0   \n",
       "2                      0                   0                   0   \n",
       "3                      0                   0                   0   \n",
       "4                      0                   0                   0   \n",
       "...                  ...                 ...                 ...   \n",
       "6994                   0                   0                   0   \n",
       "6995                   0                   0                   0   \n",
       "6996                   0                   0                   0   \n",
       "6997                   0                   0                   0   \n",
       "6998                   0                   0                   0   \n",
       "\n",
       "      Weight_in_gms_5999  Weight_in_gms_6000  Weight_in_gms_6064  \\\n",
       "0                      0                   0                   0   \n",
       "1                      0                   0                   0   \n",
       "2                      0                   0                   0   \n",
       "3                      0                   0                   0   \n",
       "4                      0                   0                   0   \n",
       "...                  ...                 ...                 ...   \n",
       "6994                   0                   0                   0   \n",
       "6995                   0                   0                   0   \n",
       "6996                   0                   0                   0   \n",
       "6997                   0                   0                   0   \n",
       "6998                   0                   0                   0   \n",
       "\n",
       "      Weight_in_gms_7401  Weight_in_gms_7640  Weight_in_gms_7846  \\\n",
       "0                      0                   0                   0   \n",
       "1                      0                   0                   0   \n",
       "2                      0                   0                   0   \n",
       "3                      0                   0                   0   \n",
       "4                      0                   0                   0   \n",
       "...                  ...                 ...                 ...   \n",
       "6994                   0                   0                   0   \n",
       "6995                   0                   0                   0   \n",
       "6996                   0                   0                   0   \n",
       "6997                   0                   0                   0   \n",
       "6998                   0                   0                   0   \n",
       "\n",
       "      Weight_in_gms_?  \n",
       "0                   0  \n",
       "1                   0  \n",
       "2                   0  \n",
       "3                   0  \n",
       "4                   0  \n",
       "...               ...  \n",
       "6994                0  \n",
       "6995                0  \n",
       "6996                0  \n",
       "6997                0  \n",
       "6998                0  \n",
       "\n",
       "[6999 rows x 3350 columns]"
      ]
     },
     "execution_count": 54,
     "metadata": {},
     "output_type": "execute_result"
    }
   ],
   "source": [
    "# 범주형만 원핫 인코딩\n",
    "#train_object=pd.get_dummies(train_ob)\n",
    "#train_object"
   ]
  },
  {
   "cell_type": "code",
   "execution_count": 55,
   "id": "dff4375e",
   "metadata": {},
   "outputs": [
    {
     "name": "stdout",
     "output_type": "stream",
     "text": [
      "변환에 실패한 행의 인덱스: invalid literal for int() with base 10: '?'\n"
     ]
    }
   ],
   "source": [
    "try:\n",
    "    # \"Weight_in_gms\" 열의 데이터를 정수로 변환합니다.\n",
    "    train['Weight_in_gms'] = train['Weight_in_gms'].astype(int)\n",
    "except ValueError as e:\n",
    "    # 변환에 실패한 경우 예외가 발생합니다.\n",
    "    print(f\"변환에 실패한 행의 인덱스: {e}\")"
   ]
  },
  {
   "cell_type": "code",
   "execution_count": 56,
   "id": "b2bda2a1",
   "metadata": {},
   "outputs": [
    {
     "data": {
      "text/plain": [
       "count     6999\n",
       "unique    3332\n",
       "top          ?\n",
       "freq       446\n",
       "Name: Weight_in_gms, dtype: object"
      ]
     },
     "execution_count": 56,
     "metadata": {},
     "output_type": "execute_result"
    }
   ],
   "source": [
    "train['Weight_in_gms'].describe()"
   ]
  },
  {
   "cell_type": "code",
   "execution_count": 57,
   "id": "d82df429",
   "metadata": {},
   "outputs": [
    {
     "name": "stdout",
     "output_type": "stream",
     "text": [
      "Reached.on.Time_Y.N    1.000000\n",
      "Weight_1001            0.003037\n",
      "Weight_1002           -0.014479\n",
      "Weight_1003           -0.020478\n",
      "Weight_1005           -0.004610\n",
      "                         ...   \n",
      "Weight_6064            0.009869\n",
      "Weight_7401            0.009869\n",
      "Weight_7640            0.009869\n",
      "Weight_7846            0.009869\n",
      "Weight_?               0.034293\n",
      "Name: Reached.on.Time_Y.N, Length: 3333, dtype: float64\n"
     ]
    }
   ],
   "source": [
    "\n",
    "\n",
    "# 데이터프레임을 생성하거나 불러옵니다.\n",
    "# 예를 들어, train 데이터프레임을 불러왔다고 가정합니다.\n",
    "# train = pd.read_csv('train.csv')\n",
    "\n",
    "# 범주형 데이터를 더미 변수로 변환합니다.\n",
    "dummy_weight = pd.get_dummies(train['Weight_in_gms'], prefix='Weight')\n",
    "\n",
    "# 더미 변수를 기존 데이터프레임에 결합합니다.\n",
    "combined_df = pd.concat([train['Reached.on.Time_Y.N'], dummy_weight], axis=1)\n",
    "\n",
    "# 상관 계수를 계산합니다.\n",
    "correlation_matrix = combined_df.corr()\n",
    "\n",
    "# \"Reached.on.Time_Y.N\"와 다른 변수 간의 상관 관계를 확인합니다.\n",
    "correlation_with_target = correlation_matrix['Reached.on.Time_Y.N']\n",
    "\n",
    "# 결과 출력\n",
    "print(correlation_with_target)\n"
   ]
  },
  {
   "cell_type": "code",
   "execution_count": 60,
   "id": "8c2aaca4",
   "metadata": {},
   "outputs": [
    {
     "data": {
      "text/html": [
       "<div>\n",
       "<style scoped>\n",
       "    .dataframe tbody tr th:only-of-type {\n",
       "        vertical-align: middle;\n",
       "    }\n",
       "\n",
       "    .dataframe tbody tr th {\n",
       "        vertical-align: top;\n",
       "    }\n",
       "\n",
       "    .dataframe thead th {\n",
       "        text-align: right;\n",
       "    }\n",
       "</style>\n",
       "<table border=\"1\" class=\"dataframe\">\n",
       "  <thead>\n",
       "    <tr style=\"text-align: right;\">\n",
       "      <th></th>\n",
       "      <th>ID</th>\n",
       "      <th>Customer_care_calls</th>\n",
       "      <th>Customer_rating</th>\n",
       "      <th>Cost_of_the_Product</th>\n",
       "      <th>Prior_purchases</th>\n",
       "      <th>Discount_offered</th>\n",
       "      <th>Reached.on.Time_Y.N</th>\n",
       "    </tr>\n",
       "  </thead>\n",
       "  <tbody>\n",
       "    <tr>\n",
       "      <th>count</th>\n",
       "      <td>6999.000000</td>\n",
       "      <td>6999.000000</td>\n",
       "      <td>6999.000000</td>\n",
       "      <td>6999.000000</td>\n",
       "      <td>6999.000000</td>\n",
       "      <td>6999.000000</td>\n",
       "      <td>6999.000000</td>\n",
       "    </tr>\n",
       "    <tr>\n",
       "      <th>mean</th>\n",
       "      <td>3500.000000</td>\n",
       "      <td>3.141592</td>\n",
       "      <td>2.996285</td>\n",
       "      <td>210.055008</td>\n",
       "      <td>3.090870</td>\n",
       "      <td>6.574796</td>\n",
       "      <td>0.594656</td>\n",
       "    </tr>\n",
       "    <tr>\n",
       "      <th>std</th>\n",
       "      <td>2020.581599</td>\n",
       "      <td>1.964630</td>\n",
       "      <td>1.410161</td>\n",
       "      <td>48.220091</td>\n",
       "      <td>1.877813</td>\n",
       "      <td>13.113507</td>\n",
       "      <td>0.490993</td>\n",
       "    </tr>\n",
       "    <tr>\n",
       "      <th>min</th>\n",
       "      <td>1.000000</td>\n",
       "      <td>0.000000</td>\n",
       "      <td>1.000000</td>\n",
       "      <td>96.000000</td>\n",
       "      <td>0.000000</td>\n",
       "      <td>0.000000</td>\n",
       "      <td>0.000000</td>\n",
       "    </tr>\n",
       "    <tr>\n",
       "      <th>25%</th>\n",
       "      <td>1750.500000</td>\n",
       "      <td>2.000000</td>\n",
       "      <td>2.000000</td>\n",
       "      <td>169.000000</td>\n",
       "      <td>2.000000</td>\n",
       "      <td>0.000000</td>\n",
       "      <td>0.000000</td>\n",
       "    </tr>\n",
       "    <tr>\n",
       "      <th>50%</th>\n",
       "      <td>3500.000000</td>\n",
       "      <td>4.000000</td>\n",
       "      <td>3.000000</td>\n",
       "      <td>214.000000</td>\n",
       "      <td>3.000000</td>\n",
       "      <td>0.000000</td>\n",
       "      <td>1.000000</td>\n",
       "    </tr>\n",
       "    <tr>\n",
       "      <th>75%</th>\n",
       "      <td>5249.500000</td>\n",
       "      <td>5.000000</td>\n",
       "      <td>4.000000</td>\n",
       "      <td>251.000000</td>\n",
       "      <td>4.000000</td>\n",
       "      <td>7.000000</td>\n",
       "      <td>1.000000</td>\n",
       "    </tr>\n",
       "    <tr>\n",
       "      <th>max</th>\n",
       "      <td>6999.000000</td>\n",
       "      <td>7.000000</td>\n",
       "      <td>5.000000</td>\n",
       "      <td>310.000000</td>\n",
       "      <td>10.000000</td>\n",
       "      <td>65.000000</td>\n",
       "      <td>1.000000</td>\n",
       "    </tr>\n",
       "  </tbody>\n",
       "</table>\n",
       "</div>"
      ],
      "text/plain": [
       "                ID  Customer_care_calls  Customer_rating  Cost_of_the_Product  \\\n",
       "count  6999.000000          6999.000000      6999.000000          6999.000000   \n",
       "mean   3500.000000             3.141592         2.996285           210.055008   \n",
       "std    2020.581599             1.964630         1.410161            48.220091   \n",
       "min       1.000000             0.000000         1.000000            96.000000   \n",
       "25%    1750.500000             2.000000         2.000000           169.000000   \n",
       "50%    3500.000000             4.000000         3.000000           214.000000   \n",
       "75%    5249.500000             5.000000         4.000000           251.000000   \n",
       "max    6999.000000             7.000000         5.000000           310.000000   \n",
       "\n",
       "       Prior_purchases  Discount_offered  Reached.on.Time_Y.N  \n",
       "count      6999.000000       6999.000000          6999.000000  \n",
       "mean          3.090870          6.574796             0.594656  \n",
       "std           1.877813         13.113507             0.490993  \n",
       "min           0.000000          0.000000             0.000000  \n",
       "25%           2.000000          0.000000             0.000000  \n",
       "50%           3.000000          0.000000             1.000000  \n",
       "75%           4.000000          7.000000             1.000000  \n",
       "max          10.000000         65.000000             1.000000  "
      ]
     },
     "execution_count": 60,
     "metadata": {},
     "output_type": "execute_result"
    }
   ],
   "source": [
    "train.describe()"
   ]
  },
  {
   "cell_type": "code",
   "execution_count": 61,
   "id": "5267ac2a",
   "metadata": {},
   "outputs": [
    {
     "name": "stdout",
     "output_type": "stream",
     "text": [
      "<class 'pandas.core.frame.DataFrame'>\n",
      "RangeIndex: 6999 entries, 0 to 6998\n",
      "Data columns (total 12 columns):\n",
      " #   Column               Non-Null Count  Dtype  \n",
      "---  ------               --------------  -----  \n",
      " 0   ID                   6999 non-null   int64  \n",
      " 1   Warehouse_block      6999 non-null   object \n",
      " 2   Mode_of_Shipment     6999 non-null   object \n",
      " 3   Customer_care_calls  6999 non-null   float64\n",
      " 4   Customer_rating      6999 non-null   int64  \n",
      " 5   Cost_of_the_Product  6999 non-null   int64  \n",
      " 6   Prior_purchases      6999 non-null   float64\n",
      " 7   Product_importance   6999 non-null   object \n",
      " 8   Gender               6999 non-null   object \n",
      " 9   Discount_offered     6999 non-null   float64\n",
      " 10  Weight_in_gms        6999 non-null   object \n",
      " 11  Reached.on.Time_Y.N  6999 non-null   int64  \n",
      "dtypes: float64(3), int64(4), object(5)\n",
      "memory usage: 656.3+ KB\n"
     ]
    }
   ],
   "source": [
    "train.info()"
   ]
  },
  {
   "cell_type": "code",
   "execution_count": 66,
   "id": "560a75e1",
   "metadata": {},
   "outputs": [
    {
     "ename": "KeyError",
     "evalue": "\"['Warehouse_block '] not found in axis\"",
     "output_type": "error",
     "traceback": [
      "\u001b[1;31m---------------------------------------------------------------------------\u001b[0m",
      "\u001b[1;31mKeyError\u001b[0m                                  Traceback (most recent call last)",
      "Cell \u001b[1;32mIn[66], line 1\u001b[0m\n\u001b[1;32m----> 1\u001b[0m \u001b[43mtrain\u001b[49m\u001b[38;5;241;43m.\u001b[39;49m\u001b[43mdrop\u001b[49m\u001b[43m(\u001b[49m\u001b[38;5;124;43m'\u001b[39;49m\u001b[38;5;124;43mWarehouse_block \u001b[39;49m\u001b[38;5;124;43m'\u001b[39;49m\u001b[43m,\u001b[49m\u001b[43m \u001b[49m\u001b[43minplace\u001b[49m\u001b[38;5;241;43m=\u001b[39;49m\u001b[38;5;28;43;01mTrue\u001b[39;49;00m\u001b[43m)\u001b[49m\n\u001b[0;32m      2\u001b[0m test\u001b[38;5;241m.\u001b[39mdrop(\u001b[38;5;124m'\u001b[39m\u001b[38;5;124mWarehouse_block \u001b[39m\u001b[38;5;124m'\u001b[39m, inplace\u001b[38;5;241m=\u001b[39m\u001b[38;5;28;01mTrue\u001b[39;00m)\n",
      "File \u001b[1;32m~\\anaconda3\\lib\\site-packages\\pandas\\util\\_decorators.py:331\u001b[0m, in \u001b[0;36mdeprecate_nonkeyword_arguments.<locals>.decorate.<locals>.wrapper\u001b[1;34m(*args, **kwargs)\u001b[0m\n\u001b[0;32m    325\u001b[0m \u001b[38;5;28;01mif\u001b[39;00m \u001b[38;5;28mlen\u001b[39m(args) \u001b[38;5;241m>\u001b[39m num_allow_args:\n\u001b[0;32m    326\u001b[0m     warnings\u001b[38;5;241m.\u001b[39mwarn(\n\u001b[0;32m    327\u001b[0m         msg\u001b[38;5;241m.\u001b[39mformat(arguments\u001b[38;5;241m=\u001b[39m_format_argument_list(allow_args)),\n\u001b[0;32m    328\u001b[0m         \u001b[38;5;167;01mFutureWarning\u001b[39;00m,\n\u001b[0;32m    329\u001b[0m         stacklevel\u001b[38;5;241m=\u001b[39mfind_stack_level(),\n\u001b[0;32m    330\u001b[0m     )\n\u001b[1;32m--> 331\u001b[0m \u001b[38;5;28;01mreturn\u001b[39;00m func(\u001b[38;5;241m*\u001b[39margs, \u001b[38;5;241m*\u001b[39m\u001b[38;5;241m*\u001b[39mkwargs)\n",
      "File \u001b[1;32m~\\anaconda3\\lib\\site-packages\\pandas\\core\\frame.py:5399\u001b[0m, in \u001b[0;36mDataFrame.drop\u001b[1;34m(self, labels, axis, index, columns, level, inplace, errors)\u001b[0m\n\u001b[0;32m   5251\u001b[0m \u001b[38;5;129m@deprecate_nonkeyword_arguments\u001b[39m(version\u001b[38;5;241m=\u001b[39m\u001b[38;5;28;01mNone\u001b[39;00m, allowed_args\u001b[38;5;241m=\u001b[39m[\u001b[38;5;124m\"\u001b[39m\u001b[38;5;124mself\u001b[39m\u001b[38;5;124m\"\u001b[39m, \u001b[38;5;124m\"\u001b[39m\u001b[38;5;124mlabels\u001b[39m\u001b[38;5;124m\"\u001b[39m])\n\u001b[0;32m   5252\u001b[0m \u001b[38;5;28;01mdef\u001b[39;00m \u001b[38;5;21mdrop\u001b[39m(  \u001b[38;5;66;03m# type: ignore[override]\u001b[39;00m\n\u001b[0;32m   5253\u001b[0m     \u001b[38;5;28mself\u001b[39m,\n\u001b[1;32m   (...)\u001b[0m\n\u001b[0;32m   5260\u001b[0m     errors: IgnoreRaise \u001b[38;5;241m=\u001b[39m \u001b[38;5;124m\"\u001b[39m\u001b[38;5;124mraise\u001b[39m\u001b[38;5;124m\"\u001b[39m,\n\u001b[0;32m   5261\u001b[0m ) \u001b[38;5;241m-\u001b[39m\u001b[38;5;241m>\u001b[39m DataFrame \u001b[38;5;241m|\u001b[39m \u001b[38;5;28;01mNone\u001b[39;00m:\n\u001b[0;32m   5262\u001b[0m     \u001b[38;5;124;03m\"\"\"\u001b[39;00m\n\u001b[0;32m   5263\u001b[0m \u001b[38;5;124;03m    Drop specified labels from rows or columns.\u001b[39;00m\n\u001b[0;32m   5264\u001b[0m \n\u001b[1;32m   (...)\u001b[0m\n\u001b[0;32m   5397\u001b[0m \u001b[38;5;124;03m            weight  1.0     0.8\u001b[39;00m\n\u001b[0;32m   5398\u001b[0m \u001b[38;5;124;03m    \"\"\"\u001b[39;00m\n\u001b[1;32m-> 5399\u001b[0m     \u001b[38;5;28;01mreturn\u001b[39;00m \u001b[38;5;28;43msuper\u001b[39;49m\u001b[43m(\u001b[49m\u001b[43m)\u001b[49m\u001b[38;5;241;43m.\u001b[39;49m\u001b[43mdrop\u001b[49m\u001b[43m(\u001b[49m\n\u001b[0;32m   5400\u001b[0m \u001b[43m        \u001b[49m\u001b[43mlabels\u001b[49m\u001b[38;5;241;43m=\u001b[39;49m\u001b[43mlabels\u001b[49m\u001b[43m,\u001b[49m\n\u001b[0;32m   5401\u001b[0m \u001b[43m        \u001b[49m\u001b[43maxis\u001b[49m\u001b[38;5;241;43m=\u001b[39;49m\u001b[43maxis\u001b[49m\u001b[43m,\u001b[49m\n\u001b[0;32m   5402\u001b[0m \u001b[43m        \u001b[49m\u001b[43mindex\u001b[49m\u001b[38;5;241;43m=\u001b[39;49m\u001b[43mindex\u001b[49m\u001b[43m,\u001b[49m\n\u001b[0;32m   5403\u001b[0m \u001b[43m        \u001b[49m\u001b[43mcolumns\u001b[49m\u001b[38;5;241;43m=\u001b[39;49m\u001b[43mcolumns\u001b[49m\u001b[43m,\u001b[49m\n\u001b[0;32m   5404\u001b[0m \u001b[43m        \u001b[49m\u001b[43mlevel\u001b[49m\u001b[38;5;241;43m=\u001b[39;49m\u001b[43mlevel\u001b[49m\u001b[43m,\u001b[49m\n\u001b[0;32m   5405\u001b[0m \u001b[43m        \u001b[49m\u001b[43minplace\u001b[49m\u001b[38;5;241;43m=\u001b[39;49m\u001b[43minplace\u001b[49m\u001b[43m,\u001b[49m\n\u001b[0;32m   5406\u001b[0m \u001b[43m        \u001b[49m\u001b[43merrors\u001b[49m\u001b[38;5;241;43m=\u001b[39;49m\u001b[43merrors\u001b[49m\u001b[43m,\u001b[49m\n\u001b[0;32m   5407\u001b[0m \u001b[43m    \u001b[49m\u001b[43m)\u001b[49m\n",
      "File \u001b[1;32m~\\anaconda3\\lib\\site-packages\\pandas\\util\\_decorators.py:331\u001b[0m, in \u001b[0;36mdeprecate_nonkeyword_arguments.<locals>.decorate.<locals>.wrapper\u001b[1;34m(*args, **kwargs)\u001b[0m\n\u001b[0;32m    325\u001b[0m \u001b[38;5;28;01mif\u001b[39;00m \u001b[38;5;28mlen\u001b[39m(args) \u001b[38;5;241m>\u001b[39m num_allow_args:\n\u001b[0;32m    326\u001b[0m     warnings\u001b[38;5;241m.\u001b[39mwarn(\n\u001b[0;32m    327\u001b[0m         msg\u001b[38;5;241m.\u001b[39mformat(arguments\u001b[38;5;241m=\u001b[39m_format_argument_list(allow_args)),\n\u001b[0;32m    328\u001b[0m         \u001b[38;5;167;01mFutureWarning\u001b[39;00m,\n\u001b[0;32m    329\u001b[0m         stacklevel\u001b[38;5;241m=\u001b[39mfind_stack_level(),\n\u001b[0;32m    330\u001b[0m     )\n\u001b[1;32m--> 331\u001b[0m \u001b[38;5;28;01mreturn\u001b[39;00m func(\u001b[38;5;241m*\u001b[39margs, \u001b[38;5;241m*\u001b[39m\u001b[38;5;241m*\u001b[39mkwargs)\n",
      "File \u001b[1;32m~\\anaconda3\\lib\\site-packages\\pandas\\core\\generic.py:4505\u001b[0m, in \u001b[0;36mNDFrame.drop\u001b[1;34m(self, labels, axis, index, columns, level, inplace, errors)\u001b[0m\n\u001b[0;32m   4503\u001b[0m \u001b[38;5;28;01mfor\u001b[39;00m axis, labels \u001b[38;5;129;01min\u001b[39;00m axes\u001b[38;5;241m.\u001b[39mitems():\n\u001b[0;32m   4504\u001b[0m     \u001b[38;5;28;01mif\u001b[39;00m labels \u001b[38;5;129;01mis\u001b[39;00m \u001b[38;5;129;01mnot\u001b[39;00m \u001b[38;5;28;01mNone\u001b[39;00m:\n\u001b[1;32m-> 4505\u001b[0m         obj \u001b[38;5;241m=\u001b[39m \u001b[43mobj\u001b[49m\u001b[38;5;241;43m.\u001b[39;49m\u001b[43m_drop_axis\u001b[49m\u001b[43m(\u001b[49m\u001b[43mlabels\u001b[49m\u001b[43m,\u001b[49m\u001b[43m \u001b[49m\u001b[43maxis\u001b[49m\u001b[43m,\u001b[49m\u001b[43m \u001b[49m\u001b[43mlevel\u001b[49m\u001b[38;5;241;43m=\u001b[39;49m\u001b[43mlevel\u001b[49m\u001b[43m,\u001b[49m\u001b[43m \u001b[49m\u001b[43merrors\u001b[49m\u001b[38;5;241;43m=\u001b[39;49m\u001b[43merrors\u001b[49m\u001b[43m)\u001b[49m\n\u001b[0;32m   4507\u001b[0m \u001b[38;5;28;01mif\u001b[39;00m inplace:\n\u001b[0;32m   4508\u001b[0m     \u001b[38;5;28mself\u001b[39m\u001b[38;5;241m.\u001b[39m_update_inplace(obj)\n",
      "File \u001b[1;32m~\\anaconda3\\lib\\site-packages\\pandas\\core\\generic.py:4546\u001b[0m, in \u001b[0;36mNDFrame._drop_axis\u001b[1;34m(self, labels, axis, level, errors, only_slice)\u001b[0m\n\u001b[0;32m   4544\u001b[0m         new_axis \u001b[38;5;241m=\u001b[39m axis\u001b[38;5;241m.\u001b[39mdrop(labels, level\u001b[38;5;241m=\u001b[39mlevel, errors\u001b[38;5;241m=\u001b[39merrors)\n\u001b[0;32m   4545\u001b[0m     \u001b[38;5;28;01melse\u001b[39;00m:\n\u001b[1;32m-> 4546\u001b[0m         new_axis \u001b[38;5;241m=\u001b[39m \u001b[43maxis\u001b[49m\u001b[38;5;241;43m.\u001b[39;49m\u001b[43mdrop\u001b[49m\u001b[43m(\u001b[49m\u001b[43mlabels\u001b[49m\u001b[43m,\u001b[49m\u001b[43m \u001b[49m\u001b[43merrors\u001b[49m\u001b[38;5;241;43m=\u001b[39;49m\u001b[43merrors\u001b[49m\u001b[43m)\u001b[49m\n\u001b[0;32m   4547\u001b[0m     indexer \u001b[38;5;241m=\u001b[39m axis\u001b[38;5;241m.\u001b[39mget_indexer(new_axis)\n\u001b[0;32m   4549\u001b[0m \u001b[38;5;66;03m# Case for non-unique axis\u001b[39;00m\n\u001b[0;32m   4550\u001b[0m \u001b[38;5;28;01melse\u001b[39;00m:\n",
      "File \u001b[1;32m~\\anaconda3\\lib\\site-packages\\pandas\\core\\indexes\\base.py:6934\u001b[0m, in \u001b[0;36mIndex.drop\u001b[1;34m(self, labels, errors)\u001b[0m\n\u001b[0;32m   6932\u001b[0m \u001b[38;5;28;01mif\u001b[39;00m mask\u001b[38;5;241m.\u001b[39many():\n\u001b[0;32m   6933\u001b[0m     \u001b[38;5;28;01mif\u001b[39;00m errors \u001b[38;5;241m!=\u001b[39m \u001b[38;5;124m\"\u001b[39m\u001b[38;5;124mignore\u001b[39m\u001b[38;5;124m\"\u001b[39m:\n\u001b[1;32m-> 6934\u001b[0m         \u001b[38;5;28;01mraise\u001b[39;00m \u001b[38;5;167;01mKeyError\u001b[39;00m(\u001b[38;5;124mf\u001b[39m\u001b[38;5;124m\"\u001b[39m\u001b[38;5;132;01m{\u001b[39;00m\u001b[38;5;28mlist\u001b[39m(labels[mask])\u001b[38;5;132;01m}\u001b[39;00m\u001b[38;5;124m not found in axis\u001b[39m\u001b[38;5;124m\"\u001b[39m)\n\u001b[0;32m   6935\u001b[0m     indexer \u001b[38;5;241m=\u001b[39m indexer[\u001b[38;5;241m~\u001b[39mmask]\n\u001b[0;32m   6936\u001b[0m \u001b[38;5;28;01mreturn\u001b[39;00m \u001b[38;5;28mself\u001b[39m\u001b[38;5;241m.\u001b[39mdelete(indexer)\n",
      "\u001b[1;31mKeyError\u001b[0m: \"['Warehouse_block '] not found in axis\""
     ]
    }
   ],
   "source": [
    "train.drop('Warehouse_block ', inplace=True)\n",
    "test.drop('Warehouse_block ', inplace=True)"
   ]
  },
  {
   "cell_type": "code",
   "execution_count": null,
   "id": "1667262a",
   "metadata": {},
   "outputs": [],
   "source": [
    "tr"
   ]
  }
 ],
 "metadata": {
  "kernelspec": {
   "display_name": "Python 3 (ipykernel)",
   "language": "python",
   "name": "python3"
  },
  "language_info": {
   "codemirror_mode": {
    "name": "ipython",
    "version": 3
   },
   "file_extension": ".py",
   "mimetype": "text/x-python",
   "name": "python",
   "nbconvert_exporter": "python",
   "pygments_lexer": "ipython3",
   "version": "3.10.9"
  }
 },
 "nbformat": 4,
 "nbformat_minor": 5
}
