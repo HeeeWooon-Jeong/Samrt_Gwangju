{
 "cells": [
  {
   "cell_type": "markdown",
   "id": "a2fbfc0f",
   "metadata": {},
   "source": [
    "머신러닝을 수행하는 일반적인 순서는 다음과 같습니다:\n",
    "\n",
    "1. **문제 정의**:\n",
    "   - 머신러닝 프로젝트를 시작할 때 가장 먼저 해야 할 일은 문제를 정의하는 것입니다. 어떤 종류의 문제를 해결하려고 하는지, 어떤 유형의 데이터를 사용할 것인지 등을 결정합니다.\n",
    "\n",
    "2. **데이터 수집**:\n",
    "   - 머신러닝 모델을 훈련하기 위해 필요한 데이터를 수집합니다. 이 데이터는 문제를 해결하는 데 필수적입니다.\n",
    "\n",
    "3. **데이터 전처리**:\n",
    "   - 수집한 데이터를 분석하고, 불완전하거나 오류가 있는 부분을 처리하고 정제합니다. 이 단계에서는 데이터 정제, 결측치 처리, 이상치 제거, 데이터 스케일링, 특성 선택, 인코딩 등의 작업을 수행합니다.\n",
    "\n",
    "4. **데이터 분할**:\n",
    "   - 데이터를 학습 데이터와 테스트 데이터로 나눕니다. 학습 데이터는 모델을 훈련시키는 데 사용되고, 테스트 데이터는 모델의 성능을 평가하는 데 사용됩니다.\n",
    "\n",
    "5. **모델 선택**:\n",
    "   - 해결하려는 문제에 맞는 머신러닝 모델을 선택합니다. 회귀 문제에는 선형 회귀, 분류 문제에는 로지스틱 회귀 또는 결정 트리, 랜덤 포레스트 등을 선택할 수 있습니다.\n",
    "\n",
    "6. **모델 훈련**:\n",
    "   - 선택한 모델을 학습 데이터에 적용하여 훈련합니다. 모델은 데이터에서 패턴을 학습하고 예측을 수행할 수 있도록 매개 변수를 조정합니다.\n",
    "\n",
    "7. **모델 평가**:\n",
    "   - 테스트 데이터를 사용하여 모델의 성능을 평가합니다. 일반적으로 정확도, 정밀도, 재현율, F1 점수 등의 지표를 사용하여 모델의 성능을 측정합니다.\n",
    "\n",
    "8. **모델 튜닝**:\n",
    "   - 모델의 하이퍼파라미터를 조정하거나 다른 모델을 시도하여 성능을 향상시키려고 노력합니다.\n",
    "\n",
    "9. **모델 배포**:\n",
    "   - 모델이 만족스러운 성능을 보이면 실제 환경에서 사용하기 위해 배포합니다. 이 단계에서 모델을 서비스로 제공하거나 응용 프로그램에 통합할 수 있습니다.\n",
    "\n",
    "10. **유지 보수**:\n",
    "    - 모델이 운영 환경에서 계속 사용될 때 모델을 모니터링하고 필요한 경우 업데이트 및 유지 보수를 수행합니다.\n",
    "\n",
    "머신러닝 프로젝트는 주로 이러한 단계를 반복하면서 모델의 성능을 최적화하고 개선하는 작업을 진행합니다."
   ]
  },
  {
   "cell_type": "markdown",
   "id": "1418322d",
   "metadata": {},
   "source": [
    "# 문제정의\n",
    "- 화물의 기한내 배송완료 여부 확인 \n",
    "\n",
    "\n",
    "- 'ID' : 회원 번호\n",
    "- 'Warehouse_block ' : 창고위치 (A,B,C,D,E. 위치로 나뉘어 진다.)  \n",
    "- 'Mode_of_Shipment' : 배송 방법  \n",
    "- 'Customer_care_calls' : 고객통화 횟수  \n",
    "- 'Customer_rating' :  고객 평가  \n",
    "- 'Cost_of_the_Product' : 제품 가격  \n",
    "- 'Prior_purchases' : 사전구매  \n",
    "- 'Product_importance' : 제품 중요도  \n",
    "- 'Gender' : 성별  \n",
    "- 'Discount_offered' : 할인 제공  \n",
    "- 'Weight_in_gms' : 무게  \n",
    "\n",
    "데이터를 기반으로 학습하여 문제 해결"
   ]
  },
  {
   "cell_type": "markdown",
   "id": "cef58e7a",
   "metadata": {},
   "source": [
    "# 데이터 수집\n",
    "- train과 test 파일로 수집 완료"
   ]
  },
  {
   "cell_type": "markdown",
   "id": "cf480aa6",
   "metadata": {},
   "source": [
    "# 데이터 전처리\n",
    "## 데이터 정제  \n",
    "\n",
    "\n",
    "## 결측치 처리 필요 데이터 \n",
    " \n",
    " 3   Customer_care_calls  5423 non-null   float64    \n",
    " 6   Prior_purchases      6049 non-null   float64    \n",
    " 9   Discount_offered     3468 non-null   float64  \n",
    " - 결측치를 0 으로 채운다면 모델학습 후 0을 중요한 데이터로 인식해서 결과에 영향을 끼치진 않을까?\n",
    " \n",
    " \n",
    "## 이상처 처리 필요 데이터\n",
    "\n",
    "Customer_rating  \n",
    "max 에서 99 이상치 총 2개  \n",
    "    고객의 주관적 평가 데이터라 정답으로 수정 어려워 보임  \n",
    "- 1차 해결 방안  중앙값 대체  \n",
    "\n",
    "Cost_of_the_Product  \n",
    "    9999 인 이상치 총 3개 존재  물건값이라 정확한 수정 어려워 보임  \n",
    "- 1차 해결 방안   9999 중앙값으로 대체  \n",
    "\n",
    "\n",
    "Product_importance   \n",
    "    데이터 카테고리 이름 오타로 보이니 정상 데이터로 수정 가능해 보임   \n",
    "    ? 데이터도 97 개 수정해야함 \n",
    "- 1차 해결 방안 카테고리 이름 수정  \n",
    "\n",
    "\n",
    "\n",
    "## 데이터 스케일링  \n",
    "    모름  \n",
    "    \n",
    "## 특성선택  \n",
    "    데이터 전처리 단계 중 하나인 \"특성 선택(Feature Selection)\"은 머신러닝 모델을 구축할 때 사용할 특성 또는 변수를 선택하는 과정입니다. 이것은 모델을 개선하고 더 간결하게 만들 수 있는 중요한 단계입니다.\n",
    "\n",
    "특성 선택의 목표는 다음과 같습니다:\n",
    "\n",
    "1. **차원 감소(Dimensionality Reduction)**: 데이터에 수백 개 이상의 특성이 있을 수 있으며, 이러한 다차원 데이터는 모델 학습 및 예측을 어렵게 만들 수 있습니다. 특성 선택은 가장 중요한 특성만 선택함으로써 데이터의 차원을 줄이는데 도움을 줍니다.\n",
    "\n",
    "2. **모델 성능 향상**: 불필요한 또는 중복된 특성을 제거함으로써 모델의 복잡성을 줄이고 성능을 향상시킬 수 있습니다. 또한, 모델이 과적합(Overfitting)되는 것을 방지하는 데 도움을 줄 수 있습니다.\n",
    "\n",
    "3. **계산 비용 감소**: 덜 많은 특성을 사용하면 모델을 훈련시키는 데 필요한 계산 비용을 줄일 수 있습니다. 특히 대규모 데이터셋의 경우 이러한 최적화가 중요합니다.\n",
    "\n",
    "특성 선택은 다양한 방법으로 수행할 수 있으며, 일반적으로 다음과 같은 방법을 사용합니다:\n",
    "\n",
    "1. **상관 관계 분석(Correlation Analysis)**: 특성과 목표 변수 간의 상관 관계를 분석하여 가장 관련성이 높은 특성을 선택합니다.\n",
    "\n",
    "2. **통계적 검정(Statistical Tests)**: 통계적 검정을 사용하여 각 특성의 중요성을 평가하고 중요하지 않은 특성을 제거합니다.\n",
    "\n",
    "3. **재귀적 특성 제거(Recursive Feature Elimination, RFE)**: 모든 특성으로 시작하여 모델을 반복적으로 학습하고 중요하지 않은 특성을 제거하여 최상의 특성 집합을 찾습니다.\n",
    "\n",
    "4. **모델 기반 특성 선택(Model-based Feature Selection)**: 머신러닝 모델 자체를 사용하여 특성의 중요도를 평가하고 중요한 특성을 선택합니다.\n",
    "\n",
    "특성 선택은 데이터와 문제에 따라 다르며, 주요 목표는 모델의 성능을 향상시키고 불필요한 복잡성을 줄이는 것입니다.\n",
    "    \n",
    "   \n",
    "\n",
    "\n",
    "    \n",
    "## 인코딩  \n",
    "    Binning 과 encoding 모델 종류에 따라 결정 하면 될 듯\n",
    "    \n",
    "    \n",
    "- train 데이터 "
   ]
  },
  {
   "cell_type": "code",
   "execution_count": 8,
   "id": "458f695c",
   "metadata": {},
   "outputs": [],
   "source": [
    "# 데이터 분할\n"
   ]
  },
  {
   "cell_type": "code",
   "execution_count": null,
   "id": "6e5521a9",
   "metadata": {},
   "outputs": [],
   "source": []
  },
  {
   "cell_type": "code",
   "execution_count": 2,
   "id": "396abfc9",
   "metadata": {},
   "outputs": [],
   "source": [
    "# 모델 선택\n",
    "\n"
   ]
  },
  {
   "cell_type": "code",
   "execution_count": 3,
   "id": "00b98d25",
   "metadata": {},
   "outputs": [],
   "source": [
    "# 모델 훈련"
   ]
  },
  {
   "cell_type": "code",
   "execution_count": 4,
   "id": "bab8f2cb",
   "metadata": {},
   "outputs": [],
   "source": [
    "# 모델 평가"
   ]
  },
  {
   "cell_type": "code",
   "execution_count": 5,
   "id": "f8bff6e0",
   "metadata": {},
   "outputs": [],
   "source": [
    "# 모델 튜닝"
   ]
  },
  {
   "cell_type": "code",
   "execution_count": null,
   "id": "76ba86ed",
   "metadata": {},
   "outputs": [],
   "source": []
  },
  {
   "cell_type": "code",
   "execution_count": null,
   "id": "e59786e2",
   "metadata": {},
   "outputs": [],
   "source": []
  }
 ],
 "metadata": {
  "kernelspec": {
   "display_name": "Python 3 (ipykernel)",
   "language": "python",
   "name": "python3"
  },
  "language_info": {
   "codemirror_mode": {
    "name": "ipython",
    "version": 3
   },
   "file_extension": ".py",
   "mimetype": "text/x-python",
   "name": "python",
   "nbconvert_exporter": "python",
   "pygments_lexer": "ipython3",
   "version": "3.10.9"
  }
 },
 "nbformat": 4,
 "nbformat_minor": 5
}
