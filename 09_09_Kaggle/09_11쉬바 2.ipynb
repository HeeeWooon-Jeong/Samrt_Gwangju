{
 "cells": [
  {
   "cell_type": "code",
   "execution_count": 20,
   "id": "686e43f3",
   "metadata": {},
   "outputs": [],
   "source": [
    "#!pip install missingno\n",
    "import numpy as np \n",
    "import pandas as pd \n",
    "import matplotlib.pyplot as plt\n",
    "import matplotlib\n",
    "import seaborn as sns\n",
    "from sklearn.preprocessing import LabelEncoder\n",
    "from sklearn.ensemble import RandomForestClassifier\n",
    "from sklearn.model_selection import train_test_split\n",
    "from sklearn.metrics import confusion_matrix, accuracy_score\n",
    "from sklearn.neighbors import KNeighborsClassifier\n",
    "import missingno as msno\n"
   ]
  },
  {
   "cell_type": "code",
   "execution_count": 21,
   "id": "e717f8eb",
   "metadata": {},
   "outputs": [],
   "source": [
    "train = pd.read_csv(\"train_fix1.csv\")\n",
    "test = pd.read_csv(\"test_fix1.csv\")"
   ]
  },
  {
   "cell_type": "code",
   "execution_count": 22,
   "id": "8977481e",
   "metadata": {},
   "outputs": [
    {
     "name": "stdout",
     "output_type": "stream",
     "text": [
      "<class 'pandas.core.frame.DataFrame'>\n",
      "RangeIndex: 6999 entries, 0 to 6998\n",
      "Data columns (total 11 columns):\n",
      " #   Column               Non-Null Count  Dtype  \n",
      "---  ------               --------------  -----  \n",
      " 0   Unnamed: 0           6999 non-null   int64  \n",
      " 1   Warehouse_block      6999 non-null   object \n",
      " 2   Mode_of_Shipment     6999 non-null   object \n",
      " 3   Customer_care_calls  5423 non-null   float64\n",
      " 4   Customer_rating      6999 non-null   int64  \n",
      " 5   Cost_of_the_Product  6999 non-null   int64  \n",
      " 6   Prior_purchases      6049 non-null   float64\n",
      " 7   Product_importance   6999 non-null   object \n",
      " 8   Discount_offered     3468 non-null   float64\n",
      " 9   Weight_in_gms        6999 non-null   object \n",
      " 10  Reached.on.Time_Y.N  6999 non-null   int64  \n",
      "dtypes: float64(3), int64(4), object(4)\n",
      "memory usage: 601.6+ KB\n"
     ]
    }
   ],
   "source": [
    "train.info()"
   ]
  },
  {
   "cell_type": "code",
   "execution_count": 23,
   "id": "46149acf",
   "metadata": {},
   "outputs": [
    {
     "data": {
      "text/plain": [
       "count    3468.000000\n",
       "mean       13.269031\n",
       "std        16.070188\n",
       "min         1.000000\n",
       "25%         4.000000\n",
       "50%         7.000000\n",
       "75%        10.000000\n",
       "max        65.000000\n",
       "Name: Discount_offered, dtype: float64"
      ]
     },
     "execution_count": 23,
     "metadata": {},
     "output_type": "execute_result"
    }
   ],
   "source": [
    "train['Discount_offered'].describe()"
   ]
  },
  {
   "cell_type": "code",
   "execution_count": 17,
   "id": "934eea64",
   "metadata": {},
   "outputs": [],
   "source": [
    "# '?' 값을 NaN으로 대체\n",
    "train['Discount_offered'].replace('?', np.nan, inplace=True)\n",
    "\n",
    "# 75% 분위수 계산\n",
    "q75 = train['Discount_offered'].quantile(0.75)\n",
    "\n",
    "# '?' 값을 75% 분위수 값으로 변경\n",
    "train['Discount_offered'].fillna(q75, inplace=True)\n"
   ]
  },
  {
   "cell_type": "code",
   "execution_count": 30,
   "id": "fc5e8e25",
   "metadata": {},
   "outputs": [
    {
     "data": {
      "text/plain": [
       "count    6999.000000\n",
       "mean       11.619803\n",
       "std        11.428752\n",
       "min         1.000000\n",
       "25%         7.000000\n",
       "50%        10.000000\n",
       "75%        10.000000\n",
       "max        65.000000\n",
       "Name: Discount_offered, dtype: float64"
      ]
     },
     "execution_count": 30,
     "metadata": {},
     "output_type": "execute_result"
    }
   ],
   "source": [
    "train['Discount_offered'].describe()"
   ]
  },
  {
   "cell_type": "code",
   "execution_count": 31,
   "id": "c664ac10",
   "metadata": {},
   "outputs": [
    {
     "name": "stdout",
     "output_type": "stream",
     "text": [
      "<class 'pandas.core.series.Series'>\n",
      "RangeIndex: 6999 entries, 0 to 6998\n",
      "Series name: Discount_offered\n",
      "Non-Null Count  Dtype  \n",
      "--------------  -----  \n",
      "6999 non-null   float64\n",
      "dtypes: float64(1)\n",
      "memory usage: 54.8 KB\n"
     ]
    }
   ],
   "source": [
    "train['Discount_offered'].info()"
   ]
  },
  {
   "cell_type": "code",
   "execution_count": 28,
   "id": "c01ea4db",
   "metadata": {},
   "outputs": [
    {
     "data": {
      "text/plain": [
       "0"
      ]
     },
     "execution_count": 28,
     "metadata": {},
     "output_type": "execute_result"
    }
   ],
   "source": [
    "(train['Discount_offered'] == '?').sum()"
   ]
  },
  {
   "cell_type": "code",
   "execution_count": 29,
   "id": "33df5ad4",
   "metadata": {},
   "outputs": [],
   "source": [
    "# 결측치를 75%는 10으로, 25%는 11로 채우기\n",
    "q75 = train['Discount_offered'].quantile(0.75)\n",
    "q25 = train['Discount_offered'].quantile(0.25)\n",
    "\n",
    "train['Discount_offered'].fillna(10, limit=int(0.75 * len(train)), inplace=True)\n",
    "train['Discount_offered'].fillna(11, limit=int(0.25 * len(train)), inplace=True)\n"
   ]
  }
 ],
 "metadata": {
  "kernelspec": {
   "display_name": "Python 3 (ipykernel)",
   "language": "python",
   "name": "python3"
  },
  "language_info": {
   "codemirror_mode": {
    "name": "ipython",
    "version": 3
   },
   "file_extension": ".py",
   "mimetype": "text/x-python",
   "name": "python",
   "nbconvert_exporter": "python",
   "pygments_lexer": "ipython3",
   "version": "3.10.9"
  }
 },
 "nbformat": 4,
 "nbformat_minor": 5
}
