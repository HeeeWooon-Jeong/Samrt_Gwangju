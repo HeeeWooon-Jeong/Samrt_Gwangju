{
 "cells": [
  {
   "cell_type": "code",
   "execution_count": null,
   "id": "4ed9ee41",
   "metadata": {},
   "outputs": [],
   "source": [
    "pd.set_option('display.max_rows', None)  # 모든 행을 출력\n",
    "pd.set_option('display.max_columns', None)  # 모든 열을 출력\n",
    "\n",
    "(train_ques['컬럼'] == 1).sum() # train['컬럼'] 컬럼에서 == 값 에 맞는 데이터 개수 구하기\n",
    "\n",
    "#컬럼 이름 변경\n",
    "train.rename(columns={'Warehouse_block ': 'Warehouse_block'}, inplace=True)\n",
    "\n",
    "\n",
    "# 범주형 데이터만 뽑기\n",
    "train.select_dtypes(include=['object'])\n",
    "train.describe(include=['O'])\n",
    "\n",
    "# 'Reached.on.Time_Y.N' 컬럼을 맨 위로 옮기기\n",
    "corr_matrix = X_train.corr()\n",
    "reordered_columns = ['Reached.on.Time_Y.N'] + [col for col in corr_matrix.columns if col != 'Reached.on.Time_Y.N']\n",
    "corr_matrix = corr_matrix[reordered_columns]\n",
    "corr_matrix\n",
    "\n",
    "# ? 인 값의 개수 구하는법\n",
    "(train['Product_importance'] == '?').sum()\n",
    "\n",
    "\n",
    "# ? 인 값 제거\n",
    "X_train_cleaned = X_train[X_train['Weight_in_gms'] != '?']\n",
    "# ? 값 대체\n",
    "train_cl['Mode_of_Shipment'].replace('?', 'Unknown', inplace=True)\n",
    "\n",
    "\n",
    "# 데이터 타입 변경\n",
    "train['Weight_in_gms'] = train['Weight_in_gms'].astype('int64')\n",
    " \n",
    "\n",
    "\n",
    "# 컬럼 제거\n",
    "df = df.drop('ID', axis=1) \n",
    "\n",
    "# 'column_name' 컬럼을 모두 1로 채우기\n",
    "df['Reached.on.Time_Y.N'] = 1\n",
    "\n",
    "\n",
    "# 결측치 모두보기\n",
    "df.isnull().sum()\n",
    "\n",
    "# 결측치를 75% 값(10)으로, 25% 값(7)으로 채우기\n",
    "test['Discount_offered'].fillna(test['Discount_offered'].quantile(0.75), inplace=True)  # 75% 값(10)으로 결측치 채우기\n",
    "test['Discount_offered'].fillna(test['Discount_offered'].quantile(0.25), inplace=True)  # 25% 값(7)으로 결측치 채우기\n",
    "\n",
    "# mode() 메서드를 사용하여 최빈값을 구하고, [0]을 사용하여 첫 번째 값을 가져옴\n",
    "df['Prior_purchases'].mode()[0]  \n",
    "# 최빈값으로 결측치 채우기\n",
    "test['Prior_purchases'].fillna(test['Prior_purchases'].mode()[0], inplace=True)  "
   ]
  }
 ],
 "metadata": {
  "kernelspec": {
   "display_name": "Python 3 (ipykernel)",
   "language": "python",
   "name": "python3"
  },
  "language_info": {
   "codemirror_mode": {
    "name": "ipython",
    "version": 3
   },
   "file_extension": ".py",
   "mimetype": "text/x-python",
   "name": "python",
   "nbconvert_exporter": "python",
   "pygments_lexer": "ipython3",
   "version": "3.10.9"
  }
 },
 "nbformat": 4,
 "nbformat_minor": 5
}
