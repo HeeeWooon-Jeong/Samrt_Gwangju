{
 "cells": [
  {
   "cell_type": "code",
   "execution_count": 128,
   "id": "9479512e",
   "metadata": {},
   "outputs": [],
   "source": [
    "#!pip install missingno\n",
    "import numpy as np \n",
    "import pandas as pd \n",
    "import matplotlib.pyplot as plt\n",
    "import matplotlib\n",
    "import seaborn as sns\n",
    "from sklearn.preprocessing import LabelEncoder\n",
    "from sklearn.ensemble import RandomForestClassifier\n",
    "from sklearn.model_selection import train_test_split\n",
    "from sklearn.metrics import confusion_matrix, accuracy_score\n",
    "from sklearn.neighbors import KNeighborsClassifier\n",
    "import missingno as msno\n",
    "from sklearn.tree import DecisionTreeClassifier"
   ]
  },
  {
   "cell_type": "code",
   "execution_count": 129,
   "id": "8b5edb71",
   "metadata": {},
   "outputs": [],
   "source": [
    "train = pd.read_csv(\"train.csv\")\n",
    "test = pd.read_csv(\"test.csv\")"
   ]
  },
  {
   "cell_type": "markdown",
   "id": "782ade92",
   "metadata": {},
   "source": [
    "# ? 데이터 제거 제출|"
   ]
  },
  {
   "cell_type": "markdown",
   "id": "aa84fdc5",
   "metadata": {},
   "source": [
    "# 결측치 처리\n"
   ]
  },
  {
   "cell_type": "code",
   "execution_count": 130,
   "id": "3abfeeee",
   "metadata": {},
   "outputs": [],
   "source": [
    "# 3 Customer_care_calls 5423 non-null float64 - 0 으로 채움\n",
    "train['Customer_care_calls'].fillna(0, inplace=True)\n",
    "test['Customer_care_calls'].fillna(0, inplace=True)"
   ]
  },
  {
   "cell_type": "code",
   "execution_count": 131,
   "id": "d950d37a",
   "metadata": {},
   "outputs": [],
   "source": [
    "# 6 Prior_purchases 6049 non-null float64 - 0 으로 채움\n",
    "train['Prior_purchases'].fillna(0, inplace=True)\n",
    "test['Prior_purchases'].fillna(0, inplace=True)"
   ]
  },
  {
   "cell_type": "code",
   "execution_count": 132,
   "id": "61c317d8",
   "metadata": {},
   "outputs": [],
   "source": [
    "# 9 Discount_offered 3468 non-null float64 - 0 으로 채움\n",
    "train['Discount_offered'].fillna(0, inplace=True)\n",
    "test['Discount_offered'].fillna(0, inplace=True)"
   ]
  },
  {
   "cell_type": "code",
   "execution_count": 133,
   "id": "23876158",
   "metadata": {},
   "outputs": [
    {
     "name": "stdout",
     "output_type": "stream",
     "text": [
      "<class 'pandas.core.frame.DataFrame'>\n",
      "RangeIndex: 4000 entries, 0 to 3999\n",
      "Data columns (total 11 columns):\n",
      " #   Column               Non-Null Count  Dtype  \n",
      "---  ------               --------------  -----  \n",
      " 0   ID                   4000 non-null   int64  \n",
      " 1   Warehouse_block      4000 non-null   object \n",
      " 2   Mode_of_Shipment     4000 non-null   object \n",
      " 3   Customer_care_calls  4000 non-null   float64\n",
      " 4   Customer_rating      4000 non-null   int64  \n",
      " 5   Cost_of_the_Product  4000 non-null   int64  \n",
      " 6   Prior_purchases      4000 non-null   float64\n",
      " 7   Product_importance   4000 non-null   object \n",
      " 8   Gender               4000 non-null   object \n",
      " 9   Discount_offered     4000 non-null   float64\n",
      " 10  Weight_in_gms        4000 non-null   object \n",
      "dtypes: float64(3), int64(3), object(5)\n",
      "memory usage: 343.9+ KB\n"
     ]
    }
   ],
   "source": [
    "test.info()"
   ]
  },
  {
   "cell_type": "markdown",
   "id": "07d7dfe3",
   "metadata": {},
   "source": [
    "# 이상치 처리"
   ]
  },
  {
   "cell_type": "code",
   "execution_count": 202,
   "id": "e48fb9ce",
   "metadata": {},
   "outputs": [],
   "source": [
    "# 'Warehouse_block' 컬럼 이름 수정\n",
    "train.rename(columns={'Warehouse_Block': 'Warehouse_block'}, inplace=True)\n"
   ]
  },
  {
   "cell_type": "code",
   "execution_count": 134,
   "id": "92830679",
   "metadata": {},
   "outputs": [],
   "source": [
    "train['Mode_of_Shipment'] = train['Mode_of_Shipment'].replace(' Shipzk', 'Ship')\n",
    "test['Mode_of_Shipment'] = train['Mode_of_Shipment'].replace(' Shipzk', 'Ship')"
   ]
  },
  {
   "cell_type": "code",
   "execution_count": 135,
   "id": "191bdee9",
   "metadata": {},
   "outputs": [],
   "source": [
    "train['Mode_of_Shipment'] = train['Mode_of_Shipment'].replace(' Flightzk', 'Flight')\n",
    "test['Mode_of_Shipment'] = train['Mode_of_Shipment'].replace(' Flightzk', 'Flight')"
   ]
  },
  {
   "cell_type": "code",
   "execution_count": 136,
   "id": "56a58ea8",
   "metadata": {},
   "outputs": [],
   "source": [
    "train['Mode_of_Shipment'] = train['Mode_of_Shipment'].replace(' Roadzk', 'Road')\n",
    "test['Mode_of_Shipment'] = train['Mode_of_Shipment'].replace(' Roadzk', 'Road')\n"
   ]
  },
  {
   "cell_type": "code",
   "execution_count": 137,
   "id": "dc713862",
   "metadata": {},
   "outputs": [],
   "source": [
    "train['Mode_of_Shipment'] = train['Mode_of_Shipment'].replace(' Road', 'Road')\n",
    "train['Mode_of_Shipment'] = train['Mode_of_Shipment'].replace(' Ship', 'Ship')\n",
    "train['Mode_of_Shipment'] = train['Mode_of_Shipment'].replace(' Flight', 'Flight')\n",
    "test['Mode_of_Shipment'] = train['Mode_of_Shipment'].replace(' Road', 'Road')\n",
    "test['Mode_of_Shipment'] = train['Mode_of_Shipment'].replace(' Ship', 'Ship')\n",
    "test['Mode_of_Shipment'] = train['Mode_of_Shipment'].replace(' Flight', 'Flight')\n"
   ]
  },
  {
   "cell_type": "code",
   "execution_count": 138,
   "id": "6e3af62d",
   "metadata": {},
   "outputs": [
    {
     "data": {
      "text/plain": [
       "array(['Ship', 'Flight', 'Road', '?'], dtype=object)"
      ]
     },
     "execution_count": 138,
     "metadata": {},
     "output_type": "execute_result"
    }
   ],
   "source": [
    "test['Mode_of_Shipment'].unique()"
   ]
  },
  {
   "cell_type": "code",
   "execution_count": 139,
   "id": "7e000184",
   "metadata": {},
   "outputs": [],
   "source": [
    "# Cost_of_the_Product 9999 이상치 제거 \n",
    "train_filtered = train[train['Cost_of_the_Product'] != 9999]\n",
    "# Cost_of_the_Product 9999 이상치 제거 \n",
    "test_filtered = test[test['Cost_of_the_Product'] != 9999]"
   ]
  },
  {
   "cell_type": "code",
   "execution_count": 140,
   "id": "43889d1c",
   "metadata": {},
   "outputs": [],
   "source": [
    "median_cost = train['Cost_of_the_Product'].median()\n",
    "train['Cost_of_the_Product'].replace(9999, median_cost, inplace=True)\n",
    "test['Cost_of_the_Product'].replace(9999, median_cost, inplace=True)"
   ]
  },
  {
   "cell_type": "code",
   "execution_count": 141,
   "id": "0de334db",
   "metadata": {},
   "outputs": [],
   "source": [
    "# 99를 평점 중앙값으로 대체\n",
    "median_cost = train['Customer_rating'].median()\n",
    "train['Customer_rating'].replace(99, median_cost, inplace=True)\n",
    "test['Customer_rating'].replace(99, median_cost, inplace=True)"
   ]
  },
  {
   "cell_type": "code",
   "execution_count": 174,
   "id": "eaa4e74d",
   "metadata": {},
   "outputs": [],
   "source": [
    "train['Product_importance'].replace('mediumm', 'medium', inplace=True)\n",
    "train['Product_importance'].replace('loww', 'low', inplace=True)\n",
    "train['Product_importance'].replace('highh', 'high', inplace=True)\n",
    "test['Product_importance'].replace('mediumm', 'medium', inplace=True)\n",
    "test['Product_importance'].replace('loww', 'low', inplace=True)\n",
    "test['Product_importance'].replace('highh', 'high', inplace=True)"
   ]
  },
  {
   "cell_type": "code",
   "execution_count": 175,
   "id": "d92f5d2f",
   "metadata": {},
   "outputs": [
    {
     "data": {
      "text/plain": [
       "array(['high', 'medium', 'low', '?'], dtype=object)"
      ]
     },
     "execution_count": 175,
     "metadata": {},
     "output_type": "execute_result"
    }
   ],
   "source": [
    "# 카테고리 이름 수정\n",
    "test['Product_importance'].unique()"
   ]
  },
  {
   "cell_type": "code",
   "execution_count": 144,
   "id": "2492a6fd",
   "metadata": {},
   "outputs": [],
   "source": [
    "# train 에서 필요없는 컬럼 제거\n",
    "# 'ID' 컬럼 삭제\n",
    "\n",
    "# 이미 삭제되어있다면 실행 안됨  \n",
    "train.drop('ID', axis=1, inplace=True)\n",
    "train.drop('Gender', axis=1, inplace=True)\n",
    "test.drop('ID', axis=1, inplace=True)\n",
    "test.drop('Gender', axis=1, inplace=True)"
   ]
  },
  {
   "cell_type": "code",
   "execution_count": 145,
   "id": "d496971a",
   "metadata": {},
   "outputs": [],
   "source": [
    "# Weight_in_gms 뺀 데이터\n",
    "train.drop('Weight_in_gms', axis=1, inplace=True)\n",
    "test.drop('Weight_in_gms', axis=1, inplace=True)"
   ]
  },
  {
   "cell_type": "code",
   "execution_count": 203,
   "id": "8c6e4fb0",
   "metadata": {},
   "outputs": [
    {
     "name": "stdout",
     "output_type": "stream",
     "text": [
      "<class 'pandas.core.frame.DataFrame'>\n",
      "RangeIndex: 6999 entries, 0 to 6998\n",
      "Data columns (total 9 columns):\n",
      " #   Column               Non-Null Count  Dtype  \n",
      "---  ------               --------------  -----  \n",
      " 0   Warehouse_block      6999 non-null   object \n",
      " 1   Mode_of_Shipment     6999 non-null   object \n",
      " 2   Customer_care_calls  6999 non-null   float64\n",
      " 3   Customer_rating      6999 non-null   int64  \n",
      " 4   Cost_of_the_Product  6999 non-null   int64  \n",
      " 5   Prior_purchases      6999 non-null   float64\n",
      " 6   Product_importance   6999 non-null   object \n",
      " 7   Discount_offered     6999 non-null   float64\n",
      " 8   Reached.on.Time_Y.N  6999 non-null   int64  \n",
      "dtypes: float64(3), int64(3), object(3)\n",
      "memory usage: 492.2+ KB\n",
      "<class 'pandas.core.frame.DataFrame'>\n",
      "RangeIndex: 4000 entries, 0 to 3999\n",
      "Data columns (total 8 columns):\n",
      " #   Column               Non-Null Count  Dtype  \n",
      "---  ------               --------------  -----  \n",
      " 0   Warehouse_block      4000 non-null   object \n",
      " 1   Mode_of_Shipment     4000 non-null   object \n",
      " 2   Customer_care_calls  4000 non-null   float64\n",
      " 3   Customer_rating      4000 non-null   int64  \n",
      " 4   Cost_of_the_Product  4000 non-null   int64  \n",
      " 5   Prior_purchases      4000 non-null   float64\n",
      " 6   Product_importance   4000 non-null   object \n",
      " 7   Discount_offered     4000 non-null   float64\n",
      "dtypes: float64(3), int64(2), object(3)\n",
      "memory usage: 250.1+ KB\n"
     ]
    }
   ],
   "source": [
    "train.info()\n",
    "test.info()"
   ]
  },
  {
   "cell_type": "code",
   "execution_count": 147,
   "id": "03390240",
   "metadata": {},
   "outputs": [
    {
     "data": {
      "text/html": [
       "<div>\n",
       "<style scoped>\n",
       "    .dataframe tbody tr th:only-of-type {\n",
       "        vertical-align: middle;\n",
       "    }\n",
       "\n",
       "    .dataframe tbody tr th {\n",
       "        vertical-align: top;\n",
       "    }\n",
       "\n",
       "    .dataframe thead th {\n",
       "        text-align: right;\n",
       "    }\n",
       "</style>\n",
       "<table border=\"1\" class=\"dataframe\">\n",
       "  <thead>\n",
       "    <tr style=\"text-align: right;\">\n",
       "      <th></th>\n",
       "      <th>Warehouse_block</th>\n",
       "      <th>Mode_of_Shipment</th>\n",
       "      <th>Product_importance</th>\n",
       "    </tr>\n",
       "  </thead>\n",
       "  <tbody>\n",
       "    <tr>\n",
       "      <th>0</th>\n",
       "      <td>C</td>\n",
       "      <td>Ship</td>\n",
       "      <td>low</td>\n",
       "    </tr>\n",
       "    <tr>\n",
       "      <th>1</th>\n",
       "      <td>F</td>\n",
       "      <td>Flight</td>\n",
       "      <td>low</td>\n",
       "    </tr>\n",
       "    <tr>\n",
       "      <th>2</th>\n",
       "      <td>F</td>\n",
       "      <td>Ship</td>\n",
       "      <td>low</td>\n",
       "    </tr>\n",
       "    <tr>\n",
       "      <th>3</th>\n",
       "      <td>F</td>\n",
       "      <td>Ship</td>\n",
       "      <td>medium</td>\n",
       "    </tr>\n",
       "    <tr>\n",
       "      <th>4</th>\n",
       "      <td>D</td>\n",
       "      <td>Flight</td>\n",
       "      <td>high</td>\n",
       "    </tr>\n",
       "    <tr>\n",
       "      <th>...</th>\n",
       "      <td>...</td>\n",
       "      <td>...</td>\n",
       "      <td>...</td>\n",
       "    </tr>\n",
       "    <tr>\n",
       "      <th>6994</th>\n",
       "      <td>D</td>\n",
       "      <td>Ship</td>\n",
       "      <td>medium</td>\n",
       "    </tr>\n",
       "    <tr>\n",
       "      <th>6995</th>\n",
       "      <td>F</td>\n",
       "      <td>Ship</td>\n",
       "      <td>medium</td>\n",
       "    </tr>\n",
       "    <tr>\n",
       "      <th>6996</th>\n",
       "      <td>D</td>\n",
       "      <td>Ship</td>\n",
       "      <td>low</td>\n",
       "    </tr>\n",
       "    <tr>\n",
       "      <th>6997</th>\n",
       "      <td>A</td>\n",
       "      <td>Road</td>\n",
       "      <td>medium</td>\n",
       "    </tr>\n",
       "    <tr>\n",
       "      <th>6998</th>\n",
       "      <td>A</td>\n",
       "      <td>Ship</td>\n",
       "      <td>high</td>\n",
       "    </tr>\n",
       "  </tbody>\n",
       "</table>\n",
       "<p>6999 rows × 3 columns</p>\n",
       "</div>"
      ],
      "text/plain": [
       "     Warehouse_block  Mode_of_Shipment Product_importance\n",
       "0                   C             Ship                low\n",
       "1                   F           Flight                low\n",
       "2                   F             Ship                low\n",
       "3                   F             Ship             medium\n",
       "4                   D           Flight               high\n",
       "...               ...              ...                ...\n",
       "6994                D             Ship             medium\n",
       "6995                F             Ship             medium\n",
       "6996                D             Ship                low\n",
       "6997                A             Road             medium\n",
       "6998                A             Ship               high\n",
       "\n",
       "[6999 rows x 3 columns]"
      ]
     },
     "execution_count": 147,
     "metadata": {},
     "output_type": "execute_result"
    }
   ],
   "source": [
    "# 범주형 데이터만 뽑기\n",
    "train.select_dtypes(include=['object'])"
   ]
  },
  {
   "cell_type": "code",
   "execution_count": 204,
   "id": "89a18dcf",
   "metadata": {},
   "outputs": [],
   "source": [
    "# 원핫 인코딩\n",
    "X_train = pd.get_dummies(train)\n",
    "X_test = pd.get_dummies(test)"
   ]
  },
  {
   "cell_type": "code",
   "execution_count": 205,
   "id": "569684af",
   "metadata": {},
   "outputs": [
    {
     "name": "stdout",
     "output_type": "stream",
     "text": [
      "<class 'pandas.core.frame.DataFrame'>\n",
      "RangeIndex: 6999 entries, 0 to 6998\n",
      "Data columns (total 19 columns):\n",
      " #   Column                     Non-Null Count  Dtype  \n",
      "---  ------                     --------------  -----  \n",
      " 0   Customer_care_calls        6999 non-null   float64\n",
      " 1   Customer_rating            6999 non-null   int64  \n",
      " 2   Cost_of_the_Product        6999 non-null   int64  \n",
      " 3   Prior_purchases            6999 non-null   float64\n",
      " 4   Discount_offered           6999 non-null   float64\n",
      " 5   Reached.on.Time_Y.N        6999 non-null   int64  \n",
      " 6   Warehouse_block_A          6999 non-null   uint8  \n",
      " 7   Warehouse_block_B          6999 non-null   uint8  \n",
      " 8   Warehouse_block_C          6999 non-null   uint8  \n",
      " 9   Warehouse_block_D          6999 non-null   uint8  \n",
      " 10  Warehouse_block_F          6999 non-null   uint8  \n",
      " 11  Mode_of_Shipment_?         6999 non-null   uint8  \n",
      " 12  Mode_of_Shipment_Flight    6999 non-null   uint8  \n",
      " 13  Mode_of_Shipment_Road      6999 non-null   uint8  \n",
      " 14  Mode_of_Shipment_Ship      6999 non-null   uint8  \n",
      " 15  Product_importance_?       6999 non-null   uint8  \n",
      " 16  Product_importance_high    6999 non-null   uint8  \n",
      " 17  Product_importance_low     6999 non-null   uint8  \n",
      " 18  Product_importance_medium  6999 non-null   uint8  \n",
      "dtypes: float64(3), int64(3), uint8(13)\n",
      "memory usage: 417.1 KB\n",
      "<class 'pandas.core.frame.DataFrame'>\n",
      "RangeIndex: 4000 entries, 0 to 3999\n",
      "Data columns (total 18 columns):\n",
      " #   Column                     Non-Null Count  Dtype  \n",
      "---  ------                     --------------  -----  \n",
      " 0   Customer_care_calls        4000 non-null   float64\n",
      " 1   Customer_rating            4000 non-null   int64  \n",
      " 2   Cost_of_the_Product        4000 non-null   int64  \n",
      " 3   Prior_purchases            4000 non-null   float64\n",
      " 4   Discount_offered           4000 non-null   float64\n",
      " 5   Warehouse_block_A          4000 non-null   uint8  \n",
      " 6   Warehouse_block_B          4000 non-null   uint8  \n",
      " 7   Warehouse_block_C          4000 non-null   uint8  \n",
      " 8   Warehouse_block_D          4000 non-null   uint8  \n",
      " 9   Warehouse_block_F          4000 non-null   uint8  \n",
      " 10  Mode_of_Shipment_?         4000 non-null   uint8  \n",
      " 11  Mode_of_Shipment_Flight    4000 non-null   uint8  \n",
      " 12  Mode_of_Shipment_Road      4000 non-null   uint8  \n",
      " 13  Mode_of_Shipment_Ship      4000 non-null   uint8  \n",
      " 14  Product_importance_?       4000 non-null   uint8  \n",
      " 15  Product_importance_high    4000 non-null   uint8  \n",
      " 16  Product_importance_low     4000 non-null   uint8  \n",
      " 17  Product_importance_medium  4000 non-null   uint8  \n",
      "dtypes: float64(3), int64(2), uint8(13)\n",
      "memory usage: 207.2 KB\n"
     ]
    }
   ],
   "source": [
    "X_train.info()\n",
    "X_test.info()"
   ]
  },
  {
   "cell_type": "code",
   "execution_count": 207,
   "id": "cf670bb9",
   "metadata": {},
   "outputs": [
    {
     "data": {
      "text/plain": [
       "{'Reached.on.Time_Y.N'}"
      ]
     },
     "execution_count": 207,
     "metadata": {},
     "output_type": "execute_result"
    }
   ],
   "source": [
    "set(X_train.columns) - set(X_test.columns)"
   ]
  },
  {
   "cell_type": "code",
   "execution_count": 191,
   "id": "3b788e2d",
   "metadata": {},
   "outputs": [
    {
     "name": "stdout",
     "output_type": "stream",
     "text": [
      "<class 'pandas.core.frame.DataFrame'>\n",
      "RangeIndex: 6999 entries, 0 to 6998\n",
      "Data columns (total 19 columns):\n",
      " #   Column                     Non-Null Count  Dtype  \n",
      "---  ------                     --------------  -----  \n",
      " 0   Customer_care_calls        6999 non-null   float64\n",
      " 1   Customer_rating            6999 non-null   int64  \n",
      " 2   Cost_of_the_Product        6999 non-null   int64  \n",
      " 3   Prior_purchases            6999 non-null   float64\n",
      " 4   Discount_offered           6999 non-null   float64\n",
      " 5   Reached.on.Time_Y.N        6999 non-null   int64  \n",
      " 6   Warehouse_Block_A          6999 non-null   uint8  \n",
      " 7   Warehouse_Block_B          6999 non-null   uint8  \n",
      " 8   Warehouse_Block_C          6999 non-null   uint8  \n",
      " 9   Warehouse_Block_D          6999 non-null   uint8  \n",
      " 10  Warehouse_Block_F          6999 non-null   uint8  \n",
      " 11  Mode_of_Shipment_?         6999 non-null   uint8  \n",
      " 12  Mode_of_Shipment_Flight    6999 non-null   uint8  \n",
      " 13  Mode_of_Shipment_Road      6999 non-null   uint8  \n",
      " 14  Mode_of_Shipment_Ship      6999 non-null   uint8  \n",
      " 15  Product_importance_?       6999 non-null   uint8  \n",
      " 16  Product_importance_high    6999 non-null   uint8  \n",
      " 17  Product_importance_low     6999 non-null   uint8  \n",
      " 18  Product_importance_medium  6999 non-null   uint8  \n",
      "dtypes: float64(3), int64(3), uint8(13)\n",
      "memory usage: 417.1 KB\n"
     ]
    }
   ],
   "source": [
    "X_train.info()"
   ]
  },
  {
   "cell_type": "code",
   "execution_count": 192,
   "id": "e3ca9a82",
   "metadata": {},
   "outputs": [
    {
     "name": "stdout",
     "output_type": "stream",
     "text": [
      "<class 'pandas.core.series.Series'>\n",
      "RangeIndex: 6999 entries, 0 to 6998\n",
      "Series name: Reached.on.Time_Y.N\n",
      "Non-Null Count  Dtype\n",
      "--------------  -----\n",
      "6999 non-null   int64\n",
      "dtypes: int64(1)\n",
      "memory usage: 54.8 KB\n"
     ]
    }
   ],
   "source": [
    "y_train.info()"
   ]
  },
  {
   "cell_type": "code",
   "execution_count": 153,
   "id": "388cc1a3",
   "metadata": {},
   "outputs": [],
   "source": [
    "tree_model = DecisionTreeClassifier()\n"
   ]
  },
  {
   "cell_type": "code",
   "execution_count": 154,
   "id": "b017b18f",
   "metadata": {},
   "outputs": [
    {
     "name": "stdout",
     "output_type": "stream",
     "text": [
      "<class 'pandas.core.frame.DataFrame'>\n",
      "RangeIndex: 6999 entries, 0 to 6998\n",
      "Data columns (total 19 columns):\n",
      " #   Column                     Non-Null Count  Dtype  \n",
      "---  ------                     --------------  -----  \n",
      " 0   Customer_care_calls        6999 non-null   float64\n",
      " 1   Customer_rating            6999 non-null   int64  \n",
      " 2   Cost_of_the_Product        6999 non-null   int64  \n",
      " 3   Prior_purchases            6999 non-null   float64\n",
      " 4   Discount_offered           6999 non-null   float64\n",
      " 5   Reached.on.Time_Y.N        6999 non-null   int64  \n",
      " 6   Warehouse_block _A         6999 non-null   uint8  \n",
      " 7   Warehouse_block _B         6999 non-null   uint8  \n",
      " 8   Warehouse_block _C         6999 non-null   uint8  \n",
      " 9   Warehouse_block _D         6999 non-null   uint8  \n",
      " 10  Warehouse_block _F         6999 non-null   uint8  \n",
      " 11  Mode_of_Shipment_?         6999 non-null   uint8  \n",
      " 12  Mode_of_Shipment_Flight    6999 non-null   uint8  \n",
      " 13  Mode_of_Shipment_Road      6999 non-null   uint8  \n",
      " 14  Mode_of_Shipment_Ship      6999 non-null   uint8  \n",
      " 15  Product_importance_?       6999 non-null   uint8  \n",
      " 16  Product_importance_high    6999 non-null   uint8  \n",
      " 17  Product_importance_low     6999 non-null   uint8  \n",
      " 18  Product_importance_medium  6999 non-null   uint8  \n",
      "dtypes: float64(3), int64(3), uint8(13)\n",
      "memory usage: 417.1 KB\n"
     ]
    }
   ],
   "source": [
    "X_train.info()"
   ]
  },
  {
   "cell_type": "code",
   "execution_count": 159,
   "id": "6aef9c07",
   "metadata": {},
   "outputs": [
    {
     "name": "stdout",
     "output_type": "stream",
     "text": [
      "<class 'pandas.core.series.Series'>\n",
      "RangeIndex: 6999 entries, 0 to 6998\n",
      "Series name: Reached.on.Time_Y.N\n",
      "Non-Null Count  Dtype\n",
      "--------------  -----\n",
      "6999 non-null   int64\n",
      "dtypes: int64(1)\n",
      "memory usage: 54.8 KB\n"
     ]
    }
   ],
   "source": [
    "y_train.info()"
   ]
  },
  {
   "cell_type": "code",
   "execution_count": 208,
   "id": "2df479cf",
   "metadata": {},
   "outputs": [],
   "source": [
    "y_train= X_train['Reached.on.Time_Y.N']\n",
    "X_train = X_train.drop('Reached.on.Time_Y.N', axis=1)\n"
   ]
  },
  {
   "cell_type": "code",
   "execution_count": 1,
   "id": "68e2ee69",
   "metadata": {},
   "outputs": [
    {
     "ename": "NameError",
     "evalue": "name 'tree_model' is not defined",
     "output_type": "error",
     "traceback": [
      "\u001b[1;31m---------------------------------------------------------------------------\u001b[0m",
      "\u001b[1;31mNameError\u001b[0m                                 Traceback (most recent call last)",
      "Cell \u001b[1;32mIn[1], line 1\u001b[0m\n\u001b[1;32m----> 1\u001b[0m \u001b[43mtree_model\u001b[49m\u001b[38;5;241m.\u001b[39mfit(X_train, y_train)\n\u001b[0;32m      2\u001b[0m DecisionTreeClassifier()\n",
      "\u001b[1;31mNameError\u001b[0m: name 'tree_model' is not defined"
     ]
    }
   ],
   "source": [
    "tree_model.fit(X_train, y_train)\n",
    "DecisionTreeClassifier()"
   ]
  },
  {
   "cell_type": "code",
   "execution_count": 210,
   "id": "faea2dc9",
   "metadata": {},
   "outputs": [
    {
     "data": {
      "text/plain": [
       "0.9988569795685098"
      ]
     },
     "execution_count": 210,
     "metadata": {},
     "output_type": "execute_result"
    }
   ],
   "source": [
    "tree_model.score(X_train,y_train)"
   ]
  },
  {
   "cell_type": "code",
   "execution_count": 586,
   "id": "583f015a",
   "metadata": {},
   "outputs": [],
   "source": [
    "tree_model1 = DecisionTreeClassifier(max_leaf_nodes=4,max_depth=8)"
   ]
  },
  {
   "cell_type": "code",
   "execution_count": 587,
   "id": "cb45c061",
   "metadata": {},
   "outputs": [
    {
     "data": {
      "text/html": [
       "<style>#sk-container-id-93 {color: black;background-color: white;}#sk-container-id-93 pre{padding: 0;}#sk-container-id-93 div.sk-toggleable {background-color: white;}#sk-container-id-93 label.sk-toggleable__label {cursor: pointer;display: block;width: 100%;margin-bottom: 0;padding: 0.3em;box-sizing: border-box;text-align: center;}#sk-container-id-93 label.sk-toggleable__label-arrow:before {content: \"▸\";float: left;margin-right: 0.25em;color: #696969;}#sk-container-id-93 label.sk-toggleable__label-arrow:hover:before {color: black;}#sk-container-id-93 div.sk-estimator:hover label.sk-toggleable__label-arrow:before {color: black;}#sk-container-id-93 div.sk-toggleable__content {max-height: 0;max-width: 0;overflow: hidden;text-align: left;background-color: #f0f8ff;}#sk-container-id-93 div.sk-toggleable__content pre {margin: 0.2em;color: black;border-radius: 0.25em;background-color: #f0f8ff;}#sk-container-id-93 input.sk-toggleable__control:checked~div.sk-toggleable__content {max-height: 200px;max-width: 100%;overflow: auto;}#sk-container-id-93 input.sk-toggleable__control:checked~label.sk-toggleable__label-arrow:before {content: \"▾\";}#sk-container-id-93 div.sk-estimator input.sk-toggleable__control:checked~label.sk-toggleable__label {background-color: #d4ebff;}#sk-container-id-93 div.sk-label input.sk-toggleable__control:checked~label.sk-toggleable__label {background-color: #d4ebff;}#sk-container-id-93 input.sk-hidden--visually {border: 0;clip: rect(1px 1px 1px 1px);clip: rect(1px, 1px, 1px, 1px);height: 1px;margin: -1px;overflow: hidden;padding: 0;position: absolute;width: 1px;}#sk-container-id-93 div.sk-estimator {font-family: monospace;background-color: #f0f8ff;border: 1px dotted black;border-radius: 0.25em;box-sizing: border-box;margin-bottom: 0.5em;}#sk-container-id-93 div.sk-estimator:hover {background-color: #d4ebff;}#sk-container-id-93 div.sk-parallel-item::after {content: \"\";width: 100%;border-bottom: 1px solid gray;flex-grow: 1;}#sk-container-id-93 div.sk-label:hover label.sk-toggleable__label {background-color: #d4ebff;}#sk-container-id-93 div.sk-serial::before {content: \"\";position: absolute;border-left: 1px solid gray;box-sizing: border-box;top: 0;bottom: 0;left: 50%;z-index: 0;}#sk-container-id-93 div.sk-serial {display: flex;flex-direction: column;align-items: center;background-color: white;padding-right: 0.2em;padding-left: 0.2em;position: relative;}#sk-container-id-93 div.sk-item {position: relative;z-index: 1;}#sk-container-id-93 div.sk-parallel {display: flex;align-items: stretch;justify-content: center;background-color: white;position: relative;}#sk-container-id-93 div.sk-item::before, #sk-container-id-93 div.sk-parallel-item::before {content: \"\";position: absolute;border-left: 1px solid gray;box-sizing: border-box;top: 0;bottom: 0;left: 50%;z-index: -1;}#sk-container-id-93 div.sk-parallel-item {display: flex;flex-direction: column;z-index: 1;position: relative;background-color: white;}#sk-container-id-93 div.sk-parallel-item:first-child::after {align-self: flex-end;width: 50%;}#sk-container-id-93 div.sk-parallel-item:last-child::after {align-self: flex-start;width: 50%;}#sk-container-id-93 div.sk-parallel-item:only-child::after {width: 0;}#sk-container-id-93 div.sk-dashed-wrapped {border: 1px dashed gray;margin: 0 0.4em 0.5em 0.4em;box-sizing: border-box;padding-bottom: 0.4em;background-color: white;}#sk-container-id-93 div.sk-label label {font-family: monospace;font-weight: bold;display: inline-block;line-height: 1.2em;}#sk-container-id-93 div.sk-label-container {text-align: center;}#sk-container-id-93 div.sk-container {/* jupyter's `normalize.less` sets `[hidden] { display: none; }` but bootstrap.min.css set `[hidden] { display: none !important; }` so we also need the `!important` here to be able to override the default hidden behavior on the sphinx rendered scikit-learn.org. See: https://github.com/scikit-learn/scikit-learn/issues/21755 */display: inline-block !important;position: relative;}#sk-container-id-93 div.sk-text-repr-fallback {display: none;}</style><div id=\"sk-container-id-93\" class=\"sk-top-container\"><div class=\"sk-text-repr-fallback\"><pre>DecisionTreeClassifier(max_depth=8, max_leaf_nodes=4)</pre><b>In a Jupyter environment, please rerun this cell to show the HTML representation or trust the notebook. <br />On GitHub, the HTML representation is unable to render, please try loading this page with nbviewer.org.</b></div><div class=\"sk-container\" hidden><div class=\"sk-item\"><div class=\"sk-estimator sk-toggleable\"><input class=\"sk-toggleable__control sk-hidden--visually\" id=\"sk-estimator-id-93\" type=\"checkbox\" checked><label for=\"sk-estimator-id-93\" class=\"sk-toggleable__label sk-toggleable__label-arrow\">DecisionTreeClassifier</label><div class=\"sk-toggleable__content\"><pre>DecisionTreeClassifier(max_depth=8, max_leaf_nodes=4)</pre></div></div></div></div></div>"
      ],
      "text/plain": [
       "DecisionTreeClassifier(max_depth=8, max_leaf_nodes=4)"
      ]
     },
     "execution_count": 587,
     "metadata": {},
     "output_type": "execute_result"
    }
   ],
   "source": [
    "tree_model1"
   ]
  },
  {
   "cell_type": "code",
   "execution_count": 588,
   "id": "24918ab1",
   "metadata": {},
   "outputs": [
    {
     "data": {
      "text/html": [
       "<style>#sk-container-id-94 {color: black;background-color: white;}#sk-container-id-94 pre{padding: 0;}#sk-container-id-94 div.sk-toggleable {background-color: white;}#sk-container-id-94 label.sk-toggleable__label {cursor: pointer;display: block;width: 100%;margin-bottom: 0;padding: 0.3em;box-sizing: border-box;text-align: center;}#sk-container-id-94 label.sk-toggleable__label-arrow:before {content: \"▸\";float: left;margin-right: 0.25em;color: #696969;}#sk-container-id-94 label.sk-toggleable__label-arrow:hover:before {color: black;}#sk-container-id-94 div.sk-estimator:hover label.sk-toggleable__label-arrow:before {color: black;}#sk-container-id-94 div.sk-toggleable__content {max-height: 0;max-width: 0;overflow: hidden;text-align: left;background-color: #f0f8ff;}#sk-container-id-94 div.sk-toggleable__content pre {margin: 0.2em;color: black;border-radius: 0.25em;background-color: #f0f8ff;}#sk-container-id-94 input.sk-toggleable__control:checked~div.sk-toggleable__content {max-height: 200px;max-width: 100%;overflow: auto;}#sk-container-id-94 input.sk-toggleable__control:checked~label.sk-toggleable__label-arrow:before {content: \"▾\";}#sk-container-id-94 div.sk-estimator input.sk-toggleable__control:checked~label.sk-toggleable__label {background-color: #d4ebff;}#sk-container-id-94 div.sk-label input.sk-toggleable__control:checked~label.sk-toggleable__label {background-color: #d4ebff;}#sk-container-id-94 input.sk-hidden--visually {border: 0;clip: rect(1px 1px 1px 1px);clip: rect(1px, 1px, 1px, 1px);height: 1px;margin: -1px;overflow: hidden;padding: 0;position: absolute;width: 1px;}#sk-container-id-94 div.sk-estimator {font-family: monospace;background-color: #f0f8ff;border: 1px dotted black;border-radius: 0.25em;box-sizing: border-box;margin-bottom: 0.5em;}#sk-container-id-94 div.sk-estimator:hover {background-color: #d4ebff;}#sk-container-id-94 div.sk-parallel-item::after {content: \"\";width: 100%;border-bottom: 1px solid gray;flex-grow: 1;}#sk-container-id-94 div.sk-label:hover label.sk-toggleable__label {background-color: #d4ebff;}#sk-container-id-94 div.sk-serial::before {content: \"\";position: absolute;border-left: 1px solid gray;box-sizing: border-box;top: 0;bottom: 0;left: 50%;z-index: 0;}#sk-container-id-94 div.sk-serial {display: flex;flex-direction: column;align-items: center;background-color: white;padding-right: 0.2em;padding-left: 0.2em;position: relative;}#sk-container-id-94 div.sk-item {position: relative;z-index: 1;}#sk-container-id-94 div.sk-parallel {display: flex;align-items: stretch;justify-content: center;background-color: white;position: relative;}#sk-container-id-94 div.sk-item::before, #sk-container-id-94 div.sk-parallel-item::before {content: \"\";position: absolute;border-left: 1px solid gray;box-sizing: border-box;top: 0;bottom: 0;left: 50%;z-index: -1;}#sk-container-id-94 div.sk-parallel-item {display: flex;flex-direction: column;z-index: 1;position: relative;background-color: white;}#sk-container-id-94 div.sk-parallel-item:first-child::after {align-self: flex-end;width: 50%;}#sk-container-id-94 div.sk-parallel-item:last-child::after {align-self: flex-start;width: 50%;}#sk-container-id-94 div.sk-parallel-item:only-child::after {width: 0;}#sk-container-id-94 div.sk-dashed-wrapped {border: 1px dashed gray;margin: 0 0.4em 0.5em 0.4em;box-sizing: border-box;padding-bottom: 0.4em;background-color: white;}#sk-container-id-94 div.sk-label label {font-family: monospace;font-weight: bold;display: inline-block;line-height: 1.2em;}#sk-container-id-94 div.sk-label-container {text-align: center;}#sk-container-id-94 div.sk-container {/* jupyter's `normalize.less` sets `[hidden] { display: none; }` but bootstrap.min.css set `[hidden] { display: none !important; }` so we also need the `!important` here to be able to override the default hidden behavior on the sphinx rendered scikit-learn.org. See: https://github.com/scikit-learn/scikit-learn/issues/21755 */display: inline-block !important;position: relative;}#sk-container-id-94 div.sk-text-repr-fallback {display: none;}</style><div id=\"sk-container-id-94\" class=\"sk-top-container\"><div class=\"sk-text-repr-fallback\"><pre>DecisionTreeClassifier(max_depth=8, max_leaf_nodes=4)</pre><b>In a Jupyter environment, please rerun this cell to show the HTML representation or trust the notebook. <br />On GitHub, the HTML representation is unable to render, please try loading this page with nbviewer.org.</b></div><div class=\"sk-container\" hidden><div class=\"sk-item\"><div class=\"sk-estimator sk-toggleable\"><input class=\"sk-toggleable__control sk-hidden--visually\" id=\"sk-estimator-id-94\" type=\"checkbox\" checked><label for=\"sk-estimator-id-94\" class=\"sk-toggleable__label sk-toggleable__label-arrow\">DecisionTreeClassifier</label><div class=\"sk-toggleable__content\"><pre>DecisionTreeClassifier(max_depth=8, max_leaf_nodes=4)</pre></div></div></div></div></div>"
      ],
      "text/plain": [
       "DecisionTreeClassifier(max_depth=8, max_leaf_nodes=4)"
      ]
     },
     "execution_count": 588,
     "metadata": {},
     "output_type": "execute_result"
    }
   ],
   "source": [
    "tree_model1.fit(X_train, y_train)"
   ]
  },
  {
   "cell_type": "code",
   "execution_count": 589,
   "id": "cb54ce18",
   "metadata": {},
   "outputs": [
    {
     "data": {
      "text/plain": [
       "0.6196599514216317"
      ]
     },
     "execution_count": 589,
     "metadata": {},
     "output_type": "execute_result"
    }
   ],
   "source": [
    "tree_model1.score(X_train, y_train)"
   ]
  },
  {
   "cell_type": "code",
   "execution_count": 592,
   "id": "540bd259",
   "metadata": {},
   "outputs": [
    {
     "data": {
      "text/plain": [
       "0.6192336362708056"
      ]
     },
     "execution_count": 592,
     "metadata": {},
     "output_type": "execute_result"
    }
   ],
   "source": [
    "from sklearn.model_selection import cross_val_score\n",
    "score = cross_val_score(tree_model1, X_train, y_train, cv=5)\n",
    "np.mean(score)"
   ]
  },
  {
   "cell_type": "code",
   "execution_count": 593,
   "id": "4270f396",
   "metadata": {},
   "outputs": [
    {
     "data": {
      "text/plain": [
       "<bound method DataFrame.info of      Warehouse_block Mode_of_Shipment  Customer_care_calls  Customer_rating  \\\n",
       "0                  F             Ship                  3.0                1   \n",
       "1                  F           Flight                  3.0                4   \n",
       "2                  A             Ship                  0.0                5   \n",
       "3                  C             Ship                  0.0                1   \n",
       "4                  F           Flight                  4.0                2   \n",
       "...              ...              ...                  ...              ...   \n",
       "3995               A             Ship                  4.0                1   \n",
       "3996               C             Road                  0.0                3   \n",
       "3997               B           Flight                  0.0                3   \n",
       "3998               C             Ship                  6.0                4   \n",
       "3999               D             Ship                  5.0                1   \n",
       "\n",
       "      Cost_of_the_Product  Prior_purchases Product_importance  \\\n",
       "0                     274              0.0               high   \n",
       "1                     136              2.0             medium   \n",
       "2                     140              3.0                low   \n",
       "3                     291              4.0                low   \n",
       "4                     147              3.0                low   \n",
       "...                   ...              ...                ...   \n",
       "3995                  204              4.0                  ?   \n",
       "3996                  195              2.0             medium   \n",
       "3997                  206              2.0             medium   \n",
       "3998                  255              4.0                low   \n",
       "3999                  252              5.0                  ?   \n",
       "\n",
       "      Discount_offered  \n",
       "0                  0.0  \n",
       "1                  0.0  \n",
       "2                  7.0  \n",
       "3                  0.0  \n",
       "4                  5.0  \n",
       "...                ...  \n",
       "3995               0.0  \n",
       "3996               0.0  \n",
       "3997               7.0  \n",
       "3998               7.0  \n",
       "3999               4.0  \n",
       "\n",
       "[4000 rows x 8 columns]>"
      ]
     },
     "execution_count": 593,
     "metadata": {},
     "output_type": "execute_result"
    }
   ],
   "source": [
    "test.info"
   ]
  },
  {
   "cell_type": "code",
   "execution_count": 594,
   "id": "a378001b",
   "metadata": {},
   "outputs": [
    {
     "name": "stdout",
     "output_type": "stream",
     "text": [
      "<class 'pandas.core.frame.DataFrame'>\n",
      "RangeIndex: 4000 entries, 0 to 3999\n",
      "Data columns (total 8 columns):\n",
      " #   Column               Non-Null Count  Dtype  \n",
      "---  ------               --------------  -----  \n",
      " 0   Warehouse_block      4000 non-null   object \n",
      " 1   Mode_of_Shipment     4000 non-null   object \n",
      " 2   Customer_care_calls  4000 non-null   float64\n",
      " 3   Customer_rating      4000 non-null   int64  \n",
      " 4   Cost_of_the_Product  4000 non-null   int64  \n",
      " 5   Prior_purchases      4000 non-null   float64\n",
      " 6   Product_importance   4000 non-null   object \n",
      " 7   Discount_offered     4000 non-null   float64\n",
      "dtypes: float64(3), int64(2), object(3)\n",
      "memory usage: 250.1+ KB\n"
     ]
    }
   ],
   "source": [
    "test.info()"
   ]
  },
  {
   "cell_type": "code",
   "execution_count": 595,
   "id": "8b54ca47",
   "metadata": {},
   "outputs": [],
   "source": [
    "pre = tree_model1.predict(X_test)"
   ]
  },
  {
   "cell_type": "code",
   "execution_count": 596,
   "id": "32afeae4",
   "metadata": {},
   "outputs": [
    {
     "data": {
      "text/plain": [
       "array([1, 1, 0, ..., 0, 0, 0], dtype=int64)"
      ]
     },
     "execution_count": 596,
     "metadata": {},
     "output_type": "execute_result"
    }
   ],
   "source": [
    "pre"
   ]
  },
  {
   "cell_type": "code",
   "execution_count": 597,
   "id": "ecb6aa60",
   "metadata": {},
   "outputs": [],
   "source": [
    "result = pd.read_csv('./sampleSubmission.csv')"
   ]
  },
  {
   "cell_type": "code",
   "execution_count": 598,
   "id": "1ca93969",
   "metadata": {},
   "outputs": [
    {
     "data": {
      "text/plain": [
       "4000"
      ]
     },
     "execution_count": 598,
     "metadata": {},
     "output_type": "execute_result"
    }
   ],
   "source": [
    "len(pre)\n"
   ]
  },
  {
   "cell_type": "code",
   "execution_count": 599,
   "id": "49682ab6",
   "metadata": {},
   "outputs": [],
   "source": [
    "result['Reached.on.Time_Y.N']=pre\n",
    "result.to_csv('예측답_2번.csv', index=False)"
   ]
  },
  {
   "cell_type": "code",
   "execution_count": null,
   "id": "0709b2a7",
   "metadata": {},
   "outputs": [],
   "source": []
  }
 ],
 "metadata": {
  "kernelspec": {
   "display_name": "Python 3 (ipykernel)",
   "language": "python",
   "name": "python3"
  },
  "language_info": {
   "codemirror_mode": {
    "name": "ipython",
    "version": 3
   },
   "file_extension": ".py",
   "mimetype": "text/x-python",
   "name": "python",
   "nbconvert_exporter": "python",
   "pygments_lexer": "ipython3",
   "version": "3.10.9"
  }
 },
 "nbformat": 4,
 "nbformat_minor": 5
}
