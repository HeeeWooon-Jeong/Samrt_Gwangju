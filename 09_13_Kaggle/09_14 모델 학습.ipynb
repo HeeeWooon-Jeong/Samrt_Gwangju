{
 "cells": [
  {
   "cell_type": "code",
   "execution_count": 514,
   "id": "1e7b20a7",
   "metadata": {
    "ExecuteTime": {
     "end_time": "2023-09-14T07:31:20.743406Z",
     "start_time": "2023-09-14T07:31:20.726479Z"
    }
   },
   "outputs": [],
   "source": [
    "#!pip install missingno\n",
    "import numpy as np \n",
    "import pandas as pd \n",
    "import matplotlib.pyplot as plt\n",
    "import matplotlib\n",
    "import seaborn as sns\n",
    "from sklearn.preprocessing import LabelEncoder\n",
    "from sklearn.ensemble import RandomForestClassifier\n",
    "from sklearn.model_selection import train_test_split\n",
    "from sklearn.metrics import confusion_matrix, accuracy_score\n",
    "from sklearn.neighbors import KNeighborsClassifier\n",
    "import missingno as msno\n",
    "from sklearn.tree import DecisionTreeClassifier"
   ]
  },
  {
   "cell_type": "code",
   "execution_count": 531,
   "id": "8b5fa3fe",
   "metadata": {
    "ExecuteTime": {
     "end_time": "2023-09-14T09:13:42.133739Z",
     "start_time": "2023-09-14T09:13:42.069913Z"
    }
   },
   "outputs": [],
   "source": [
    "train = pd.read_csv(\"train_09_14_0612.csv\")\n",
    "X_test = pd.read_csv(\"test_09_14_0612.csv\")\n"
   ]
  },
  {
   "cell_type": "code",
   "execution_count": 532,
   "id": "d4c7196f",
   "metadata": {
    "ExecuteTime": {
     "end_time": "2023-09-14T09:13:43.279487Z",
     "start_time": "2023-09-14T09:13:43.253557Z"
    }
   },
   "outputs": [
    {
     "name": "stdout",
     "output_type": "stream",
     "text": [
      "<class 'pandas.core.frame.DataFrame'>\n",
      "RangeIndex: 6999 entries, 0 to 6998\n",
      "Data columns (total 18 columns):\n",
      " #   Column                     Non-Null Count  Dtype  \n",
      "---  ------                     --------------  -----  \n",
      " 0   Customer_care_calls        6999 non-null   float64\n",
      " 1   Customer_rating            6999 non-null   int64  \n",
      " 2   Cost_of_the_Product        6999 non-null   int64  \n",
      " 3   Prior_purchases            6999 non-null   float64\n",
      " 4   Discount_offered           6999 non-null   int64  \n",
      " 5   Weight_in_gms              6999 non-null   int64  \n",
      " 6   Reached.on.Time_Y.N        6999 non-null   int64  \n",
      " 7   Warehouse_block_A          6999 non-null   int64  \n",
      " 8   Warehouse_block_B          6999 non-null   int64  \n",
      " 9   Warehouse_block_C          6999 non-null   int64  \n",
      " 10  Warehouse_block_D          6999 non-null   int64  \n",
      " 11  Warehouse_block_F          6999 non-null   int64  \n",
      " 12  Mode_of_Shipment_Flight    6999 non-null   int64  \n",
      " 13  Mode_of_Shipment_Road      6999 non-null   int64  \n",
      " 14  Mode_of_Shipment_Ship      6999 non-null   int64  \n",
      " 15  Product_importance_high    6999 non-null   int64  \n",
      " 16  Product_importance_low     6999 non-null   int64  \n",
      " 17  Product_importance_medium  6999 non-null   int64  \n",
      "dtypes: float64(2), int64(16)\n",
      "memory usage: 984.4 KB\n"
     ]
    }
   ],
   "source": [
    "train.info()"
   ]
  },
  {
   "cell_type": "code",
   "execution_count": 534,
   "id": "a47bcf9e",
   "metadata": {
    "ExecuteTime": {
     "end_time": "2023-09-14T09:13:53.493102Z",
     "start_time": "2023-09-14T09:13:53.478142Z"
    }
   },
   "outputs": [
    {
     "name": "stdout",
     "output_type": "stream",
     "text": [
      "<class 'pandas.core.frame.DataFrame'>\n",
      "RangeIndex: 4000 entries, 0 to 3999\n",
      "Data columns (total 17 columns):\n",
      " #   Column                     Non-Null Count  Dtype  \n",
      "---  ------                     --------------  -----  \n",
      " 0   Customer_care_calls        4000 non-null   float64\n",
      " 1   Customer_rating            4000 non-null   int64  \n",
      " 2   Cost_of_the_Product        4000 non-null   int64  \n",
      " 3   Prior_purchases            4000 non-null   float64\n",
      " 4   Discount_offered           4000 non-null   int64  \n",
      " 5   Weight_in_gms              4000 non-null   int64  \n",
      " 6   Warehouse_block_A          4000 non-null   int64  \n",
      " 7   Warehouse_block_B          4000 non-null   int64  \n",
      " 8   Warehouse_block_C          4000 non-null   int64  \n",
      " 9   Warehouse_block_D          4000 non-null   int64  \n",
      " 10  Warehouse_block_F          4000 non-null   int64  \n",
      " 11  Mode_of_Shipment_Flight    4000 non-null   int64  \n",
      " 12  Mode_of_Shipment_Road      4000 non-null   int64  \n",
      " 13  Mode_of_Shipment_Ship      4000 non-null   int64  \n",
      " 14  Product_importance_high    4000 non-null   int64  \n",
      " 15  Product_importance_low     4000 non-null   int64  \n",
      " 16  Product_importance_medium  4000 non-null   int64  \n",
      "dtypes: float64(2), int64(15)\n",
      "memory usage: 531.4 KB\n"
     ]
    }
   ],
   "source": [
    "X_test.info()"
   ]
  },
  {
   "cell_type": "code",
   "execution_count": 533,
   "id": "174f836a",
   "metadata": {
    "ExecuteTime": {
     "end_time": "2023-09-14T09:13:49.818512Z",
     "start_time": "2023-09-14T09:13:49.805547Z"
    }
   },
   "outputs": [],
   "source": [
    "y_train= train['Reached.on.Time_Y.N']\n",
    "X_train = train.drop('Reached.on.Time_Y.N', axis=1)\n",
    " "
   ]
  },
  {
   "cell_type": "code",
   "execution_count": 519,
   "id": "93885b0e",
   "metadata": {
    "ExecuteTime": {
     "end_time": "2023-09-14T07:31:21.292206Z",
     "start_time": "2023-09-14T07:31:21.278245Z"
    }
   },
   "outputs": [
    {
     "name": "stdout",
     "output_type": "stream",
     "text": [
      "<class 'pandas.core.series.Series'>\n",
      "RangeIndex: 6458 entries, 0 to 6457\n",
      "Series name: Reached.on.Time_Y.N\n",
      "Non-Null Count  Dtype\n",
      "--------------  -----\n",
      "6458 non-null   int64\n",
      "dtypes: int64(1)\n",
      "memory usage: 50.6 KB\n",
      "<class 'pandas.core.series.Series'>\n",
      "RangeIndex: 4000 entries, 0 to 3999\n",
      "Series name: Reached.on.Time_Y.N\n",
      "Non-Null Count  Dtype\n",
      "--------------  -----\n",
      "4000 non-null   int64\n",
      "dtypes: int64(1)\n",
      "memory usage: 31.4 KB\n"
     ]
    }
   ],
   "source": [
    "y_train.info()\n",
    "y_test.info()\n",
    "\n"
   ]
  },
  {
   "cell_type": "code",
   "execution_count": 521,
   "id": "6f8f0d92",
   "metadata": {
    "ExecuteTime": {
     "end_time": "2023-09-14T07:31:27.677435Z",
     "start_time": "2023-09-14T07:31:27.662476Z"
    }
   },
   "outputs": [
    {
     "name": "stdout",
     "output_type": "stream",
     "text": [
      "<class 'pandas.core.frame.DataFrame'>\n",
      "RangeIndex: 6458 entries, 0 to 6457\n",
      "Data columns (total 16 columns):\n",
      " #   Column                     Non-Null Count  Dtype\n",
      "---  ------                     --------------  -----\n",
      " 0   Customer_care_calls        6458 non-null   int64\n",
      " 1   Customer_rating            6458 non-null   int64\n",
      " 2   Cost_of_the_Product        6458 non-null   int64\n",
      " 3   Prior_purchases            6458 non-null   int64\n",
      " 4   Discount_offered           6458 non-null   int64\n",
      " 5   Warehouse_block_A          6458 non-null   int64\n",
      " 6   Warehouse_block_B          6458 non-null   int64\n",
      " 7   Warehouse_block_C          6458 non-null   int64\n",
      " 8   Warehouse_block_D          6458 non-null   int64\n",
      " 9   Warehouse_block_F          6458 non-null   int64\n",
      " 10  Mode_of_Shipment_Flight    6458 non-null   int64\n",
      " 11  Mode_of_Shipment_Road      6458 non-null   int64\n",
      " 12  Mode_of_Shipment_Ship      6458 non-null   int64\n",
      " 13  Product_importance_high    6458 non-null   int64\n",
      " 14  Product_importance_low     6458 non-null   int64\n",
      " 15  Product_importance_medium  6458 non-null   int64\n",
      "dtypes: int64(16)\n",
      "memory usage: 807.4 KB\n",
      "<class 'pandas.core.frame.DataFrame'>\n",
      "RangeIndex: 4000 entries, 0 to 3999\n",
      "Data columns (total 16 columns):\n",
      " #   Column                     Non-Null Count  Dtype\n",
      "---  ------                     --------------  -----\n",
      " 0   Customer_care_calls        4000 non-null   int64\n",
      " 1   Customer_rating            4000 non-null   int64\n",
      " 2   Cost_of_the_Product        4000 non-null   int64\n",
      " 3   Prior_purchases            4000 non-null   int64\n",
      " 4   Discount_offered           4000 non-null   int64\n",
      " 5   Warehouse_block_A          4000 non-null   int64\n",
      " 6   Warehouse_block_B          4000 non-null   int64\n",
      " 7   Warehouse_block_C          4000 non-null   int64\n",
      " 8   Warehouse_block_D          4000 non-null   int64\n",
      " 9   Warehouse_block_F          4000 non-null   int64\n",
      " 10  Mode_of_Shipment_Flight    4000 non-null   int64\n",
      " 11  Mode_of_Shipment_Road      4000 non-null   int64\n",
      " 12  Mode_of_Shipment_Ship      4000 non-null   int64\n",
      " 13  Product_importance_high    4000 non-null   int64\n",
      " 14  Product_importance_low     4000 non-null   int64\n",
      " 15  Product_importance_medium  4000 non-null   int64\n",
      "dtypes: int64(16)\n",
      "memory usage: 500.1 KB\n"
     ]
    }
   ],
   "source": [
    "X_train.info()\n",
    "X_test.info()"
   ]
  },
  {
   "cell_type": "code",
   "execution_count": 512,
   "id": "a0b655a4",
   "metadata": {
    "ExecuteTime": {
     "end_time": "2023-09-14T07:31:14.271368Z",
     "start_time": "2023-09-14T07:31:14.253441Z"
    }
   },
   "outputs": [],
   "source": [
    "# 웨어하우스 컬럼 제거\n",
    "X_train = X_train.drop('Warehouse_block_A', axis=1)\n",
    "X_train = X_train.drop('Warehouse_block_B', axis=1)\n",
    "X_train = X_train.drop('Warehouse_block_C', axis=1)\n",
    "X_train = X_train.drop('Warehouse_block_D', axis=1)\n",
    "X_train = X_train.drop('Warehouse_block_F', axis=1)\n",
    "\n",
    "X_test = X_test.drop('Warehouse_block_A', axis=1)\n",
    "X_test = X_test.drop('Warehouse_block_B', axis=1)\n",
    "X_test = X_test.drop('Warehouse_block_C', axis=1) \n",
    "X_test = X_test.drop('Warehouse_block_D', axis=1) \n",
    "X_test = X_test.drop('Warehouse_block_F', axis=1) "
   ]
  },
  {
   "cell_type": "code",
   "execution_count": 513,
   "id": "56adb0a5",
   "metadata": {
    "ExecuteTime": {
     "end_time": "2023-09-14T07:31:14.788910Z",
     "start_time": "2023-09-14T07:31:14.780917Z"
    }
   },
   "outputs": [],
   "source": [
    "# Customer_care_calls  \n",
    "X_train = X_train.drop('Customer_care_calls', axis=1)\n",
    "X_test = X_test.drop('Customer_care_calls', axis=1)"
   ]
  },
  {
   "cell_type": "code",
   "execution_count": 551,
   "id": "c492ce07",
   "metadata": {
    "ExecuteTime": {
     "end_time": "2023-09-14T09:24:12.714854Z",
     "start_time": "2023-09-14T09:24:12.700917Z"
    }
   },
   "outputs": [],
   "source": [
    "# Customer_rating  컬럼 제거\n",
    "X_train = X_train.drop('Customer_rating', axis=1)\n",
    "X_test = X_test.drop('Customer_rating', axis=1)\n"
   ]
  },
  {
   "cell_type": "code",
   "execution_count": 428,
   "id": "5df0fefc",
   "metadata": {
    "ExecuteTime": {
     "end_time": "2023-09-14T05:39:00.981673Z",
     "start_time": "2023-09-14T05:39:00.968709Z"
    }
   },
   "outputs": [],
   "source": [
    "# Prior_purchases\n",
    "X_train = X_train.drop('Prior_purchases', axis=1)\n",
    "X_test = X_test.drop('Prior_purchases', axis=1)"
   ]
  },
  {
   "cell_type": "code",
   "execution_count": 553,
   "id": "1293b659",
   "metadata": {
    "ExecuteTime": {
     "end_time": "2023-09-14T09:24:33.035245Z",
     "start_time": "2023-09-14T09:24:33.011312Z"
    }
   },
   "outputs": [],
   "source": [
    "# Mode_of_Shipment_Flight\n",
    "X_train = X_train.drop('Mode_of_Shipment_Flight', axis=1)\n",
    "X_test = X_test.drop('Mode_of_Shipment_Flight', axis=1)\n",
    "X_train = X_train.drop('Mode_of_Shipment_Road', axis=1)\n",
    "X_test = X_test.drop('Mode_of_Shipment_Road', axis=1)\n",
    "X_train = X_train.drop('Mode_of_Shipment_Ship', axis=1)\n",
    "X_test = X_test.drop('Mode_of_Shipment_Ship', axis=1)"
   ]
  },
  {
   "cell_type": "code",
   "execution_count": 555,
   "id": "ac5b2534",
   "metadata": {
    "ExecuteTime": {
     "end_time": "2023-09-14T09:24:47.432701Z",
     "start_time": "2023-09-14T09:24:47.412754Z"
    }
   },
   "outputs": [],
   "source": [
    "# Product_importance_high\n",
    "X_train = X_train.drop('Product_importance_high', axis=1)\n",
    "X_test = X_test.drop('Product_importance_high', axis=1)\n",
    "X_train = X_train.drop('Product_importance_medium', axis=1)\n",
    "X_test = X_test.drop('Product_importance_medium', axis=1)\n",
    "X_train = X_train.drop('Product_importance_low', axis=1)\n",
    "X_test = X_test.drop('Product_importance_low', axis=1)"
   ]
  },
  {
   "cell_type": "code",
   "execution_count": 431,
   "id": "5ba6a259",
   "metadata": {
    "ExecuteTime": {
     "end_time": "2023-09-14T05:39:01.854009Z",
     "start_time": "2023-09-14T05:39:01.792162Z"
    }
   },
   "outputs": [
    {
     "data": {
      "text/html": [
       "<div>\n",
       "<style scoped>\n",
       "    .dataframe tbody tr th:only-of-type {\n",
       "        vertical-align: middle;\n",
       "    }\n",
       "\n",
       "    .dataframe tbody tr th {\n",
       "        vertical-align: top;\n",
       "    }\n",
       "\n",
       "    .dataframe thead th {\n",
       "        text-align: right;\n",
       "    }\n",
       "</style>\n",
       "<table border=\"1\" class=\"dataframe\">\n",
       "  <thead>\n",
       "    <tr style=\"text-align: right;\">\n",
       "      <th></th>\n",
       "      <th>Customer_care_calls</th>\n",
       "      <th>Customer_rating</th>\n",
       "      <th>Cost_of_the_Product</th>\n",
       "      <th>Prior_purchases</th>\n",
       "      <th>Discount_offered</th>\n",
       "      <th>Weight_in_gms</th>\n",
       "      <th>Warehouse_block _A</th>\n",
       "      <th>Warehouse_block _B</th>\n",
       "      <th>Warehouse_block _C</th>\n",
       "      <th>Warehouse_block _D</th>\n",
       "      <th>Warehouse_block _F</th>\n",
       "      <th>Mode_of_Shipment_Flight</th>\n",
       "      <th>Mode_of_Shipment_Road</th>\n",
       "      <th>Mode_of_Shipment_Ship</th>\n",
       "      <th>Product_importance_high</th>\n",
       "      <th>Product_importance_low</th>\n",
       "      <th>Product_importance_medium</th>\n",
       "    </tr>\n",
       "  </thead>\n",
       "  <tbody>\n",
       "    <tr>\n",
       "      <th>count</th>\n",
       "      <td>4000.000000</td>\n",
       "      <td>4000.00000</td>\n",
       "      <td>4000.000000</td>\n",
       "      <td>4000.000000</td>\n",
       "      <td>4000.000000</td>\n",
       "      <td>4000.000000</td>\n",
       "      <td>4000.000000</td>\n",
       "      <td>4000.000000</td>\n",
       "      <td>4000.000000</td>\n",
       "      <td>4000.000000</td>\n",
       "      <td>4000.000000</td>\n",
       "      <td>4000.000000</td>\n",
       "      <td>4000.000000</td>\n",
       "      <td>4000.000000</td>\n",
       "      <td>4000.000000</td>\n",
       "      <td>4000.000000</td>\n",
       "      <td>4000.000000</td>\n",
       "    </tr>\n",
       "    <tr>\n",
       "      <th>mean</th>\n",
       "      <td>4.203750</td>\n",
       "      <td>2.98125</td>\n",
       "      <td>210.420250</td>\n",
       "      <td>3.584000</td>\n",
       "      <td>11.710750</td>\n",
       "      <td>3693.539500</td>\n",
       "      <td>0.164750</td>\n",
       "      <td>0.167750</td>\n",
       "      <td>0.162250</td>\n",
       "      <td>0.166500</td>\n",
       "      <td>0.338750</td>\n",
       "      <td>0.149750</td>\n",
       "      <td>0.154500</td>\n",
       "      <td>0.695750</td>\n",
       "      <td>0.090250</td>\n",
       "      <td>0.488250</td>\n",
       "      <td>0.421500</td>\n",
       "    </tr>\n",
       "    <tr>\n",
       "      <th>std</th>\n",
       "      <td>1.086753</td>\n",
       "      <td>1.41912</td>\n",
       "      <td>47.755542</td>\n",
       "      <td>1.458244</td>\n",
       "      <td>11.548222</td>\n",
       "      <td>1593.892297</td>\n",
       "      <td>0.371001</td>\n",
       "      <td>0.373691</td>\n",
       "      <td>0.368726</td>\n",
       "      <td>0.372575</td>\n",
       "      <td>0.473344</td>\n",
       "      <td>0.356871</td>\n",
       "      <td>0.361473</td>\n",
       "      <td>0.460147</td>\n",
       "      <td>0.286575</td>\n",
       "      <td>0.499924</td>\n",
       "      <td>0.493861</td>\n",
       "    </tr>\n",
       "    <tr>\n",
       "      <th>min</th>\n",
       "      <td>2.000000</td>\n",
       "      <td>1.00000</td>\n",
       "      <td>96.000000</td>\n",
       "      <td>2.000000</td>\n",
       "      <td>1.000000</td>\n",
       "      <td>1001.000000</td>\n",
       "      <td>0.000000</td>\n",
       "      <td>0.000000</td>\n",
       "      <td>0.000000</td>\n",
       "      <td>0.000000</td>\n",
       "      <td>0.000000</td>\n",
       "      <td>0.000000</td>\n",
       "      <td>0.000000</td>\n",
       "      <td>0.000000</td>\n",
       "      <td>0.000000</td>\n",
       "      <td>0.000000</td>\n",
       "      <td>0.000000</td>\n",
       "    </tr>\n",
       "    <tr>\n",
       "      <th>25%</th>\n",
       "      <td>3.000000</td>\n",
       "      <td>2.00000</td>\n",
       "      <td>170.000000</td>\n",
       "      <td>3.000000</td>\n",
       "      <td>7.000000</td>\n",
       "      <td>1913.000000</td>\n",
       "      <td>0.000000</td>\n",
       "      <td>0.000000</td>\n",
       "      <td>0.000000</td>\n",
       "      <td>0.000000</td>\n",
       "      <td>0.000000</td>\n",
       "      <td>0.000000</td>\n",
       "      <td>0.000000</td>\n",
       "      <td>0.000000</td>\n",
       "      <td>0.000000</td>\n",
       "      <td>0.000000</td>\n",
       "      <td>0.000000</td>\n",
       "    </tr>\n",
       "    <tr>\n",
       "      <th>50%</th>\n",
       "      <td>4.000000</td>\n",
       "      <td>3.00000</td>\n",
       "      <td>214.000000</td>\n",
       "      <td>3.000000</td>\n",
       "      <td>10.000000</td>\n",
       "      <td>4189.000000</td>\n",
       "      <td>0.000000</td>\n",
       "      <td>0.000000</td>\n",
       "      <td>0.000000</td>\n",
       "      <td>0.000000</td>\n",
       "      <td>0.000000</td>\n",
       "      <td>0.000000</td>\n",
       "      <td>0.000000</td>\n",
       "      <td>1.000000</td>\n",
       "      <td>0.000000</td>\n",
       "      <td>0.000000</td>\n",
       "      <td>0.000000</td>\n",
       "    </tr>\n",
       "    <tr>\n",
       "      <th>75%</th>\n",
       "      <td>5.000000</td>\n",
       "      <td>4.00000</td>\n",
       "      <td>251.000000</td>\n",
       "      <td>4.000000</td>\n",
       "      <td>10.000000</td>\n",
       "      <td>5001.250000</td>\n",
       "      <td>0.000000</td>\n",
       "      <td>0.000000</td>\n",
       "      <td>0.000000</td>\n",
       "      <td>0.000000</td>\n",
       "      <td>1.000000</td>\n",
       "      <td>0.000000</td>\n",
       "      <td>0.000000</td>\n",
       "      <td>1.000000</td>\n",
       "      <td>0.000000</td>\n",
       "      <td>1.000000</td>\n",
       "      <td>1.000000</td>\n",
       "    </tr>\n",
       "    <tr>\n",
       "      <th>max</th>\n",
       "      <td>7.000000</td>\n",
       "      <td>5.00000</td>\n",
       "      <td>310.000000</td>\n",
       "      <td>10.000000</td>\n",
       "      <td>65.000000</td>\n",
       "      <td>7401.000000</td>\n",
       "      <td>1.000000</td>\n",
       "      <td>1.000000</td>\n",
       "      <td>1.000000</td>\n",
       "      <td>1.000000</td>\n",
       "      <td>1.000000</td>\n",
       "      <td>1.000000</td>\n",
       "      <td>1.000000</td>\n",
       "      <td>1.000000</td>\n",
       "      <td>1.000000</td>\n",
       "      <td>1.000000</td>\n",
       "      <td>1.000000</td>\n",
       "    </tr>\n",
       "  </tbody>\n",
       "</table>\n",
       "</div>"
      ],
      "text/plain": [
       "       Customer_care_calls  Customer_rating  Cost_of_the_Product  \\\n",
       "count          4000.000000       4000.00000          4000.000000   \n",
       "mean              4.203750          2.98125           210.420250   \n",
       "std               1.086753          1.41912            47.755542   \n",
       "min               2.000000          1.00000            96.000000   \n",
       "25%               3.000000          2.00000           170.000000   \n",
       "50%               4.000000          3.00000           214.000000   \n",
       "75%               5.000000          4.00000           251.000000   \n",
       "max               7.000000          5.00000           310.000000   \n",
       "\n",
       "       Prior_purchases  Discount_offered  Weight_in_gms  Warehouse_block _A  \\\n",
       "count      4000.000000       4000.000000    4000.000000         4000.000000   \n",
       "mean          3.584000         11.710750    3693.539500            0.164750   \n",
       "std           1.458244         11.548222    1593.892297            0.371001   \n",
       "min           2.000000          1.000000    1001.000000            0.000000   \n",
       "25%           3.000000          7.000000    1913.000000            0.000000   \n",
       "50%           3.000000         10.000000    4189.000000            0.000000   \n",
       "75%           4.000000         10.000000    5001.250000            0.000000   \n",
       "max          10.000000         65.000000    7401.000000            1.000000   \n",
       "\n",
       "       Warehouse_block _B  Warehouse_block _C  Warehouse_block _D  \\\n",
       "count         4000.000000         4000.000000         4000.000000   \n",
       "mean             0.167750            0.162250            0.166500   \n",
       "std              0.373691            0.368726            0.372575   \n",
       "min              0.000000            0.000000            0.000000   \n",
       "25%              0.000000            0.000000            0.000000   \n",
       "50%              0.000000            0.000000            0.000000   \n",
       "75%              0.000000            0.000000            0.000000   \n",
       "max              1.000000            1.000000            1.000000   \n",
       "\n",
       "       Warehouse_block _F  Mode_of_Shipment_Flight  Mode_of_Shipment_Road  \\\n",
       "count         4000.000000              4000.000000            4000.000000   \n",
       "mean             0.338750                 0.149750               0.154500   \n",
       "std              0.473344                 0.356871               0.361473   \n",
       "min              0.000000                 0.000000               0.000000   \n",
       "25%              0.000000                 0.000000               0.000000   \n",
       "50%              0.000000                 0.000000               0.000000   \n",
       "75%              1.000000                 0.000000               0.000000   \n",
       "max              1.000000                 1.000000               1.000000   \n",
       "\n",
       "       Mode_of_Shipment_Ship  Product_importance_high  Product_importance_low  \\\n",
       "count            4000.000000              4000.000000             4000.000000   \n",
       "mean                0.695750                 0.090250                0.488250   \n",
       "std                 0.460147                 0.286575                0.499924   \n",
       "min                 0.000000                 0.000000                0.000000   \n",
       "25%                 0.000000                 0.000000                0.000000   \n",
       "50%                 1.000000                 0.000000                0.000000   \n",
       "75%                 1.000000                 0.000000                1.000000   \n",
       "max                 1.000000                 1.000000                1.000000   \n",
       "\n",
       "       Product_importance_medium  \n",
       "count                4000.000000  \n",
       "mean                    0.421500  \n",
       "std                     0.493861  \n",
       "min                     0.000000  \n",
       "25%                     0.000000  \n",
       "50%                     0.000000  \n",
       "75%                     1.000000  \n",
       "max                     1.000000  "
      ]
     },
     "execution_count": 431,
     "metadata": {},
     "output_type": "execute_result"
    }
   ],
   "source": [
    "train.describe()\n",
    "test.describe()"
   ]
  },
  {
   "cell_type": "code",
   "execution_count": null,
   "id": "6ecc3f97",
   "metadata": {},
   "outputs": [],
   "source": []
  },
  {
   "cell_type": "markdown",
   "id": "06db6fb7",
   "metadata": {},
   "source": [
    "# XGB"
   ]
  },
  {
   "cell_type": "code",
   "execution_count": 433,
   "id": "642b527c",
   "metadata": {
    "ExecuteTime": {
     "end_time": "2023-09-14T05:39:02.716755Z",
     "start_time": "2023-09-14T05:39:02.702761Z"
    }
   },
   "outputs": [],
   "source": [
    "# !pip install xgboost"
   ]
  },
  {
   "cell_type": "code",
   "execution_count": 535,
   "id": "1aaa306f",
   "metadata": {
    "ExecuteTime": {
     "end_time": "2023-09-14T09:14:11.121924Z",
     "start_time": "2023-09-14T09:14:07.143211Z"
    },
    "scrolled": true
   },
   "outputs": [
    {
     "name": "stdout",
     "output_type": "stream",
     "text": [
      "Fitting 5 folds for each of 1 candidates, totalling 5 fits\n",
      "{'max_depth': 1, 'n_estimators': 16}\n",
      "0.8255493720004085\n"
     ]
    }
   ],
   "source": [
    "# XGBoost 라이브러리 불러오기\n",
    "from xgboost import XGBClassifier\n",
    "\n",
    "# 모델 선언 및 하이퍼파라미터 설정\n",
    "xgb_model = XGBClassifier()  # 하이퍼파라미터 설정 없이 기본값으로 모델을 생성합니다.\n",
    "\n",
    "# 학습\n",
    "xgb_model.fit(X_train, y_train)\n",
    "\n",
    "\n",
    "param = {\n",
    "    'max_depth': [1],\n",
    "    'n_estimators':[16]\n",
    "}\n",
    "\n",
    "xgb_model = XGBClassifier(random_state=10)\n",
    "\n",
    "from sklearn.model_selection import GridSearchCV\n",
    "grid = GridSearchCV(xgb_model, param, cv=5, scoring='accuracy', n_jobs=-1, verbose=3)\n",
    "grid.fit(X_train, y_train)\n",
    "print(grid.best_params_)\n",
    "print(grid.best_score_)\n"
   ]
  },
  {
   "cell_type": "markdown",
   "id": "4fc199fe",
   "metadata": {},
   "source": [
    "# AdaBoost"
   ]
  },
  {
   "cell_type": "code",
   "execution_count": 536,
   "id": "a2b3cbec",
   "metadata": {
    "ExecuteTime": {
     "end_time": "2023-09-14T09:14:32.070520Z",
     "start_time": "2023-09-14T09:14:29.573864Z"
    }
   },
   "outputs": [
    {
     "name": "stdout",
     "output_type": "stream",
     "text": [
      "Fitting 5 folds for each of 1 candidates, totalling 5 fits\n",
      "{}\n",
      "0.8852698866537322\n"
     ]
    }
   ],
   "source": [
    "# 모델 불러오기\n",
    "from sklearn.ensemble import AdaBoostClassifier\n",
    "\n",
    "# 모델 생성, 하이퍼 파라미터 설정\n",
    "ada_model = AdaBoostClassifier() \n",
    "\n",
    "# 학습\n",
    "ada_model.fit(X_train, y_train)\n",
    "\n",
    "# 교차검증으로 평가\n",
    "from sklearn.model_selection import cross_val_score\n",
    "#sco = cross_val_score(forest_model, X_train, y_train, cv=5)\n",
    "cross_val_score(ada_model, X_train, y_train, cv=5).mean()\n",
    "\n",
    "\n",
    "param = {\n",
    "}\n",
    "\n",
    "gbm_model2 = GradientBoostingClassifier(random_state=1)\n",
    "\n",
    "from sklearn.model_selection import GridSearchCV\n",
    "grid = GridSearchCV(ada_model, param, cv=5, scoring='accuracy', n_jobs=-1, verbose=2)\n",
    "grid.fit(X_train, y_train)\n",
    "print(grid.best_params_)\n",
    "print(grid.best_score_)\n"
   ]
  },
  {
   "cell_type": "code",
   "execution_count": null,
   "id": "00f2a08e",
   "metadata": {},
   "outputs": [],
   "source": []
  },
  {
   "cell_type": "code",
   "execution_count": null,
   "id": "216ad491",
   "metadata": {},
   "outputs": [],
   "source": []
  },
  {
   "cell_type": "markdown",
   "id": "2b2b7fc2",
   "metadata": {},
   "source": [
    "# GBM"
   ]
  },
  {
   "cell_type": "code",
   "execution_count": 545,
   "id": "9142857b",
   "metadata": {
    "ExecuteTime": {
     "end_time": "2023-09-14T09:17:27.896762Z",
     "start_time": "2023-09-14T09:17:17.261353Z"
    }
   },
   "outputs": [
    {
     "name": "stdout",
     "output_type": "stream",
     "text": [
      "Fitting 5 folds for each of 27 candidates, totalling 135 fits\n"
     ]
    },
    {
     "data": {
      "text/plain": [
       "0.8876968345904118"
      ]
     },
     "execution_count": 545,
     "metadata": {},
     "output_type": "execute_result"
    }
   ],
   "source": [
    "# 모델 라이브러리 불러오기\n",
    "from sklearn.ensemble import GradientBoostingClassifier\n",
    "\n",
    "# 모델 생성, 하이퍼파라미터 설정\n",
    "gbm_model = GradientBoostingClassifier()\n",
    "\n",
    "# 학습\n",
    "gbm_model.fit(X_train, y_train)\n",
    "\n",
    "param = {\n",
    "    'max_depth': [4,6,8],\n",
    "    'min_samples_split': [9,10,11],\n",
    "    'n_estimators':[21,23,24],\n",
    "}\n",
    "\n",
    "gbm_model = GradientBoostingClassifier(random_state=10)\n",
    "\n",
    "from sklearn.model_selection import GridSearchCV\n",
    "grid = GridSearchCV(gbm_model, param, cv=5, scoring='accuracy', n_jobs=-1, verbose=3)\n",
    "grid.fit(X_train, y_train)\n",
    "\n",
    "from sklearn.model_selection import cross_val_score\n",
    "#sco = cross_val_score(forest_model, X_train, y_train, cv=5)\n",
    "cross_val_score(gbm_model, X_train, y_train, cv=12).mean()\n",
    "\n"
   ]
  },
  {
   "cell_type": "code",
   "execution_count": null,
   "id": "9ad57f96",
   "metadata": {
    "ExecuteTime": {
     "end_time": "2023-09-14T09:15:41.333278Z",
     "start_time": "2023-09-14T09:15:41.333278Z"
    }
   },
   "outputs": [],
   "source": [
    "pre = grid.predict(X_test)"
   ]
  },
  {
   "cell_type": "code",
   "execution_count": 544,
   "id": "f70e336d",
   "metadata": {
    "ExecuteTime": {
     "end_time": "2023-09-14T09:15:44.604339Z",
     "start_time": "2023-09-14T09:15:44.581401Z"
    }
   },
   "outputs": [],
   "source": [
    "sub = pd.read_csv('./sampleSubmission.csv')\n",
    "sub['Reached.on.Time_Y.N']=pre\n",
    "sub.to_csv('09_14_gbm_6.csv', index=False)"
   ]
  },
  {
   "cell_type": "markdown",
   "id": "be9a3556",
   "metadata": {},
   "source": [
    "# LGBM"
   ]
  },
  {
   "cell_type": "code",
   "execution_count": 539,
   "id": "ff386dca",
   "metadata": {
    "ExecuteTime": {
     "end_time": "2023-09-14T09:14:49.282454Z",
     "start_time": "2023-09-14T09:14:47.030789Z"
    }
   },
   "outputs": [
    {
     "name": "stdout",
     "output_type": "stream",
     "text": [
      "[LightGBM] [Info] Number of positive: 4162, number of negative: 2837\n",
      "[LightGBM] [Info] Auto-choosing col-wise multi-threading, the overhead of testing was 0.000285 seconds.\n",
      "You can set `force_col_wise=true` to remove the overhead.\n",
      "[LightGBM] [Info] Total Bins 581\n",
      "[LightGBM] [Info] Number of data points in the train set: 6999, number of used features: 17\n",
      "[LightGBM] [Info] [binary:BoostFromScore]: pavg=0.594656 -> initscore=0.383249\n",
      "[LightGBM] [Info] Start training from score 0.383249\n",
      "Fitting 5 folds for each of 1 candidates, totalling 5 fits\n",
      "[LightGBM] [Warning] Unknown parameter: min_samples_split\n",
      "[LightGBM] [Warning] Unknown parameter: min_samples_split\n",
      "[LightGBM] [Info] Number of positive: 4162, number of negative: 2837\n",
      "[LightGBM] [Info] Auto-choosing col-wise multi-threading, the overhead of testing was 0.000276 seconds.\n",
      "You can set `force_col_wise=true` to remove the overhead.\n",
      "[LightGBM] [Info] Total Bins 581\n",
      "[LightGBM] [Info] Number of data points in the train set: 6999, number of used features: 17\n",
      "[LightGBM] [Info] [binary:BoostFromScore]: pavg=0.594656 -> initscore=0.383249\n",
      "[LightGBM] [Info] Start training from score 0.383249\n",
      "{'max_depth': 1, 'min_samples_split': 1, 'n_estimators': 17}\n",
      "0.8245493720004085\n",
      "[LightGBM] [Info] Number of positive: 3329, number of negative: 2270\n",
      "[LightGBM] [Info] Auto-choosing row-wise multi-threading, the overhead of testing was 0.000120 seconds.\n",
      "You can set `force_row_wise=true` to remove the overhead.\n",
      "And if memory is not enough, you can set `force_col_wise=true`.\n",
      "[LightGBM] [Info] Total Bins 578\n",
      "[LightGBM] [Info] Number of data points in the train set: 5599, number of used features: 17\n",
      "[LightGBM] [Info] [binary:BoostFromScore]: pavg=0.594570 -> initscore=0.382892\n",
      "[LightGBM] [Info] Start training from score 0.382892\n",
      "[LightGBM] [Info] Number of positive: 3329, number of negative: 2270\n",
      "[LightGBM] [Info] Auto-choosing row-wise multi-threading, the overhead of testing was 0.000068 seconds.\n",
      "You can set `force_row_wise=true` to remove the overhead.\n",
      "And if memory is not enough, you can set `force_col_wise=true`.\n",
      "[LightGBM] [Info] Total Bins 575\n",
      "[LightGBM] [Info] Number of data points in the train set: 5599, number of used features: 17\n",
      "[LightGBM] [Info] [binary:BoostFromScore]: pavg=0.594570 -> initscore=0.382892\n",
      "[LightGBM] [Info] Start training from score 0.382892\n",
      "[LightGBM] [Info] Number of positive: 3330, number of negative: 2269\n",
      "[LightGBM] [Info] Auto-choosing row-wise multi-threading, the overhead of testing was 0.000262 seconds.\n",
      "You can set `force_row_wise=true` to remove the overhead.\n",
      "And if memory is not enough, you can set `force_col_wise=true`.\n",
      "[LightGBM] [Info] Total Bins 579\n",
      "[LightGBM] [Info] Number of data points in the train set: 5599, number of used features: 17\n",
      "[LightGBM] [Info] [binary:BoostFromScore]: pavg=0.594749 -> initscore=0.383633\n",
      "[LightGBM] [Info] Start training from score 0.383633\n",
      "[LightGBM] [Info] Number of positive: 3330, number of negative: 2269\n",
      "[LightGBM] [Info] Auto-choosing col-wise multi-threading, the overhead of testing was 0.000175 seconds.\n",
      "You can set `force_col_wise=true` to remove the overhead.\n",
      "[LightGBM] [Info] Total Bins 579\n",
      "[LightGBM] [Info] Number of data points in the train set: 5599, number of used features: 17\n",
      "[LightGBM] [Info] [binary:BoostFromScore]: pavg=0.594749 -> initscore=0.383633\n",
      "[LightGBM] [Info] Start training from score 0.383633\n",
      "[LightGBM] [Info] Number of positive: 3330, number of negative: 2270\n",
      "[LightGBM] [Info] Auto-choosing col-wise multi-threading, the overhead of testing was 0.000118 seconds.\n",
      "You can set `force_col_wise=true` to remove the overhead.\n",
      "[LightGBM] [Info] Total Bins 578\n",
      "[LightGBM] [Info] Number of data points in the train set: 5600, number of used features: 17\n",
      "[LightGBM] [Info] [binary:BoostFromScore]: pavg=0.594643 -> initscore=0.383192\n",
      "[LightGBM] [Info] Start training from score 0.383192\n"
     ]
    },
    {
     "data": {
      "text/plain": [
       "0.8812699887674871"
      ]
     },
     "execution_count": 539,
     "metadata": {},
     "output_type": "execute_result"
    }
   ],
   "source": [
    "import lightgbm\n",
    "from lightgbm.sklearn import LGBMClassifier\n",
    "\n",
    "# 모델 생성, 하이퍼파라미터 설정 X\n",
    "lgbm_model = LGBMClassifier()\n",
    "\n",
    "# 학습\n",
    "lgbm_model.fit(X_train, y_train)\n",
    "\n",
    "param = {\n",
    "    'max_depth': [1],\n",
    "    'min_samples_split': [1],\n",
    "    'n_estimators':[17],\n",
    "}\n",
    "\n",
    "lgbm_model = LGBMClassifier(random_state=0)\n",
    "\n",
    "from sklearn.model_selection import GridSearchCV\n",
    "grid = GridSearchCV(lgbm_model, param, cv=5, scoring='accuracy', n_jobs=-1, verbose=3)\n",
    "grid.fit(X_train, y_train)\n",
    "print(grid.best_params_)\n",
    "print(grid.best_score_)\n",
    "\n",
    "\n",
    "\n",
    "# 교차검증으로 평가\n",
    "from sklearn.model_selection import cross_val_score\n",
    "#sco = cross_val_score(forest_model, X_train, y_train, cv=5)\n",
    "cross_val_score(lgbm_model, X_train, y_train, cv=5).mean()"
   ]
  },
  {
   "cell_type": "code",
   "execution_count": 565,
   "id": "768a949a",
   "metadata": {
    "ExecuteTime": {
     "end_time": "2023-09-14T09:27:57.475869Z",
     "start_time": "2023-09-14T09:27:55.732563Z"
    }
   },
   "outputs": [
    {
     "name": "stdout",
     "output_type": "stream",
     "text": [
      "Fitting 5 folds for each of 15 candidates, totalling 75 fits\n",
      "XGBoost 최적 하이퍼파라미터: {'learning_rate': 0.1, 'max_depth': 5, 'n_estimators': 33}\n",
      "XGBoost 최고 정확도: 0.8882703972225059\n",
      "Fitting 5 folds for each of 1 candidates, totalling 5 fits\n",
      "[LightGBM] [Info] Number of positive: 4162, number of negative: 2837\n",
      "[LightGBM] [Info] Auto-choosing col-wise multi-threading, the overhead of testing was 0.000195 seconds.\n",
      "You can set `force_col_wise=true` to remove the overhead.\n",
      "[LightGBM] [Info] Total Bins 563\n",
      "[LightGBM] [Info] Number of data points in the train set: 6999, number of used features: 10\n",
      "[LightGBM] [Info] [binary:BoostFromScore]: pavg=0.594656 -> initscore=0.383249\n",
      "[LightGBM] [Info] Start training from score 0.383249\n",
      "[LightGBM] [Warning] No further splits with positive gain, best gain: -inf\n",
      "[LightGBM] [Warning] No further splits with positive gain, best gain: -inf\n",
      "[LightGBM] [Warning] No further splits with positive gain, best gain: -inf\n",
      "[LightGBM] [Warning] No further splits with positive gain, best gain: -inf\n",
      "[LightGBM] [Warning] No further splits with positive gain, best gain: -inf\n",
      "[LightGBM] [Warning] No further splits with positive gain, best gain: -inf\n",
      "[LightGBM] [Warning] No further splits with positive gain, best gain: -inf\n",
      "[LightGBM] [Warning] No further splits with positive gain, best gain: -inf\n",
      "[LightGBM] [Warning] No further splits with positive gain, best gain: -inf\n",
      "[LightGBM] [Warning] No further splits with positive gain, best gain: -inf\n",
      "[LightGBM] [Warning] No further splits with positive gain, best gain: -inf\n",
      "[LightGBM] [Warning] No further splits with positive gain, best gain: -inf\n",
      "[LightGBM] [Warning] No further splits with positive gain, best gain: -inf\n",
      "[LightGBM] [Warning] No further splits with positive gain, best gain: -inf\n",
      "[LightGBM] [Warning] No further splits with positive gain, best gain: -inf\n",
      "[LightGBM] [Warning] No further splits with positive gain, best gain: -inf\n",
      "[LightGBM] [Warning] No further splits with positive gain, best gain: -inf\n",
      "[LightGBM] [Warning] No further splits with positive gain, best gain: -inf\n",
      "[LightGBM] [Warning] No further splits with positive gain, best gain: -inf\n",
      "[LightGBM] [Warning] No further splits with positive gain, best gain: -inf\n",
      "[LightGBM] [Warning] No further splits with positive gain, best gain: -inf\n",
      "[LightGBM] [Warning] No further splits with positive gain, best gain: -inf\n",
      "[LightGBM] [Warning] No further splits with positive gain, best gain: -inf\n",
      "[LightGBM] [Warning] No further splits with positive gain, best gain: -inf\n",
      "[LightGBM] [Warning] No further splits with positive gain, best gain: -inf\n",
      "[LightGBM] [Warning] No further splits with positive gain, best gain: -inf\n",
      "[LightGBM] [Warning] No further splits with positive gain, best gain: -inf\n",
      "[LightGBM] [Warning] No further splits with positive gain, best gain: -inf\n",
      "[LightGBM] [Warning] No further splits with positive gain, best gain: -inf\n",
      "[LightGBM] [Warning] No further splits with positive gain, best gain: -inf\n",
      "[LightGBM] [Warning] No further splits with positive gain, best gain: -inf\n",
      "[LightGBM] [Warning] No further splits with positive gain, best gain: -inf\n",
      "[LightGBM] [Warning] No further splits with positive gain, best gain: -inf\n",
      "[LightGBM] [Warning] No further splits with positive gain, best gain: -inf\n",
      "[LightGBM] [Warning] No further splits with positive gain, best gain: -inf\n",
      "[LightGBM] [Warning] No further splits with positive gain, best gain: -inf\n",
      "[LightGBM] [Warning] No further splits with positive gain, best gain: -inf\n",
      "[LightGBM] [Warning] No further splits with positive gain, best gain: -inf\n",
      "[LightGBM] [Warning] No further splits with positive gain, best gain: -inf\n",
      "[LightGBM] [Warning] No further splits with positive gain, best gain: -inf\n",
      "[LightGBM] [Warning] No further splits with positive gain, best gain: -inf\n",
      "[LightGBM] [Warning] No further splits with positive gain, best gain: -inf\n",
      "[LightGBM] [Warning] No further splits with positive gain, best gain: -inf\n",
      "[LightGBM] [Warning] No further splits with positive gain, best gain: -inf\n",
      "[LightGBM] [Warning] No further splits with positive gain, best gain: -inf\n",
      "LightGBM 최적 하이퍼파라미터: {'learning_rate': 0.1, 'max_depth': 3, 'n_estimators': 64}\n",
      "LightGBM 최고 정확도: 0.887699070764832\n",
      "XGBoost 테스트 정확도: 0.3735\n",
      "LightGBM 테스트 정확도: 0.39625\n"
     ]
    }
   ],
   "source": [
    "from xgboost import XGBClassifier\n",
    "from lightgbm import LGBMClassifier\n",
    "from sklearn.model_selection import GridSearchCV\n",
    "from sklearn.metrics import accuracy_score\n",
    "\n",
    "# XGBoost와 LightGBM의 모델과 하이퍼파라미터 범위 정의\n",
    "xgb_param = {\n",
    "    'max_depth': [ 5],\n",
    "    'n_estimators': [30,31,32,33,34],\n",
    "    'learning_rate': [0.1,0.3,0.4]\n",
    "}\n",
    "lgbm_param = {\n",
    "    'max_depth': [3],\n",
    "    'n_estimators': [ 64],\n",
    "    'learning_rate': [0.1]\n",
    "}\n",
    "\n",
    "# XGBoost 모델 정의\n",
    "xgb_model = XGBClassifier(random_state=10)\n",
    "\n",
    "# GridSearchCV를 사용하여 XGBoost 모델 튜닝\n",
    "xgb_grid = GridSearchCV(xgb_model, xgb_param, cv=5, scoring='accuracy', n_jobs=-1, verbose=3)\n",
    "xgb_grid.fit(X_train, y_train)\n",
    "\n",
    "# 최적의 하이퍼파라미터와 정확도 출력\n",
    "print(\"XGBoost 최적 하이퍼파라미터:\", xgb_grid.best_params_)\n",
    "print(\"XGBoost 최고 정확도:\", xgb_grid.best_score_)\n",
    "\n",
    "# LightGBM 모델 정의\n",
    "lgbm_model = LGBMClassifier(random_state=10)\n",
    "\n",
    "# GridSearchCV를 사용하여 LightGBM 모델 튜닝\n",
    "lgbm_grid = GridSearchCV(lgbm_model, lgbm_param, cv=5, scoring='accuracy', n_jobs=-1, verbose=3)\n",
    "lgbm_grid.fit(X_train, y_train)\n",
    "\n",
    "# 최적의 하이퍼파라미터와 정확도 출력\n",
    "print(\"LightGBM 최적 하이퍼파라미터:\", lgbm_grid.best_params_)\n",
    "print(\"LightGBM 최고 정확도:\", lgbm_grid.best_score_)\n",
    "\n",
    "# 최적의 모델과 하이퍼파라미터를 사용하여 테스트 데이터에 대한 정확도 평가\n",
    "xgb_best_model = xgb_grid.best_estimator_\n",
    "lgbm_best_model = lgbm_grid.best_estimator_\n",
    "\n",
    "pre = xgb_best_model.predict(X_test)\n",
    "pre1 = lgbm_best_model.predict(X_test)\n",
    "\n",
    "print(\"XGBoost 테스트 정확도:\", accuracy_score(y_test, xgb_pred))\n",
    "print(\"LightGBM 테스트 정확도:\", accuracy_score(y_test, lgbm_pred))\n"
   ]
  },
  {
   "cell_type": "code",
   "execution_count": 563,
   "id": "f1af72b5",
   "metadata": {
    "ExecuteTime": {
     "end_time": "2023-09-14T09:26:58.575526Z",
     "start_time": "2023-09-14T09:26:58.555615Z"
    }
   },
   "outputs": [],
   "source": []
  },
  {
   "cell_type": "code",
   "execution_count": 566,
   "id": "d4afa7e2",
   "metadata": {
    "ExecuteTime": {
     "end_time": "2023-09-14T09:28:00.701410Z",
     "start_time": "2023-09-14T09:28:00.683432Z"
    }
   },
   "outputs": [],
   "source": [
    "sub = pd.read_csv('./sampleSubmission.csv')\n",
    "sub['Reached.on.Time_Y.N']=pre\n",
    "sub.to_csv('09_14_gbm_6.csv', index=False)"
   ]
  },
  {
   "cell_type": "code",
   "execution_count": null,
   "id": "79e71337",
   "metadata": {},
   "outputs": [],
   "source": []
  }
 ],
 "metadata": {
  "kernelspec": {
   "display_name": "Python 3 (ipykernel)",
   "language": "python",
   "name": "python3"
  },
  "language_info": {
   "codemirror_mode": {
    "name": "ipython",
    "version": 3
   },
   "file_extension": ".py",
   "mimetype": "text/x-python",
   "name": "python",
   "nbconvert_exporter": "python",
   "pygments_lexer": "ipython3",
   "version": "3.9.13"
  },
  "toc": {
   "base_numbering": 1,
   "nav_menu": {},
   "number_sections": true,
   "sideBar": true,
   "skip_h1_title": false,
   "title_cell": "Table of Contents",
   "title_sidebar": "Contents",
   "toc_cell": false,
   "toc_position": {},
   "toc_section_display": true,
   "toc_window_display": false
  },
  "varInspector": {
   "cols": {
    "lenName": 16,
    "lenType": 16,
    "lenVar": 40
   },
   "kernels_config": {
    "python": {
     "delete_cmd_postfix": "",
     "delete_cmd_prefix": "del ",
     "library": "var_list.py",
     "varRefreshCmd": "print(var_dic_list())"
    },
    "r": {
     "delete_cmd_postfix": ") ",
     "delete_cmd_prefix": "rm(",
     "library": "var_list.r",
     "varRefreshCmd": "cat(var_dic_list()) "
    }
   },
   "types_to_exclude": [
    "module",
    "function",
    "builtin_function_or_method",
    "instance",
    "_Feature"
   ],
   "window_display": false
  }
 },
 "nbformat": 4,
 "nbformat_minor": 5
}
