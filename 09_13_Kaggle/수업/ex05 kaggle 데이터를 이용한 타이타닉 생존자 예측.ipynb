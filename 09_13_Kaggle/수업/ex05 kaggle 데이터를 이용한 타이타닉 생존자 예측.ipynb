{
 "cells": [
  {
   "cell_type": "markdown",
   "id": "1645d5ad",
   "metadata": {},
   "source": [
    "### 문제 정의 (목표 설정)\n",
    "- 타이타닉 데이터를 학습해서 생존자와 사망자를 예측해보자.\n",
    "- 머신러닝의 전체 과정을 진행해보면서 프로세스를 이해해보자"
   ]
  },
  {
   "cell_type": "code",
   "execution_count": 71,
   "id": "afee3215",
   "metadata": {
    "ExecuteTime": {
     "end_time": "2023-09-07T05:54:44.672597Z",
     "start_time": "2023-09-07T05:54:44.656639Z"
    }
   },
   "outputs": [],
   "source": [
    "# 필요한 라이브러리 import \n",
    "import numpy as np\n",
    "import pandas as pd\n",
    "from matplotlib import pyplot as plt\n",
    "import seaborn as sns"
   ]
  },
  {
   "cell_type": "markdown",
   "id": "6c73199b",
   "metadata": {},
   "source": [
    "### 데이터 수집(Kaggle 사이트에서 다운로드)"
   ]
  },
  {
   "cell_type": "code",
   "execution_count": 72,
   "id": "98eb9400",
   "metadata": {
    "ExecuteTime": {
     "end_time": "2023-09-07T05:54:44.688555Z",
     "start_time": "2023-09-07T05:54:44.674592Z"
    }
   },
   "outputs": [],
   "source": [
    "# 데이터 불러오기 - 기존 PassengerId 컬럼을 인덱스로 설정\n",
    "train = pd.read_csv('./data/train.csv', index_col='PassengerId')\n",
    "test = pd.read_csv('./data/test.csv', index_col='PassengerId')"
   ]
  },
  {
   "cell_type": "code",
   "execution_count": 73,
   "id": "149d22bb",
   "metadata": {
    "ExecuteTime": {
     "end_time": "2023-09-07T05:54:44.704512Z",
     "start_time": "2023-09-07T05:54:44.690550Z"
    }
   },
   "outputs": [
    {
     "name": "stdout",
     "output_type": "stream",
     "text": [
      "(891, 11)\n",
      "(418, 10)\n"
     ]
    }
   ],
   "source": [
    "# 데이터 확인\n",
    "print(train.shape)\n",
    "print(test.shape)"
   ]
  },
  {
   "cell_type": "code",
   "execution_count": 74,
   "id": "516a88a5",
   "metadata": {
    "ExecuteTime": {
     "end_time": "2023-09-07T05:54:44.720469Z",
     "start_time": "2023-09-07T05:54:44.706507Z"
    }
   },
   "outputs": [],
   "source": [
    "# test에 대한 정답은 kaggle이 가지고 있음\n",
    "# 우리는 test 데이터로 예측을 진행해서 Kaggle에 제출해야 한다."
   ]
  },
  {
   "cell_type": "markdown",
   "id": "0e4b06ae",
   "metadata": {},
   "source": [
    "**타이타닉 데이터의 구조**\n",
    "- 3개의 파일로 이루어져 있다.\n",
    "- train.csv : 학습용 / 훈련용 데이터\n",
    "- test.csv : 평가용 데이터\n",
    "- gender_submission.csv : 제출용 답안지 서식 파일"
   ]
  },
  {
   "cell_type": "code",
   "execution_count": 75,
   "id": "aef487c7",
   "metadata": {
    "ExecuteTime": {
     "end_time": "2023-09-07T05:54:44.736426Z",
     "start_time": "2023-09-07T05:54:44.722464Z"
    }
   },
   "outputs": [
    {
     "data": {
      "text/plain": [
       "Index(['Survived', 'Pclass', 'Name', 'Sex', 'Age', 'SibSp', 'Parch', 'Ticket',\n",
       "       'Fare', 'Cabin', 'Embarked'],\n",
       "      dtype='object')"
      ]
     },
     "execution_count": 75,
     "metadata": {},
     "output_type": "execute_result"
    }
   ],
   "source": [
    "# 데이터 컬럼 확인\n",
    "train.columns"
   ]
  },
  {
   "cell_type": "code",
   "execution_count": 76,
   "id": "8ce5901a",
   "metadata": {
    "ExecuteTime": {
     "end_time": "2023-09-07T05:54:44.752383Z",
     "start_time": "2023-09-07T05:54:44.738421Z"
    }
   },
   "outputs": [
    {
     "data": {
      "text/plain": [
       "Index(['Pclass', 'Name', 'Sex', 'Age', 'SibSp', 'Parch', 'Ticket', 'Fare',\n",
       "       'Cabin', 'Embarked'],\n",
       "      dtype='object')"
      ]
     },
     "execution_count": 76,
     "metadata": {},
     "output_type": "execute_result"
    }
   ],
   "source": [
    "test.columns"
   ]
  },
  {
   "cell_type": "markdown",
   "id": "5eeda1d7",
   "metadata": {},
   "source": [
    "**타이타닉 데이터 내부의 컬럼 정보**\n",
    "- 'PassengerId' : 승객의 번호\n",
    "- 'Survived' : 생존여부(0,1) / train에만 존재\n",
    "- 'Pclass' : 승객의 등급(1~3)\n",
    "- 'Name' : 승객 이름\n",
    "- 'Sex' : 승객 성별\n",
    "- 'Age' : 승객 나이\n",
    "- 'SibSp' : 동승한 형제 또는 배우자의 수\n",
    "- 'Parch' : 동승한 부모 또는 자녀의 수\n",
    "- 'Ticket' : 티켓 번호\n",
    "- 'Fare' : 승객이 지불한 요금\n",
    "- 'Cabin' : 객실의 번호\n",
    "- 'Embarked' : 승선지(C : 쉘부르크(셰르부르) / Q : 퀸즈타운 / S : 사우스햄튼)"
   ]
  },
  {
   "cell_type": "code",
   "execution_count": 77,
   "id": "5c6dac81",
   "metadata": {
    "ExecuteTime": {
     "end_time": "2023-09-07T05:54:44.767344Z",
     "start_time": "2023-09-07T05:54:44.753381Z"
    },
    "scrolled": true
   },
   "outputs": [
    {
     "name": "stdout",
     "output_type": "stream",
     "text": [
      "<class 'pandas.core.frame.DataFrame'>\n",
      "Int64Index: 891 entries, 1 to 891\n",
      "Data columns (total 11 columns):\n",
      " #   Column    Non-Null Count  Dtype  \n",
      "---  ------    --------------  -----  \n",
      " 0   Survived  891 non-null    int64  \n",
      " 1   Pclass    891 non-null    int64  \n",
      " 2   Name      891 non-null    object \n",
      " 3   Sex       891 non-null    object \n",
      " 4   Age       714 non-null    float64\n",
      " 5   SibSp     891 non-null    int64  \n",
      " 6   Parch     891 non-null    int64  \n",
      " 7   Ticket    891 non-null    object \n",
      " 8   Fare      891 non-null    float64\n",
      " 9   Cabin     204 non-null    object \n",
      " 10  Embarked  889 non-null    object \n",
      "dtypes: float64(2), int64(4), object(5)\n",
      "memory usage: 83.5+ KB\n"
     ]
    }
   ],
   "source": [
    "# 데이터프레임에 대한 간략한 정보\n",
    "train.info()"
   ]
  },
  {
   "cell_type": "code",
   "execution_count": 78,
   "id": "5e4e1014",
   "metadata": {
    "ExecuteTime": {
     "end_time": "2023-09-07T05:54:44.782303Z",
     "start_time": "2023-09-07T05:54:44.769338Z"
    }
   },
   "outputs": [
    {
     "name": "stdout",
     "output_type": "stream",
     "text": [
      "<class 'pandas.core.frame.DataFrame'>\n",
      "Int64Index: 418 entries, 892 to 1309\n",
      "Data columns (total 10 columns):\n",
      " #   Column    Non-Null Count  Dtype  \n",
      "---  ------    --------------  -----  \n",
      " 0   Pclass    418 non-null    int64  \n",
      " 1   Name      418 non-null    object \n",
      " 2   Sex       418 non-null    object \n",
      " 3   Age       332 non-null    float64\n",
      " 4   SibSp     418 non-null    int64  \n",
      " 5   Parch     418 non-null    int64  \n",
      " 6   Ticket    418 non-null    object \n",
      " 7   Fare      417 non-null    float64\n",
      " 8   Cabin     91 non-null     object \n",
      " 9   Embarked  418 non-null    object \n",
      "dtypes: float64(2), int64(3), object(5)\n",
      "memory usage: 35.9+ KB\n"
     ]
    }
   ],
   "source": [
    "test.info()"
   ]
  },
  {
   "cell_type": "markdown",
   "id": "3cff9bd4",
   "metadata": {},
   "source": [
    "**결측치 정리**\n",
    "- train : Age / Cabin / Embarked\n",
    "- test : Age / Fare / Cabin"
   ]
  },
  {
   "cell_type": "markdown",
   "id": "3590140f",
   "metadata": {},
   "source": [
    "### 데이터 전처리"
   ]
  },
  {
   "cell_type": "markdown",
   "id": "0f2badf0",
   "metadata": {},
   "source": [
    "Age 살펴보기"
   ]
  },
  {
   "cell_type": "code",
   "execution_count": 79,
   "id": "b542070e",
   "metadata": {
    "ExecuteTime": {
     "end_time": "2023-09-07T05:54:44.798262Z",
     "start_time": "2023-09-07T05:54:44.783301Z"
    },
    "scrolled": true
   },
   "outputs": [
    {
     "data": {
      "text/plain": [
       "PassengerId\n",
       "1      22.0\n",
       "2      38.0\n",
       "3      26.0\n",
       "4      35.0\n",
       "5      35.0\n",
       "       ... \n",
       "887    27.0\n",
       "888    19.0\n",
       "889     NaN\n",
       "890    26.0\n",
       "891    32.0\n",
       "Name: Age, Length: 891, dtype: float64"
      ]
     },
     "execution_count": 79,
     "metadata": {},
     "output_type": "execute_result"
    }
   ],
   "source": [
    "train['Age']"
   ]
  },
  {
   "cell_type": "code",
   "execution_count": 80,
   "id": "45018be9",
   "metadata": {
    "ExecuteTime": {
     "end_time": "2023-09-07T05:54:44.813220Z",
     "start_time": "2023-09-07T05:54:44.801252Z"
    }
   },
   "outputs": [
    {
     "data": {
      "text/plain": [
       "PassengerId\n",
       "892     34.5\n",
       "893     47.0\n",
       "894     62.0\n",
       "895     27.0\n",
       "896     22.0\n",
       "        ... \n",
       "1305     NaN\n",
       "1306    39.0\n",
       "1307    38.5\n",
       "1308     NaN\n",
       "1309     NaN\n",
       "Name: Age, Length: 418, dtype: float64"
      ]
     },
     "execution_count": 80,
     "metadata": {},
     "output_type": "execute_result"
    }
   ],
   "source": [
    "test['Age']"
   ]
  },
  {
   "cell_type": "code",
   "execution_count": 81,
   "id": "6359e073",
   "metadata": {
    "ExecuteTime": {
     "end_time": "2023-09-07T05:54:44.828181Z",
     "start_time": "2023-09-07T05:54:44.815215Z"
    },
    "scrolled": false
   },
   "outputs": [
    {
     "data": {
      "text/plain": [
       "count    714.000000\n",
       "mean      29.699118\n",
       "std       14.526497\n",
       "min        0.420000\n",
       "25%       20.125000\n",
       "50%       28.000000\n",
       "75%       38.000000\n",
       "max       80.000000\n",
       "Name: Age, dtype: float64"
      ]
     },
     "execution_count": 81,
     "metadata": {},
     "output_type": "execute_result"
    }
   ],
   "source": [
    "train['Age'].describe()"
   ]
  },
  {
   "cell_type": "code",
   "execution_count": 82,
   "id": "145fbbc5",
   "metadata": {
    "ExecuteTime": {
     "end_time": "2023-09-07T05:54:44.844137Z",
     "start_time": "2023-09-07T05:54:44.830175Z"
    },
    "scrolled": true
   },
   "outputs": [
    {
     "data": {
      "text/plain": [
       "count    332.000000\n",
       "mean      30.272590\n",
       "std       14.181209\n",
       "min        0.170000\n",
       "25%       21.000000\n",
       "50%       27.000000\n",
       "75%       39.000000\n",
       "max       76.000000\n",
       "Name: Age, dtype: float64"
      ]
     },
     "execution_count": 82,
     "metadata": {},
     "output_type": "execute_result"
    }
   ],
   "source": [
    "test['Age'].describe()"
   ]
  },
  {
   "cell_type": "markdown",
   "id": "42cf9c44",
   "metadata": {},
   "source": [
    "**Age 컬럼의 특성**\n",
    "- 타입은 실수형\n",
    "- 나이 데이터는 최소값 쪽으로 쏠린 모습을 보인다.(분포가 치우쳐져 있다.)\n",
    "- 0 ~ 80 까지의 데이터를 가지고 있다. -> 일반적인 평균을 구하기엔 범위가 넓다.\n",
    "- 다른 컬럼과 상관관계를 살펴보고 연관성 있는 컬럼을 엮어서 상세하게 결측치를 채워보자"
   ]
  },
  {
   "cell_type": "code",
   "execution_count": 83,
   "id": "411cb899",
   "metadata": {
    "ExecuteTime": {
     "end_time": "2023-09-07T05:54:44.860095Z",
     "start_time": "2023-09-07T05:54:44.846133Z"
    }
   },
   "outputs": [
    {
     "data": {
      "text/html": [
       "<div>\n",
       "<style scoped>\n",
       "    .dataframe tbody tr th:only-of-type {\n",
       "        vertical-align: middle;\n",
       "    }\n",
       "\n",
       "    .dataframe tbody tr th {\n",
       "        vertical-align: top;\n",
       "    }\n",
       "\n",
       "    .dataframe thead th {\n",
       "        text-align: right;\n",
       "    }\n",
       "</style>\n",
       "<table border=\"1\" class=\"dataframe\">\n",
       "  <thead>\n",
       "    <tr style=\"text-align: right;\">\n",
       "      <th></th>\n",
       "      <th>Survived</th>\n",
       "      <th>Pclass</th>\n",
       "      <th>Age</th>\n",
       "      <th>SibSp</th>\n",
       "      <th>Parch</th>\n",
       "      <th>Fare</th>\n",
       "    </tr>\n",
       "  </thead>\n",
       "  <tbody>\n",
       "    <tr>\n",
       "      <th>Survived</th>\n",
       "      <td>1.000000</td>\n",
       "      <td>-0.338481</td>\n",
       "      <td>-0.077221</td>\n",
       "      <td>-0.035322</td>\n",
       "      <td>0.081629</td>\n",
       "      <td>0.257307</td>\n",
       "    </tr>\n",
       "    <tr>\n",
       "      <th>Pclass</th>\n",
       "      <td>-0.338481</td>\n",
       "      <td>1.000000</td>\n",
       "      <td>-0.369226</td>\n",
       "      <td>0.083081</td>\n",
       "      <td>0.018443</td>\n",
       "      <td>-0.549500</td>\n",
       "    </tr>\n",
       "    <tr>\n",
       "      <th>Age</th>\n",
       "      <td>-0.077221</td>\n",
       "      <td>-0.369226</td>\n",
       "      <td>1.000000</td>\n",
       "      <td>-0.308247</td>\n",
       "      <td>-0.189119</td>\n",
       "      <td>0.096067</td>\n",
       "    </tr>\n",
       "    <tr>\n",
       "      <th>SibSp</th>\n",
       "      <td>-0.035322</td>\n",
       "      <td>0.083081</td>\n",
       "      <td>-0.308247</td>\n",
       "      <td>1.000000</td>\n",
       "      <td>0.414838</td>\n",
       "      <td>0.159651</td>\n",
       "    </tr>\n",
       "    <tr>\n",
       "      <th>Parch</th>\n",
       "      <td>0.081629</td>\n",
       "      <td>0.018443</td>\n",
       "      <td>-0.189119</td>\n",
       "      <td>0.414838</td>\n",
       "      <td>1.000000</td>\n",
       "      <td>0.216225</td>\n",
       "    </tr>\n",
       "    <tr>\n",
       "      <th>Fare</th>\n",
       "      <td>0.257307</td>\n",
       "      <td>-0.549500</td>\n",
       "      <td>0.096067</td>\n",
       "      <td>0.159651</td>\n",
       "      <td>0.216225</td>\n",
       "      <td>1.000000</td>\n",
       "    </tr>\n",
       "  </tbody>\n",
       "</table>\n",
       "</div>"
      ],
      "text/plain": [
       "          Survived    Pclass       Age     SibSp     Parch      Fare\n",
       "Survived  1.000000 -0.338481 -0.077221 -0.035322  0.081629  0.257307\n",
       "Pclass   -0.338481  1.000000 -0.369226  0.083081  0.018443 -0.549500\n",
       "Age      -0.077221 -0.369226  1.000000 -0.308247 -0.189119  0.096067\n",
       "SibSp    -0.035322  0.083081 -0.308247  1.000000  0.414838  0.159651\n",
       "Parch     0.081629  0.018443 -0.189119  0.414838  1.000000  0.216225\n",
       "Fare      0.257307 -0.549500  0.096067  0.159651  0.216225  1.000000"
      ]
     },
     "execution_count": 83,
     "metadata": {},
     "output_type": "execute_result"
    }
   ],
   "source": [
    "# 상관관계 : 각 특성별로 영향도를 수치로 파악할 수 있다.\n",
    "# 절대값이 클수록 영향도가 높다.\n",
    "train.corr() # 수치형 데이터만 나온다"
   ]
  },
  {
   "cell_type": "code",
   "execution_count": 84,
   "id": "14462180",
   "metadata": {
    "ExecuteTime": {
     "end_time": "2023-09-07T05:54:44.876052Z",
     "start_time": "2023-09-07T05:54:44.863089Z"
    }
   },
   "outputs": [
    {
     "data": {
      "text/html": [
       "<div>\n",
       "<style scoped>\n",
       "    .dataframe tbody tr th:only-of-type {\n",
       "        vertical-align: middle;\n",
       "    }\n",
       "\n",
       "    .dataframe tbody tr th {\n",
       "        vertical-align: top;\n",
       "    }\n",
       "\n",
       "    .dataframe thead th {\n",
       "        text-align: right;\n",
       "    }\n",
       "</style>\n",
       "<table border=\"1\" class=\"dataframe\">\n",
       "  <thead>\n",
       "    <tr style=\"text-align: right;\">\n",
       "      <th></th>\n",
       "      <th></th>\n",
       "      <th>Age</th>\n",
       "    </tr>\n",
       "    <tr>\n",
       "      <th>Pclass</th>\n",
       "      <th>Sex</th>\n",
       "      <th></th>\n",
       "    </tr>\n",
       "  </thead>\n",
       "  <tbody>\n",
       "    <tr>\n",
       "      <th rowspan=\"2\" valign=\"top\">1</th>\n",
       "      <th>female</th>\n",
       "      <td>34.611765</td>\n",
       "    </tr>\n",
       "    <tr>\n",
       "      <th>male</th>\n",
       "      <td>41.281386</td>\n",
       "    </tr>\n",
       "    <tr>\n",
       "      <th rowspan=\"2\" valign=\"top\">2</th>\n",
       "      <th>female</th>\n",
       "      <td>28.722973</td>\n",
       "    </tr>\n",
       "    <tr>\n",
       "      <th>male</th>\n",
       "      <td>30.740707</td>\n",
       "    </tr>\n",
       "    <tr>\n",
       "      <th rowspan=\"2\" valign=\"top\">3</th>\n",
       "      <th>female</th>\n",
       "      <td>21.750000</td>\n",
       "    </tr>\n",
       "    <tr>\n",
       "      <th>male</th>\n",
       "      <td>26.507589</td>\n",
       "    </tr>\n",
       "  </tbody>\n",
       "</table>\n",
       "</div>"
      ],
      "text/plain": [
       "                     Age\n",
       "Pclass Sex              \n",
       "1      female  34.611765\n",
       "       male    41.281386\n",
       "2      female  28.722973\n",
       "       male    30.740707\n",
       "3      female  21.750000\n",
       "       male    26.507589"
      ]
     },
     "execution_count": 84,
     "metadata": {},
     "output_type": "execute_result"
    }
   ],
   "source": [
    "# 상관관계가 높은 데이터를 가지고 피봇테이블을 만들어보자\n",
    "pt1 = train.pivot_table(values='Age', # 데이터로 사용할 데이터 지정\n",
    "                       index=['Pclass', 'Sex'], # 인덱스를 설정하겠다(멀티 인덱스)\n",
    "                        # 생존 여부에 영향을 많이 미치는 성별도 추가\n",
    "                        # 인덱스를 설정할 때 1차로 Pclass로 나눈 뒤 성별로 한번 더 나눔\n",
    "                        aggfunc='mean' # 데이터 요약시 사용하는 함수를 지정\n",
    "                        # (mean / sum / count)\n",
    "                       )\n",
    "pt1"
   ]
  },
  {
   "cell_type": "markdown",
   "id": "98476c98",
   "metadata": {},
   "source": [
    "- 나이가 많을수록 등급 숫자가 낮아진다?"
   ]
  },
  {
   "cell_type": "code",
   "execution_count": 85,
   "id": "bf38af3c",
   "metadata": {
    "ExecuteTime": {
     "end_time": "2023-09-07T05:54:44.892009Z",
     "start_time": "2023-09-07T05:54:44.877050Z"
    }
   },
   "outputs": [
    {
     "data": {
      "text/plain": [
       "Age    41.281386\n",
       "Name: (1, male), dtype: float64"
      ]
     },
     "execution_count": 85,
     "metadata": {},
     "output_type": "execute_result"
    }
   ],
   "source": [
    "# 멀티 인덱스 인덱싱\n",
    "pt1.loc[1, 'male']"
   ]
  },
  {
   "cell_type": "code",
   "execution_count": 86,
   "id": "a595a6e2",
   "metadata": {
    "ExecuteTime": {
     "end_time": "2023-09-07T05:54:44.907967Z",
     "start_time": "2023-09-07T05:54:44.894005Z"
    }
   },
   "outputs": [
    {
     "data": {
      "text/plain": [
       "PassengerId\n",
       "1      False\n",
       "2      False\n",
       "3      False\n",
       "4      False\n",
       "5      False\n",
       "       ...  \n",
       "887    False\n",
       "888    False\n",
       "889     True\n",
       "890    False\n",
       "891    False\n",
       "Name: Age, Length: 891, dtype: bool"
      ]
     },
     "execution_count": 86,
     "metadata": {},
     "output_type": "execute_result"
    }
   ],
   "source": [
    "# 결측치 확인 - pd.isna()\n",
    "pd.isna(train['Age'])"
   ]
  },
  {
   "cell_type": "code",
   "execution_count": 87,
   "id": "9b2bb37f",
   "metadata": {
    "ExecuteTime": {
     "end_time": "2023-09-07T05:54:44.923925Z",
     "start_time": "2023-09-07T05:54:44.909962Z"
    }
   },
   "outputs": [
    {
     "data": {
      "text/html": [
       "<div>\n",
       "<style scoped>\n",
       "    .dataframe tbody tr th:only-of-type {\n",
       "        vertical-align: middle;\n",
       "    }\n",
       "\n",
       "    .dataframe tbody tr th {\n",
       "        vertical-align: top;\n",
       "    }\n",
       "\n",
       "    .dataframe thead th {\n",
       "        text-align: right;\n",
       "    }\n",
       "</style>\n",
       "<table border=\"1\" class=\"dataframe\">\n",
       "  <thead>\n",
       "    <tr style=\"text-align: right;\">\n",
       "      <th></th>\n",
       "      <th>Survived</th>\n",
       "      <th>Pclass</th>\n",
       "      <th>Name</th>\n",
       "      <th>Sex</th>\n",
       "      <th>Age</th>\n",
       "      <th>SibSp</th>\n",
       "      <th>Parch</th>\n",
       "      <th>Ticket</th>\n",
       "      <th>Fare</th>\n",
       "      <th>Cabin</th>\n",
       "      <th>Embarked</th>\n",
       "    </tr>\n",
       "    <tr>\n",
       "      <th>PassengerId</th>\n",
       "      <th></th>\n",
       "      <th></th>\n",
       "      <th></th>\n",
       "      <th></th>\n",
       "      <th></th>\n",
       "      <th></th>\n",
       "      <th></th>\n",
       "      <th></th>\n",
       "      <th></th>\n",
       "      <th></th>\n",
       "      <th></th>\n",
       "    </tr>\n",
       "  </thead>\n",
       "  <tbody>\n",
       "    <tr>\n",
       "      <th>6</th>\n",
       "      <td>0</td>\n",
       "      <td>3</td>\n",
       "      <td>Moran, Mr. James</td>\n",
       "      <td>male</td>\n",
       "      <td>NaN</td>\n",
       "      <td>0</td>\n",
       "      <td>0</td>\n",
       "      <td>330877</td>\n",
       "      <td>8.4583</td>\n",
       "      <td>NaN</td>\n",
       "      <td>Q</td>\n",
       "    </tr>\n",
       "    <tr>\n",
       "      <th>18</th>\n",
       "      <td>1</td>\n",
       "      <td>2</td>\n",
       "      <td>Williams, Mr. Charles Eugene</td>\n",
       "      <td>male</td>\n",
       "      <td>NaN</td>\n",
       "      <td>0</td>\n",
       "      <td>0</td>\n",
       "      <td>244373</td>\n",
       "      <td>13.0000</td>\n",
       "      <td>NaN</td>\n",
       "      <td>S</td>\n",
       "    </tr>\n",
       "    <tr>\n",
       "      <th>20</th>\n",
       "      <td>1</td>\n",
       "      <td>3</td>\n",
       "      <td>Masselmani, Mrs. Fatima</td>\n",
       "      <td>female</td>\n",
       "      <td>NaN</td>\n",
       "      <td>0</td>\n",
       "      <td>0</td>\n",
       "      <td>2649</td>\n",
       "      <td>7.2250</td>\n",
       "      <td>NaN</td>\n",
       "      <td>C</td>\n",
       "    </tr>\n",
       "    <tr>\n",
       "      <th>27</th>\n",
       "      <td>0</td>\n",
       "      <td>3</td>\n",
       "      <td>Emir, Mr. Farred Chehab</td>\n",
       "      <td>male</td>\n",
       "      <td>NaN</td>\n",
       "      <td>0</td>\n",
       "      <td>0</td>\n",
       "      <td>2631</td>\n",
       "      <td>7.2250</td>\n",
       "      <td>NaN</td>\n",
       "      <td>C</td>\n",
       "    </tr>\n",
       "    <tr>\n",
       "      <th>29</th>\n",
       "      <td>1</td>\n",
       "      <td>3</td>\n",
       "      <td>O'Dwyer, Miss. Ellen \"Nellie\"</td>\n",
       "      <td>female</td>\n",
       "      <td>NaN</td>\n",
       "      <td>0</td>\n",
       "      <td>0</td>\n",
       "      <td>330959</td>\n",
       "      <td>7.8792</td>\n",
       "      <td>NaN</td>\n",
       "      <td>Q</td>\n",
       "    </tr>\n",
       "    <tr>\n",
       "      <th>...</th>\n",
       "      <td>...</td>\n",
       "      <td>...</td>\n",
       "      <td>...</td>\n",
       "      <td>...</td>\n",
       "      <td>...</td>\n",
       "      <td>...</td>\n",
       "      <td>...</td>\n",
       "      <td>...</td>\n",
       "      <td>...</td>\n",
       "      <td>...</td>\n",
       "      <td>...</td>\n",
       "    </tr>\n",
       "    <tr>\n",
       "      <th>860</th>\n",
       "      <td>0</td>\n",
       "      <td>3</td>\n",
       "      <td>Razi, Mr. Raihed</td>\n",
       "      <td>male</td>\n",
       "      <td>NaN</td>\n",
       "      <td>0</td>\n",
       "      <td>0</td>\n",
       "      <td>2629</td>\n",
       "      <td>7.2292</td>\n",
       "      <td>NaN</td>\n",
       "      <td>C</td>\n",
       "    </tr>\n",
       "    <tr>\n",
       "      <th>864</th>\n",
       "      <td>0</td>\n",
       "      <td>3</td>\n",
       "      <td>Sage, Miss. Dorothy Edith \"Dolly\"</td>\n",
       "      <td>female</td>\n",
       "      <td>NaN</td>\n",
       "      <td>8</td>\n",
       "      <td>2</td>\n",
       "      <td>CA. 2343</td>\n",
       "      <td>69.5500</td>\n",
       "      <td>NaN</td>\n",
       "      <td>S</td>\n",
       "    </tr>\n",
       "    <tr>\n",
       "      <th>869</th>\n",
       "      <td>0</td>\n",
       "      <td>3</td>\n",
       "      <td>van Melkebeke, Mr. Philemon</td>\n",
       "      <td>male</td>\n",
       "      <td>NaN</td>\n",
       "      <td>0</td>\n",
       "      <td>0</td>\n",
       "      <td>345777</td>\n",
       "      <td>9.5000</td>\n",
       "      <td>NaN</td>\n",
       "      <td>S</td>\n",
       "    </tr>\n",
       "    <tr>\n",
       "      <th>879</th>\n",
       "      <td>0</td>\n",
       "      <td>3</td>\n",
       "      <td>Laleff, Mr. Kristo</td>\n",
       "      <td>male</td>\n",
       "      <td>NaN</td>\n",
       "      <td>0</td>\n",
       "      <td>0</td>\n",
       "      <td>349217</td>\n",
       "      <td>7.8958</td>\n",
       "      <td>NaN</td>\n",
       "      <td>S</td>\n",
       "    </tr>\n",
       "    <tr>\n",
       "      <th>889</th>\n",
       "      <td>0</td>\n",
       "      <td>3</td>\n",
       "      <td>Johnston, Miss. Catherine Helen \"Carrie\"</td>\n",
       "      <td>female</td>\n",
       "      <td>NaN</td>\n",
       "      <td>1</td>\n",
       "      <td>2</td>\n",
       "      <td>W./C. 6607</td>\n",
       "      <td>23.4500</td>\n",
       "      <td>NaN</td>\n",
       "      <td>S</td>\n",
       "    </tr>\n",
       "  </tbody>\n",
       "</table>\n",
       "<p>177 rows × 11 columns</p>\n",
       "</div>"
      ],
      "text/plain": [
       "             Survived  Pclass                                      Name  \\\n",
       "PassengerId                                                               \n",
       "6                   0       3                          Moran, Mr. James   \n",
       "18                  1       2              Williams, Mr. Charles Eugene   \n",
       "20                  1       3                   Masselmani, Mrs. Fatima   \n",
       "27                  0       3                   Emir, Mr. Farred Chehab   \n",
       "29                  1       3             O'Dwyer, Miss. Ellen \"Nellie\"   \n",
       "...               ...     ...                                       ...   \n",
       "860                 0       3                          Razi, Mr. Raihed   \n",
       "864                 0       3         Sage, Miss. Dorothy Edith \"Dolly\"   \n",
       "869                 0       3               van Melkebeke, Mr. Philemon   \n",
       "879                 0       3                        Laleff, Mr. Kristo   \n",
       "889                 0       3  Johnston, Miss. Catherine Helen \"Carrie\"   \n",
       "\n",
       "                Sex  Age  SibSp  Parch      Ticket     Fare Cabin Embarked  \n",
       "PassengerId                                                                 \n",
       "6              male  NaN      0      0      330877   8.4583   NaN        Q  \n",
       "18             male  NaN      0      0      244373  13.0000   NaN        S  \n",
       "20           female  NaN      0      0        2649   7.2250   NaN        C  \n",
       "27             male  NaN      0      0        2631   7.2250   NaN        C  \n",
       "29           female  NaN      0      0      330959   7.8792   NaN        Q  \n",
       "...             ...  ...    ...    ...         ...      ...   ...      ...  \n",
       "860            male  NaN      0      0        2629   7.2292   NaN        C  \n",
       "864          female  NaN      8      2    CA. 2343  69.5500   NaN        S  \n",
       "869            male  NaN      0      0      345777   9.5000   NaN        S  \n",
       "879            male  NaN      0      0      349217   7.8958   NaN        S  \n",
       "889          female  NaN      1      2  W./C. 6607  23.4500   NaN        S  \n",
       "\n",
       "[177 rows x 11 columns]"
      ]
     },
     "execution_count": 87,
     "metadata": {},
     "output_type": "execute_result"
    }
   ],
   "source": [
    "# 불리언 인덱싱으로 확인해보기\n",
    "train[pd.isna(train['Age'])]"
   ]
  },
  {
   "cell_type": "markdown",
   "id": "107bc6cc",
   "metadata": {},
   "source": [
    "- 177개에 대한 데이터의 조건을 맞춰서 나이값을 넣어주기 어렵다.\n",
    "- apply 함수를 이용해서 한번에 값을 처리해주겠다.\n",
    "- apply() : 다른 함수를 pandas의 객체에 연결시켜주는 함수"
   ]
  },
  {
   "cell_type": "code",
   "execution_count": 88,
   "id": "112ae4be",
   "metadata": {
    "ExecuteTime": {
     "end_time": "2023-09-07T05:54:44.939881Z",
     "start_time": "2023-09-07T05:54:44.926917Z"
    }
   },
   "outputs": [],
   "source": [
    "# 나이를 채워주는 함수를 만들어보자.\n",
    "def fill_age(data) : # 매개변수 data에는 train 또는 test 데이터가 들어가게 된다\n",
    "    # 만약 data에 Age컬럼이 결측치라면 피봇테이블에서 값을 가져와 넣어줘라\n",
    "    if pd.isna(data['Age']) :\n",
    "    # 위에서 만든 피봇 테이블 멀티 인덱싱한 값을 리턴\n",
    "        return pt1.loc[data['Pclass'], data['Sex']]\n",
    "    # Age 컬럼의 결측치가 없다면 기존의 값을 사용\n",
    "    else :\n",
    "        return data['Age']"
   ]
  },
  {
   "cell_type": "code",
   "execution_count": 89,
   "id": "d2810a58",
   "metadata": {
    "ExecuteTime": {
     "end_time": "2023-09-07T05:54:44.985266Z",
     "start_time": "2023-09-07T05:54:44.940879Z"
    }
   },
   "outputs": [],
   "source": [
    "# Age 결측치 채우기\n",
    "train['Age'] = train.apply(fill_age, axis = 1).astype('int64')"
   ]
  },
  {
   "cell_type": "code",
   "execution_count": 90,
   "id": "1a2c2aab",
   "metadata": {
    "ExecuteTime": {
     "end_time": "2023-09-07T05:54:45.015186Z",
     "start_time": "2023-09-07T05:54:44.987262Z"
    }
   },
   "outputs": [],
   "source": [
    "test['Age'] = test.apply(fill_age, axis = 1).astype('int64')"
   ]
  },
  {
   "cell_type": "code",
   "execution_count": 91,
   "id": "43f943a1",
   "metadata": {
    "ExecuteTime": {
     "end_time": "2023-09-07T05:54:45.031143Z",
     "start_time": "2023-09-07T05:54:45.017181Z"
    }
   },
   "outputs": [
    {
     "name": "stdout",
     "output_type": "stream",
     "text": [
      "<class 'pandas.core.frame.DataFrame'>\n",
      "Int64Index: 891 entries, 1 to 891\n",
      "Data columns (total 11 columns):\n",
      " #   Column    Non-Null Count  Dtype  \n",
      "---  ------    --------------  -----  \n",
      " 0   Survived  891 non-null    int64  \n",
      " 1   Pclass    891 non-null    int64  \n",
      " 2   Name      891 non-null    object \n",
      " 3   Sex       891 non-null    object \n",
      " 4   Age       891 non-null    int64  \n",
      " 5   SibSp     891 non-null    int64  \n",
      " 6   Parch     891 non-null    int64  \n",
      " 7   Ticket    891 non-null    object \n",
      " 8   Fare      891 non-null    float64\n",
      " 9   Cabin     204 non-null    object \n",
      " 10  Embarked  889 non-null    object \n",
      "dtypes: float64(1), int64(5), object(5)\n",
      "memory usage: 83.5+ KB\n"
     ]
    }
   ],
   "source": [
    "train.info()"
   ]
  },
  {
   "cell_type": "code",
   "execution_count": 92,
   "id": "70f42fc4",
   "metadata": {
    "ExecuteTime": {
     "end_time": "2023-09-07T05:54:45.047104Z",
     "start_time": "2023-09-07T05:54:45.033140Z"
    }
   },
   "outputs": [
    {
     "name": "stdout",
     "output_type": "stream",
     "text": [
      "<class 'pandas.core.frame.DataFrame'>\n",
      "Int64Index: 418 entries, 892 to 1309\n",
      "Data columns (total 10 columns):\n",
      " #   Column    Non-Null Count  Dtype  \n",
      "---  ------    --------------  -----  \n",
      " 0   Pclass    418 non-null    int64  \n",
      " 1   Name      418 non-null    object \n",
      " 2   Sex       418 non-null    object \n",
      " 3   Age       418 non-null    int64  \n",
      " 4   SibSp     418 non-null    int64  \n",
      " 5   Parch     418 non-null    int64  \n",
      " 6   Ticket    418 non-null    object \n",
      " 7   Fare      417 non-null    float64\n",
      " 8   Cabin     91 non-null     object \n",
      " 9   Embarked  418 non-null    object \n",
      "dtypes: float64(1), int64(4), object(5)\n",
      "memory usage: 35.9+ KB\n"
     ]
    }
   ],
   "source": [
    "test.info()"
   ]
  },
  {
   "cell_type": "code",
   "execution_count": 93,
   "id": "50623f7e",
   "metadata": {
    "ExecuteTime": {
     "end_time": "2023-09-07T05:54:45.063058Z",
     "start_time": "2023-09-07T05:54:45.049099Z"
    }
   },
   "outputs": [
    {
     "data": {
      "text/plain": [
       "count    891.000000\n",
       "mean      29.191919\n",
       "std       13.313598\n",
       "min        0.000000\n",
       "25%       21.000000\n",
       "50%       26.000000\n",
       "75%       36.000000\n",
       "max       80.000000\n",
       "Name: Age, dtype: float64"
      ]
     },
     "execution_count": 93,
     "metadata": {},
     "output_type": "execute_result"
    }
   ],
   "source": [
    "train['Age'].describe()"
   ]
  },
  {
   "cell_type": "markdown",
   "id": "2aca6cf8",
   "metadata": {},
   "source": [
    "- Age 결측치 모두 채우기 완료\n",
    "- 상관관계를 이용해서 나이 데이터를 채워줬다!"
   ]
  },
  {
   "cell_type": "markdown",
   "id": "0c97bac6",
   "metadata": {},
   "source": [
    "**Embarked 데이터 채워주기**\n",
    "- 결측치 2개있다."
   ]
  },
  {
   "cell_type": "code",
   "execution_count": 94,
   "id": "d9cf5e2e",
   "metadata": {
    "ExecuteTime": {
     "end_time": "2023-09-07T05:54:45.079016Z",
     "start_time": "2023-09-07T05:54:45.064056Z"
    }
   },
   "outputs": [
    {
     "data": {
      "text/plain": [
       "S    644\n",
       "C    168\n",
       "Q     77\n",
       "Name: Embarked, dtype: int64"
      ]
     },
     "execution_count": 94,
     "metadata": {},
     "output_type": "execute_result"
    }
   ],
   "source": [
    "# Embarked 내부 데이터의 구조는?\n",
    "# Q / S / T 3가지 값으로 구분이 되어있음\n",
    "# 각각의 갯수를 살펴보자. - 데이터의 분포를 살펴보자\n",
    "train['Embarked'].value_counts()"
   ]
  },
  {
   "cell_type": "code",
   "execution_count": 95,
   "id": "ef209b65",
   "metadata": {
    "ExecuteTime": {
     "end_time": "2023-09-07T05:54:45.093975Z",
     "start_time": "2023-09-07T05:54:45.080013Z"
    }
   },
   "outputs": [],
   "source": [
    "# 결측치를 채워주는 함수 : fillna()\n",
    "train['Embarked'] = train['Embarked'].fillna('S')"
   ]
  },
  {
   "cell_type": "code",
   "execution_count": 96,
   "id": "95268884",
   "metadata": {
    "ExecuteTime": {
     "end_time": "2023-09-07T05:54:45.108935Z",
     "start_time": "2023-09-07T05:54:45.096970Z"
    }
   },
   "outputs": [
    {
     "name": "stdout",
     "output_type": "stream",
     "text": [
      "<class 'pandas.core.frame.DataFrame'>\n",
      "Int64Index: 891 entries, 1 to 891\n",
      "Data columns (total 11 columns):\n",
      " #   Column    Non-Null Count  Dtype  \n",
      "---  ------    --------------  -----  \n",
      " 0   Survived  891 non-null    int64  \n",
      " 1   Pclass    891 non-null    int64  \n",
      " 2   Name      891 non-null    object \n",
      " 3   Sex       891 non-null    object \n",
      " 4   Age       891 non-null    int64  \n",
      " 5   SibSp     891 non-null    int64  \n",
      " 6   Parch     891 non-null    int64  \n",
      " 7   Ticket    891 non-null    object \n",
      " 8   Fare      891 non-null    float64\n",
      " 9   Cabin     204 non-null    object \n",
      " 10  Embarked  891 non-null    object \n",
      "dtypes: float64(1), int64(5), object(5)\n",
      "memory usage: 83.5+ KB\n"
     ]
    }
   ],
   "source": [
    "train.info()"
   ]
  },
  {
   "cell_type": "markdown",
   "id": "3b495766",
   "metadata": {},
   "source": [
    "**Fare 채워주기**\n",
    "- test에 결측치가 있다"
   ]
  },
  {
   "cell_type": "code",
   "execution_count": 97,
   "id": "676eb445",
   "metadata": {
    "ExecuteTime": {
     "end_time": "2023-09-07T05:54:45.124893Z",
     "start_time": "2023-09-07T05:54:45.110931Z"
    }
   },
   "outputs": [
    {
     "name": "stdout",
     "output_type": "stream",
     "text": [
      "<class 'pandas.core.frame.DataFrame'>\n",
      "Int64Index: 418 entries, 892 to 1309\n",
      "Data columns (total 10 columns):\n",
      " #   Column    Non-Null Count  Dtype  \n",
      "---  ------    --------------  -----  \n",
      " 0   Pclass    418 non-null    int64  \n",
      " 1   Name      418 non-null    object \n",
      " 2   Sex       418 non-null    object \n",
      " 3   Age       418 non-null    int64  \n",
      " 4   SibSp     418 non-null    int64  \n",
      " 5   Parch     418 non-null    int64  \n",
      " 6   Ticket    418 non-null    object \n",
      " 7   Fare      417 non-null    float64\n",
      " 8   Cabin     91 non-null     object \n",
      " 9   Embarked  418 non-null    object \n",
      "dtypes: float64(1), int64(4), object(5)\n",
      "memory usage: 35.9+ KB\n"
     ]
    }
   ],
   "source": [
    "test.info()"
   ]
  },
  {
   "cell_type": "code",
   "execution_count": 98,
   "id": "35f1cdd0",
   "metadata": {
    "ExecuteTime": {
     "end_time": "2023-09-07T05:54:45.139853Z",
     "start_time": "2023-09-07T05:54:45.132871Z"
    }
   },
   "outputs": [
    {
     "data": {
      "text/plain": [
       "count    417.000000\n",
       "mean      35.627188\n",
       "std       55.907576\n",
       "min        0.000000\n",
       "25%        7.895800\n",
       "50%       14.454200\n",
       "75%       31.500000\n",
       "max      512.329200\n",
       "Name: Fare, dtype: float64"
      ]
     },
     "execution_count": 98,
     "metadata": {},
     "output_type": "execute_result"
    }
   ],
   "source": [
    "# Fare에 대한 기술 통계 살펴보기\n",
    "test['Fare'].describe()"
   ]
  },
  {
   "cell_type": "markdown",
   "id": "8d181c34",
   "metadata": {},
   "source": [
    "- Fare 컬럼은 최대 / 최소값을 봤을 때 편차가 크고 평균과 사분위수가 한쪽으로 쏠려있다.\n",
    "- 전체 금액을 가지고 평균을 구하면 신뢰성이 많이 떨어질 것 같다."
   ]
  },
  {
   "cell_type": "code",
   "execution_count": 99,
   "id": "4554a2fb",
   "metadata": {
    "ExecuteTime": {
     "end_time": "2023-09-07T05:54:45.154813Z",
     "start_time": "2023-09-07T05:54:45.141849Z"
    }
   },
   "outputs": [
    {
     "data": {
      "text/html": [
       "<div>\n",
       "<style scoped>\n",
       "    .dataframe tbody tr th:only-of-type {\n",
       "        vertical-align: middle;\n",
       "    }\n",
       "\n",
       "    .dataframe tbody tr th {\n",
       "        vertical-align: top;\n",
       "    }\n",
       "\n",
       "    .dataframe thead th {\n",
       "        text-align: right;\n",
       "    }\n",
       "</style>\n",
       "<table border=\"1\" class=\"dataframe\">\n",
       "  <thead>\n",
       "    <tr style=\"text-align: right;\">\n",
       "      <th></th>\n",
       "      <th>Survived</th>\n",
       "      <th>Pclass</th>\n",
       "      <th>Age</th>\n",
       "      <th>SibSp</th>\n",
       "      <th>Parch</th>\n",
       "      <th>Fare</th>\n",
       "    </tr>\n",
       "  </thead>\n",
       "  <tbody>\n",
       "    <tr>\n",
       "      <th>Survived</th>\n",
       "      <td>1.000000</td>\n",
       "      <td>-0.338481</td>\n",
       "      <td>-0.066538</td>\n",
       "      <td>-0.035322</td>\n",
       "      <td>0.081629</td>\n",
       "      <td>0.257307</td>\n",
       "    </tr>\n",
       "    <tr>\n",
       "      <th>Pclass</th>\n",
       "      <td>-0.338481</td>\n",
       "      <td>1.000000</td>\n",
       "      <td>-0.410104</td>\n",
       "      <td>0.083081</td>\n",
       "      <td>0.018443</td>\n",
       "      <td>-0.549500</td>\n",
       "    </tr>\n",
       "    <tr>\n",
       "      <th>Age</th>\n",
       "      <td>-0.066538</td>\n",
       "      <td>-0.410104</td>\n",
       "      <td>1.000000</td>\n",
       "      <td>-0.251439</td>\n",
       "      <td>-0.178855</td>\n",
       "      <td>0.120173</td>\n",
       "    </tr>\n",
       "    <tr>\n",
       "      <th>SibSp</th>\n",
       "      <td>-0.035322</td>\n",
       "      <td>0.083081</td>\n",
       "      <td>-0.251439</td>\n",
       "      <td>1.000000</td>\n",
       "      <td>0.414838</td>\n",
       "      <td>0.159651</td>\n",
       "    </tr>\n",
       "    <tr>\n",
       "      <th>Parch</th>\n",
       "      <td>0.081629</td>\n",
       "      <td>0.018443</td>\n",
       "      <td>-0.178855</td>\n",
       "      <td>0.414838</td>\n",
       "      <td>1.000000</td>\n",
       "      <td>0.216225</td>\n",
       "    </tr>\n",
       "    <tr>\n",
       "      <th>Fare</th>\n",
       "      <td>0.257307</td>\n",
       "      <td>-0.549500</td>\n",
       "      <td>0.120173</td>\n",
       "      <td>0.159651</td>\n",
       "      <td>0.216225</td>\n",
       "      <td>1.000000</td>\n",
       "    </tr>\n",
       "  </tbody>\n",
       "</table>\n",
       "</div>"
      ],
      "text/plain": [
       "          Survived    Pclass       Age     SibSp     Parch      Fare\n",
       "Survived  1.000000 -0.338481 -0.066538 -0.035322  0.081629  0.257307\n",
       "Pclass   -0.338481  1.000000 -0.410104  0.083081  0.018443 -0.549500\n",
       "Age      -0.066538 -0.410104  1.000000 -0.251439 -0.178855  0.120173\n",
       "SibSp    -0.035322  0.083081 -0.251439  1.000000  0.414838  0.159651\n",
       "Parch     0.081629  0.018443 -0.178855  0.414838  1.000000  0.216225\n",
       "Fare      0.257307 -0.549500  0.120173  0.159651  0.216225  1.000000"
      ]
     },
     "execution_count": 99,
     "metadata": {},
     "output_type": "execute_result"
    }
   ],
   "source": [
    "# 상관계수 살펴보기 - train\n",
    "train.corr()"
   ]
  },
  {
   "cell_type": "code",
   "execution_count": 100,
   "id": "08cf50ab",
   "metadata": {
    "ExecuteTime": {
     "end_time": "2023-09-07T05:54:45.170770Z",
     "start_time": "2023-09-07T05:54:45.155811Z"
    }
   },
   "outputs": [
    {
     "data": {
      "text/html": [
       "<div>\n",
       "<style scoped>\n",
       "    .dataframe tbody tr th:only-of-type {\n",
       "        vertical-align: middle;\n",
       "    }\n",
       "\n",
       "    .dataframe tbody tr th {\n",
       "        vertical-align: top;\n",
       "    }\n",
       "\n",
       "    .dataframe thead th {\n",
       "        text-align: right;\n",
       "    }\n",
       "</style>\n",
       "<table border=\"1\" class=\"dataframe\">\n",
       "  <thead>\n",
       "    <tr style=\"text-align: right;\">\n",
       "      <th></th>\n",
       "      <th></th>\n",
       "      <th>Fare</th>\n",
       "    </tr>\n",
       "    <tr>\n",
       "      <th>Pclass</th>\n",
       "      <th>Sex</th>\n",
       "      <th></th>\n",
       "    </tr>\n",
       "  </thead>\n",
       "  <tbody>\n",
       "    <tr>\n",
       "      <th rowspan=\"2\" valign=\"top\">1</th>\n",
       "      <th>female</th>\n",
       "      <td>106.125798</td>\n",
       "    </tr>\n",
       "    <tr>\n",
       "      <th>male</th>\n",
       "      <td>67.226127</td>\n",
       "    </tr>\n",
       "    <tr>\n",
       "      <th rowspan=\"2\" valign=\"top\">2</th>\n",
       "      <th>female</th>\n",
       "      <td>21.970121</td>\n",
       "    </tr>\n",
       "    <tr>\n",
       "      <th>male</th>\n",
       "      <td>19.741782</td>\n",
       "    </tr>\n",
       "    <tr>\n",
       "      <th rowspan=\"2\" valign=\"top\">3</th>\n",
       "      <th>female</th>\n",
       "      <td>16.118810</td>\n",
       "    </tr>\n",
       "    <tr>\n",
       "      <th>male</th>\n",
       "      <td>12.661633</td>\n",
       "    </tr>\n",
       "  </tbody>\n",
       "</table>\n",
       "</div>"
      ],
      "text/plain": [
       "                     Fare\n",
       "Pclass Sex               \n",
       "1      female  106.125798\n",
       "       male     67.226127\n",
       "2      female   21.970121\n",
       "       male     19.741782\n",
       "3      female   16.118810\n",
       "       male     12.661633"
      ]
     },
     "execution_count": 100,
     "metadata": {},
     "output_type": "execute_result"
    }
   ],
   "source": [
    "# 피봇 테이블 만들어보기[연관관계가 높은 컬럼, 성별], 금액은 평균을 구해볼거임 - train\n",
    "pt2 = train.pivot_table(values='Fare', index=['Pclass', 'Sex'], aggfunc='mean')\n",
    "pt2"
   ]
  },
  {
   "cell_type": "code",
   "execution_count": 101,
   "id": "f74202c8",
   "metadata": {
    "ExecuteTime": {
     "end_time": "2023-09-07T05:54:45.185730Z",
     "start_time": "2023-09-07T05:54:45.172766Z"
    }
   },
   "outputs": [
    {
     "data": {
      "text/html": [
       "<div>\n",
       "<style scoped>\n",
       "    .dataframe tbody tr th:only-of-type {\n",
       "        vertical-align: middle;\n",
       "    }\n",
       "\n",
       "    .dataframe tbody tr th {\n",
       "        vertical-align: top;\n",
       "    }\n",
       "\n",
       "    .dataframe thead th {\n",
       "        text-align: right;\n",
       "    }\n",
       "</style>\n",
       "<table border=\"1\" class=\"dataframe\">\n",
       "  <thead>\n",
       "    <tr style=\"text-align: right;\">\n",
       "      <th></th>\n",
       "      <th>Pclass</th>\n",
       "      <th>Name</th>\n",
       "      <th>Sex</th>\n",
       "      <th>Age</th>\n",
       "      <th>SibSp</th>\n",
       "      <th>Parch</th>\n",
       "      <th>Ticket</th>\n",
       "      <th>Fare</th>\n",
       "      <th>Cabin</th>\n",
       "      <th>Embarked</th>\n",
       "    </tr>\n",
       "    <tr>\n",
       "      <th>PassengerId</th>\n",
       "      <th></th>\n",
       "      <th></th>\n",
       "      <th></th>\n",
       "      <th></th>\n",
       "      <th></th>\n",
       "      <th></th>\n",
       "      <th></th>\n",
       "      <th></th>\n",
       "      <th></th>\n",
       "      <th></th>\n",
       "    </tr>\n",
       "  </thead>\n",
       "  <tbody>\n",
       "    <tr>\n",
       "      <th>1044</th>\n",
       "      <td>3</td>\n",
       "      <td>Storey, Mr. Thomas</td>\n",
       "      <td>male</td>\n",
       "      <td>60</td>\n",
       "      <td>0</td>\n",
       "      <td>0</td>\n",
       "      <td>3701</td>\n",
       "      <td>NaN</td>\n",
       "      <td>NaN</td>\n",
       "      <td>S</td>\n",
       "    </tr>\n",
       "  </tbody>\n",
       "</table>\n",
       "</div>"
      ],
      "text/plain": [
       "             Pclass                Name   Sex  Age  SibSp  Parch Ticket  Fare  \\\n",
       "PassengerId                                                                     \n",
       "1044              3  Storey, Mr. Thomas  male   60      0      0   3701   NaN   \n",
       "\n",
       "            Cabin Embarked  \n",
       "PassengerId                 \n",
       "1044          NaN        S  "
      ]
     },
     "execution_count": 101,
     "metadata": {},
     "output_type": "execute_result"
    }
   ],
   "source": [
    "# test['Fare']의 비어있는 곳 찾기\n",
    "# 불리언 인덱싱으로 값을 가져와보자\n",
    "test[test['Fare'].isnull()]"
   ]
  },
  {
   "cell_type": "code",
   "execution_count": 102,
   "id": "907233a4",
   "metadata": {
    "ExecuteTime": {
     "end_time": "2023-09-07T05:54:45.200690Z",
     "start_time": "2023-09-07T05:54:45.187726Z"
    }
   },
   "outputs": [
    {
     "name": "stdout",
     "output_type": "stream",
     "text": [
      "<class 'pandas.core.frame.DataFrame'>\n",
      "Int64Index: 418 entries, 892 to 1309\n",
      "Data columns (total 10 columns):\n",
      " #   Column    Non-Null Count  Dtype  \n",
      "---  ------    --------------  -----  \n",
      " 0   Pclass    418 non-null    int64  \n",
      " 1   Name      418 non-null    object \n",
      " 2   Sex       418 non-null    object \n",
      " 3   Age       418 non-null    int64  \n",
      " 4   SibSp     418 non-null    int64  \n",
      " 5   Parch     418 non-null    int64  \n",
      " 6   Ticket    418 non-null    object \n",
      " 7   Fare      418 non-null    float64\n",
      " 8   Cabin     91 non-null     object \n",
      " 9   Embarked  418 non-null    object \n",
      "dtypes: float64(1), int64(4), object(5)\n",
      "memory usage: 35.9+ KB\n"
     ]
    }
   ],
   "source": [
    "# fillna() 함수 이용해서 값을 채워주자\n",
    "test['Fare'] = test['Fare'].fillna(12.661633)\n",
    "test.info()"
   ]
  },
  {
   "cell_type": "code",
   "execution_count": 103,
   "id": "20c7f00e",
   "metadata": {
    "ExecuteTime": {
     "end_time": "2023-09-07T05:54:45.216647Z",
     "start_time": "2023-09-07T05:54:45.202687Z"
    }
   },
   "outputs": [
    {
     "name": "stdout",
     "output_type": "stream",
     "text": [
      "<class 'pandas.core.frame.DataFrame'>\n",
      "Int64Index: 891 entries, 1 to 891\n",
      "Data columns (total 11 columns):\n",
      " #   Column    Non-Null Count  Dtype  \n",
      "---  ------    --------------  -----  \n",
      " 0   Survived  891 non-null    int64  \n",
      " 1   Pclass    891 non-null    int64  \n",
      " 2   Name      891 non-null    object \n",
      " 3   Sex       891 non-null    object \n",
      " 4   Age       891 non-null    int64  \n",
      " 5   SibSp     891 non-null    int64  \n",
      " 6   Parch     891 non-null    int64  \n",
      " 7   Ticket    891 non-null    object \n",
      " 8   Fare      891 non-null    float64\n",
      " 9   Cabin     204 non-null    object \n",
      " 10  Embarked  891 non-null    object \n",
      "dtypes: float64(1), int64(5), object(5)\n",
      "memory usage: 83.5+ KB\n"
     ]
    }
   ],
   "source": [
    "train.info()"
   ]
  },
  {
   "cell_type": "markdown",
   "id": "53a2d0fd",
   "metadata": {},
   "source": [
    "**Cabin 채워주기**\n",
    "- train / test 모두 결측치가 많다.(이럴 경우 컬럼을 삭제하는 것도 고려한다.)\n",
    "- 일단은 결측치에 임의의 값을 넣어보고 시각화까지 해서 사용여부를 판단하자"
   ]
  },
  {
   "cell_type": "code",
   "execution_count": 104,
   "id": "4cfca1ab",
   "metadata": {
    "ExecuteTime": {
     "end_time": "2023-09-07T05:54:45.232606Z",
     "start_time": "2023-09-07T05:54:45.218642Z"
    }
   },
   "outputs": [
    {
     "data": {
      "text/plain": [
       "array([nan, 'C85', 'C123', 'E46', 'G6', 'C103', 'D56', 'A6',\n",
       "       'C23 C25 C27', 'B78', 'D33', 'B30', 'C52', 'B28', 'C83', 'F33',\n",
       "       'F G73', 'E31', 'A5', 'D10 D12', 'D26', 'C110', 'B58 B60', 'E101',\n",
       "       'F E69', 'D47', 'B86', 'F2', 'C2', 'E33', 'B19', 'A7', 'C49', 'F4',\n",
       "       'A32', 'B4', 'B80', 'A31', 'D36', 'D15', 'C93', 'C78', 'D35',\n",
       "       'C87', 'B77', 'E67', 'B94', 'C125', 'C99', 'C118', 'D7', 'A19',\n",
       "       'B49', 'D', 'C22 C26', 'C106', 'C65', 'E36', 'C54',\n",
       "       'B57 B59 B63 B66', 'C7', 'E34', 'C32', 'B18', 'C124', 'C91', 'E40',\n",
       "       'T', 'C128', 'D37', 'B35', 'E50', 'C82', 'B96 B98', 'E10', 'E44',\n",
       "       'A34', 'C104', 'C111', 'C92', 'E38', 'D21', 'E12', 'E63', 'A14',\n",
       "       'B37', 'C30', 'D20', 'B79', 'E25', 'D46', 'B73', 'C95', 'B38',\n",
       "       'B39', 'B22', 'C86', 'C70', 'A16', 'C101', 'C68', 'A10', 'E68',\n",
       "       'B41', 'A20', 'D19', 'D50', 'D9', 'A23', 'B50', 'A26', 'D48',\n",
       "       'E58', 'C126', 'B71', 'B51 B53 B55', 'D49', 'B5', 'B20', 'F G63',\n",
       "       'C62 C64', 'E24', 'C90', 'C45', 'E8', 'B101', 'D45', 'C46', 'D30',\n",
       "       'E121', 'D11', 'E77', 'F38', 'B3', 'D6', 'B82 B84', 'D17', 'A36',\n",
       "       'B102', 'B69', 'E49', 'C47', 'D28', 'E17', 'A24', 'C50', 'B42',\n",
       "       'C148'], dtype=object)"
      ]
     },
     "execution_count": 104,
     "metadata": {},
     "output_type": "execute_result"
    }
   ],
   "source": [
    "train['Cabin'].unique()"
   ]
  },
  {
   "cell_type": "markdown",
   "id": "220d02ef",
   "metadata": {},
   "source": [
    "- 데이터의 모양이 알파벳과 숫자 순으로 이뤄졌다\n",
    "- 여러 개가 묶인 데이터는 모두 같은 알파벳을 사용한다.\n",
    "- 타이타닉 호의 단면도와 정보를 찾아보니 알파벳은 층수 / 숫자는 방 번호를 이야기한다.\n",
    "- 알파벳을 가지고 와서 층수 정보를 활용할 수 있다."
   ]
  },
  {
   "cell_type": "code",
   "execution_count": 105,
   "id": "46d9be58",
   "metadata": {
    "ExecuteTime": {
     "end_time": "2023-09-07T05:54:45.248562Z",
     "start_time": "2023-09-07T05:54:45.234601Z"
    }
   },
   "outputs": [
    {
     "data": {
      "text/plain": [
       "B96 B98        4\n",
       "G6             4\n",
       "C23 C25 C27    4\n",
       "C22 C26        3\n",
       "F33            3\n",
       "              ..\n",
       "E34            1\n",
       "C7             1\n",
       "C54            1\n",
       "E36            1\n",
       "C148           1\n",
       "Name: Cabin, Length: 147, dtype: int64"
      ]
     },
     "execution_count": 105,
     "metadata": {},
     "output_type": "execute_result"
    }
   ],
   "source": [
    "train['Cabin'].value_counts()"
   ]
  },
  {
   "cell_type": "markdown",
   "id": "a031f00e",
   "metadata": {},
   "source": [
    "- 데이터의 고유값이 너무 많다(데이터가 넓고 얕게 분포되어 있다.)\n",
    "- 알파벳만 빼와서 사용하면 어떤 형태가 되는지 살펴 보자"
   ]
  },
  {
   "cell_type": "code",
   "execution_count": 106,
   "id": "5b0dd7e5",
   "metadata": {
    "ExecuteTime": {
     "end_time": "2023-09-07T05:54:45.264520Z",
     "start_time": "2023-09-07T05:54:45.250557Z"
    }
   },
   "outputs": [],
   "source": [
    "# 우선 결측치부터 채우고 시작하자\n",
    "# 임의의 문자 M을 넣어서 채워주고 Deck컬럼을 생성하자\n",
    "train['Deck'] = train['Cabin'].fillna('M')\n",
    "test['Deck'] = test['Cabin'].fillna('M')"
   ]
  },
  {
   "cell_type": "code",
   "execution_count": 107,
   "id": "bc5ad69d",
   "metadata": {
    "ExecuteTime": {
     "end_time": "2023-09-07T05:54:45.280476Z",
     "start_time": "2023-09-07T05:54:45.266515Z"
    }
   },
   "outputs": [
    {
     "name": "stdout",
     "output_type": "stream",
     "text": [
      "<class 'pandas.core.frame.DataFrame'>\n",
      "Int64Index: 891 entries, 1 to 891\n",
      "Data columns (total 12 columns):\n",
      " #   Column    Non-Null Count  Dtype  \n",
      "---  ------    --------------  -----  \n",
      " 0   Survived  891 non-null    int64  \n",
      " 1   Pclass    891 non-null    int64  \n",
      " 2   Name      891 non-null    object \n",
      " 3   Sex       891 non-null    object \n",
      " 4   Age       891 non-null    int64  \n",
      " 5   SibSp     891 non-null    int64  \n",
      " 6   Parch     891 non-null    int64  \n",
      " 7   Ticket    891 non-null    object \n",
      " 8   Fare      891 non-null    float64\n",
      " 9   Cabin     204 non-null    object \n",
      " 10  Embarked  891 non-null    object \n",
      " 11  Deck      891 non-null    object \n",
      "dtypes: float64(1), int64(5), object(6)\n",
      "memory usage: 90.5+ KB\n"
     ]
    }
   ],
   "source": [
    "train.info()"
   ]
  },
  {
   "cell_type": "code",
   "execution_count": 108,
   "id": "98291487",
   "metadata": {
    "ExecuteTime": {
     "end_time": "2023-09-07T05:54:45.295436Z",
     "start_time": "2023-09-07T05:54:45.281475Z"
    }
   },
   "outputs": [
    {
     "name": "stdout",
     "output_type": "stream",
     "text": [
      "<class 'pandas.core.frame.DataFrame'>\n",
      "Int64Index: 418 entries, 892 to 1309\n",
      "Data columns (total 11 columns):\n",
      " #   Column    Non-Null Count  Dtype  \n",
      "---  ------    --------------  -----  \n",
      " 0   Pclass    418 non-null    int64  \n",
      " 1   Name      418 non-null    object \n",
      " 2   Sex       418 non-null    object \n",
      " 3   Age       418 non-null    int64  \n",
      " 4   SibSp     418 non-null    int64  \n",
      " 5   Parch     418 non-null    int64  \n",
      " 6   Ticket    418 non-null    object \n",
      " 7   Fare      418 non-null    float64\n",
      " 8   Cabin     91 non-null     object \n",
      " 9   Embarked  418 non-null    object \n",
      " 10  Deck      418 non-null    object \n",
      "dtypes: float64(1), int64(4), object(6)\n",
      "memory usage: 39.2+ KB\n"
     ]
    }
   ],
   "source": [
    "test.info()"
   ]
  },
  {
   "cell_type": "code",
   "execution_count": 109,
   "id": "cb39c4db",
   "metadata": {
    "ExecuteTime": {
     "end_time": "2023-09-07T05:54:45.310397Z",
     "start_time": "2023-09-07T05:54:45.296434Z"
    }
   },
   "outputs": [],
   "source": [
    "# Deck 컬럼에서 맨 앞 영문자만 따오자\n",
    "train['Deck'] = train['Deck'].str[0]\n",
    "test['Deck'] = test['Deck'].str[0]"
   ]
  },
  {
   "cell_type": "code",
   "execution_count": 110,
   "id": "d0b56351",
   "metadata": {
    "ExecuteTime": {
     "end_time": "2023-09-07T05:54:45.326354Z",
     "start_time": "2023-09-07T05:54:45.311395Z"
    }
   },
   "outputs": [
    {
     "data": {
      "text/plain": [
       "(PassengerId\n",
       " 1      M\n",
       " 2      C\n",
       " 3      M\n",
       " 4      C\n",
       " 5      M\n",
       "       ..\n",
       " 887    M\n",
       " 888    B\n",
       " 889    M\n",
       " 890    C\n",
       " 891    M\n",
       " Name: Deck, Length: 891, dtype: object,\n",
       " PassengerId\n",
       " 892     M\n",
       " 893     M\n",
       " 894     M\n",
       " 895     M\n",
       " 896     M\n",
       "        ..\n",
       " 1305    M\n",
       " 1306    C\n",
       " 1307    M\n",
       " 1308    M\n",
       " 1309    M\n",
       " Name: Deck, Length: 418, dtype: object)"
      ]
     },
     "execution_count": 110,
     "metadata": {},
     "output_type": "execute_result"
    }
   ],
   "source": [
    "train['Deck'], test['Deck']"
   ]
  },
  {
   "cell_type": "code",
   "execution_count": 111,
   "id": "3eb1fe0e",
   "metadata": {
    "ExecuteTime": {
     "end_time": "2023-09-07T05:54:45.342312Z",
     "start_time": "2023-09-07T05:54:45.328349Z"
    }
   },
   "outputs": [
    {
     "name": "stdout",
     "output_type": "stream",
     "text": [
      "<class 'pandas.core.frame.DataFrame'>\n",
      "Int64Index: 891 entries, 1 to 891\n",
      "Data columns (total 12 columns):\n",
      " #   Column    Non-Null Count  Dtype  \n",
      "---  ------    --------------  -----  \n",
      " 0   Survived  891 non-null    int64  \n",
      " 1   Pclass    891 non-null    int64  \n",
      " 2   Name      891 non-null    object \n",
      " 3   Sex       891 non-null    object \n",
      " 4   Age       891 non-null    int64  \n",
      " 5   SibSp     891 non-null    int64  \n",
      " 6   Parch     891 non-null    int64  \n",
      " 7   Ticket    891 non-null    object \n",
      " 8   Fare      891 non-null    float64\n",
      " 9   Cabin     204 non-null    object \n",
      " 10  Embarked  891 non-null    object \n",
      " 11  Deck      891 non-null    object \n",
      "dtypes: float64(1), int64(5), object(6)\n",
      "memory usage: 90.5+ KB\n"
     ]
    }
   ],
   "source": [
    "# train / test info() 확인 - 데이터 소실된게 있는지\n",
    "train.info()"
   ]
  },
  {
   "cell_type": "code",
   "execution_count": 112,
   "id": "48ac05ac",
   "metadata": {
    "ExecuteTime": {
     "end_time": "2023-09-07T05:54:45.357809Z",
     "start_time": "2023-09-07T05:54:45.345846Z"
    }
   },
   "outputs": [
    {
     "name": "stdout",
     "output_type": "stream",
     "text": [
      "<class 'pandas.core.frame.DataFrame'>\n",
      "Int64Index: 418 entries, 892 to 1309\n",
      "Data columns (total 11 columns):\n",
      " #   Column    Non-Null Count  Dtype  \n",
      "---  ------    --------------  -----  \n",
      " 0   Pclass    418 non-null    int64  \n",
      " 1   Name      418 non-null    object \n",
      " 2   Sex       418 non-null    object \n",
      " 3   Age       418 non-null    int64  \n",
      " 4   SibSp     418 non-null    int64  \n",
      " 5   Parch     418 non-null    int64  \n",
      " 6   Ticket    418 non-null    object \n",
      " 7   Fare      418 non-null    float64\n",
      " 8   Cabin     91 non-null     object \n",
      " 9   Embarked  418 non-null    object \n",
      " 10  Deck      418 non-null    object \n",
      "dtypes: float64(1), int64(4), object(6)\n",
      "memory usage: 39.2+ KB\n"
     ]
    }
   ],
   "source": [
    "test.info()"
   ]
  },
  {
   "cell_type": "markdown",
   "id": "a99a1973",
   "metadata": {},
   "source": [
    "### 탐색적 데이터 분석(EDA)"
   ]
  },
  {
   "cell_type": "markdown",
   "id": "431352d3",
   "metadata": {},
   "source": [
    "**Deck 컬럼 살펴보기**"
   ]
  },
  {
   "cell_type": "code",
   "execution_count": 113,
   "id": "cf29a5b1",
   "metadata": {
    "ExecuteTime": {
     "end_time": "2023-09-07T05:54:45.372769Z",
     "start_time": "2023-09-07T05:54:45.359804Z"
    }
   },
   "outputs": [
    {
     "data": {
      "text/html": [
       "<div>\n",
       "<style scoped>\n",
       "    .dataframe tbody tr th:only-of-type {\n",
       "        vertical-align: middle;\n",
       "    }\n",
       "\n",
       "    .dataframe tbody tr th {\n",
       "        vertical-align: top;\n",
       "    }\n",
       "\n",
       "    .dataframe thead th {\n",
       "        text-align: right;\n",
       "    }\n",
       "</style>\n",
       "<table border=\"1\" class=\"dataframe\">\n",
       "  <thead>\n",
       "    <tr style=\"text-align: right;\">\n",
       "      <th></th>\n",
       "      <th></th>\n",
       "      <th>Name</th>\n",
       "    </tr>\n",
       "    <tr>\n",
       "      <th>Deck</th>\n",
       "      <th>Survived</th>\n",
       "      <th></th>\n",
       "    </tr>\n",
       "  </thead>\n",
       "  <tbody>\n",
       "    <tr>\n",
       "      <th rowspan=\"2\" valign=\"top\">A</th>\n",
       "      <th>0</th>\n",
       "      <td>8</td>\n",
       "    </tr>\n",
       "    <tr>\n",
       "      <th>1</th>\n",
       "      <td>7</td>\n",
       "    </tr>\n",
       "    <tr>\n",
       "      <th rowspan=\"2\" valign=\"top\">B</th>\n",
       "      <th>0</th>\n",
       "      <td>12</td>\n",
       "    </tr>\n",
       "    <tr>\n",
       "      <th>1</th>\n",
       "      <td>35</td>\n",
       "    </tr>\n",
       "    <tr>\n",
       "      <th rowspan=\"2\" valign=\"top\">C</th>\n",
       "      <th>0</th>\n",
       "      <td>24</td>\n",
       "    </tr>\n",
       "    <tr>\n",
       "      <th>1</th>\n",
       "      <td>35</td>\n",
       "    </tr>\n",
       "    <tr>\n",
       "      <th rowspan=\"2\" valign=\"top\">D</th>\n",
       "      <th>0</th>\n",
       "      <td>8</td>\n",
       "    </tr>\n",
       "    <tr>\n",
       "      <th>1</th>\n",
       "      <td>25</td>\n",
       "    </tr>\n",
       "    <tr>\n",
       "      <th rowspan=\"2\" valign=\"top\">E</th>\n",
       "      <th>0</th>\n",
       "      <td>8</td>\n",
       "    </tr>\n",
       "    <tr>\n",
       "      <th>1</th>\n",
       "      <td>24</td>\n",
       "    </tr>\n",
       "    <tr>\n",
       "      <th rowspan=\"2\" valign=\"top\">F</th>\n",
       "      <th>0</th>\n",
       "      <td>5</td>\n",
       "    </tr>\n",
       "    <tr>\n",
       "      <th>1</th>\n",
       "      <td>8</td>\n",
       "    </tr>\n",
       "    <tr>\n",
       "      <th rowspan=\"2\" valign=\"top\">G</th>\n",
       "      <th>0</th>\n",
       "      <td>2</td>\n",
       "    </tr>\n",
       "    <tr>\n",
       "      <th>1</th>\n",
       "      <td>2</td>\n",
       "    </tr>\n",
       "    <tr>\n",
       "      <th rowspan=\"2\" valign=\"top\">M</th>\n",
       "      <th>0</th>\n",
       "      <td>481</td>\n",
       "    </tr>\n",
       "    <tr>\n",
       "      <th>1</th>\n",
       "      <td>206</td>\n",
       "    </tr>\n",
       "    <tr>\n",
       "      <th>T</th>\n",
       "      <th>0</th>\n",
       "      <td>1</td>\n",
       "    </tr>\n",
       "  </tbody>\n",
       "</table>\n",
       "</div>"
      ],
      "text/plain": [
       "               Name\n",
       "Deck Survived      \n",
       "A    0            8\n",
       "     1            7\n",
       "B    0           12\n",
       "     1           35\n",
       "C    0           24\n",
       "     1           35\n",
       "D    0            8\n",
       "     1           25\n",
       "E    0            8\n",
       "     1           24\n",
       "F    0            5\n",
       "     1            8\n",
       "G    0            2\n",
       "     1            2\n",
       "M    0          481\n",
       "     1          206\n",
       "T    0            1"
      ]
     },
     "execution_count": 113,
     "metadata": {},
     "output_type": "execute_result"
    }
   ],
   "source": [
    "# groupby : 그룹별로 데이터를 집계 요약해주는 함수\n",
    "train_deck = train[['Deck', 'Survived', 'Name']].groupby(['Deck', 'Survived']).count()\n",
    "train_deck"
   ]
  },
  {
   "cell_type": "code",
   "execution_count": 114,
   "id": "86e45ffd",
   "metadata": {
    "ExecuteTime": {
     "end_time": "2023-09-07T05:54:45.543313Z",
     "start_time": "2023-09-07T05:54:45.373766Z"
    }
   },
   "outputs": [
    {
     "data": {
      "text/plain": [
       "<AxesSubplot:xlabel='Deck', ylabel='count'>"
      ]
     },
     "execution_count": 114,
     "metadata": {},
     "output_type": "execute_result"
    },
    {
     "data": {
      "image/png": "[encoded data removed]",
      "text/plain": [
       "<Figure size 640x480 with 1 Axes>"
      ]
     },
     "metadata": {},
     "output_type": "display_data"
    }
   ],
   "source": [
    "# seaborn 라이브러리를 이용해서 시각화를 진행해보자\n",
    "sns.countplot(data=train,\n",
    "             x='Deck',\n",
    "             hue='Survived')"
   ]
  },
  {
   "cell_type": "markdown",
   "id": "596a78ad",
   "metadata": {},
   "source": [
    " - M이라는 곳에서 상대적으로 사람이 많이 죽었네(결측치 있는 부분)"
   ]
  },
  {
   "cell_type": "markdown",
   "id": "8513d0c9",
   "metadata": {},
   "source": [
    "**Pclass 살펴보기"
   ]
  },
  {
   "cell_type": "code",
   "execution_count": 115,
   "id": "6eea79f9",
   "metadata": {
    "ExecuteTime": {
     "end_time": "2023-09-07T05:54:45.666998Z",
     "start_time": "2023-09-07T05:54:45.544310Z"
    }
   },
   "outputs": [
    {
     "data": {
      "text/plain": [
       "<AxesSubplot:xlabel='Pclass', ylabel='count'>"
      ]
     },
     "execution_count": 115,
     "metadata": {},
     "output_type": "execute_result"
    },
    {
     "data": {
      "image/png": "[encoded data removed]",
      "text/plain": [
       "<Figure size 640x480 with 1 Axes>"
      ]
     },
     "metadata": {},
     "output_type": "display_data"
    }
   ],
   "source": [
    "sns.countplot(data=train,\n",
    "             x='Pclass',\n",
    "             hue='Survived')"
   ]
  },
  {
   "cell_type": "markdown",
   "id": "445b5a5b",
   "metadata": {},
   "source": [
    "- 1등급의 사람이 많이 살았고 3등급의 사람이 많이 죽었다."
   ]
  },
  {
   "cell_type": "markdown",
   "id": "42d4a167",
   "metadata": {},
   "source": [
    "**Deck과 Pclass를 동시에 시각화해보자"
   ]
  },
  {
   "cell_type": "code",
   "execution_count": 116,
   "id": "84e77787",
   "metadata": {
    "ExecuteTime": {
     "end_time": "2023-09-07T05:54:45.837567Z",
     "start_time": "2023-09-07T05:54:45.667996Z"
    }
   },
   "outputs": [
    {
     "data": {
      "text/plain": [
       "<AxesSubplot:xlabel='Deck', ylabel='count'>"
      ]
     },
     "execution_count": 116,
     "metadata": {},
     "output_type": "execute_result"
    },
    {
     "data": {
      "image/png": "[encoded data removed]",
      "text/plain": [
       "<Figure size 640x480 with 1 Axes>"
      ]
     },
     "metadata": {},
     "output_type": "display_data"
    }
   ],
   "source": [
    "sns.countplot(data=train,\n",
    "             x='Deck',\n",
    "             hue='Pclass')"
   ]
  },
  {
   "cell_type": "markdown",
   "id": "2fa15e49",
   "metadata": {},
   "source": [
    "- Deck이 'M'인 데이터(결측치인 부분)에는 3등급 사람이 많았다\n",
    "- 3등급의 사람들이 생존율이 낮았다\n",
    "- 당연히 Deck이 'M'인 사람들도 생존율이 낮을 수밖에 없다."
   ]
  },
  {
   "cell_type": "code",
   "execution_count": 117,
   "id": "4558adac",
   "metadata": {
    "ExecuteTime": {
     "end_time": "2023-09-07T05:54:45.947417Z",
     "start_time": "2023-09-07T05:54:45.838539Z"
    }
   },
   "outputs": [
    {
     "data": {
      "text/plain": [
       "<AxesSubplot:xlabel='Sex', ylabel='count'>"
      ]
     },
     "execution_count": 117,
     "metadata": {},
     "output_type": "execute_result"
    },
    {
     "data": {
      "image/png": "[encoded data removed]",
      "text/plain": [
       "<Figure size 640x480 with 1 Axes>"
      ]
     },
     "metadata": {},
     "output_type": "display_data"
    }
   ],
   "source": [
    "# 성별과 승선지를 시각화\n",
    "sns.countplot(data=train, x='Sex', hue='Embarked')"
   ]
  },
  {
   "cell_type": "markdown",
   "id": "e97463c6",
   "metadata": {},
   "source": [
    "- 남자, 여자 모두 S에서 가장 많이 탔고 Q에서 가장 적게 승선했다"
   ]
  },
  {
   "cell_type": "code",
   "execution_count": 118,
   "id": "b91736a5",
   "metadata": {
    "ExecuteTime": {
     "end_time": "2023-09-07T05:54:46.073098Z",
     "start_time": "2023-09-07T05:54:45.949439Z"
    }
   },
   "outputs": [
    {
     "data": {
      "text/plain": [
       "<AxesSubplot:xlabel='Embarked', ylabel='count'>"
      ]
     },
     "execution_count": 118,
     "metadata": {},
     "output_type": "execute_result"
    },
    {
     "data": {
      "image/png": "[encoded data removed]",
      "text/plain": [
       "<Figure size 640x480 with 1 Axes>"
      ]
     },
     "metadata": {},
     "output_type": "display_data"
    }
   ],
   "source": [
    "# 승선지와 생존율을 시각화\n",
    "sns.countplot(data=train, x='Embarked', hue='Survived')"
   ]
  },
  {
   "cell_type": "markdown",
   "id": "6fe4553b",
   "metadata": {},
   "source": [
    "- C를 제외하고는 모든 승선지의 사람들은 산사람보다 죽은 사람이 더 많다\n",
    "- S에서 승선한 사람이 가장 많이 죽었는데 S에서 승선한 인원이 많아서 어쩔 수 없어 보임"
   ]
  },
  {
   "cell_type": "code",
   "execution_count": 119,
   "id": "b6a4388a",
   "metadata": {
    "ExecuteTime": {
     "end_time": "2023-09-07T05:54:46.181606Z",
     "start_time": "2023-09-07T05:54:46.075075Z"
    }
   },
   "outputs": [
    {
     "data": {
      "text/plain": [
       "<AxesSubplot:xlabel='Sex', ylabel='count'>"
      ]
     },
     "execution_count": 119,
     "metadata": {},
     "output_type": "execute_result"
    },
    {
     "data": {
      "image/png": "[encoded data removed]",
      "text/plain": [
       "<Figure size 640x480 with 1 Axes>"
      ]
     },
     "metadata": {},
     "output_type": "display_data"
    }
   ],
   "source": [
    "# 성별과 생존 시각화\n",
    "sns.countplot(data=train, x='Sex', hue='Survived')"
   ]
  },
  {
   "cell_type": "markdown",
   "id": "782b9681",
   "metadata": {},
   "source": [
    "- 여자보단 남자가 사망비율이 더 높다\n",
    "- 남녀가 평등하지 않다"
   ]
  },
  {
   "cell_type": "code",
   "execution_count": 120,
   "id": "0bdc40bf",
   "metadata": {
    "ExecuteTime": {
     "end_time": "2023-09-07T05:54:46.368685Z",
     "start_time": "2023-09-07T05:54:46.182603Z"
    }
   },
   "outputs": [
    {
     "data": {
      "text/plain": [
       "<AxesSubplot:xlabel='Pclass', ylabel='count'>"
      ]
     },
     "execution_count": 120,
     "metadata": {},
     "output_type": "execute_result"
    },
    {
     "data": {
      "image/png": "[encoded data removed]",
      "text/plain": [
       "<Figure size 640x480 with 1 Axes>"
      ]
     },
     "metadata": {},
     "output_type": "display_data"
    }
   ],
   "source": [
    "# 승객등급과 승선지를 시각화\n",
    "sns.countplot(data=train, x='Pclass', hue='Embarked')"
   ]
  },
  {
   "cell_type": "markdown",
   "id": "9d6b05cb",
   "metadata": {},
   "source": [
    "- 3등급에 사우스햄튼 탑승자가 많다. \n",
    "- 모든 등급의 사람들이 S 승선지에서 가장 많이 승선했다."
   ]
  },
  {
   "cell_type": "code",
   "execution_count": 121,
   "id": "e374416d",
   "metadata": {
    "ExecuteTime": {
     "end_time": "2023-09-07T05:54:46.524065Z",
     "start_time": "2023-09-07T05:54:46.369562Z"
    }
   },
   "outputs": [
    {
     "data": {
      "text/plain": [
       "<AxesSubplot:xlabel='Deck', ylabel='count'>"
      ]
     },
     "execution_count": 121,
     "metadata": {},
     "output_type": "execute_result"
    },
    {
     "data": {
      "image/png": "[encoded data removed]",
      "text/plain": [
       "<Figure size 640x480 with 1 Axes>"
      ]
     },
     "metadata": {},
     "output_type": "display_data"
    }
   ],
   "source": [
    "# Deck과 승선지를 시각화 해보자\n",
    "sns.countplot(data=train, x='Deck', hue='Embarked')"
   ]
  },
  {
   "cell_type": "markdown",
   "id": "42527d5c",
   "metadata": {},
   "source": [
    "\n",
    "- Deck이 M인 사람은 사우스햄튼에서 많이 탔다.\n",
    "- 모든 층의 사람들이 S승선지에서 가장 많이 승선했다."
   ]
  },
  {
   "cell_type": "markdown",
   "id": "5c1f2a89",
   "metadata": {},
   "source": [
    "**Age 컬럼 시각화**"
   ]
  },
  {
   "cell_type": "code",
   "execution_count": 122,
   "id": "65e858f6",
   "metadata": {
    "ExecuteTime": {
     "end_time": "2023-09-07T05:54:46.665842Z",
     "start_time": "2023-09-07T05:54:46.526038Z"
    }
   },
   "outputs": [
    {
     "data": {
      "image/png": "[encoded data removed]",
      "text/plain": [
       "<Figure size 1500x500 with 1 Axes>"
      ]
     },
     "metadata": {},
     "output_type": "display_data"
    }
   ],
   "source": [
    "plt.figure(figsize=(15,5))\n",
    "# 바이올린 플롯 : 바이올린의 모양으로 데이터의 분포와 밀도를 보기 쉽게 나타낸 차트  \n",
    "# 데이터가 많은 부분은 두께가 두껍게 / 작게 분포하는 부분은 얇게 나타냄  \n",
    "\n",
    "sns.violinplot(data = train,\n",
    "              x = 'Sex',\n",
    "              y = 'Age',\n",
    "              hue = 'Survived',\n",
    "              split=True)\n",
    "\n",
    "plt.grid()\n",
    "\n",
    "# 가운데 하얀색 점 : 중앙값\n",
    "# 바이올린 내부의 두꺼운 선 : 사분위수의 범위\n",
    "# 바이올린 내부의 얇은 선 : 신뢰구간(95%  정도의 신뢰성이 있는 데이터다! 라는걸 표현)\n",
    "\n",
    "# 수치형 데이터는 연속적인 값을 가지고 있다. 그래서 유니크 값이 많으면 막대그래프의 \n",
    "# 막대가 많아진다.(보기 어려워진다.)\n",
    "# 연속된 데이터를 시각화 할때는 곡선형 그래프를 많이 이용한다.\n",
    "\n",
    "\n"
   ]
  },
  {
   "cell_type": "markdown",
   "id": "33a5f3ec",
   "metadata": {},
   "source": [
    "- 20 대에서 40대가 많이 죽었다 / 전체적인 탑승자도 많았구나.\n",
    "- 나이 많은 사람들의 생존율이 높다.  \n",
    "- 20세 이하 미성년자는 남자의 생존 비율이 더 높다 "
   ]
  },
  {
   "cell_type": "markdown",
   "id": "e9d1c4c4",
   "metadata": {},
   "source": []
  },
  {
   "cell_type": "markdown",
   "id": "50b61401",
   "metadata": {
    "ExecuteTime": {
     "end_time": "2023-09-06T07:41:28.008015Z",
     "start_time": "2023-09-06T07:41:27.993030Z"
    }
   },
   "source": [
    "**Fare 살펴보기**"
   ]
  },
  {
   "cell_type": "code",
   "execution_count": 123,
   "id": "12f943e1",
   "metadata": {
    "ExecuteTime": {
     "end_time": "2023-09-07T05:54:46.820870Z",
     "start_time": "2023-09-07T05:54:46.667512Z"
    }
   },
   "outputs": [
    {
     "data": {
      "image/png": "[encoded data removed]",
      "text/plain": [
       "<Figure size 1500x500 with 1 Axes>"
      ]
     },
     "metadata": {},
     "output_type": "display_data"
    }
   ],
   "source": [
    "plt.figure(figsize=(15,5))\n",
    "# 바이올린 플롯 : 바이올린의 모양으로 데이터의 분포와 밀도를 보기 쉽게 나타낸 차트  \n",
    "# 데이터가 많은 부분은 두께가 두껍게 / 작게 분포하는 부분은 얇게 나타냄  \n",
    "\n",
    "sns.violinplot(data = train,\n",
    "              x = 'Sex',\n",
    "              y = 'Fare',\n",
    "              hue = 'Survived',\n",
    "              split=True)\n",
    "\n",
    "plt.grid()"
   ]
  },
  {
   "cell_type": "raw",
   "id": "60636a8c",
   "metadata": {},
   "source": [
    " - 돈을 적게 낸 사람이 많이 죽었따"
   ]
  },
  {
   "cell_type": "markdown",
   "id": "eccc3556",
   "metadata": {},
   "source": [
    "### SibSp, Parch 살펴보기\n",
    "- SibSp : 함께 탑승한 형제/자매/배우자\n",
    "- Parch : 함께 탑승한 부모/ 자식\n",
    "\n",
    "**모두 합쳐서 가족으로 만들어도 되지 않을까**\n"
   ]
  },
  {
   "cell_type": "code",
   "execution_count": 124,
   "id": "a5783b45",
   "metadata": {
    "ExecuteTime": {
     "end_time": "2023-09-07T05:54:46.836616Z",
     "start_time": "2023-09-07T05:54:46.821874Z"
    }
   },
   "outputs": [],
   "source": [
    "# 컬럼 추가  \n",
    "train['Family_Size'] = train['Parch'] + train['SibSp'] + 1\n",
    "test['Family_Size'] = test['Parch'] + test['SibSp'] + 1"
   ]
  },
  {
   "cell_type": "code",
   "execution_count": 125,
   "id": "b35de7a6",
   "metadata": {
    "ExecuteTime": {
     "end_time": "2023-09-07T05:54:47.007118Z",
     "start_time": "2023-09-07T05:54:46.837613Z"
    }
   },
   "outputs": [
    {
     "data": {
      "text/plain": [
       "<AxesSubplot:xlabel='Family_Size', ylabel='count'>"
      ]
     },
     "execution_count": 125,
     "metadata": {},
     "output_type": "execute_result"
    },
    {
     "data": {
      "image/png": "[encoded data removed]",
      "text/plain": [
       "<Figure size 1500x500 with 1 Axes>"
      ]
     },
     "metadata": {},
     "output_type": "display_data"
    }
   ],
   "source": [
    "plt.figure(figsize=(15,5))\n",
    "# 바이올린 플롯 : 바이올린의 모양으로 데이터의 분포와 밀도를 보기 쉽게 나타낸 차트  \n",
    "# 데이터가 많은 부분은 두께가 두껍게 / 작게 분포하는 부분은 얇게 나타냄  \n",
    "\n",
    "\n",
    "\n",
    "sns.countplot(data = train,\n",
    "              x = 'Family_Size',\n",
    "              hue = 'Survived',\n",
    "              )\n",
    "\n"
   ]
  },
  {
   "cell_type": "markdown",
   "id": "1cf7dbbc",
   "metadata": {},
   "source": [
    "- 혼자 왔을때 많이 죽었다\n",
    "- 가족이 2~4 명 사이일때 생존율이 올라갔다\n",
    "- 5명 이상일때는 사망율이 올라갔다  \n"
   ]
  },
  {
   "cell_type": "code",
   "execution_count": 126,
   "id": "57e4ad22",
   "metadata": {
    "ExecuteTime": {
     "end_time": "2023-09-07T05:54:47.021859Z",
     "start_time": "2023-09-07T05:54:47.009111Z"
    }
   },
   "outputs": [],
   "source": [
    "# 가족사이즈가 1이면 Alone  / 2~4 small / 5명 이상이면 Large\n",
    "# 전체 가족의 숫자를 범주화 시켜서 Family_Group 이라는 컬럼을 생성\n",
    "######################################################################## Binning : 수치형 데이터를 범주형 데이터로 바꿔주는 작업\n",
    "# 사소한 관찰의 오류를 줄여주기 위해 실행하는 방법\n",
    "#######################################################################  Binning <--> encoding   인코딩 --범주형을 수치형으로\n",
    "bins = [0, 1, 4, 11]\n",
    "labels = ['Alone', 'Small','Large']\n",
    "\n",
    "train['Family_Group'] = pd.cut(train['Family_Size'],\n",
    "                              bins = bins,\n",
    "                              labels = labels)\n",
    "test['Family_Group'] = pd.cut(test['Family_Size'],\n",
    "                              bins = bins,\n",
    "                              labels = labels)"
   ]
  },
  {
   "cell_type": "code",
   "execution_count": 127,
   "id": "3250eb98",
   "metadata": {
    "ExecuteTime": {
     "end_time": "2023-09-07T05:54:47.144525Z",
     "start_time": "2023-09-07T05:54:47.023829Z"
    }
   },
   "outputs": [
    {
     "data": {
      "text/plain": [
       "<AxesSubplot:xlabel='Family_Group', ylabel='count'>"
      ]
     },
     "execution_count": 127,
     "metadata": {},
     "output_type": "execute_result"
    },
    {
     "data": {
      "image/png": "[encoded data removed]",
      "text/plain": [
       "<Figure size 640x480 with 1 Axes>"
      ]
     },
     "metadata": {},
     "output_type": "display_data"
    }
   ],
   "source": [
    "sns.countplot(data=train,\n",
    "             x='Family_Group',\n",
    "             hue='Survived',\n",
    "             )\n",
    "\n",
    "\n",
    "\n"
   ]
  },
  {
   "cell_type": "markdown",
   "id": "2af5d41e",
   "metadata": {},
   "source": [
    "### Name 다뤄보기\n",
    "- 텍스트 데이터인 Name을 다뤄보자"
   ]
  },
  {
   "cell_type": "code",
   "execution_count": 128,
   "id": "f39b871a",
   "metadata": {
    "ExecuteTime": {
     "end_time": "2023-09-07T05:54:47.159966Z",
     "start_time": "2023-09-07T05:54:47.145527Z"
    }
   },
   "outputs": [
    {
     "data": {
      "text/plain": [
       "PassengerId\n",
       "1                                Braund, Mr. Owen Harris\n",
       "2      Cumings, Mrs. John Bradley (Florence Briggs Th...\n",
       "3                                 Heikkinen, Miss. Laina\n",
       "4           Futrelle, Mrs. Jacques Heath (Lily May Peel)\n",
       "5                               Allen, Mr. William Henry\n",
       "                             ...                        \n",
       "887                                Montvila, Rev. Juozas\n",
       "888                         Graham, Miss. Margaret Edith\n",
       "889             Johnston, Miss. Catherine Helen \"Carrie\"\n",
       "890                                Behr, Mr. Karl Howell\n",
       "891                                  Dooley, Mr. Patrick\n",
       "Name: Name, Length: 891, dtype: object"
      ]
     },
     "execution_count": 128,
     "metadata": {},
     "output_type": "execute_result"
    }
   ],
   "source": [
    "train['Name']\n",
    "# 너무 많은 이름"
   ]
  },
  {
   "cell_type": "code",
   "execution_count": 129,
   "id": "479a3701",
   "metadata": {
    "ExecuteTime": {
     "end_time": "2023-09-07T05:54:47.175585Z",
     "start_time": "2023-09-07T05:54:47.161987Z"
    }
   },
   "outputs": [
    {
     "data": {
      "text/plain": [
       "891"
      ]
     },
     "execution_count": 129,
     "metadata": {},
     "output_type": "execute_result"
    }
   ],
   "source": [
    "train['Name'].unique()\n",
    "len(train['Name'].unique())"
   ]
  },
  {
   "cell_type": "markdown",
   "id": "17f8b2d3",
   "metadata": {},
   "source": [
    "- 중간 호칭으로 직업을 알수있다.\n",
    "- 외국의 이름은 미들네임(중간 호칭)이 있다.\n",
    "- 미들네임은 성별 / 결혼 유무 / 신분 /직업을 표시해주는 부분이다. \n",
    "- 미들네임만 추출해서 사용해보자  "
   ]
  },
  {
   "cell_type": "code",
   "execution_count": 130,
   "id": "9ea98edd",
   "metadata": {
    "ExecuteTime": {
     "end_time": "2023-09-07T05:54:47.190951Z",
     "start_time": "2023-09-07T05:54:47.177954Z"
    }
   },
   "outputs": [
    {
     "data": {
      "text/plain": [
       "'Braund, Mr. Owen Harris'"
      ]
     },
     "execution_count": 130,
     "metadata": {},
     "output_type": "execute_result"
    }
   ],
   "source": [
    "train['Name'][1]"
   ]
  },
  {
   "cell_type": "code",
   "execution_count": 131,
   "id": "8fe846ab",
   "metadata": {
    "ExecuteTime": {
     "end_time": "2023-09-07T05:54:47.206318Z",
     "start_time": "2023-09-07T05:54:47.193919Z"
    }
   },
   "outputs": [
    {
     "data": {
      "text/plain": [
       "' Mr'"
      ]
     },
     "execution_count": 131,
     "metadata": {},
     "output_type": "execute_result"
    }
   ],
   "source": [
    "train['Name'][1].split(',')[1].split('.')[0]"
   ]
  },
  {
   "cell_type": "code",
   "execution_count": 132,
   "id": "35e83085",
   "metadata": {
    "ExecuteTime": {
     "end_time": "2023-09-07T05:54:47.221949Z",
     "start_time": "2023-09-07T05:54:47.207857Z"
    }
   },
   "outputs": [
    {
     "data": {
      "text/plain": [
       "'Mr'"
      ]
     },
     "execution_count": 132,
     "metadata": {},
     "output_type": "execute_result"
    }
   ],
   "source": [
    "# strip() : 특정 문자열의 최선두와 최후미 공백 제거\n",
    "train['Name'][1].split(',')[1].split('.')[0].strip()"
   ]
  },
  {
   "cell_type": "code",
   "execution_count": 133,
   "id": "ff23fa69",
   "metadata": {
    "ExecuteTime": {
     "end_time": "2023-09-07T05:54:47.237816Z",
     "start_time": "2023-09-07T05:54:47.222942Z"
    }
   },
   "outputs": [],
   "source": [
    "# 이름을 쪼개주는 함수를 만들자!\n",
    "def split_title(data) : \n",
    "    result = data.split(',')[1].split('.')[0].strip()\n",
    "    return result"
   ]
  },
  {
   "cell_type": "code",
   "execution_count": 134,
   "id": "aaabbe54",
   "metadata": {
    "ExecuteTime": {
     "end_time": "2023-09-07T05:54:47.253747Z",
     "start_time": "2023-09-07T05:54:47.241779Z"
    }
   },
   "outputs": [],
   "source": [
    "train['Title'] = train['Name'].apply(split_title)\n",
    "test['Title'] = test['Name'].apply(split_title)\n",
    "\n",
    "# train.apply였다면 2차원 데이터프레임이 들어가서 축설정이 필요했다(axis 가 필요했다)\n",
    "# train['Name'].apply 였다면 1차원 시리즈가 들어가서 축설정이 필요없다(axis가 필요없다)"
   ]
  },
  {
   "cell_type": "code",
   "execution_count": 65,
   "id": "9011aa91",
   "metadata": {
    "ExecuteTime": {
     "end_time": "2023-09-07T05:51:26.626266Z",
     "start_time": "2023-09-07T05:51:26.611652Z"
    }
   },
   "outputs": [
    {
     "data": {
      "text/plain": [
       "array(['Mr', 'Mrs', 'Miss', 'Master', 'Don', 'Rev', 'Dr', 'Mme', 'Ms',\n",
       "       'Major', 'Lady', 'Sir', 'Mlle', 'Col', 'Capt', 'the Countess',\n",
       "       'Jonkheer'], dtype=object)"
      ]
     },
     "execution_count": 65,
     "metadata": {},
     "output_type": "execute_result"
    }
   ],
   "source": [
    "train['Title'].unique()"
   ]
  },
  {
   "cell_type": "code",
   "execution_count": 136,
   "id": "08432168",
   "metadata": {
    "ExecuteTime": {
     "end_time": "2023-09-07T05:55:41.740649Z",
     "start_time": "2023-09-07T05:55:41.724694Z"
    }
   },
   "outputs": [
    {
     "data": {
      "text/plain": [
       "array(['Mr', 'Mrs', 'Miss', 'Master', 'Ms', 'Col', 'Rev', 'Dr', 'Dona'],\n",
       "      dtype=object)"
      ]
     },
     "execution_count": 136,
     "metadata": {},
     "output_type": "execute_result"
    }
   ],
   "source": [
    "test['Title'].unique()"
   ]
  },
  {
   "cell_type": "code",
   "execution_count": 137,
   "id": "7abe82a1",
   "metadata": {
    "ExecuteTime": {
     "end_time": "2023-09-07T05:56:18.616673Z",
     "start_time": "2023-09-07T05:56:18.593740Z"
    }
   },
   "outputs": [
    {
     "data": {
      "text/html": [
       "<div>\n",
       "<style scoped>\n",
       "    .dataframe tbody tr th:only-of-type {\n",
       "        vertical-align: middle;\n",
       "    }\n",
       "\n",
       "    .dataframe tbody tr th {\n",
       "        vertical-align: top;\n",
       "    }\n",
       "\n",
       "    .dataframe thead th {\n",
       "        text-align: right;\n",
       "    }\n",
       "</style>\n",
       "<table border=\"1\" class=\"dataframe\">\n",
       "  <thead>\n",
       "    <tr style=\"text-align: right;\">\n",
       "      <th></th>\n",
       "      <th>Pclass</th>\n",
       "      <th>Name</th>\n",
       "      <th>Sex</th>\n",
       "      <th>Age</th>\n",
       "      <th>SibSp</th>\n",
       "      <th>Parch</th>\n",
       "      <th>Ticket</th>\n",
       "      <th>Fare</th>\n",
       "      <th>Cabin</th>\n",
       "      <th>Embarked</th>\n",
       "      <th>Deck</th>\n",
       "      <th>Family_Size</th>\n",
       "      <th>Family_Group</th>\n",
       "      <th>Title</th>\n",
       "    </tr>\n",
       "    <tr>\n",
       "      <th>PassengerId</th>\n",
       "      <th></th>\n",
       "      <th></th>\n",
       "      <th></th>\n",
       "      <th></th>\n",
       "      <th></th>\n",
       "      <th></th>\n",
       "      <th></th>\n",
       "      <th></th>\n",
       "      <th></th>\n",
       "      <th></th>\n",
       "      <th></th>\n",
       "      <th></th>\n",
       "      <th></th>\n",
       "      <th></th>\n",
       "    </tr>\n",
       "  </thead>\n",
       "  <tbody>\n",
       "    <tr>\n",
       "      <th>1306</th>\n",
       "      <td>1</td>\n",
       "      <td>Oliva y Ocana, Dona. Fermina</td>\n",
       "      <td>female</td>\n",
       "      <td>39</td>\n",
       "      <td>0</td>\n",
       "      <td>0</td>\n",
       "      <td>PC 17758</td>\n",
       "      <td>108.9</td>\n",
       "      <td>C105</td>\n",
       "      <td>C</td>\n",
       "      <td>C</td>\n",
       "      <td>1</td>\n",
       "      <td>Alone</td>\n",
       "      <td>Dona</td>\n",
       "    </tr>\n",
       "  </tbody>\n",
       "</table>\n",
       "</div>"
      ],
      "text/plain": [
       "             Pclass                          Name     Sex  Age  SibSp  Parch  \\\n",
       "PassengerId                                                                    \n",
       "1306              1  Oliva y Ocana, Dona. Fermina  female   39      0      0   \n",
       "\n",
       "               Ticket   Fare Cabin Embarked Deck  Family_Size Family_Group  \\\n",
       "PassengerId                                                                  \n",
       "1306         PC 17758  108.9  C105        C    C            1        Alone   \n",
       "\n",
       "            Title  \n",
       "PassengerId        \n",
       "1306         Dona  "
      ]
     },
     "execution_count": 137,
     "metadata": {},
     "output_type": "execute_result"
    }
   ],
   "source": [
    "test[test['Title'] == 'Dona']"
   ]
  },
  {
   "cell_type": "code",
   "execution_count": 138,
   "id": "4d925b60",
   "metadata": {
    "ExecuteTime": {
     "end_time": "2023-09-07T05:57:04.499660Z",
     "start_time": "2023-09-07T05:57:04.284632Z"
    }
   },
   "outputs": [
    {
     "data": {
      "text/plain": [
       "<AxesSubplot:xlabel='Title', ylabel='count'>"
      ]
     },
     "execution_count": 138,
     "metadata": {},
     "output_type": "execute_result"
    },
    {
     "data": {
      "image/png": "[encoded data removed]",
      "text/plain": [
       "<Figure size 1500x500 with 1 Axes>"
      ]
     },
     "metadata": {},
     "output_type": "display_data"
    }
   ],
   "source": [
    "plt.figure(figsize=(15,5))\n",
    "\n",
    "sns.countplot(data=train,\n",
    "             x='Title',\n",
    "             hue='Survived')"
   ]
  },
  {
   "cell_type": "markdown",
   "id": "adfb6ab1",
   "metadata": {},
   "source": [
    "- Title의 호칭 정리\n",
    "\n",
    "- 'Mr'\n",
    "- 'Mrs'\n",
    "- 'Miss' \n",
    "- 'Master' = 미성년자 남성\n",
    "- 'Don' = 일반적 남자 부르는 호칭\n",
    "- 'Rev' = 목사님\n",
    "- 'Dr' = 의사\n",
    "- 'Mme' = 기혼 여성을 높여 부르는 말\n",
    "- 'Ms' = 결혼 여부와 산관없이 여성\n",
    "- 'Major' = 소령 / 시장\n",
    "- 'Lady' = 아가씨\n",
    "- 'Sir' = 기사\n",
    "- 'Mlle' = 마드 모아젤 / 프랑스에서 미혼 여성 일반적으로 붙는 호칭\n",
    "- 'Col' = 육군 대령 / 미국 남부에서는 신사\n",
    "- 'Capt' = 선장 / 대위\n",
    "- 'the Countess' =  주지사\n",
    "- 'Jonkheer' = 작위가 없는 무명 귀족"
   ]
  },
  {
   "cell_type": "markdown",
   "id": "ca24d596",
   "metadata": {},
   "source": [
    "- Mr, Mrs, Miss, Master, Rev를 제외한 모든 호칭은 상대적으로 갯수가 적으니까 Other라고 묶어서 활용해보자"
   ]
  },
  {
   "cell_type": "code",
   "execution_count": 139,
   "id": "bc50e5cd",
   "metadata": {
    "ExecuteTime": {
     "end_time": "2023-09-07T05:57:05.962356Z",
     "start_time": "2023-09-07T05:57:05.941388Z"
    }
   },
   "outputs": [
    {
     "data": {
      "text/plain": [
       "['Mr',\n",
       " 'Mrs',\n",
       " 'Miss',\n",
       " 'Master',\n",
       " 'Rev',\n",
       " 'Don',\n",
       " 'Dr',\n",
       " 'Mme',\n",
       " 'Ms',\n",
       " 'Major',\n",
       " 'Lady',\n",
       " 'Sir',\n",
       " 'Mlle',\n",
       " 'Col',\n",
       " 'Capt',\n",
       " 'the Countess',\n",
       " 'Jonkheer']"
      ]
     },
     "execution_count": 139,
     "metadata": {},
     "output_type": "execute_result"
    }
   ],
   "source": [
    "# train['Title']의 unique 값을 그대로 복사해와서 title이라는 리스트에 담아주기\n",
    "\n",
    "# Don / Rev라는 호칭의 순서를 바꿔주자(zip함수를 사용할때 순서를 맞춰주기 위해서)\n",
    "\n",
    "title=['Mr', 'Mrs', 'Miss', 'Master', 'Rev', 'Don', 'Dr', 'Mme', 'Ms',\n",
    "       'Major', 'Lady', 'Sir', 'Mlle', 'Col', 'Capt', 'the Countess',\n",
    "       'Jonkheer']\n",
    "title"
   ]
  },
  {
   "cell_type": "code",
   "execution_count": 140,
   "id": "96c6509e",
   "metadata": {
    "ExecuteTime": {
     "end_time": "2023-09-07T05:57:11.859050Z",
     "start_time": "2023-09-07T05:57:11.839103Z"
    }
   },
   "outputs": [
    {
     "data": {
      "text/plain": [
       "['Mr',\n",
       " 'Mrs',\n",
       " 'Miss',\n",
       " 'Master',\n",
       " 'Rev',\n",
       " 'Other',\n",
       " 'Other',\n",
       " 'Other',\n",
       " 'Other',\n",
       " 'Other',\n",
       " 'Other',\n",
       " 'Other',\n",
       " 'Other',\n",
       " 'Other',\n",
       " 'Other',\n",
       " 'Other',\n",
       " 'Other']"
      ]
     },
     "execution_count": 140,
     "metadata": {},
     "output_type": "execute_result"
    }
   ],
   "source": [
    "convert_title = ['Mr', 'Mrs', 'Miss', 'Master', 'Rev'] + ['Other']*12\n",
    "convert_title"
   ]
  },
  {
   "cell_type": "code",
   "execution_count": 141,
   "id": "8f0570b1",
   "metadata": {
    "ExecuteTime": {
     "end_time": "2023-09-07T05:57:12.606228Z",
     "start_time": "2023-09-07T05:57:12.594260Z"
    }
   },
   "outputs": [
    {
     "data": {
      "text/plain": [
       "{'Mr': 'Mr',\n",
       " 'Mrs': 'Mrs',\n",
       " 'Miss': 'Miss',\n",
       " 'Master': 'Master',\n",
       " 'Rev': 'Rev',\n",
       " 'Don': 'Other',\n",
       " 'Dr': 'Other',\n",
       " 'Mme': 'Other',\n",
       " 'Ms': 'Other',\n",
       " 'Major': 'Other',\n",
       " 'Lady': 'Other',\n",
       " 'Sir': 'Other',\n",
       " 'Mlle': 'Other',\n",
       " 'Col': 'Other',\n",
       " 'Capt': 'Other',\n",
       " 'the Countess': 'Other',\n",
       " 'Jonkheer': 'Other'}"
      ]
     },
     "execution_count": 141,
     "metadata": {},
     "output_type": "execute_result"
    }
   ],
   "source": [
    "# dict(zip()) 함수를 이용해서 리스트형태인 title과 convert_title을 차례대로\n",
    "# key와 value로 가지는 딕셔너리호 만들겠다!\n",
    "title_dict = dict(zip(title, convert_title))\n",
    "title_dict\n"
   ]
  },
  {
   "cell_type": "code",
   "execution_count": 144,
   "id": "073ac8bf",
   "metadata": {
    "ExecuteTime": {
     "end_time": "2023-09-07T05:58:35.799516Z",
     "start_time": "2023-09-07T05:58:35.785535Z"
    }
   },
   "outputs": [],
   "source": [
    "# test 데이터 프레임에만 있는 :  Dona 를 Other로 추가 해주자\n",
    "title_dict['Dona'] = 'Other'\n"
   ]
  },
  {
   "cell_type": "code",
   "execution_count": null,
   "id": "2cc21e43",
   "metadata": {},
   "outputs": [],
   "source": []
  },
  {
   "cell_type": "code",
   "execution_count": 145,
   "id": "16060645",
   "metadata": {
    "ExecuteTime": {
     "end_time": "2023-09-07T05:58:43.292059Z",
     "start_time": "2023-09-07T05:58:43.275081Z"
    }
   },
   "outputs": [
    {
     "data": {
      "text/plain": [
       "array(['Mr', 'Mrs', 'Miss', 'Master', 'Other', 'Rev'], dtype=object)"
      ]
     },
     "execution_count": 145,
     "metadata": {},
     "output_type": "execute_result"
    }
   ],
   "source": [
    "# 실제 데이터프레임 title 컬럼에 있는 내부의 value 값을 title_dict를 이용해서\n",
    "# 변환시켜주자\n",
    "\n",
    "train['Title'] = train['Title'].map(title_dict)\n",
    "train['Title'].unique()"
   ]
  },
  {
   "cell_type": "code",
   "execution_count": 146,
   "id": "13c6cf3e",
   "metadata": {
    "ExecuteTime": {
     "end_time": "2023-09-07T05:59:03.608105Z",
     "start_time": "2023-09-07T05:59:03.588158Z"
    }
   },
   "outputs": [
    {
     "data": {
      "text/plain": [
       "array(['Mr', 'Mrs', 'Miss', 'Master', 'Other', 'Rev'], dtype=object)"
      ]
     },
     "execution_count": 146,
     "metadata": {},
     "output_type": "execute_result"
    }
   ],
   "source": [
    "test['Title'] = test['Title'].map(title_dict)\n",
    "test['Title'].unique()"
   ]
  },
  {
   "cell_type": "code",
   "execution_count": 147,
   "id": "100c50f8",
   "metadata": {
    "ExecuteTime": {
     "end_time": "2023-09-07T05:59:27.360085Z",
     "start_time": "2023-09-07T05:59:27.340112Z"
    }
   },
   "outputs": [
    {
     "name": "stdout",
     "output_type": "stream",
     "text": [
      "<class 'pandas.core.frame.DataFrame'>\n",
      "Int64Index: 891 entries, 1 to 891\n",
      "Data columns (total 15 columns):\n",
      " #   Column        Non-Null Count  Dtype   \n",
      "---  ------        --------------  -----   \n",
      " 0   Survived      891 non-null    int64   \n",
      " 1   Pclass        891 non-null    int64   \n",
      " 2   Name          891 non-null    object  \n",
      " 3   Sex           891 non-null    object  \n",
      " 4   Age           891 non-null    int64   \n",
      " 5   SibSp         891 non-null    int64   \n",
      " 6   Parch         891 non-null    int64   \n",
      " 7   Ticket        891 non-null    object  \n",
      " 8   Fare          891 non-null    float64 \n",
      " 9   Cabin         204 non-null    object  \n",
      " 10  Embarked      891 non-null    object  \n",
      " 11  Deck          891 non-null    object  \n",
      " 12  Family_Size   891 non-null    int64   \n",
      " 13  Family_Group  891 non-null    category\n",
      " 14  Title         891 non-null    object  \n",
      "dtypes: category(1), float64(1), int64(6), object(7)\n",
      "memory usage: 137.7+ KB\n"
     ]
    }
   ],
   "source": [
    "train.info()"
   ]
  },
  {
   "cell_type": "markdown",
   "id": "b8849110",
   "metadata": {},
   "source": [
    "**Ticket 살펴보기**"
   ]
  },
  {
   "cell_type": "code",
   "execution_count": 148,
   "id": "0b9ae5d0",
   "metadata": {
    "ExecuteTime": {
     "end_time": "2023-09-07T06:15:07.975699Z",
     "start_time": "2023-09-07T06:15:07.954729Z"
    }
   },
   "outputs": [
    {
     "data": {
      "text/plain": [
       "PassengerId\n",
       "1             A/5 21171\n",
       "2              PC 17599\n",
       "3      STON/O2. 3101282\n",
       "4                113803\n",
       "5                373450\n",
       "             ...       \n",
       "887              211536\n",
       "888              112053\n",
       "889          W./C. 6607\n",
       "890              111369\n",
       "891              370376\n",
       "Name: Ticket, Length: 891, dtype: object"
      ]
     },
     "execution_count": 148,
     "metadata": {},
     "output_type": "execute_result"
    }
   ],
   "source": [
    "train['Ticket']"
   ]
  },
  {
   "cell_type": "code",
   "execution_count": 149,
   "id": "43882e97",
   "metadata": {
    "ExecuteTime": {
     "end_time": "2023-09-07T06:15:27.202810Z",
     "start_time": "2023-09-07T06:15:27.183871Z"
    }
   },
   "outputs": [
    {
     "data": {
      "text/plain": [
       "array(['A/5 21171', 'PC 17599', 'STON/O2. 3101282', '113803', '373450',\n",
       "       '330877', '17463', '349909', '347742', '237736', 'PP 9549',\n",
       "       '113783', 'A/5. 2151', '347082', '350406', '248706', '382652',\n",
       "       '244373', '345763', '2649', '239865', '248698', '330923', '113788',\n",
       "       '347077', '2631', '19950', '330959', '349216', 'PC 17601',\n",
       "       'PC 17569', '335677', 'C.A. 24579', 'PC 17604', '113789', '2677',\n",
       "       'A./5. 2152', '345764', '2651', '7546', '11668', '349253',\n",
       "       'SC/Paris 2123', '330958', 'S.C./A.4. 23567', '370371', '14311',\n",
       "       '2662', '349237', '3101295', 'A/4. 39886', 'PC 17572', '2926',\n",
       "       '113509', '19947', 'C.A. 31026', '2697', 'C.A. 34651', 'CA 2144',\n",
       "       '2669', '113572', '36973', '347088', 'PC 17605', '2661',\n",
       "       'C.A. 29395', 'S.P. 3464', '3101281', '315151', 'C.A. 33111',\n",
       "       'S.O.C. 14879', '2680', '1601', '348123', '349208', '374746',\n",
       "       '248738', '364516', '345767', '345779', '330932', '113059',\n",
       "       'SO/C 14885', '3101278', 'W./C. 6608', 'SOTON/OQ 392086', '343275',\n",
       "       '343276', '347466', 'W.E.P. 5734', 'C.A. 2315', '364500', '374910',\n",
       "       'PC 17754', 'PC 17759', '231919', '244367', '349245', '349215',\n",
       "       '35281', '7540', '3101276', '349207', '343120', '312991', '349249',\n",
       "       '371110', '110465', '2665', '324669', '4136', '2627',\n",
       "       'STON/O 2. 3101294', '370369', 'PC 17558', 'A4. 54510', '27267',\n",
       "       '370372', 'C 17369', '2668', '347061', '349241',\n",
       "       'SOTON/O.Q. 3101307', 'A/5. 3337', '228414', 'C.A. 29178',\n",
       "       'SC/PARIS 2133', '11752', '7534', 'PC 17593', '2678', '347081',\n",
       "       'STON/O2. 3101279', '365222', '231945', 'C.A. 33112', '350043',\n",
       "       '230080', '244310', 'S.O.P. 1166', '113776', 'A.5. 11206',\n",
       "       'A/5. 851', 'Fa 265302', 'PC 17597', '35851', 'SOTON/OQ 392090',\n",
       "       '315037', 'CA. 2343', '371362', 'C.A. 33595', '347068', '315093',\n",
       "       '363291', '113505', 'PC 17318', '111240', 'STON/O 2. 3101280',\n",
       "       '17764', '350404', '4133', 'PC 17595', '250653', 'LINE',\n",
       "       'SC/PARIS 2131', '230136', '315153', '113767', '370365', '111428',\n",
       "       '364849', '349247', '234604', '28424', '350046', 'PC 17610',\n",
       "       '368703', '4579', '370370', '248747', '345770', '3101264', '2628',\n",
       "       'A/5 3540', '347054', '2699', '367231', '112277',\n",
       "       'SOTON/O.Q. 3101311', 'F.C.C. 13528', 'A/5 21174', '250646',\n",
       "       '367229', '35273', 'STON/O2. 3101283', '243847', '11813',\n",
       "       'W/C 14208', 'SOTON/OQ 392089', '220367', '21440', '349234',\n",
       "       '19943', 'PP 4348', 'SW/PP 751', 'A/5 21173', '236171', '347067',\n",
       "       '237442', 'C.A. 29566', 'W./C. 6609', '26707', 'C.A. 31921',\n",
       "       '28665', 'SCO/W 1585', '367230', 'W./C. 14263',\n",
       "       'STON/O 2. 3101275', '2694', '19928', '347071', '250649', '11751',\n",
       "       '244252', '362316', '113514', 'A/5. 3336', '370129', '2650',\n",
       "       'PC 17585', '110152', 'PC 17755', '230433', '384461', '110413',\n",
       "       '112059', '382649', 'C.A. 17248', '347083', 'PC 17582', 'PC 17760',\n",
       "       '113798', '250644', 'PC 17596', '370375', '13502', '347073',\n",
       "       '239853', 'C.A. 2673', '336439', '347464', '345778', 'A/5. 10482',\n",
       "       '113056', '349239', '345774', '349206', '237798', '370373',\n",
       "       '19877', '11967', 'SC/Paris 2163', '349236', '349233', 'PC 17612',\n",
       "       '2693', '113781', '19988', '9234', '367226', '226593', 'A/5 2466',\n",
       "       '17421', 'PC 17758', 'P/PP 3381', 'PC 17485', '11767', 'PC 17608',\n",
       "       '250651', '349243', 'F.C.C. 13529', '347470', '29011', '36928',\n",
       "       '16966', 'A/5 21172', '349219', '234818', '345364', '28551',\n",
       "       '111361', '113043', 'PC 17611', '349225', '7598', '113784',\n",
       "       '248740', '244361', '229236', '248733', '31418', '386525',\n",
       "       'C.A. 37671', '315088', '7267', '113510', '2695', '2647', '345783',\n",
       "       '237671', '330931', '330980', 'SC/PARIS 2167', '2691',\n",
       "       'SOTON/O.Q. 3101310', 'C 7076', '110813', '2626', '14313',\n",
       "       'PC 17477', '11765', '3101267', '323951', 'C 7077', '113503',\n",
       "       '2648', '347069', 'PC 17757', '2653', 'STON/O 2. 3101293',\n",
       "       '349227', '27849', '367655', 'SC 1748', '113760', '350034',\n",
       "       '3101277', '350052', '350407', '28403', '244278', '240929',\n",
       "       'STON/O 2. 3101289', '341826', '4137', '315096', '28664', '347064',\n",
       "       '29106', '312992', '349222', '394140', 'STON/O 2. 3101269',\n",
       "       '343095', '28220', '250652', '28228', '345773', '349254',\n",
       "       'A/5. 13032', '315082', '347080', 'A/4. 34244', '2003', '250655',\n",
       "       '364851', 'SOTON/O.Q. 392078', '110564', '376564', 'SC/AH 3085',\n",
       "       'STON/O 2. 3101274', '13507', 'C.A. 18723', '345769', '347076',\n",
       "       '230434', '65306', '33638', '113794', '2666', '113786', '65303',\n",
       "       '113051', '17453', 'A/5 2817', '349240', '13509', '17464',\n",
       "       'F.C.C. 13531', '371060', '19952', '364506', '111320', '234360',\n",
       "       'A/S 2816', 'SOTON/O.Q. 3101306', '113792', '36209', '323592',\n",
       "       '315089', 'SC/AH Basle 541', '7553', '31027', '3460', '350060',\n",
       "       '3101298', '239854', 'A/5 3594', '4134', '11771', 'A.5. 18509',\n",
       "       '65304', 'SOTON/OQ 3101317', '113787', 'PC 17609', 'A/4 45380',\n",
       "       '36947', 'C.A. 6212', '350035', '315086', '364846', '330909',\n",
       "       '4135', '26360', '111427', 'C 4001', '382651', 'SOTON/OQ 3101316',\n",
       "       'PC 17473', 'PC 17603', '349209', '36967', 'C.A. 34260', '226875',\n",
       "       '349242', '12749', '349252', '2624', '2700', '367232',\n",
       "       'W./C. 14258', 'PC 17483', '3101296', '29104', '2641', '2690',\n",
       "       '315084', '113050', 'PC 17761', '364498', '13568', 'WE/P 5735',\n",
       "       '2908', '693', 'SC/PARIS 2146', '244358', '330979', '2620',\n",
       "       '347085', '113807', '11755', '345572', '372622', '349251',\n",
       "       '218629', 'SOTON/OQ 392082', 'SOTON/O.Q. 392087', 'A/4 48871',\n",
       "       '349205', '2686', '350417', 'S.W./PP 752', '11769', 'PC 17474',\n",
       "       '14312', 'A/4. 20589', '358585', '243880', '2689',\n",
       "       'STON/O 2. 3101286', '237789', '13049', '3411', '237565', '13567',\n",
       "       '14973', 'A./5. 3235', 'STON/O 2. 3101273', 'A/5 3902', '364848',\n",
       "       'SC/AH 29037', '248727', '2664', '349214', '113796', '364511',\n",
       "       '111426', '349910', '349246', '113804', 'SOTON/O.Q. 3101305',\n",
       "       '370377', '364512', '220845', '31028', '2659', '11753', '350029',\n",
       "       '54636', '36963', '219533', '349224', '334912', '27042', '347743',\n",
       "       '13214', '112052', '237668', 'STON/O 2. 3101292', '350050',\n",
       "       '349231', '13213', 'S.O./P.P. 751', 'CA. 2314', '349221', '8475',\n",
       "       '330919', '365226', '349223', '29751', '2623', '5727', '349210',\n",
       "       'STON/O 2. 3101285', '234686', '312993', 'A/5 3536', '19996',\n",
       "       '29750', 'F.C. 12750', 'C.A. 24580', '244270', '239856', '349912',\n",
       "       '342826', '4138', '330935', '6563', '349228', '350036', '24160',\n",
       "       '17474', '349256', '2672', '113800', '248731', '363592', '35852',\n",
       "       '348121', 'PC 17475', '36864', '350025', '223596', 'PC 17476',\n",
       "       'PC 17482', '113028', '7545', '250647', '348124', '34218', '36568',\n",
       "       '347062', '350048', '12233', '250643', '113806', '315094', '36866',\n",
       "       '236853', 'STON/O2. 3101271', '239855', '28425', '233639',\n",
       "       '349201', '349218', '16988', '376566', 'STON/O 2. 3101288',\n",
       "       '250648', '113773', '335097', '29103', '392096', '345780',\n",
       "       '349204', '350042', '29108', '363294', 'SOTON/O2 3101272', '2663',\n",
       "       '347074', '112379', '364850', '8471', '345781', '350047',\n",
       "       'S.O./P.P. 3', '2674', '29105', '347078', '383121', '36865',\n",
       "       '2687', '113501', 'W./C. 6607', 'SOTON/O.Q. 3101312', '374887',\n",
       "       '3101265', '12460', 'PC 17600', '349203', '28213', '17465',\n",
       "       '349244', '2685', '2625', '347089', '347063', '112050', '347087',\n",
       "       '248723', '3474', '28206', '364499', '112058', 'STON/O2. 3101290',\n",
       "       'S.C./PARIS 2079', 'C 7075', '315098', '19972', '368323', '367228',\n",
       "       '2671', '347468', '2223', 'PC 17756', '315097', '392092', '11774',\n",
       "       'SOTON/O2 3101287', '2683', '315090', 'C.A. 5547', '349213',\n",
       "       '347060', 'PC 17592', '392091', '113055', '2629', '350026',\n",
       "       '28134', '17466', '233866', '236852', 'SC/PARIS 2149', 'PC 17590',\n",
       "       '345777', '349248', '695', '345765', '2667', '349212', '349217',\n",
       "       '349257', '7552', 'C.A./SOTON 34068', 'SOTON/OQ 392076', '211536',\n",
       "       '112053', '111369', '370376'], dtype=object)"
      ]
     },
     "execution_count": 149,
     "metadata": {},
     "output_type": "execute_result"
    }
   ],
   "source": [
    "train['Ticket'].unique()"
   ]
  },
  {
   "cell_type": "markdown",
   "id": "50e4b330",
   "metadata": {},
   "source": [
    "- Ticket은 데이터가 너무 넓고 얕게 분포가 되어있다.\n",
    "- Cabin 처럼 특정한 패턴을 가지고 있지도 않다.\n",
    "- 사용할 수 없는 것으로 판단을 하고 삭제를 진행하자."
   ]
  },
  {
   "cell_type": "code",
   "execution_count": 150,
   "id": "be52e010",
   "metadata": {
    "ExecuteTime": {
     "end_time": "2023-09-07T06:19:43.040613Z",
     "start_time": "2023-09-07T06:19:43.025631Z"
    }
   },
   "outputs": [
    {
     "name": "stdout",
     "output_type": "stream",
     "text": [
      "<class 'pandas.core.frame.DataFrame'>\n",
      "Int64Index: 891 entries, 1 to 891\n",
      "Data columns (total 15 columns):\n",
      " #   Column        Non-Null Count  Dtype   \n",
      "---  ------        --------------  -----   \n",
      " 0   Survived      891 non-null    int64   \n",
      " 1   Pclass        891 non-null    int64   \n",
      " 2   Name          891 non-null    object  \n",
      " 3   Sex           891 non-null    object  \n",
      " 4   Age           891 non-null    int64   \n",
      " 5   SibSp         891 non-null    int64   \n",
      " 6   Parch         891 non-null    int64   \n",
      " 7   Ticket        891 non-null    object  \n",
      " 8   Fare          891 non-null    float64 \n",
      " 9   Cabin         204 non-null    object  \n",
      " 10  Embarked      891 non-null    object  \n",
      " 11  Deck          891 non-null    object  \n",
      " 12  Family_Size   891 non-null    int64   \n",
      " 13  Family_Group  891 non-null    category\n",
      " 14  Title         891 non-null    object  \n",
      "dtypes: category(1), float64(1), int64(6), object(7)\n",
      "memory usage: 137.7+ KB\n"
     ]
    }
   ],
   "source": [
    "train.info()"
   ]
  },
  {
   "cell_type": "code",
   "execution_count": 151,
   "id": "438a1331",
   "metadata": {
    "ExecuteTime": {
     "end_time": "2023-09-07T06:21:23.376757Z",
     "start_time": "2023-09-07T06:21:23.353819Z"
    }
   },
   "outputs": [
    {
     "name": "stdout",
     "output_type": "stream",
     "text": [
      "<class 'pandas.core.frame.DataFrame'>\n",
      "Int64Index: 418 entries, 892 to 1309\n",
      "Data columns (total 14 columns):\n",
      " #   Column        Non-Null Count  Dtype   \n",
      "---  ------        --------------  -----   \n",
      " 0   Pclass        418 non-null    int64   \n",
      " 1   Name          418 non-null    object  \n",
      " 2   Sex           418 non-null    object  \n",
      " 3   Age           418 non-null    int64   \n",
      " 4   SibSp         418 non-null    int64   \n",
      " 5   Parch         418 non-null    int64   \n",
      " 6   Ticket        418 non-null    object  \n",
      " 7   Fare          418 non-null    float64 \n",
      " 8   Cabin         91 non-null     object  \n",
      " 9   Embarked      418 non-null    object  \n",
      " 10  Deck          418 non-null    object  \n",
      " 11  Family_Size   418 non-null    int64   \n",
      " 12  Family_Group  418 non-null    category\n",
      " 13  Title         418 non-null    object  \n",
      "dtypes: category(1), float64(1), int64(5), object(7)\n",
      "memory usage: 46.3+ KB\n"
     ]
    }
   ],
   "source": [
    "test.info()"
   ]
  },
  {
   "cell_type": "markdown",
   "id": "660ed516",
   "metadata": {},
   "source": [
    "**필요없는 컬럼삭제**\n",
    "- train : Ticket , Name, SIbsp,Parch, Cabin , Family_Size\n",
    "- test : Ticket , Name, SIbsp,Parch, Cabin , Family_Size"
   ]
  },
  {
   "cell_type": "code",
   "execution_count": 153,
   "id": "67ac388a",
   "metadata": {
    "ExecuteTime": {
     "end_time": "2023-09-07T06:23:58.208320Z",
     "start_time": "2023-09-07T06:23:58.194334Z"
    }
   },
   "outputs": [],
   "source": [
    "train.drop(['Ticket',  'Name', 'SibSp','Parch', 'Cabin' , 'Family_Size' ], axis = 1,\n",
    "          inplace = True)"
   ]
  },
  {
   "cell_type": "code",
   "execution_count": 155,
   "id": "09762440",
   "metadata": {
    "ExecuteTime": {
     "end_time": "2023-09-07T06:24:09.444717Z",
     "start_time": "2023-09-07T06:24:09.435741Z"
    }
   },
   "outputs": [],
   "source": [
    "test.drop(['Ticket',  'Name', 'SibSp','Parch', 'Cabin' , 'Family_Size' ], axis = 1,\n",
    "          inplace = True)"
   ]
  },
  {
   "cell_type": "code",
   "execution_count": 156,
   "id": "2bbe5bde",
   "metadata": {
    "ExecuteTime": {
     "end_time": "2023-09-07T06:24:19.280292Z",
     "start_time": "2023-09-07T06:24:19.271316Z"
    }
   },
   "outputs": [
    {
     "name": "stdout",
     "output_type": "stream",
     "text": [
      "<class 'pandas.core.frame.DataFrame'>\n",
      "Int64Index: 891 entries, 1 to 891\n",
      "Data columns (total 9 columns):\n",
      " #   Column        Non-Null Count  Dtype   \n",
      "---  ------        --------------  -----   \n",
      " 0   Survived      891 non-null    int64   \n",
      " 1   Pclass        891 non-null    int64   \n",
      " 2   Sex           891 non-null    object  \n",
      " 3   Age           891 non-null    int64   \n",
      " 4   Fare          891 non-null    float64 \n",
      " 5   Embarked      891 non-null    object  \n",
      " 6   Deck          891 non-null    object  \n",
      " 7   Family_Group  891 non-null    category\n",
      " 8   Title         891 non-null    object  \n",
      "dtypes: category(1), float64(1), int64(3), object(4)\n",
      "memory usage: 95.9+ KB\n"
     ]
    }
   ],
   "source": [
    "train.info()"
   ]
  },
  {
   "cell_type": "code",
   "execution_count": 158,
   "id": "f83770e0",
   "metadata": {
    "ExecuteTime": {
     "end_time": "2023-09-07T06:24:33.858163Z",
     "start_time": "2023-09-07T06:24:33.842207Z"
    }
   },
   "outputs": [
    {
     "name": "stdout",
     "output_type": "stream",
     "text": [
      "<class 'pandas.core.frame.DataFrame'>\n",
      "Int64Index: 418 entries, 892 to 1309\n",
      "Data columns (total 8 columns):\n",
      " #   Column        Non-Null Count  Dtype   \n",
      "---  ------        --------------  -----   \n",
      " 0   Pclass        418 non-null    int64   \n",
      " 1   Sex           418 non-null    object  \n",
      " 2   Age           418 non-null    int64   \n",
      " 3   Fare          418 non-null    float64 \n",
      " 4   Embarked      418 non-null    object  \n",
      " 5   Deck          418 non-null    object  \n",
      " 6   Family_Group  418 non-null    category\n",
      " 7   Title         418 non-null    object  \n",
      "dtypes: category(1), float64(1), int64(2), object(4)\n",
      "memory usage: 26.7+ KB\n"
     ]
    }
   ],
   "source": [
    "test.info()"
   ]
  },
  {
   "cell_type": "markdown",
   "id": "fd079bce",
   "metadata": {},
   "source": [
    "### 모델링 \n",
    "- 데이터 분리\n"
   ]
  },
  {
   "cell_type": "markdown",
   "id": "6ead5d2f",
   "metadata": {},
   "source": [
    "1. 보유하고 있는 데이터 형태  \n",
    "1-1 문제와 정답으로 나눠진 데이터  - > 훈련 / 평가  \n",
    "1-2 훈련과 평가로 나눠진 데이터  - > 타이타닉 (문제 / 정답)   \n",
    "1-3 하나로 통합된 데이터 -> 1-1 -> 1-2  "
   ]
  },
  {
   "cell_type": "code",
   "execution_count": 169,
   "id": "be45a542",
   "metadata": {
    "ExecuteTime": {
     "end_time": "2023-09-07T06:52:15.012329Z",
     "start_time": "2023-09-07T06:52:14.994353Z"
    }
   },
   "outputs": [],
   "source": [
    "X_train = pd.read_csv('./data/train.csv', index_col='PassengerId').drop(['Survived'], axis=1, inplace=True)\n",
    "y_train = pd.read_csv('./data/train.csv', index_col='PassengerId')['Survieved']                                                         "
   ]
  },
  {
   "cell_type": "code",
   "execution_count": 170,
   "id": "0bcf2b6a",
   "metadata": {
    "ExecuteTime": {
     "end_time": "2023-09-07T06:56:29.657154Z",
     "start_time": "2023-09-07T06:56:29.637207Z"
    }
   },
   "outputs": [],
   "source": [
    "# 데이터 문제 / 정답 분리\n",
    "# hint : train에는 있고 test에는 없는 컬럼이 있다. 'Survived'\n",
    "X_train = train.drop('Survived', axis = 1)\n",
    "y_train = train['Survived']\n",
    "X_test = test"
   ]
  },
  {
   "attachments": {
    "image.png": {
     "image/png": "[encoded data removed]"
    }
   },
   "cell_type": "markdown",
   "id": "cb2194f8",
   "metadata": {},
   "source": [
    "![image.png](attachment:image.png)"
   ]
  },
  {
   "cell_type": "code",
   "execution_count": 172,
   "id": "083b7d4b",
   "metadata": {
    "ExecuteTime": {
     "end_time": "2023-09-07T06:57:35.915909Z",
     "start_time": "2023-09-07T06:57:35.908928Z"
    }
   },
   "outputs": [
    {
     "data": {
      "text/plain": [
       "((891, 8), (418, 8), (891,))"
      ]
     },
     "execution_count": 172,
     "metadata": {},
     "output_type": "execute_result"
    }
   ],
   "source": [
    "X_train.shape, X_test.shape, y_train.shape"
   ]
  },
  {
   "cell_type": "code",
   "execution_count": 174,
   "id": "9b5b3c16",
   "metadata": {
    "ExecuteTime": {
     "end_time": "2023-09-07T06:58:29.258340Z",
     "start_time": "2023-09-07T06:58:29.238418Z"
    }
   },
   "outputs": [
    {
     "data": {
      "text/html": [
       "<div>\n",
       "<style scoped>\n",
       "    .dataframe tbody tr th:only-of-type {\n",
       "        vertical-align: middle;\n",
       "    }\n",
       "\n",
       "    .dataframe tbody tr th {\n",
       "        vertical-align: top;\n",
       "    }\n",
       "\n",
       "    .dataframe thead th {\n",
       "        text-align: right;\n",
       "    }\n",
       "</style>\n",
       "<table border=\"1\" class=\"dataframe\">\n",
       "  <thead>\n",
       "    <tr style=\"text-align: right;\">\n",
       "      <th></th>\n",
       "      <th>Pclass</th>\n",
       "      <th>Sex</th>\n",
       "      <th>Age</th>\n",
       "      <th>Fare</th>\n",
       "      <th>Embarked</th>\n",
       "      <th>Deck</th>\n",
       "      <th>Family_Group</th>\n",
       "      <th>Title</th>\n",
       "    </tr>\n",
       "    <tr>\n",
       "      <th>PassengerId</th>\n",
       "      <th></th>\n",
       "      <th></th>\n",
       "      <th></th>\n",
       "      <th></th>\n",
       "      <th></th>\n",
       "      <th></th>\n",
       "      <th></th>\n",
       "      <th></th>\n",
       "    </tr>\n",
       "  </thead>\n",
       "  <tbody>\n",
       "    <tr>\n",
       "      <th>1</th>\n",
       "      <td>3</td>\n",
       "      <td>male</td>\n",
       "      <td>22</td>\n",
       "      <td>7.2500</td>\n",
       "      <td>S</td>\n",
       "      <td>M</td>\n",
       "      <td>Small</td>\n",
       "      <td>Mr</td>\n",
       "    </tr>\n",
       "    <tr>\n",
       "      <th>2</th>\n",
       "      <td>1</td>\n",
       "      <td>female</td>\n",
       "      <td>38</td>\n",
       "      <td>71.2833</td>\n",
       "      <td>C</td>\n",
       "      <td>C</td>\n",
       "      <td>Small</td>\n",
       "      <td>Mrs</td>\n",
       "    </tr>\n",
       "    <tr>\n",
       "      <th>3</th>\n",
       "      <td>3</td>\n",
       "      <td>female</td>\n",
       "      <td>26</td>\n",
       "      <td>7.9250</td>\n",
       "      <td>S</td>\n",
       "      <td>M</td>\n",
       "      <td>Alone</td>\n",
       "      <td>Miss</td>\n",
       "    </tr>\n",
       "    <tr>\n",
       "      <th>4</th>\n",
       "      <td>1</td>\n",
       "      <td>female</td>\n",
       "      <td>35</td>\n",
       "      <td>53.1000</td>\n",
       "      <td>S</td>\n",
       "      <td>C</td>\n",
       "      <td>Small</td>\n",
       "      <td>Mrs</td>\n",
       "    </tr>\n",
       "    <tr>\n",
       "      <th>5</th>\n",
       "      <td>3</td>\n",
       "      <td>male</td>\n",
       "      <td>35</td>\n",
       "      <td>8.0500</td>\n",
       "      <td>S</td>\n",
       "      <td>M</td>\n",
       "      <td>Alone</td>\n",
       "      <td>Mr</td>\n",
       "    </tr>\n",
       "    <tr>\n",
       "      <th>...</th>\n",
       "      <td>...</td>\n",
       "      <td>...</td>\n",
       "      <td>...</td>\n",
       "      <td>...</td>\n",
       "      <td>...</td>\n",
       "      <td>...</td>\n",
       "      <td>...</td>\n",
       "      <td>...</td>\n",
       "    </tr>\n",
       "    <tr>\n",
       "      <th>887</th>\n",
       "      <td>2</td>\n",
       "      <td>male</td>\n",
       "      <td>27</td>\n",
       "      <td>13.0000</td>\n",
       "      <td>S</td>\n",
       "      <td>M</td>\n",
       "      <td>Alone</td>\n",
       "      <td>Rev</td>\n",
       "    </tr>\n",
       "    <tr>\n",
       "      <th>888</th>\n",
       "      <td>1</td>\n",
       "      <td>female</td>\n",
       "      <td>19</td>\n",
       "      <td>30.0000</td>\n",
       "      <td>S</td>\n",
       "      <td>B</td>\n",
       "      <td>Alone</td>\n",
       "      <td>Miss</td>\n",
       "    </tr>\n",
       "    <tr>\n",
       "      <th>889</th>\n",
       "      <td>3</td>\n",
       "      <td>female</td>\n",
       "      <td>21</td>\n",
       "      <td>23.4500</td>\n",
       "      <td>S</td>\n",
       "      <td>M</td>\n",
       "      <td>Small</td>\n",
       "      <td>Miss</td>\n",
       "    </tr>\n",
       "    <tr>\n",
       "      <th>890</th>\n",
       "      <td>1</td>\n",
       "      <td>male</td>\n",
       "      <td>26</td>\n",
       "      <td>30.0000</td>\n",
       "      <td>C</td>\n",
       "      <td>C</td>\n",
       "      <td>Alone</td>\n",
       "      <td>Mr</td>\n",
       "    </tr>\n",
       "    <tr>\n",
       "      <th>891</th>\n",
       "      <td>3</td>\n",
       "      <td>male</td>\n",
       "      <td>32</td>\n",
       "      <td>7.7500</td>\n",
       "      <td>Q</td>\n",
       "      <td>M</td>\n",
       "      <td>Alone</td>\n",
       "      <td>Mr</td>\n",
       "    </tr>\n",
       "  </tbody>\n",
       "</table>\n",
       "<p>891 rows × 8 columns</p>\n",
       "</div>"
      ],
      "text/plain": [
       "             Pclass     Sex  Age     Fare Embarked Deck Family_Group Title\n",
       "PassengerId                                                               \n",
       "1                 3    male   22   7.2500        S    M        Small    Mr\n",
       "2                 1  female   38  71.2833        C    C        Small   Mrs\n",
       "3                 3  female   26   7.9250        S    M        Alone  Miss\n",
       "4                 1  female   35  53.1000        S    C        Small   Mrs\n",
       "5                 3    male   35   8.0500        S    M        Alone    Mr\n",
       "...             ...     ...  ...      ...      ...  ...          ...   ...\n",
       "887               2    male   27  13.0000        S    M        Alone   Rev\n",
       "888               1  female   19  30.0000        S    B        Alone  Miss\n",
       "889               3  female   21  23.4500        S    M        Small  Miss\n",
       "890               1    male   26  30.0000        C    C        Alone    Mr\n",
       "891               3    male   32   7.7500        Q    M        Alone    Mr\n",
       "\n",
       "[891 rows x 8 columns]"
      ]
     },
     "execution_count": 174,
     "metadata": {},
     "output_type": "execute_result"
    }
   ],
   "source": [
    "X_train"
   ]
  },
  {
   "cell_type": "code",
   "execution_count": null,
   "id": "1da85b84",
   "metadata": {},
   "outputs": [],
   "source": [
    "자료형이 문자형으로 된 녀석들을 one_hot 인코딩 해줘야함  문자형을 -> 숫자형으로"
   ]
  },
  {
   "cell_type": "markdown",
   "id": "9f603035",
   "metadata": {},
   "source": [
    "**문자형의 데이터를 원-핫 인코딩 진행**"
   ]
  },
  {
   "cell_type": "markdown",
   "id": "69640142",
   "metadata": {
    "ExecuteTime": {
     "end_time": "2023-09-07T07:31:20.293565Z",
     "start_time": "2023-09-07T07:31:20.275638Z"
    }
   },
   "source": [
    "- pd.get_dummies() 사용"
   ]
  },
  {
   "cell_type": "code",
   "execution_count": 176,
   "id": "4eb968b1",
   "metadata": {
    "ExecuteTime": {
     "end_time": "2023-09-07T07:32:18.163722Z",
     "start_time": "2023-09-07T07:32:18.142779Z"
    }
   },
   "outputs": [],
   "source": [
    "# 원 - 핫 인코딩  \n",
    "# get_dummies를 사용하면 문자형 데이터는 전부 원핫 인코딩이 진행 된다.\n",
    "# 숫자 데이터는? 그대로 사용한다.\n",
    "\n",
    "X_train = pd.get_dummies(X_train)\n",
    "X_test = pd.get_dummies(X_test)"
   ]
  },
  {
   "cell_type": "code",
   "execution_count": 177,
   "id": "7385d9a4",
   "metadata": {
    "ExecuteTime": {
     "end_time": "2023-09-07T07:32:45.076087Z",
     "start_time": "2023-09-07T07:32:45.053123Z"
    }
   },
   "outputs": [
    {
     "data": {
      "text/html": [
       "<div>\n",
       "<style scoped>\n",
       "    .dataframe tbody tr th:only-of-type {\n",
       "        vertical-align: middle;\n",
       "    }\n",
       "\n",
       "    .dataframe tbody tr th {\n",
       "        vertical-align: top;\n",
       "    }\n",
       "\n",
       "    .dataframe thead th {\n",
       "        text-align: right;\n",
       "    }\n",
       "</style>\n",
       "<table border=\"1\" class=\"dataframe\">\n",
       "  <thead>\n",
       "    <tr style=\"text-align: right;\">\n",
       "      <th></th>\n",
       "      <th>Pclass</th>\n",
       "      <th>Age</th>\n",
       "      <th>Fare</th>\n",
       "      <th>Sex_female</th>\n",
       "      <th>Sex_male</th>\n",
       "      <th>Embarked_C</th>\n",
       "      <th>Embarked_Q</th>\n",
       "      <th>Embarked_S</th>\n",
       "      <th>Deck_A</th>\n",
       "      <th>Deck_B</th>\n",
       "      <th>...</th>\n",
       "      <th>Deck_T</th>\n",
       "      <th>Family_Group_Alone</th>\n",
       "      <th>Family_Group_Small</th>\n",
       "      <th>Family_Group_Large</th>\n",
       "      <th>Title_Master</th>\n",
       "      <th>Title_Miss</th>\n",
       "      <th>Title_Mr</th>\n",
       "      <th>Title_Mrs</th>\n",
       "      <th>Title_Other</th>\n",
       "      <th>Title_Rev</th>\n",
       "    </tr>\n",
       "    <tr>\n",
       "      <th>PassengerId</th>\n",
       "      <th></th>\n",
       "      <th></th>\n",
       "      <th></th>\n",
       "      <th></th>\n",
       "      <th></th>\n",
       "      <th></th>\n",
       "      <th></th>\n",
       "      <th></th>\n",
       "      <th></th>\n",
       "      <th></th>\n",
       "      <th></th>\n",
       "      <th></th>\n",
       "      <th></th>\n",
       "      <th></th>\n",
       "      <th></th>\n",
       "      <th></th>\n",
       "      <th></th>\n",
       "      <th></th>\n",
       "      <th></th>\n",
       "      <th></th>\n",
       "      <th></th>\n",
       "    </tr>\n",
       "  </thead>\n",
       "  <tbody>\n",
       "    <tr>\n",
       "      <th>1</th>\n",
       "      <td>3</td>\n",
       "      <td>22</td>\n",
       "      <td>7.2500</td>\n",
       "      <td>0</td>\n",
       "      <td>1</td>\n",
       "      <td>0</td>\n",
       "      <td>0</td>\n",
       "      <td>1</td>\n",
       "      <td>0</td>\n",
       "      <td>0</td>\n",
       "      <td>...</td>\n",
       "      <td>0</td>\n",
       "      <td>0</td>\n",
       "      <td>1</td>\n",
       "      <td>0</td>\n",
       "      <td>0</td>\n",
       "      <td>0</td>\n",
       "      <td>1</td>\n",
       "      <td>0</td>\n",
       "      <td>0</td>\n",
       "      <td>0</td>\n",
       "    </tr>\n",
       "    <tr>\n",
       "      <th>2</th>\n",
       "      <td>1</td>\n",
       "      <td>38</td>\n",
       "      <td>71.2833</td>\n",
       "      <td>1</td>\n",
       "      <td>0</td>\n",
       "      <td>1</td>\n",
       "      <td>0</td>\n",
       "      <td>0</td>\n",
       "      <td>0</td>\n",
       "      <td>0</td>\n",
       "      <td>...</td>\n",
       "      <td>0</td>\n",
       "      <td>0</td>\n",
       "      <td>1</td>\n",
       "      <td>0</td>\n",
       "      <td>0</td>\n",
       "      <td>0</td>\n",
       "      <td>0</td>\n",
       "      <td>1</td>\n",
       "      <td>0</td>\n",
       "      <td>0</td>\n",
       "    </tr>\n",
       "    <tr>\n",
       "      <th>3</th>\n",
       "      <td>3</td>\n",
       "      <td>26</td>\n",
       "      <td>7.9250</td>\n",
       "      <td>1</td>\n",
       "      <td>0</td>\n",
       "      <td>0</td>\n",
       "      <td>0</td>\n",
       "      <td>1</td>\n",
       "      <td>0</td>\n",
       "      <td>0</td>\n",
       "      <td>...</td>\n",
       "      <td>0</td>\n",
       "      <td>1</td>\n",
       "      <td>0</td>\n",
       "      <td>0</td>\n",
       "      <td>0</td>\n",
       "      <td>1</td>\n",
       "      <td>0</td>\n",
       "      <td>0</td>\n",
       "      <td>0</td>\n",
       "      <td>0</td>\n",
       "    </tr>\n",
       "    <tr>\n",
       "      <th>4</th>\n",
       "      <td>1</td>\n",
       "      <td>35</td>\n",
       "      <td>53.1000</td>\n",
       "      <td>1</td>\n",
       "      <td>0</td>\n",
       "      <td>0</td>\n",
       "      <td>0</td>\n",
       "      <td>1</td>\n",
       "      <td>0</td>\n",
       "      <td>0</td>\n",
       "      <td>...</td>\n",
       "      <td>0</td>\n",
       "      <td>0</td>\n",
       "      <td>1</td>\n",
       "      <td>0</td>\n",
       "      <td>0</td>\n",
       "      <td>0</td>\n",
       "      <td>0</td>\n",
       "      <td>1</td>\n",
       "      <td>0</td>\n",
       "      <td>0</td>\n",
       "    </tr>\n",
       "    <tr>\n",
       "      <th>5</th>\n",
       "      <td>3</td>\n",
       "      <td>35</td>\n",
       "      <td>8.0500</td>\n",
       "      <td>0</td>\n",
       "      <td>1</td>\n",
       "      <td>0</td>\n",
       "      <td>0</td>\n",
       "      <td>1</td>\n",
       "      <td>0</td>\n",
       "      <td>0</td>\n",
       "      <td>...</td>\n",
       "      <td>0</td>\n",
       "      <td>1</td>\n",
       "      <td>0</td>\n",
       "      <td>0</td>\n",
       "      <td>0</td>\n",
       "      <td>0</td>\n",
       "      <td>1</td>\n",
       "      <td>0</td>\n",
       "      <td>0</td>\n",
       "      <td>0</td>\n",
       "    </tr>\n",
       "  </tbody>\n",
       "</table>\n",
       "<p>5 rows × 26 columns</p>\n",
       "</div>"
      ],
      "text/plain": [
       "             Pclass  Age     Fare  Sex_female  Sex_male  Embarked_C  \\\n",
       "PassengerId                                                           \n",
       "1                 3   22   7.2500           0         1           0   \n",
       "2                 1   38  71.2833           1         0           1   \n",
       "3                 3   26   7.9250           1         0           0   \n",
       "4                 1   35  53.1000           1         0           0   \n",
       "5                 3   35   8.0500           0         1           0   \n",
       "\n",
       "             Embarked_Q  Embarked_S  Deck_A  Deck_B  ...  Deck_T  \\\n",
       "PassengerId                                          ...           \n",
       "1                     0           1       0       0  ...       0   \n",
       "2                     0           0       0       0  ...       0   \n",
       "3                     0           1       0       0  ...       0   \n",
       "4                     0           1       0       0  ...       0   \n",
       "5                     0           1       0       0  ...       0   \n",
       "\n",
       "             Family_Group_Alone  Family_Group_Small  Family_Group_Large  \\\n",
       "PassengerId                                                               \n",
       "1                             0                   1                   0   \n",
       "2                             0                   1                   0   \n",
       "3                             1                   0                   0   \n",
       "4                             0                   1                   0   \n",
       "5                             1                   0                   0   \n",
       "\n",
       "             Title_Master  Title_Miss  Title_Mr  Title_Mrs  Title_Other  \\\n",
       "PassengerId                                                               \n",
       "1                       0           0         1          0            0   \n",
       "2                       0           0         0          1            0   \n",
       "3                       0           1         0          0            0   \n",
       "4                       0           0         0          1            0   \n",
       "5                       0           0         1          0            0   \n",
       "\n",
       "             Title_Rev  \n",
       "PassengerId             \n",
       "1                    0  \n",
       "2                    0  \n",
       "3                    0  \n",
       "4                    0  \n",
       "5                    0  \n",
       "\n",
       "[5 rows x 26 columns]"
      ]
     },
     "execution_count": 177,
     "metadata": {},
     "output_type": "execute_result"
    }
   ],
   "source": [
    "X_train.head()"
   ]
  },
  {
   "cell_type": "code",
   "execution_count": 178,
   "id": "e181c18d",
   "metadata": {
    "ExecuteTime": {
     "end_time": "2023-09-07T07:32:46.277628Z",
     "start_time": "2023-09-07T07:32:46.257679Z"
    }
   },
   "outputs": [
    {
     "data": {
      "text/html": [
       "<div>\n",
       "<style scoped>\n",
       "    .dataframe tbody tr th:only-of-type {\n",
       "        vertical-align: middle;\n",
       "    }\n",
       "\n",
       "    .dataframe tbody tr th {\n",
       "        vertical-align: top;\n",
       "    }\n",
       "\n",
       "    .dataframe thead th {\n",
       "        text-align: right;\n",
       "    }\n",
       "</style>\n",
       "<table border=\"1\" class=\"dataframe\">\n",
       "  <thead>\n",
       "    <tr style=\"text-align: right;\">\n",
       "      <th></th>\n",
       "      <th>Pclass</th>\n",
       "      <th>Age</th>\n",
       "      <th>Fare</th>\n",
       "      <th>Sex_female</th>\n",
       "      <th>Sex_male</th>\n",
       "      <th>Embarked_C</th>\n",
       "      <th>Embarked_Q</th>\n",
       "      <th>Embarked_S</th>\n",
       "      <th>Deck_A</th>\n",
       "      <th>Deck_B</th>\n",
       "      <th>...</th>\n",
       "      <th>Deck_M</th>\n",
       "      <th>Family_Group_Alone</th>\n",
       "      <th>Family_Group_Small</th>\n",
       "      <th>Family_Group_Large</th>\n",
       "      <th>Title_Master</th>\n",
       "      <th>Title_Miss</th>\n",
       "      <th>Title_Mr</th>\n",
       "      <th>Title_Mrs</th>\n",
       "      <th>Title_Other</th>\n",
       "      <th>Title_Rev</th>\n",
       "    </tr>\n",
       "    <tr>\n",
       "      <th>PassengerId</th>\n",
       "      <th></th>\n",
       "      <th></th>\n",
       "      <th></th>\n",
       "      <th></th>\n",
       "      <th></th>\n",
       "      <th></th>\n",
       "      <th></th>\n",
       "      <th></th>\n",
       "      <th></th>\n",
       "      <th></th>\n",
       "      <th></th>\n",
       "      <th></th>\n",
       "      <th></th>\n",
       "      <th></th>\n",
       "      <th></th>\n",
       "      <th></th>\n",
       "      <th></th>\n",
       "      <th></th>\n",
       "      <th></th>\n",
       "      <th></th>\n",
       "      <th></th>\n",
       "    </tr>\n",
       "  </thead>\n",
       "  <tbody>\n",
       "    <tr>\n",
       "      <th>892</th>\n",
       "      <td>3</td>\n",
       "      <td>34</td>\n",
       "      <td>7.8292</td>\n",
       "      <td>0</td>\n",
       "      <td>1</td>\n",
       "      <td>0</td>\n",
       "      <td>1</td>\n",
       "      <td>0</td>\n",
       "      <td>0</td>\n",
       "      <td>0</td>\n",
       "      <td>...</td>\n",
       "      <td>1</td>\n",
       "      <td>1</td>\n",
       "      <td>0</td>\n",
       "      <td>0</td>\n",
       "      <td>0</td>\n",
       "      <td>0</td>\n",
       "      <td>1</td>\n",
       "      <td>0</td>\n",
       "      <td>0</td>\n",
       "      <td>0</td>\n",
       "    </tr>\n",
       "    <tr>\n",
       "      <th>893</th>\n",
       "      <td>3</td>\n",
       "      <td>47</td>\n",
       "      <td>7.0000</td>\n",
       "      <td>1</td>\n",
       "      <td>0</td>\n",
       "      <td>0</td>\n",
       "      <td>0</td>\n",
       "      <td>1</td>\n",
       "      <td>0</td>\n",
       "      <td>0</td>\n",
       "      <td>...</td>\n",
       "      <td>1</td>\n",
       "      <td>0</td>\n",
       "      <td>1</td>\n",
       "      <td>0</td>\n",
       "      <td>0</td>\n",
       "      <td>0</td>\n",
       "      <td>0</td>\n",
       "      <td>1</td>\n",
       "      <td>0</td>\n",
       "      <td>0</td>\n",
       "    </tr>\n",
       "    <tr>\n",
       "      <th>894</th>\n",
       "      <td>2</td>\n",
       "      <td>62</td>\n",
       "      <td>9.6875</td>\n",
       "      <td>0</td>\n",
       "      <td>1</td>\n",
       "      <td>0</td>\n",
       "      <td>1</td>\n",
       "      <td>0</td>\n",
       "      <td>0</td>\n",
       "      <td>0</td>\n",
       "      <td>...</td>\n",
       "      <td>1</td>\n",
       "      <td>1</td>\n",
       "      <td>0</td>\n",
       "      <td>0</td>\n",
       "      <td>0</td>\n",
       "      <td>0</td>\n",
       "      <td>1</td>\n",
       "      <td>0</td>\n",
       "      <td>0</td>\n",
       "      <td>0</td>\n",
       "    </tr>\n",
       "    <tr>\n",
       "      <th>895</th>\n",
       "      <td>3</td>\n",
       "      <td>27</td>\n",
       "      <td>8.6625</td>\n",
       "      <td>0</td>\n",
       "      <td>1</td>\n",
       "      <td>0</td>\n",
       "      <td>0</td>\n",
       "      <td>1</td>\n",
       "      <td>0</td>\n",
       "      <td>0</td>\n",
       "      <td>...</td>\n",
       "      <td>1</td>\n",
       "      <td>1</td>\n",
       "      <td>0</td>\n",
       "      <td>0</td>\n",
       "      <td>0</td>\n",
       "      <td>0</td>\n",
       "      <td>1</td>\n",
       "      <td>0</td>\n",
       "      <td>0</td>\n",
       "      <td>0</td>\n",
       "    </tr>\n",
       "    <tr>\n",
       "      <th>896</th>\n",
       "      <td>3</td>\n",
       "      <td>22</td>\n",
       "      <td>12.2875</td>\n",
       "      <td>1</td>\n",
       "      <td>0</td>\n",
       "      <td>0</td>\n",
       "      <td>0</td>\n",
       "      <td>1</td>\n",
       "      <td>0</td>\n",
       "      <td>0</td>\n",
       "      <td>...</td>\n",
       "      <td>1</td>\n",
       "      <td>0</td>\n",
       "      <td>1</td>\n",
       "      <td>0</td>\n",
       "      <td>0</td>\n",
       "      <td>0</td>\n",
       "      <td>0</td>\n",
       "      <td>1</td>\n",
       "      <td>0</td>\n",
       "      <td>0</td>\n",
       "    </tr>\n",
       "  </tbody>\n",
       "</table>\n",
       "<p>5 rows × 25 columns</p>\n",
       "</div>"
      ],
      "text/plain": [
       "             Pclass  Age     Fare  Sex_female  Sex_male  Embarked_C  \\\n",
       "PassengerId                                                           \n",
       "892               3   34   7.8292           0         1           0   \n",
       "893               3   47   7.0000           1         0           0   \n",
       "894               2   62   9.6875           0         1           0   \n",
       "895               3   27   8.6625           0         1           0   \n",
       "896               3   22  12.2875           1         0           0   \n",
       "\n",
       "             Embarked_Q  Embarked_S  Deck_A  Deck_B  ...  Deck_M  \\\n",
       "PassengerId                                          ...           \n",
       "892                   1           0       0       0  ...       1   \n",
       "893                   0           1       0       0  ...       1   \n",
       "894                   1           0       0       0  ...       1   \n",
       "895                   0           1       0       0  ...       1   \n",
       "896                   0           1       0       0  ...       1   \n",
       "\n",
       "             Family_Group_Alone  Family_Group_Small  Family_Group_Large  \\\n",
       "PassengerId                                                               \n",
       "892                           1                   0                   0   \n",
       "893                           0                   1                   0   \n",
       "894                           1                   0                   0   \n",
       "895                           1                   0                   0   \n",
       "896                           0                   1                   0   \n",
       "\n",
       "             Title_Master  Title_Miss  Title_Mr  Title_Mrs  Title_Other  \\\n",
       "PassengerId                                                               \n",
       "892                     0           0         1          0            0   \n",
       "893                     0           0         0          1            0   \n",
       "894                     0           0         1          0            0   \n",
       "895                     0           0         1          0            0   \n",
       "896                     0           0         0          1            0   \n",
       "\n",
       "             Title_Rev  \n",
       "PassengerId             \n",
       "892                  0  \n",
       "893                  0  \n",
       "894                  0  \n",
       "895                  0  \n",
       "896                  0  \n",
       "\n",
       "[5 rows x 25 columns]"
      ]
     },
     "execution_count": 178,
     "metadata": {},
     "output_type": "execute_result"
    }
   ],
   "source": [
    "X_test.head()"
   ]
  },
  {
   "cell_type": "code",
   "execution_count": 181,
   "id": "7e670217",
   "metadata": {
    "ExecuteTime": {
     "end_time": "2023-09-07T07:36:23.187266Z",
     "start_time": "2023-09-07T07:36:23.169289Z"
    },
    "scrolled": true
   },
   "outputs": [
    {
     "name": "stdout",
     "output_type": "stream",
     "text": [
      "<class 'pandas.core.frame.DataFrame'>\n",
      "Int64Index: 891 entries, 1 to 891\n",
      "Data columns (total 26 columns):\n",
      " #   Column              Non-Null Count  Dtype  \n",
      "---  ------              --------------  -----  \n",
      " 0   Pclass              891 non-null    int64  \n",
      " 1   Age                 891 non-null    int64  \n",
      " 2   Fare                891 non-null    float64\n",
      " 3   Sex_female          891 non-null    uint8  \n",
      " 4   Sex_male            891 non-null    uint8  \n",
      " 5   Embarked_C          891 non-null    uint8  \n",
      " 6   Embarked_Q          891 non-null    uint8  \n",
      " 7   Embarked_S          891 non-null    uint8  \n",
      " 8   Deck_A              891 non-null    uint8  \n",
      " 9   Deck_B              891 non-null    uint8  \n",
      " 10  Deck_C              891 non-null    uint8  \n",
      " 11  Deck_D              891 non-null    uint8  \n",
      " 12  Deck_E              891 non-null    uint8  \n",
      " 13  Deck_F              891 non-null    uint8  \n",
      " 14  Deck_G              891 non-null    uint8  \n",
      " 15  Deck_M              891 non-null    uint8  \n",
      " 16  Deck_T              891 non-null    uint8  \n",
      " 17  Family_Group_Alone  891 non-null    uint8  \n",
      " 18  Family_Group_Small  891 non-null    uint8  \n",
      " 19  Family_Group_Large  891 non-null    uint8  \n",
      " 20  Title_Master        891 non-null    uint8  \n",
      " 21  Title_Miss          891 non-null    uint8  \n",
      " 22  Title_Mr            891 non-null    uint8  \n",
      " 23  Title_Mrs           891 non-null    uint8  \n",
      " 24  Title_Other         891 non-null    uint8  \n",
      " 25  Title_Rev           891 non-null    uint8  \n",
      "dtypes: float64(1), int64(2), uint8(23)\n",
      "memory usage: 80.1 KB\n"
     ]
    }
   ],
   "source": [
    "# info 함수로 확인하기 - X_train\n",
    "X_train.info()"
   ]
  },
  {
   "cell_type": "code",
   "execution_count": 182,
   "id": "06d57e12",
   "metadata": {
    "ExecuteTime": {
     "end_time": "2023-09-07T07:36:31.200272Z",
     "start_time": "2023-09-07T07:36:31.191315Z"
    }
   },
   "outputs": [
    {
     "name": "stdout",
     "output_type": "stream",
     "text": [
      "<class 'pandas.core.frame.DataFrame'>\n",
      "Int64Index: 418 entries, 892 to 1309\n",
      "Data columns (total 25 columns):\n",
      " #   Column              Non-Null Count  Dtype  \n",
      "---  ------              --------------  -----  \n",
      " 0   Pclass              418 non-null    int64  \n",
      " 1   Age                 418 non-null    int64  \n",
      " 2   Fare                418 non-null    float64\n",
      " 3   Sex_female          418 non-null    uint8  \n",
      " 4   Sex_male            418 non-null    uint8  \n",
      " 5   Embarked_C          418 non-null    uint8  \n",
      " 6   Embarked_Q          418 non-null    uint8  \n",
      " 7   Embarked_S          418 non-null    uint8  \n",
      " 8   Deck_A              418 non-null    uint8  \n",
      " 9   Deck_B              418 non-null    uint8  \n",
      " 10  Deck_C              418 non-null    uint8  \n",
      " 11  Deck_D              418 non-null    uint8  \n",
      " 12  Deck_E              418 non-null    uint8  \n",
      " 13  Deck_F              418 non-null    uint8  \n",
      " 14  Deck_G              418 non-null    uint8  \n",
      " 15  Deck_M              418 non-null    uint8  \n",
      " 16  Family_Group_Alone  418 non-null    uint8  \n",
      " 17  Family_Group_Small  418 non-null    uint8  \n",
      " 18  Family_Group_Large  418 non-null    uint8  \n",
      " 19  Title_Master        418 non-null    uint8  \n",
      " 20  Title_Miss          418 non-null    uint8  \n",
      " 21  Title_Mr            418 non-null    uint8  \n",
      " 22  Title_Mrs           418 non-null    uint8  \n",
      " 23  Title_Other         418 non-null    uint8  \n",
      " 24  Title_Rev           418 non-null    uint8  \n",
      "dtypes: float64(1), int64(2), uint8(22)\n",
      "memory usage: 22.0 KB\n"
     ]
    }
   ],
   "source": [
    "# info 함수로 확인하기 - X_test\n",
    "X_test.info()"
   ]
  },
  {
   "cell_type": "code",
   "execution_count": 185,
   "id": "a16372c1",
   "metadata": {
    "ExecuteTime": {
     "end_time": "2023-09-07T07:38:38.686079Z",
     "start_time": "2023-09-07T07:38:38.679051Z"
    }
   },
   "outputs": [
    {
     "name": "stdout",
     "output_type": "stream",
     "text": [
      "(891, 26)\n",
      "(418, 25)\n"
     ]
    }
   ],
   "source": [
    "# Shape\n",
    "print(X_train.shape)\n",
    "print(X_test.shape)"
   ]
  },
  {
   "cell_type": "markdown",
   "id": "84f9906a",
   "metadata": {},
   "source": [
    "- 인코딩 이후에 X_train / X_test의 컬럼 수가 차이가 난다."
   ]
  },
  {
   "cell_type": "code",
   "execution_count": 187,
   "id": "a2beff2e",
   "metadata": {
    "ExecuteTime": {
     "end_time": "2023-09-07T07:40:24.086241Z",
     "start_time": "2023-09-07T07:40:24.078239Z"
    }
   },
   "outputs": [
    {
     "data": {
      "text/plain": [
       "{'Deck_T'}"
      ]
     },
     "execution_count": 187,
     "metadata": {},
     "output_type": "execute_result"
    }
   ],
   "source": [
    "# set : 중복이 없는 요소들로만 구성된 집합의 형태로 바꿔주는 함수\n",
    "set(X_train.columns) - set(X_test.columns)"
   ]
  },
  {
   "cell_type": "code",
   "execution_count": 189,
   "id": "09ca713f",
   "metadata": {
    "ExecuteTime": {
     "end_time": "2023-09-07T07:41:52.554803Z",
     "start_time": "2023-09-07T07:41:52.544805Z"
    }
   },
   "outputs": [
    {
     "data": {
      "text/html": [
       "<div>\n",
       "<style scoped>\n",
       "    .dataframe tbody tr th:only-of-type {\n",
       "        vertical-align: middle;\n",
       "    }\n",
       "\n",
       "    .dataframe tbody tr th {\n",
       "        vertical-align: top;\n",
       "    }\n",
       "\n",
       "    .dataframe thead th {\n",
       "        text-align: right;\n",
       "    }\n",
       "</style>\n",
       "<table border=\"1\" class=\"dataframe\">\n",
       "  <thead>\n",
       "    <tr style=\"text-align: right;\">\n",
       "      <th></th>\n",
       "      <th>Survived</th>\n",
       "      <th>Pclass</th>\n",
       "      <th>Sex</th>\n",
       "      <th>Age</th>\n",
       "      <th>Fare</th>\n",
       "      <th>Embarked</th>\n",
       "      <th>Deck</th>\n",
       "      <th>Family_Group</th>\n",
       "      <th>Title</th>\n",
       "    </tr>\n",
       "    <tr>\n",
       "      <th>PassengerId</th>\n",
       "      <th></th>\n",
       "      <th></th>\n",
       "      <th></th>\n",
       "      <th></th>\n",
       "      <th></th>\n",
       "      <th></th>\n",
       "      <th></th>\n",
       "      <th></th>\n",
       "      <th></th>\n",
       "    </tr>\n",
       "  </thead>\n",
       "  <tbody>\n",
       "    <tr>\n",
       "      <th>340</th>\n",
       "      <td>0</td>\n",
       "      <td>1</td>\n",
       "      <td>male</td>\n",
       "      <td>45</td>\n",
       "      <td>35.5</td>\n",
       "      <td>S</td>\n",
       "      <td>T</td>\n",
       "      <td>Alone</td>\n",
       "      <td>Mr</td>\n",
       "    </tr>\n",
       "  </tbody>\n",
       "</table>\n",
       "</div>"
      ],
      "text/plain": [
       "             Survived  Pclass   Sex  Age  Fare Embarked Deck Family_Group  \\\n",
       "PassengerId                                                                 \n",
       "340                 0       1  male   45  35.5        S    T        Alone   \n",
       "\n",
       "            Title  \n",
       "PassengerId        \n",
       "340            Mr  "
      ]
     },
     "execution_count": 189,
     "metadata": {},
     "output_type": "execute_result"
    }
   ],
   "source": [
    "# 불리언 인덱싱을 통해서 DECK 이 T인 사람이 누구인지 보자\n",
    "\n",
    "train[train['Deck']=='T']"
   ]
  },
  {
   "cell_type": "markdown",
   "id": "134f2d34",
   "metadata": {},
   "source": [
    "- Deck_T 라는 데이터는 train에 1개만 존재하는 데이터였다\n",
    "- 원 핫 인코딩의 특성상 값이 존재하면 1 / 존재하지 않으면 0\n",
    "- 그러면 test에는 Deck_T라는 데이터가 존재하지 않았다\n",
    "- 0 으로 채워주자"
   ]
  },
  {
   "cell_type": "code",
   "execution_count": 190,
   "id": "f434be31",
   "metadata": {
    "ExecuteTime": {
     "end_time": "2023-09-07T07:46:54.361027Z",
     "start_time": "2023-09-07T07:46:54.351054Z"
    }
   },
   "outputs": [],
   "source": [
    "X_test['Deck_T'] = 0"
   ]
  },
  {
   "cell_type": "code",
   "execution_count": 191,
   "id": "08922299",
   "metadata": {
    "ExecuteTime": {
     "end_time": "2023-09-07T07:47:09.012793Z",
     "start_time": "2023-09-07T07:47:08.989858Z"
    }
   },
   "outputs": [
    {
     "name": "stdout",
     "output_type": "stream",
     "text": [
      "<class 'pandas.core.frame.DataFrame'>\n",
      "Int64Index: 418 entries, 892 to 1309\n",
      "Data columns (total 26 columns):\n",
      " #   Column              Non-Null Count  Dtype  \n",
      "---  ------              --------------  -----  \n",
      " 0   Pclass              418 non-null    int64  \n",
      " 1   Age                 418 non-null    int64  \n",
      " 2   Fare                418 non-null    float64\n",
      " 3   Sex_female          418 non-null    uint8  \n",
      " 4   Sex_male            418 non-null    uint8  \n",
      " 5   Embarked_C          418 non-null    uint8  \n",
      " 6   Embarked_Q          418 non-null    uint8  \n",
      " 7   Embarked_S          418 non-null    uint8  \n",
      " 8   Deck_A              418 non-null    uint8  \n",
      " 9   Deck_B              418 non-null    uint8  \n",
      " 10  Deck_C              418 non-null    uint8  \n",
      " 11  Deck_D              418 non-null    uint8  \n",
      " 12  Deck_E              418 non-null    uint8  \n",
      " 13  Deck_F              418 non-null    uint8  \n",
      " 14  Deck_G              418 non-null    uint8  \n",
      " 15  Deck_M              418 non-null    uint8  \n",
      " 16  Family_Group_Alone  418 non-null    uint8  \n",
      " 17  Family_Group_Small  418 non-null    uint8  \n",
      " 18  Family_Group_Large  418 non-null    uint8  \n",
      " 19  Title_Master        418 non-null    uint8  \n",
      " 20  Title_Miss          418 non-null    uint8  \n",
      " 21  Title_Mr            418 non-null    uint8  \n",
      " 22  Title_Mrs           418 non-null    uint8  \n",
      " 23  Title_Other         418 non-null    uint8  \n",
      " 24  Title_Rev           418 non-null    uint8  \n",
      " 25  Deck_T              418 non-null    int64  \n",
      "dtypes: float64(1), int64(3), uint8(22)\n",
      "memory usage: 25.3 KB\n"
     ]
    }
   ],
   "source": [
    "X_test.info()"
   ]
  },
  {
   "cell_type": "code",
   "execution_count": 193,
   "id": "d22b3b4c",
   "metadata": {
    "ExecuteTime": {
     "end_time": "2023-09-07T07:49:06.253972Z",
     "start_time": "2023-09-07T07:49:06.235024Z"
    }
   },
   "outputs": [
    {
     "data": {
      "text/plain": [
       "Index(['Pclass', 'Age', 'Fare', 'Sex_female', 'Sex_male', 'Embarked_C',\n",
       "       'Embarked_Q', 'Embarked_S', 'Deck_A', 'Deck_B', 'Deck_C', 'Deck_D',\n",
       "       'Deck_E', 'Deck_F', 'Deck_G', 'Deck_M', 'Deck_T', 'Family_Group_Alone',\n",
       "       'Family_Group_Small', 'Family_Group_Large', 'Title_Master',\n",
       "       'Title_Miss', 'Title_Mr', 'Title_Mrs', 'Title_Other', 'Title_Rev'],\n",
       "      dtype='object')"
      ]
     },
     "execution_count": 193,
     "metadata": {},
     "output_type": "execute_result"
    }
   ],
   "source": [
    "# Deck_T를 추가해서 컬럼의 갯수를 맞춰줬다.\n",
    "# 하지만 순서가 달라서 원활한 기계학습을 위해 순서까지 맞춰보자\n",
    "X_train.columns"
   ]
  },
  {
   "cell_type": "code",
   "execution_count": 197,
   "id": "34c5c6f6",
   "metadata": {
    "ExecuteTime": {
     "end_time": "2023-09-07T07:51:13.054611Z",
     "start_time": "2023-09-07T07:51:13.033667Z"
    }
   },
   "outputs": [
    {
     "data": {
      "text/html": [
       "<div>\n",
       "<style scoped>\n",
       "    .dataframe tbody tr th:only-of-type {\n",
       "        vertical-align: middle;\n",
       "    }\n",
       "\n",
       "    .dataframe tbody tr th {\n",
       "        vertical-align: top;\n",
       "    }\n",
       "\n",
       "    .dataframe thead th {\n",
       "        text-align: right;\n",
       "    }\n",
       "</style>\n",
       "<table border=\"1\" class=\"dataframe\">\n",
       "  <thead>\n",
       "    <tr style=\"text-align: right;\">\n",
       "      <th></th>\n",
       "      <th>Pclass</th>\n",
       "      <th>Deck_C</th>\n",
       "      <th>Deck_G</th>\n",
       "    </tr>\n",
       "    <tr>\n",
       "      <th>PassengerId</th>\n",
       "      <th></th>\n",
       "      <th></th>\n",
       "      <th></th>\n",
       "    </tr>\n",
       "  </thead>\n",
       "  <tbody>\n",
       "    <tr>\n",
       "      <th>1</th>\n",
       "      <td>3</td>\n",
       "      <td>0</td>\n",
       "      <td>0</td>\n",
       "    </tr>\n",
       "    <tr>\n",
       "      <th>2</th>\n",
       "      <td>1</td>\n",
       "      <td>1</td>\n",
       "      <td>0</td>\n",
       "    </tr>\n",
       "    <tr>\n",
       "      <th>3</th>\n",
       "      <td>3</td>\n",
       "      <td>0</td>\n",
       "      <td>0</td>\n",
       "    </tr>\n",
       "    <tr>\n",
       "      <th>4</th>\n",
       "      <td>1</td>\n",
       "      <td>1</td>\n",
       "      <td>0</td>\n",
       "    </tr>\n",
       "    <tr>\n",
       "      <th>5</th>\n",
       "      <td>3</td>\n",
       "      <td>0</td>\n",
       "      <td>0</td>\n",
       "    </tr>\n",
       "    <tr>\n",
       "      <th>...</th>\n",
       "      <td>...</td>\n",
       "      <td>...</td>\n",
       "      <td>...</td>\n",
       "    </tr>\n",
       "    <tr>\n",
       "      <th>887</th>\n",
       "      <td>2</td>\n",
       "      <td>0</td>\n",
       "      <td>0</td>\n",
       "    </tr>\n",
       "    <tr>\n",
       "      <th>888</th>\n",
       "      <td>1</td>\n",
       "      <td>0</td>\n",
       "      <td>0</td>\n",
       "    </tr>\n",
       "    <tr>\n",
       "      <th>889</th>\n",
       "      <td>3</td>\n",
       "      <td>0</td>\n",
       "      <td>0</td>\n",
       "    </tr>\n",
       "    <tr>\n",
       "      <th>890</th>\n",
       "      <td>1</td>\n",
       "      <td>1</td>\n",
       "      <td>0</td>\n",
       "    </tr>\n",
       "    <tr>\n",
       "      <th>891</th>\n",
       "      <td>3</td>\n",
       "      <td>0</td>\n",
       "      <td>0</td>\n",
       "    </tr>\n",
       "  </tbody>\n",
       "</table>\n",
       "<p>891 rows × 3 columns</p>\n",
       "</div>"
      ],
      "text/plain": [
       "             Pclass  Deck_C  Deck_G\n",
       "PassengerId                        \n",
       "1                 3       0       0\n",
       "2                 1       1       0\n",
       "3                 3       0       0\n",
       "4                 1       1       0\n",
       "5                 3       0       0\n",
       "...             ...     ...     ...\n",
       "887               2       0       0\n",
       "888               1       0       0\n",
       "889               3       0       0\n",
       "890               1       1       0\n",
       "891               3       0       0\n",
       "\n",
       "[891 rows x 3 columns]"
      ]
     },
     "execution_count": 197,
     "metadata": {},
     "output_type": "execute_result"
    }
   ],
   "source": [
    "# 컬럼 인덱싱 실험\n",
    "X_train[['Pclass', 'Deck_C', 'Deck_G']]"
   ]
  },
  {
   "cell_type": "code",
   "execution_count": 198,
   "id": "a56be35c",
   "metadata": {
    "ExecuteTime": {
     "end_time": "2023-09-07T07:53:21.597298Z",
     "start_time": "2023-09-07T07:53:21.587301Z"
    }
   },
   "outputs": [],
   "source": [
    "# test 컬럼 재배치\n",
    "X_test= X_test[X_train.columns]"
   ]
  },
  {
   "cell_type": "code",
   "execution_count": 201,
   "id": "7e08f295",
   "metadata": {
    "ExecuteTime": {
     "end_time": "2023-09-07T07:53:45.939197Z",
     "start_time": "2023-09-07T07:53:45.920247Z"
    }
   },
   "outputs": [
    {
     "name": "stdout",
     "output_type": "stream",
     "text": [
      "<class 'pandas.core.frame.DataFrame'>\n",
      "Int64Index: 418 entries, 892 to 1309\n",
      "Data columns (total 26 columns):\n",
      " #   Column              Non-Null Count  Dtype  \n",
      "---  ------              --------------  -----  \n",
      " 0   Pclass              418 non-null    int64  \n",
      " 1   Age                 418 non-null    int64  \n",
      " 2   Fare                418 non-null    float64\n",
      " 3   Sex_female          418 non-null    uint8  \n",
      " 4   Sex_male            418 non-null    uint8  \n",
      " 5   Embarked_C          418 non-null    uint8  \n",
      " 6   Embarked_Q          418 non-null    uint8  \n",
      " 7   Embarked_S          418 non-null    uint8  \n",
      " 8   Deck_A              418 non-null    uint8  \n",
      " 9   Deck_B              418 non-null    uint8  \n",
      " 10  Deck_C              418 non-null    uint8  \n",
      " 11  Deck_D              418 non-null    uint8  \n",
      " 12  Deck_E              418 non-null    uint8  \n",
      " 13  Deck_F              418 non-null    uint8  \n",
      " 14  Deck_G              418 non-null    uint8  \n",
      " 15  Deck_M              418 non-null    uint8  \n",
      " 16  Deck_T              418 non-null    int64  \n",
      " 17  Family_Group_Alone  418 non-null    uint8  \n",
      " 18  Family_Group_Small  418 non-null    uint8  \n",
      " 19  Family_Group_Large  418 non-null    uint8  \n",
      " 20  Title_Master        418 non-null    uint8  \n",
      " 21  Title_Miss          418 non-null    uint8  \n",
      " 22  Title_Mr            418 non-null    uint8  \n",
      " 23  Title_Mrs           418 non-null    uint8  \n",
      " 24  Title_Other         418 non-null    uint8  \n",
      " 25  Title_Rev           418 non-null    uint8  \n",
      "dtypes: float64(1), int64(3), uint8(22)\n",
      "memory usage: 25.3 KB\n"
     ]
    }
   ],
   "source": [
    "X_test.info()"
   ]
  },
  {
   "cell_type": "markdown",
   "id": "0d75ac88",
   "metadata": {},
   "source": [
    "- 모델링을 위한 데이터 가공이 끝났다.\n",
    "- 전처리가 잘 되어있어야 성능이 올라간다."
   ]
  },
  {
   "cell_type": "markdown",
   "id": "e8090505",
   "metadata": {},
   "source": [
    "### 모델 선택\n",
    "- KNN /DT 모델 사용해보기  "
   ]
  },
  {
   "cell_type": "code",
   "execution_count": 202,
   "id": "a9220fdd",
   "metadata": {
    "ExecuteTime": {
     "end_time": "2023-09-07T08:18:11.917275Z",
     "start_time": "2023-09-07T08:18:11.907302Z"
    }
   },
   "outputs": [],
   "source": [
    "# KNN 모델\n",
    "# 최근접 이웃 알고리즘 - 주변의 이웃의 값을 보고 새로운 데이터를 예측\n",
    "# 이때 n_neighbors라는 하이퍼 파라미터를 조절해주는데 살펴볼 이웃의 갯수를 지정해주는 부분이다\n",
    "# 어떤걸 가지고 이웃을 판별하는가? -> 거리  == 거리 기반 모델\n",
    "# 모델 import \n",
    "from sklearn.neighbors import KNeighborsClassifier# KNN 분류 모델 살앗냐 죽어냐 \n",
    "\n"
   ]
  },
  {
   "cell_type": "code",
   "execution_count": 204,
   "id": "7c1d61f0",
   "metadata": {
    "ExecuteTime": {
     "end_time": "2023-09-07T08:18:44.774538Z",
     "start_time": "2023-09-07T08:18:44.766546Z"
    }
   },
   "outputs": [],
   "source": [
    "# 경고 무시 코드\n",
    "import warnings\n",
    "warnings.filterwarnings('ignore')"
   ]
  },
  {
   "cell_type": "code",
   "execution_count": 210,
   "id": "e505b8ff",
   "metadata": {
    "ExecuteTime": {
     "end_time": "2023-09-07T08:24:16.220092Z",
     "start_time": "2023-09-07T08:24:16.212112Z"
    }
   },
   "outputs": [],
   "source": [
    "# 모델 객체 생성\n",
    "# knn_ta_01이라는 변수에 주변 이웃값을 3개 살펴보는 knn 분류모델을 저장하세요\n",
    "knn_ta_01 = KNeighborsClassifier(n_neighbors=3)"
   ]
  },
  {
   "cell_type": "code",
   "execution_count": 211,
   "id": "028ce5b4",
   "metadata": {
    "ExecuteTime": {
     "end_time": "2023-09-07T08:25:08.333953Z",
     "start_time": "2023-09-07T08:25:08.317009Z"
    }
   },
   "outputs": [],
   "source": [
    "# 교차 검증 - cross_val_score\n",
    "\n",
    "from sklearn.model_selection import cross_val_score"
   ]
  },
  {
   "cell_type": "code",
   "execution_count": 213,
   "id": "5060dc85",
   "metadata": {
    "ExecuteTime": {
     "end_time": "2023-09-07T08:28:02.119223Z",
     "start_time": "2023-09-07T08:28:02.065368Z"
    }
   },
   "outputs": [
    {
     "data": {
      "text/plain": [
       "array([0.7150838 , 0.70786517, 0.74719101, 0.75280899, 0.73033708])"
      ]
     },
     "execution_count": 213,
     "metadata": {},
     "output_type": "execute_result"
    }
   ],
   "source": [
    "rs_knn_01 = cross_val_score(knn_ta_01, X_train, y_train, cv=5) # X_train, y_train cv=5 5번 으로 실행\n",
    "rs_knn_01"
   ]
  },
  {
   "cell_type": "code",
   "execution_count": 214,
   "id": "4adc7389",
   "metadata": {
    "ExecuteTime": {
     "end_time": "2023-09-07T08:28:16.715511Z",
     "start_time": "2023-09-07T08:28:16.706511Z"
    }
   },
   "outputs": [
    {
     "data": {
      "text/plain": [
       "0.7306572092147385"
      ]
     },
     "execution_count": 214,
     "metadata": {},
     "output_type": "execute_result"
    }
   ],
   "source": [
    "rs_knn_01.mean()"
   ]
  },
  {
   "cell_type": "code",
   "execution_count": 215,
   "id": "ff95302b",
   "metadata": {
    "ExecuteTime": {
     "end_time": "2023-09-07T08:29:15.012619Z",
     "start_time": "2023-09-07T08:29:14.988660Z"
    }
   },
   "outputs": [
    {
     "data": {
      "text/plain": [
       "KNeighborsClassifier(n_neighbors=3)"
      ]
     },
     "execution_count": 215,
     "metadata": {},
     "output_type": "execute_result"
    }
   ],
   "source": [
    "# 모델 학습  \n",
    "knn_ta_01.fit(X_train, y_train)"
   ]
  },
  {
   "cell_type": "code",
   "execution_count": 217,
   "id": "20d34f53",
   "metadata": {
    "ExecuteTime": {
     "end_time": "2023-09-07T08:30:09.998381Z",
     "start_time": "2023-09-07T08:30:09.974471Z"
    }
   },
   "outputs": [
    {
     "data": {
      "text/plain": [
       "array([0, 0, 1, 1, 0, 0, 0, 1, 0, 1, 0, 0, 1, 0, 1, 1, 0, 1, 1, 0, 0, 0,\n",
       "       1, 1, 1, 0, 1, 0, 1, 0, 1, 1, 1, 1, 1, 0, 0, 0, 0, 1, 0, 0, 0, 1,\n",
       "       1, 0, 1, 0, 1, 1, 1, 0, 1, 1, 0, 0, 0, 0, 0, 1, 0, 1, 0, 1, 1, 0,\n",
       "       0, 0, 0, 1, 0, 0, 0, 0, 1, 1, 0, 0, 0, 0, 1, 1, 1, 0, 0, 0, 1, 1,\n",
       "       1, 1, 0, 0, 1, 0, 0, 0, 1, 0, 0, 0, 1, 0, 0, 0, 1, 0, 0, 0, 0, 0,\n",
       "       0, 1, 1, 1, 1, 0, 0, 1, 1, 1, 0, 0, 1, 0, 0, 0, 0, 1, 1, 0, 0, 0,\n",
       "       0, 0, 0, 0, 0, 0, 1, 0, 0, 1, 1, 1, 1, 0, 0, 0, 0, 1, 0, 0, 0, 1,\n",
       "       0, 0, 1, 1, 1, 0, 1, 1, 1, 0, 1, 0, 1, 0, 1, 1, 0, 0, 0, 0, 0, 0,\n",
       "       0, 0, 0, 1, 0, 1, 1, 0, 1, 0, 1, 0, 0, 0, 0, 0, 1, 0, 0, 0, 1, 1,\n",
       "       0, 0, 1, 1, 0, 1, 0, 0, 0, 0, 1, 0, 0, 0, 0, 0, 0, 0, 1, 1, 1, 0,\n",
       "       1, 0, 0, 0, 0, 0, 0, 1, 0, 0, 1, 0, 0, 0, 1, 0, 1, 0, 0, 0, 0, 0,\n",
       "       1, 0, 0, 0, 1, 0, 1, 0, 1, 0, 1, 0, 0, 0, 0, 0, 0, 0, 0, 0, 1, 1,\n",
       "       1, 0, 0, 0, 0, 0, 1, 0, 1, 1, 0, 1, 0, 0, 1, 0, 0, 1, 1, 0, 0, 0,\n",
       "       0, 0, 0, 0, 0, 0, 0, 1, 0, 0, 0, 0, 0, 0, 0, 0, 0, 0, 1, 0, 0, 1,\n",
       "       1, 0, 0, 0, 0, 0, 1, 1, 1, 0, 1, 1, 0, 0, 0, 1, 1, 0, 0, 1, 1, 0,\n",
       "       0, 1, 0, 0, 1, 0, 1, 0, 1, 0, 0, 0, 0, 1, 1, 1, 0, 0, 0, 1, 1, 0,\n",
       "       0, 0, 1, 1, 1, 0, 0, 0, 0, 0, 1, 1, 1, 0, 0, 0, 1, 0, 0, 1, 0, 1,\n",
       "       1, 1, 1, 0, 1, 1, 0, 0, 0, 1, 0, 1, 0, 0, 0, 1, 1, 0, 0, 0, 0, 1,\n",
       "       0, 1, 0, 0, 0, 0, 1, 0, 0, 0, 0, 1, 1, 1, 1, 1, 0, 0, 1, 0, 0, 0],\n",
       "      dtype=int64)"
      ]
     },
     "execution_count": 217,
     "metadata": {},
     "output_type": "execute_result"
    }
   ],
   "source": [
    "# 모델 예측\n",
    "pre = knn_ta_01.predict(X_test)\n",
    "pre"
   ]
  },
  {
   "cell_type": "code",
   "execution_count": 218,
   "id": "12799f5b",
   "metadata": {
    "ExecuteTime": {
     "end_time": "2023-09-07T08:32:41.689921Z",
     "start_time": "2023-09-07T08:32:41.652022Z"
    }
   },
   "outputs": [
    {
     "data": {
      "text/html": [
       "<div>\n",
       "<style scoped>\n",
       "    .dataframe tbody tr th:only-of-type {\n",
       "        vertical-align: middle;\n",
       "    }\n",
       "\n",
       "    .dataframe tbody tr th {\n",
       "        vertical-align: top;\n",
       "    }\n",
       "\n",
       "    .dataframe thead th {\n",
       "        text-align: right;\n",
       "    }\n",
       "</style>\n",
       "<table border=\"1\" class=\"dataframe\">\n",
       "  <thead>\n",
       "    <tr style=\"text-align: right;\">\n",
       "      <th></th>\n",
       "      <th>PassengerId</th>\n",
       "      <th>Survived</th>\n",
       "    </tr>\n",
       "  </thead>\n",
       "  <tbody>\n",
       "    <tr>\n",
       "      <th>0</th>\n",
       "      <td>892</td>\n",
       "      <td>0</td>\n",
       "    </tr>\n",
       "    <tr>\n",
       "      <th>1</th>\n",
       "      <td>893</td>\n",
       "      <td>1</td>\n",
       "    </tr>\n",
       "    <tr>\n",
       "      <th>2</th>\n",
       "      <td>894</td>\n",
       "      <td>0</td>\n",
       "    </tr>\n",
       "    <tr>\n",
       "      <th>3</th>\n",
       "      <td>895</td>\n",
       "      <td>0</td>\n",
       "    </tr>\n",
       "    <tr>\n",
       "      <th>4</th>\n",
       "      <td>896</td>\n",
       "      <td>1</td>\n",
       "    </tr>\n",
       "    <tr>\n",
       "      <th>...</th>\n",
       "      <td>...</td>\n",
       "      <td>...</td>\n",
       "    </tr>\n",
       "    <tr>\n",
       "      <th>413</th>\n",
       "      <td>1305</td>\n",
       "      <td>0</td>\n",
       "    </tr>\n",
       "    <tr>\n",
       "      <th>414</th>\n",
       "      <td>1306</td>\n",
       "      <td>1</td>\n",
       "    </tr>\n",
       "    <tr>\n",
       "      <th>415</th>\n",
       "      <td>1307</td>\n",
       "      <td>0</td>\n",
       "    </tr>\n",
       "    <tr>\n",
       "      <th>416</th>\n",
       "      <td>1308</td>\n",
       "      <td>0</td>\n",
       "    </tr>\n",
       "    <tr>\n",
       "      <th>417</th>\n",
       "      <td>1309</td>\n",
       "      <td>0</td>\n",
       "    </tr>\n",
       "  </tbody>\n",
       "</table>\n",
       "<p>418 rows × 2 columns</p>\n",
       "</div>"
      ],
      "text/plain": [
       "     PassengerId  Survived\n",
       "0            892         0\n",
       "1            893         1\n",
       "2            894         0\n",
       "3            895         0\n",
       "4            896         1\n",
       "..           ...       ...\n",
       "413         1305         0\n",
       "414         1306         1\n",
       "415         1307         0\n",
       "416         1308         0\n",
       "417         1309         0\n",
       "\n",
       "[418 rows x 2 columns]"
      ]
     },
     "execution_count": 218,
     "metadata": {},
     "output_type": "execute_result"
    }
   ],
   "source": [
    "# kaggle 제출용 파일을 만들어 보자.\n",
    "# 제출용 답안지 서식 불러오기\n",
    "submission_knn01 = pd.read_csv('./data/gender_submission.csv')\n",
    "submission_knn01"
   ]
  },
  {
   "cell_type": "code",
   "execution_count": 219,
   "id": "e4c54f6a",
   "metadata": {
    "ExecuteTime": {
     "end_time": "2023-09-07T08:33:23.681461Z",
     "start_time": "2023-09-07T08:33:23.664506Z"
    }
   },
   "outputs": [],
   "source": [
    "# 기존 답안지에 우리가 예측한 값을 덮어 씌우자\n",
    "submission_knn01['Survived'] = pre"
   ]
  },
  {
   "cell_type": "code",
   "execution_count": 220,
   "id": "c58bc435",
   "metadata": {
    "ExecuteTime": {
     "end_time": "2023-09-07T08:33:36.103469Z",
     "start_time": "2023-09-07T08:33:36.085490Z"
    }
   },
   "outputs": [
    {
     "data": {
      "text/html": [
       "<div>\n",
       "<style scoped>\n",
       "    .dataframe tbody tr th:only-of-type {\n",
       "        vertical-align: middle;\n",
       "    }\n",
       "\n",
       "    .dataframe tbody tr th {\n",
       "        vertical-align: top;\n",
       "    }\n",
       "\n",
       "    .dataframe thead th {\n",
       "        text-align: right;\n",
       "    }\n",
       "</style>\n",
       "<table border=\"1\" class=\"dataframe\">\n",
       "  <thead>\n",
       "    <tr style=\"text-align: right;\">\n",
       "      <th></th>\n",
       "      <th>PassengerId</th>\n",
       "      <th>Survived</th>\n",
       "    </tr>\n",
       "  </thead>\n",
       "  <tbody>\n",
       "    <tr>\n",
       "      <th>0</th>\n",
       "      <td>892</td>\n",
       "      <td>0</td>\n",
       "    </tr>\n",
       "    <tr>\n",
       "      <th>1</th>\n",
       "      <td>893</td>\n",
       "      <td>0</td>\n",
       "    </tr>\n",
       "    <tr>\n",
       "      <th>2</th>\n",
       "      <td>894</td>\n",
       "      <td>1</td>\n",
       "    </tr>\n",
       "    <tr>\n",
       "      <th>3</th>\n",
       "      <td>895</td>\n",
       "      <td>1</td>\n",
       "    </tr>\n",
       "    <tr>\n",
       "      <th>4</th>\n",
       "      <td>896</td>\n",
       "      <td>0</td>\n",
       "    </tr>\n",
       "    <tr>\n",
       "      <th>...</th>\n",
       "      <td>...</td>\n",
       "      <td>...</td>\n",
       "    </tr>\n",
       "    <tr>\n",
       "      <th>413</th>\n",
       "      <td>1305</td>\n",
       "      <td>0</td>\n",
       "    </tr>\n",
       "    <tr>\n",
       "      <th>414</th>\n",
       "      <td>1306</td>\n",
       "      <td>1</td>\n",
       "    </tr>\n",
       "    <tr>\n",
       "      <th>415</th>\n",
       "      <td>1307</td>\n",
       "      <td>0</td>\n",
       "    </tr>\n",
       "    <tr>\n",
       "      <th>416</th>\n",
       "      <td>1308</td>\n",
       "      <td>0</td>\n",
       "    </tr>\n",
       "    <tr>\n",
       "      <th>417</th>\n",
       "      <td>1309</td>\n",
       "      <td>0</td>\n",
       "    </tr>\n",
       "  </tbody>\n",
       "</table>\n",
       "<p>418 rows × 2 columns</p>\n",
       "</div>"
      ],
      "text/plain": [
       "     PassengerId  Survived\n",
       "0            892         0\n",
       "1            893         0\n",
       "2            894         1\n",
       "3            895         1\n",
       "4            896         0\n",
       "..           ...       ...\n",
       "413         1305         0\n",
       "414         1306         1\n",
       "415         1307         0\n",
       "416         1308         0\n",
       "417         1309         0\n",
       "\n",
       "[418 rows x 2 columns]"
      ]
     },
     "execution_count": 220,
     "metadata": {},
     "output_type": "execute_result"
    }
   ],
   "source": [
    "submission_knn01"
   ]
  },
  {
   "cell_type": "code",
   "execution_count": 221,
   "id": "a9268fb9",
   "metadata": {
    "ExecuteTime": {
     "end_time": "2023-09-07T08:35:45.043376Z",
     "start_time": "2023-09-07T08:35:45.030410Z"
    }
   },
   "outputs": [],
   "source": [
    "# 수정한 데이터프레임을 파일로 만들어보자\n",
    "submission_knn01.to_csv('knn_ta_01.csv', index=False)"
   ]
  },
  {
   "cell_type": "markdown",
   "id": "3a0ccc86",
   "metadata": {},
   "source": [
    "1 . 문제 / 정답  \n",
    "\n",
    "- 먼저 나누는 이유는 문제와 정답을 나누는 함수는 없으나 학습과 테스트 는 함수가   정의되어 있다\n",
    "\n",
    "2. train/ test  train_test_split()\n",
    "\n",
    "\n"
   ]
  },
  {
   "cell_type": "code",
   "execution_count": null,
   "id": "61599a9f",
   "metadata": {},
   "outputs": [],
   "source": []
  }
 ],
 "metadata": {
  "kernelspec": {
   "display_name": "Python 3 (ipykernel)",
   "language": "python",
   "name": "python3"
  },
  "language_info": {
   "codemirror_mode": {
    "name": "ipython",
    "version": 3
   },
   "file_extension": ".py",
   "mimetype": "text/x-python",
   "name": "python",
   "nbconvert_exporter": "python",
   "pygments_lexer": "ipython3",
   "version": "3.10.9"
  },
  "toc": {
   "base_numbering": 1,
   "nav_menu": {},
   "number_sections": true,
   "sideBar": true,
   "skip_h1_title": false,
   "title_cell": "Table of Contents",
   "title_sidebar": "Contents",
   "toc_cell": false,
   "toc_position": {},
   "toc_section_display": true,
   "toc_window_display": false
  },
  "varInspector": {
   "cols": {
    "lenName": 16,
    "lenType": 16,
    "lenVar": 40
   },
   "kernels_config": {
    "python": {
     "delete_cmd_postfix": "",
     "delete_cmd_prefix": "del ",
     "library": "var_list.py",
     "varRefreshCmd": "print(var_dic_list())"
    },
    "r": {
     "delete_cmd_postfix": ") ",
     "delete_cmd_prefix": "rm(",
     "library": "var_list.r",
     "varRefreshCmd": "cat(var_dic_list()) "
    }
   },
   "types_to_exclude": [
    "module",
    "function",
    "builtin_function_or_method",
    "instance",
    "_Feature"
   ],
   "window_display": false
  }
 },
 "nbformat": 4,
 "nbformat_minor": 5
}
