{
 "cells": [
  {
   "cell_type": "markdown",
   "id": "126edc6d",
   "metadata": {},
   "source": [
    "어떤 형태의 데이터가 머신에게 주어지는지에 따라 다음으 세부 분야들로 분류됨  \n",
    "- 비지도 학습  = 정답지가 존재 X  \n",
    "    데이터가 들어왔을때 클러스터링 - 군집화 진행   \n",
    "- 지도 학습    =  정답지가 존재 O   \n",
    "    \n",
    "- 강화         =  \n",
    "    State = 상태   \n",
    "    reward= 보상  \n",
    "   어떤 상태로 만들면 어떤 결과가 나온다.. 더 좋은결과를 얻게끔 강화하는 것  \n",
    "ex) 알파고  \n",
    "\n",
    "## 지도학습  \n",
    "- 회귀   \n",
    "    선형 비선형  \n",
    "    경사 하강법  \n",
    "    편향 분산  \n",
    "- 분류  \n",
    "    Logistic & Softmax  \n",
    "    SVM  \n",
    "    Decision Tree  \n",
    "\n",
    "- Supervised Learning   \n",
    "    앙상블  - 여러개를 학습해서 여러개의 예측의 평균을 내서 사용  \n",
    "    Bagging  \n",
    "    Boosting \n",
    "\n",
    "## 비지도 학습  \n",
    "- 차원 축소  \n",
    "    전처리 과정에 사용  \n",
    "    전처리 - 데이터에 있는 노이즈(아웃라이어) 제거, 차원 축소   \n",
    "    PCA / SVD  \n",
    "- 군집화  분류 -> clstering(군집화)   \n",
    "    K-Means  \n",
    "    Mean Shift  \n",
    "    Gaussian Mixture Model   \n",
    "    DBSCAN  \n",
    "    \n",
    "\n",
    "머신 러닝  [오래된 분야]--> 딥러닝 추세  \n",
    "    통계적인 방법을 통해서 모델 학습  \n",
    "    \n",
    "    \n",
    "딥러닝  \n",
    "    경사 하강법. 모델 학습  \n",
    "    Network(신경망)구조  (비트코인)  \n",
    "    모델 사이즈가 커지고  -> 학습에 최적화 시켜야하는 파라미터가 수가 많음   \n",
    "    파라미터가 많으면 관계를 표현할 수 있는 능력이 커짐 -> 좋은모델 뽑아줌 -> 데이터가 많아야함  \n",
    "    \n",
    "\n",
    "\n",
    "    \n",
    "    \n",
    "    \n",
    "\n",
    "    "
   ]
  },
  {
   "cell_type": "markdown",
   "id": "a5002439",
   "metadata": {},
   "source": [
    "## 회귀 (Regression)  \n",
    "1. 입력값 : 연속값(실수형), 이산값(범주형) 등 모두 가능    \n",
    "2. 출력값 : 연속값(실수형)  \n",
    "3. 모델 형태 : 일반적인 함수 형태  \n",
    "\n",
    "## 분류 (Classification)  \n",
    "1. 입력값 : 연속값(실수형), 이산값(범주형) 등 모두 가능    \n",
    "2. 출력값 : 이산값(범주형)  \n",
    "3. 모델 형태 : 이진 분류라면 시그모이드(sigmoid)함수, 다중 분류라면 소프트맥스(Softmax) 함수 꼭 포함  \n"
   ]
  },
  {
   "cell_type": "code",
   "execution_count": null,
   "id": "fde6fe52",
   "metadata": {},
   "outputs": [],
   "source": []
  }
 ],
 "metadata": {
  "kernelspec": {
   "display_name": "Python 3 (ipykernel)",
   "language": "python",
   "name": "python3"
  },
  "language_info": {
   "codemirror_mode": {
    "name": "ipython",
    "version": 3
   },
   "file_extension": ".py",
   "mimetype": "text/x-python",
   "name": "python",
   "nbconvert_exporter": "python",
   "pygments_lexer": "ipython3",
   "version": "3.10.9"
  }
 },
 "nbformat": 4,
 "nbformat_minor": 5
}
