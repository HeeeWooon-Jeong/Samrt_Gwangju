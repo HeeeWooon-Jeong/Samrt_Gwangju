{
 "cells": [
  {
   "cell_type": "markdown",
   "metadata": {},
   "source": [
    "### 파이썬 활용 라이브러리 & 시각화 평가 답안지\n",
    "- 파일명에 본인 성명 기입하시오(Enter your name in the file name.)\n",
    "- 수업 중 배웠던 내용을 상기하여 최선을 다해 문제 풀어주세요.(Recall what you learned in class and do your best to solve the problem.)"
   ]
  },
  {
   "cell_type": "markdown",
   "metadata": {},
   "source": [
    "#### Question1\n",
    "다음은 어떤 차트에 대한 설명이다. 각 빈칸에 알맞은 답을 작성하시오."
   ]
  },
  {
   "cell_type": "markdown",
   "metadata": {},
   "source": [
    "답 :   \n",
    "    ① Line plot\n",
    "    ② .show()"
   ]
  },
  {
   "cell_type": "markdown",
   "metadata": {},
   "source": [
    "#### Question2"
   ]
  },
  {
   "cell_type": "markdown",
   "metadata": {},
   "source": [
    "다음은 어떤 차트에 대한 출력물이다. 문제를 읽고 알맞은 답을 작성하시오. "
   ]
  },
  {
   "cell_type": "markdown",
   "metadata": {},
   "source": [
    "1) 이 차트의 명칭을 작성하시오."
   ]
  },
  {
   "cell_type": "markdown",
   "metadata": {},
   "source": [
    "답 :  bar chart"
   ]
  },
  {
   "cell_type": "markdown",
   "metadata": {},
   "source": [
    "2) 이 차트를 matplotlib.pyplot 라이브러리를 사용하여 시각화하기 위해서 어떤 함수를 사용하는지 작성하시오. "
   ]
  },
  {
   "cell_type": "markdown",
   "metadata": {},
   "source": [
    "답 : .show()"
   ]
  },
  {
   "cell_type": "markdown",
   "metadata": {},
   "source": [
    "#### Question3\n",
    "아래와 같이 리스트를 만들고 요소의 짝수/홀수를 구분하여 개수를 세는 프로그램을 작성하시오. "
   ]
  },
  {
   "cell_type": "code",
   "execution_count": 89,
   "metadata": {
    "ExecuteTime": {
     "end_time": "2023-07-10T06:02:35.828502Z",
     "start_time": "2023-07-10T06:02:35.809367Z"
    }
   },
   "outputs": [
    {
     "name": "stdout",
     "output_type": "stream",
     "text": [
      "짝수 2개, 홀수 7개\n"
     ]
    }
   ],
   "source": [
    "import numpy as np\n",
    "list1 = [1, 50, 27, 19, 37, 33, 5, 3, 48]\n",
    "even_number = []\n",
    "odd_number = []\n",
    "for i in list1:\n",
    "    if i %2 == 0 :\n",
    "        even_number.append(i)\n",
    "    else :\n",
    "        odd_number.append(i)\n",
    "print('짝수 '+ str(len(even_number))+'개,',end='')\n",
    "print(' 홀수 '+ str(len(odd_number))+'개')\n",
    " \n"
   ]
  },
  {
   "cell_type": "markdown",
   "metadata": {},
   "source": [
    "#### Question4\n",
    "다음 score_list에 들어있는 데이터를 이용해 아래와 같이 성적표를 만드는 프로그램을 작성하시오. (단, 학생의 숫자가 늘어나도 동작할 수 있도록 고려하시오.)"
   ]
  },
  {
   "cell_type": "code",
   "execution_count": 259,
   "metadata": {
    "ExecuteTime": {
     "end_time": "2023-07-10T07:33:36.083569Z",
     "start_time": "2023-07-10T07:33:36.065617Z"
    }
   },
   "outputs": [
    {
     "name": "stdout",
     "output_type": "stream",
     "text": [
      "82\n",
      "79\n",
      "82.0\n",
      "이름     Python   Java     DB        평균      학점\n",
      "=============================================================\n",
      "김미희     89      78      99       78.33       B\n",
      "서대희     67      88      77       78.33       C\n",
      "강예진     100     55      96       78.33       B\n",
      "차현석     75      100     60       78.33       C\n",
      "=============================================================\n",
      " 평균 \t   82\t   79\t   82\n"
     ]
    }
   ],
   "source": [
    "score_list = [['김미희', 89, 78, 99], \n",
    "              ['서대희', 67, 88, 77], \n",
    "              ['강예진', 100, 55, 96],\n",
    "              ['차현석', 75, 100, 60]]\n",
    "sl = score_list \n",
    "columns = \"이름     Python   Java     DB        평균      학점\"\n",
    "gr = {'A': 90, 'B': 80, 'C': 70, 'D': 60}\n",
    "p =[]\n",
    "j = []\n",
    "d = []\n",
    "Python = 0\n",
    "Java = 0\n",
    "DB = 0\n",
    "\n",
    "cnt = 0\n",
    "for i in sl :\n",
    "    \n",
    "    p.append(score_list[cnt][1])\n",
    "    j.append(score_list[cnt][2]) \n",
    "    d.append(score_list[cnt][3])\n",
    "    cnt+=1\n",
    "    \n",
    "averp = sum(p)/len(sl[0])-1\n",
    "averj = sum(j)/len(sl[0])-1\n",
    "averd = sum(d)/len(sl[0])-1\n",
    "\n",
    "print(round(averp))\n",
    "print(round(averj))\n",
    "print(averd)\n",
    "\n",
    "print(columns)\n",
    "print('=============================================================')\n",
    "\n",
    "for i in score_list:\n",
    "    scores = i[1:]\n",
    "    av = sum(scores) / len(scores)\n",
    "    gr = ''\n",
    "    name = i[0]\n",
    "   \n",
    "    for key, value in grades.items():\n",
    "        if av >= value:\n",
    "            grade = key\n",
    "            break\n",
    "            \n",
    "    row = f\"{name:<5} \"\n",
    "    row += ' '.join(f\"{score:^7}\" for score in scores)\n",
    "    row += f\"    {average:^5.2f}       {grade}\"\n",
    "    print(row)\n",
    "print('=============================================================')\n",
    "print(f' 평균 \\t   {round(averp)}\\t   {round(averj)}\\t   {round(averd)}') "
   ]
  },
  {
   "cell_type": "markdown",
   "metadata": {},
   "source": [
    "#### Question5\n",
    " X, Y1, Y2 리스트 자료를 활용하여 [실행결과]와 같은 그래프를 출력하는 프로그램을 작성하시오.  (단, 두 차트는 빨간색과 파란색을 통해 구별 하시오.)"
   ]
  },
  {
   "cell_type": "code",
   "execution_count": 118,
   "metadata": {
    "ExecuteTime": {
     "end_time": "2023-07-10T06:16:39.194497Z",
     "start_time": "2023-07-10T06:16:38.521200Z"
    }
   },
   "outputs": [
    {
     "data": {
      "image/png": "[encoded data removed]",
      "text/plain": [
       "<Figure size 640x480 with 1 Axes>"
      ]
     },
     "metadata": {},
     "output_type": "display_data"
    }
   ],
   "source": [
    "import matplotlib.pyplot as plt\n",
    "\n",
    "X = [2, 3, 4, 5, 6, 7, 8]\n",
    "Y1 = [5, 7, 3, 9, 1, 8, 6]\n",
    "Y2 = [9, 5, 7, 2, 3, 7, 1]\n",
    "\n",
    "plt.plot(X, Y1, 'r', label='Y1')\n",
    "plt.plot(X, Y2, 'b', label='Y2')\n",
    "plt.xlabel('X')\n",
    "plt.ylabel('Y')\n",
    "plt.title('Data Plot')\n",
    "plt.legend()\n",
    "plt.show()"
   ]
  },
  {
   "cell_type": "markdown",
   "metadata": {},
   "source": [
    "#### Question6\n",
    "Traffic_Accident_2017.csv 데이터를 이용하여 ‘차대 사람’인 사건 중 야간에 발생한 사건에 대해 아래 주어진 조건을 지켜 다음과 같이 시각화 하시오.\n",
    "\n",
    "※ 조건 내용 반드시 확인할 것  \n",
    " 조건 1. 사고유형_대분류가 ‘차대사람’ 이면서 발생시간대가 ‘야간’인 경우의 사고 건수 카운트  \n",
    " 조건 2. y축의 범위는 0~200으로 설정할 것  \n",
    " 조건 3. 차트 내부 글씨는 한글로 표시할 것  "
   ]
  },
  {
   "cell_type": "code",
   "execution_count": 189,
   "metadata": {
    "ExecuteTime": {
     "end_time": "2023-07-10T07:05:13.837631Z",
     "start_time": "2023-07-10T07:05:13.698877Z"
    }
   },
   "outputs": [
    {
     "data": {
      "text/plain": [
       "964"
      ]
     },
     "metadata": {},
     "output_type": "display_data"
    },
    {
     "name": "stdout",
     "output_type": "stream",
     "text": [
      "월    123\n",
      "화    145\n",
      "수    142\n",
      "목    134\n",
      "금    137\n",
      "토    162\n",
      "일    121\n",
      "Name: 요일, dtype: int64\n"
     ]
    },
    {
     "data": {
      "image/png": "[encoded data removed]",
      "text/plain": [
       "<Figure size 640x480 with 1 Axes>"
      ]
     },
     "metadata": {},
     "output_type": "display_data"
    }
   ],
   "source": [
    "import numpy as np\n",
    "import pandas as pd\n",
    "import matplotlib.pyplot as plt\n",
    "import seaborn as sns\n",
    "\n",
    "import warnings\n",
    "\n",
    "from matplotlib import rc\n",
    "rc('font', family='Malgun Gothic')\n",
    "\n",
    "\n",
    "warnings.filterwarnings(action = 'ignore')\n",
    "\n",
    "acc_data = pd.read_csv('./PythonLib/data/Traffic_Accident_2017.csv', encoding='euc-kr')\n",
    "acc_data\n",
    "\n",
    "car_2=acc_data.query('사고유형_대분류 == \"차대사람\"')\n",
    "car_2=car_h.query('주야 == \"야간\"')\n",
    "조건1=len(car_2)\n",
    "display(조건1)\n",
    "car_2\n",
    "\n",
    "\n",
    "\n",
    "day = car_2['요일'].value_counts()\n",
    "day1 = day[['월', '화', '수', '목', '금', '토', '일']]\n",
    "day1\n",
    "\n",
    "\n",
    "print(day1)\n",
    "\n",
    "sns.barplot(day1.index, day1)\n",
    "plt.title('요일별 교통사고 건수')\n",
    "plt.ylabel('사고 건수')\n",
    "plt.xlabel('요일')\n",
    "plt.ylim(1, 200)\n",
    "plt.show()\n",
    "\n",
    "\n",
    "\n",
    "# plt.ylabel('사고건수')\n",
    "# plt.xlabel('야간 발생 사고') car_h2\n",
    "\n",
    "\n"
   ]
  },
  {
   "cell_type": "markdown",
   "metadata": {},
   "source": [
    "### 수고하셨습니다 ."
   ]
  }
 ],
 "metadata": {
  "kernelspec": {
   "display_name": "Python 3 (ipykernel)",
   "language": "python",
   "name": "python3"
  },
  "language_info": {
   "codemirror_mode": {
    "name": "ipython",
    "version": 3
   },
   "file_extension": ".py",
   "mimetype": "text/x-python",
   "name": "python",
   "nbconvert_exporter": "python",
   "pygments_lexer": "ipython3",
   "version": "3.9.13"
  },
  "toc": {
   "base_numbering": 1,
   "nav_menu": {},
   "number_sections": true,
   "sideBar": true,
   "skip_h1_title": false,
   "title_cell": "Table of Contents",
   "title_sidebar": "Contents",
   "toc_cell": false,
   "toc_position": {},
   "toc_section_display": true,
   "toc_window_display": false
  },
  "varInspector": {
   "cols": {
    "lenName": 16,
    "lenType": 16,
    "lenVar": 40
   },
   "kernels_config": {
    "python": {
     "delete_cmd_postfix": "",
     "delete_cmd_prefix": "del ",
     "library": "var_list.py",
     "varRefreshCmd": "print(var_dic_list())"
    },
    "r": {
     "delete_cmd_postfix": ") ",
     "delete_cmd_prefix": "rm(",
     "library": "var_list.r",
     "varRefreshCmd": "cat(var_dic_list()) "
    }
   },
   "types_to_exclude": [
    "module",
    "function",
    "builtin_function_or_method",
    "instance",
    "_Feature"
   ],
   "window_display": false
  }
 },
 "nbformat": 4,
 "nbformat_minor": 4
}
