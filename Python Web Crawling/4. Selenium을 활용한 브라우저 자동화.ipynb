{
 "cells": [
  {
   "cell_type": "markdown",
   "id": "328e5752",
   "metadata": {},
   "source": [
    "# 셀레니움"
   ]
  },
  {
   "cell_type": "markdown",
   "id": "68c1840a",
   "metadata": {
    "ExecuteTime": {
     "end_time": "2023-07-18T00:34:59.306276Z",
     "start_time": "2023-07-18T00:34:59.159407Z"
    }
   },
   "source": [
    " 라이브러리 설치  \n",
    " \n",
    "! = 강제설치\n"
   ]
  },
  {
   "cell_type": "code",
   "execution_count": 1,
   "id": "3c4e695b",
   "metadata": {
    "ExecuteTime": {
     "end_time": "2023-07-18T03:48:56.619932Z",
     "start_time": "2023-07-18T03:48:53.721513Z"
    }
   },
   "outputs": [
    {
     "name": "stdout",
     "output_type": "stream",
     "text": [
      "Requirement already satisfied: selenium in c:\\users\\smhrd\\anaconda3\\lib\\site-packages (4.10.0)\n",
      "Requirement already satisfied: urllib3[socks]<3,>=1.26 in c:\\users\\smhrd\\anaconda3\\lib\\site-packages (from selenium) (1.26.11)\n",
      "Requirement already satisfied: trio~=0.17 in c:\\users\\smhrd\\anaconda3\\lib\\site-packages (from selenium) (0.22.2)\n",
      "Requirement already satisfied: trio-websocket~=0.9 in c:\\users\\smhrd\\anaconda3\\lib\\site-packages (from selenium) (0.10.3)\n",
      "Requirement already satisfied: certifi>=2021.10.8 in c:\\users\\smhrd\\anaconda3\\lib\\site-packages (from selenium) (2022.9.14)\n",
      "Requirement already satisfied: attrs>=20.1.0 in c:\\users\\smhrd\\anaconda3\\lib\\site-packages (from trio~=0.17->selenium) (21.4.0)\n",
      "Requirement already satisfied: cffi>=1.14 in c:\\users\\smhrd\\anaconda3\\lib\\site-packages (from trio~=0.17->selenium) (1.15.1)\n",
      "Requirement already satisfied: idna in c:\\users\\smhrd\\anaconda3\\lib\\site-packages (from trio~=0.17->selenium) (3.3)\n",
      "Requirement already satisfied: exceptiongroup>=1.0.0rc9 in c:\\users\\smhrd\\anaconda3\\lib\\site-packages (from trio~=0.17->selenium) (1.1.2)\n",
      "Requirement already satisfied: sortedcontainers in c:\\users\\smhrd\\anaconda3\\lib\\site-packages (from trio~=0.17->selenium) (2.4.0)\n",
      "Requirement already satisfied: sniffio in c:\\users\\smhrd\\anaconda3\\lib\\site-packages (from trio~=0.17->selenium) (1.2.0)\n",
      "Requirement already satisfied: outcome in c:\\users\\smhrd\\anaconda3\\lib\\site-packages (from trio~=0.17->selenium) (1.2.0)\n",
      "Requirement already satisfied: wsproto>=0.14 in c:\\users\\smhrd\\anaconda3\\lib\\site-packages (from trio-websocket~=0.9->selenium) (1.2.0)\n",
      "Requirement already satisfied: PySocks!=1.5.7,<2.0,>=1.5.6 in c:\\users\\smhrd\\anaconda3\\lib\\site-packages (from urllib3[socks]<3,>=1.26->selenium) (1.7.1)\n",
      "Requirement already satisfied: pycparser in c:\\users\\smhrd\\anaconda3\\lib\\site-packages (from cffi>=1.14->trio~=0.17->selenium) (2.21)\n",
      "Requirement already satisfied: h11<1,>=0.9.0 in c:\\users\\smhrd\\anaconda3\\lib\\site-packages (from wsproto>=0.14->trio-websocket~=0.9->selenium) (0.14.0)\n"
     ]
    }
   ],
   "source": [
    "!pip install selenium"
   ]
  },
  {
   "cell_type": "markdown",
   "id": "098e89e6",
   "metadata": {},
   "source": [
    "# 크롬드라이버 설치\n",
    "\n",
    "- 내가 쓰고있는 브라우저와 같은 버전을 설치!\n",
    "\n",
    "- 드라이버의 경로는 작업중인 폴더에 넣기!\n",
    "\n",
    "\n"
   ]
  },
  {
   "cell_type": "code",
   "execution_count": 14,
   "id": "183aa73d",
   "metadata": {
    "ExecuteTime": {
     "end_time": "2023-07-19T00:32:08.011743Z",
     "start_time": "2023-07-19T00:32:07.992652Z"
    }
   },
   "outputs": [],
   "source": [
    "#1. 브라우저의 역할을 해주는 라이브러리\n",
    "from selenium import webdriver as wb\n",
    "\n",
    "#2. 키보드\n",
    "from selenium.webdriver.common.keys import Keys\n",
    "\n",
    "#3. (선태자의)구분자 역할 하는 \n",
    "from selenium.webdriver.common.by import By\n",
    "\n",
    "# 기본적으로 사용하는 3가지"
   ]
  },
  {
   "cell_type": "code",
   "execution_count": 3,
   "id": "5b40acda",
   "metadata": {
    "ExecuteTime": {
     "end_time": "2023-07-18T03:48:57.793573Z",
     "start_time": "2023-07-18T03:48:56.716272Z"
    }
   },
   "outputs": [],
   "source": [
    "# 1. 브라우저를 실행\n",
    "# 크롬드라이버가 같은 위치에 있어야 한다.\n",
    "# 시작페이지가 설정되어있지 않으면 빈화면 \n",
    "driver = wb.Chrome(# 이곳이 경로위치)"
   ]
  },
  {
   "cell_type": "code",
   "execution_count": 4,
   "id": "312dea59",
   "metadata": {
    "ExecuteTime": {
     "end_time": "2023-07-18T03:48:58.327879Z",
     "start_time": "2023-07-18T03:48:57.794474Z"
    }
   },
   "outputs": [],
   "source": [
    "# 2. 네이버로 이동\n",
    "driver.get(\"http://www.naver.com/\")"
   ]
  },
  {
   "cell_type": "code",
   "execution_count": 5,
   "id": "879c1707",
   "metadata": {
    "ExecuteTime": {
     "end_time": "2023-07-18T03:48:58.623089Z",
     "start_time": "2023-07-18T03:48:58.329875Z"
    }
   },
   "outputs": [],
   "source": [
    "# 3. 검색창에 \"장마\" 검색\n",
    "\n",
    "# 특정 요소를 검사하기 위해서 find_element(s)(By.구분자, \"구분값\")\n",
    "\n",
    "\n",
    "search = driver.find_element(By.ID, \"query\")"
   ]
  },
  {
   "cell_type": "markdown",
   "id": "94d1db65",
   "metadata": {},
   "source": [
    "<selenium.webdriver.remote.webelement.WebElement (session=\"3233043add738166b8e8d15345c647aa\", element=\"3E8E9C3BBEE4E6D405006A6432366AEE_element_12\")>\n",
    "\n",
    "요소를 찾았으때 알려주는 코드"
   ]
  },
  {
   "cell_type": "code",
   "execution_count": 6,
   "id": "48a16751",
   "metadata": {
    "ExecuteTime": {
     "end_time": "2023-07-18T03:48:58.840510Z",
     "start_time": "2023-07-18T03:48:58.624086Z"
    }
   },
   "outputs": [],
   "source": [
    "# 검색창에 특정 키 값을 보낸다\n",
    "#  인풋창에 특정 값을 보낼때는 send_keys(\"값\")\n",
    "\n",
    "search.send_keys(\"장마\")"
   ]
  },
  {
   "cell_type": "code",
   "execution_count": 7,
   "id": "2be3f7e3",
   "metadata": {
    "ExecuteTime": {
     "end_time": "2023-07-18T03:48:59.605323Z",
     "start_time": "2023-07-18T03:48:58.841504Z"
    }
   },
   "outputs": [],
   "source": [
    "# 검색창에 엔터를 쳐서 검색\n",
    "# \"Enter\" 는 문자\n",
    "#  from selenium.webdriver.common.keys import Keys  의 역할\n",
    "# 대문자 키\n",
    "\n",
    "search.send_keys(Keys.ENTER)"
   ]
  },
  {
   "cell_type": "code",
   "execution_count": 8,
   "id": "74abc9c1",
   "metadata": {
    "ExecuteTime": {
     "end_time": "2023-07-18T03:49:00.056437Z",
     "start_time": "2023-07-18T03:48:59.606322Z"
    }
   },
   "outputs": [],
   "source": [
    "# End키로 화면 최하단으로 가고싶을때 body 태그에게 End 전달\n",
    "\n",
    "# 화면의 스크롤을 최하단으로 이동\n",
    "# 1. body태그에게 명령을 줘야함\n",
    "\n",
    "\n",
    "\n",
    "body = driver.find_element(By.TAG_NAME, \"body\")\n",
    "body.send_keys(Keys. END)"
   ]
  },
  {
   "cell_type": "code",
   "execution_count": 9,
   "id": "1aec9a91",
   "metadata": {
    "ExecuteTime": {
     "end_time": "2023-07-18T03:49:01.102886Z",
     "start_time": "2023-07-18T03:49:00.059798Z"
    }
   },
   "outputs": [],
   "source": [
    "# 뒤로가기 실행\n",
    "# 뒤로가기 버튼은 태그가 아니기 때문!\n",
    "\n",
    "driver.back()\n",
    "driver.forward()"
   ]
  },
  {
   "cell_type": "code",
   "execution_count": 10,
   "id": "34eae717",
   "metadata": {
    "ExecuteTime": {
     "end_time": "2023-07-18T03:49:01.272451Z",
     "start_time": "2023-07-18T03:49:01.103885Z"
    }
   },
   "outputs": [
    {
     "ename": "NameError",
     "evalue": "name '단축키' is not defined",
     "output_type": "error",
     "traceback": [
      "\u001b[1;31m---------------------------------------------------------------------------\u001b[0m",
      "\u001b[1;31mNameError\u001b[0m                                 Traceback (most recent call last)",
      "\u001b[1;32m~\\AppData\\Local\\Temp\\ipykernel_13440\\2668813094.py\u001b[0m in \u001b[0;36m<module>\u001b[1;34m\u001b[0m\n\u001b[1;32m----> 1\u001b[1;33m \u001b[0m단축키\u001b[0m\u001b[1;33m\u001b[0m\u001b[1;33m\u001b[0m\u001b[0m\n\u001b[0m",
      "\u001b[1;31mNameError\u001b[0m: name '단축키' is not defined"
     ]
    }
   ],
   "source": [
    "단축키"
   ]
  },
  {
   "cell_type": "code",
   "execution_count": null,
   "id": "b71c0dae",
   "metadata": {
    "ExecuteTime": {
     "end_time": "2023-07-18T03:49:01.296388Z",
     "start_time": "2023-07-18T03:49:01.296388Z"
    }
   },
   "outputs": [],
   "source": [
    "# 검색창에 이강인 검색\n",
    "\n",
    "search.send_keys(\"이강인\")"
   ]
  },
  {
   "cell_type": "code",
   "execution_count": null,
   "id": "ad753b2e",
   "metadata": {
    "ExecuteTime": {
     "end_time": "2023-07-18T01:46:01.560435Z",
     "start_time": "2023-07-18T01:46:01.551459Z"
    }
   },
   "outputs": [],
   "source": []
  },
  {
   "cell_type": "code",
   "execution_count": null,
   "id": "e2b78cbe",
   "metadata": {
    "ExecuteTime": {
     "end_time": "2023-07-18T03:49:01.298382Z",
     "start_time": "2023-07-18T03:49:01.298382Z"
    }
   },
   "outputs": [],
   "source": [
    "# 검색버튼을 클릭\n",
    "btn=driver.find_element(By.CLASS_NAME,\"btn_search\")\n",
    "btn.click()"
   ]
  },
  {
   "cell_type": "code",
   "execution_count": null,
   "id": "306b47d6",
   "metadata": {
    "ExecuteTime": {
     "end_time": "2023-07-18T03:49:01.299379Z",
     "start_time": "2023-07-18T03:49:01.299379Z"
    }
   },
   "outputs": [],
   "source": [
    "# 창 종료\n",
    "driver.quit()"
   ]
  },
  {
   "cell_type": "markdown",
   "id": "495a896e",
   "metadata": {},
   "source": [
    "# 한솥도시락 정보수집\n",
    "- 시험에 나옴\n",
    "\n",
    "https://www.hsd.co.kr/menu/menu_list"
   ]
  },
  {
   "cell_type": "code",
   "execution_count": null,
   "id": "9097b123",
   "metadata": {
    "ExecuteTime": {
     "end_time": "2023-07-18T03:49:01.303368Z",
     "start_time": "2023-07-18T03:49:01.303368Z"
    }
   },
   "outputs": [],
   "source": [
    "driver = wb.Chrome()\n",
    "driver.get(\"https://www.hsd.co.kr/menu/menu_list\")"
   ]
  },
  {
   "cell_type": "code",
   "execution_count": null,
   "id": "24260413",
   "metadata": {
    "ExecuteTime": {
     "end_time": "2023-07-18T03:49:01.306360Z",
     "start_time": "2023-07-18T03:49:01.306360Z"
    }
   },
   "outputs": [],
   "source": [
    "# 메뉴 이름 수집\n",
    "\n",
    "menu=driver.find_elements(By.CLASS_NAME, \"h.fz_03\")\n",
    "menu"
   ]
  },
  {
   "cell_type": "code",
   "execution_count": null,
   "id": "cec3855a",
   "metadata": {
    "ExecuteTime": {
     "end_time": "2023-07-18T03:49:01.309352Z",
     "start_time": "2023-07-18T03:49:01.309352Z"
    }
   },
   "outputs": [],
   "source": [
    "menu_list=[]\n",
    "for i in menu :\n",
    "    menu_list.append(i.text)"
   ]
  },
  {
   "cell_type": "code",
   "execution_count": null,
   "id": "62980e49",
   "metadata": {
    "ExecuteTime": {
     "end_time": "2023-07-18T03:49:01.311347Z",
     "start_time": "2023-07-18T03:49:01.311347Z"
    },
    "scrolled": true
   },
   "outputs": [],
   "source": [
    "menu_list"
   ]
  },
  {
   "cell_type": "code",
   "execution_count": null,
   "id": "3af0a97b",
   "metadata": {
    "ExecuteTime": {
     "end_time": "2023-07-18T03:49:01.312345Z",
     "start_time": "2023-07-18T03:49:01.312345Z"
    }
   },
   "outputs": [],
   "source": [
    "# 가격 정보 수집\n",
    "\n",
    "# price=driver.find_elements(By.CLASS_NAME, \"item-price>strong\")\n",
    "price=driver.find_elements(By.CSS_SELECTOR, \"div.item-price > strong\")\n",
    "price"
   ]
  },
  {
   "cell_type": "code",
   "execution_count": null,
   "id": "3c63df0d",
   "metadata": {
    "ExecuteTime": {
     "end_time": "2023-07-18T03:49:01.314339Z",
     "start_time": "2023-07-18T03:49:01.314339Z"
    },
    "scrolled": true
   },
   "outputs": [],
   "source": [
    "for i in price :\n",
    "    print(i.text)"
   ]
  },
  {
   "cell_type": "code",
   "execution_count": null,
   "id": "8b06bc86",
   "metadata": {
    "ExecuteTime": {
     "end_time": "2023-07-18T03:49:01.315336Z",
     "start_time": "2023-07-18T03:49:01.315336Z"
    }
   },
   "outputs": [],
   "source": [
    "# 더보기를 눌러야 모든 정보가 출력되는 페이지에서는 모니터의 크기에 따라 개수가 다를 수 있음\n",
    "\n",
    "\n",
    "len(price)"
   ]
  },
  {
   "cell_type": "code",
   "execution_count": null,
   "id": "15fe7ba9",
   "metadata": {
    "ExecuteTime": {
     "end_time": "2023-07-18T03:49:01.317331Z",
     "start_time": "2023-07-18T03:49:01.317331Z"
    }
   },
   "outputs": [],
   "source": [
    "# 더보기 버튼을 클릭해서 모든 데이터를 조회\n",
    "\n",
    "btn_more = driver.find_element(By.CSS_SELECTOR, \"a.c_05\")"
   ]
  },
  {
   "cell_type": "code",
   "execution_count": null,
   "id": "964cf3f7",
   "metadata": {
    "ExecuteTime": {
     "end_time": "2023-07-18T03:49:01.320323Z",
     "start_time": "2023-07-18T03:49:01.319325Z"
    }
   },
   "outputs": [],
   "source": [
    "# 더보기버튼을 클릭하는데 반복 회수를 모르니 while문 작성\n",
    "# 더보기 버튼이 완료가 되어 더이상 존재 하지않으면 오류가 발생함\n",
    "# 예외처리를 통해서 오류를 건너뛴다.\n",
    "\n",
    "try : \n",
    "    # 오류 나기 전까지 실행하는 공간\n",
    "    while True :\n",
    "        btn_more = driver.find_element(By.CSS_SELECTOR, \"a.c_05\")\n",
    "        btn_more.click()\n",
    "except :\n",
    "    # 오류가 난 후 실행한는 공간\n",
    "    print(\"더보기가 완료되었습니다.\")   "
   ]
  },
  {
   "cell_type": "code",
   "execution_count": null,
   "id": "55530b0c",
   "metadata": {
    "ExecuteTime": {
     "end_time": "2023-07-18T03:49:01.321320Z",
     "start_time": "2023-07-18T03:49:01.321320Z"
    }
   },
   "outputs": [],
   "source": [
    "# executed in 175ms, finished 11:43:28 2023-07-18 \n",
    "# 굉장히 빠른속도로 처리하기 때문에 서버에 과부화를 줌\n",
    "# 때문에 대기시간을 줌\n",
    "# time.leep()\n",
    "\n",
    "try : \n",
    "    # 오류 나기 전까지 실행하는 공간\n",
    "    while True :\n",
    "        btn_more = driver.find_element(By.CSS_SELECTOR, \"a.c_05\")\n",
    "        btn_more.click()\n",
    "        time.sleep(51)\n",
    "except :\n",
    "    # 오류가 난 후 실행한는 공간\n",
    "    print(\"더보기가 완료되었습니다.\")   "
   ]
  },
  {
   "cell_type": "code",
   "execution_count": null,
   "id": "11a44917",
   "metadata": {
    "ExecuteTime": {
     "end_time": "2023-07-18T03:49:01.322317Z",
     "start_time": "2023-07-18T03:49:01.322317Z"
    }
   },
   "outputs": [],
   "source": [
    "menu=driver.find_elements(By.CLASS_NAME, \"h.fz_03\")\n",
    "price=driver.find_elements(By.CSS_SELECTOR, \"div.item-price > strong\")\n"
   ]
  },
  {
   "cell_type": "code",
   "execution_count": null,
   "id": "103aabad",
   "metadata": {
    "ExecuteTime": {
     "end_time": "2023-07-18T03:49:01.323314Z",
     "start_time": "2023-07-18T03:49:01.323314Z"
    },
    "scrolled": true
   },
   "outputs": [],
   "source": [
    "menu_list = []\n",
    "price_list = []\n",
    "\n",
    "for i in menu :\n",
    "    menu_list.append(i.text)\n",
    "\n",
    "menu_list\n",
    "\n",
    "for i in price :\n",
    "    price_list.append(i.text)\n",
    "\n",
    "menu_list"
   ]
  },
  {
   "cell_type": "code",
   "execution_count": null,
   "id": "a8d77c9e",
   "metadata": {
    "ExecuteTime": {
     "end_time": "2023-07-18T03:49:01.325309Z",
     "start_time": "2023-07-18T03:49:01.325309Z"
    }
   },
   "outputs": [],
   "source": [
    "len(price)\n",
    "len(menu)\n",
    "len(list1)"
   ]
  },
  {
   "cell_type": "markdown",
   "id": "48092fbb",
   "metadata": {},
   "source": [
    "# 실습"
   ]
  },
  {
   "cell_type": "code",
   "execution_count": null,
   "id": "d948730b",
   "metadata": {
    "ExecuteTime": {
     "end_time": "2023-07-18T03:49:01.326306Z",
     "start_time": "2023-07-18T03:49:01.326306Z"
    }
   },
   "outputs": [],
   "source": [
    "import pandas as pd"
   ]
  },
  {
   "cell_type": "code",
   "execution_count": null,
   "id": "429ec5e3",
   "metadata": {
    "ExecuteTime": {
     "end_time": "2023-07-18T03:49:01.327304Z",
     "start_time": "2023-07-18T03:49:01.327304Z"
    }
   },
   "outputs": [],
   "source": [
    "hansot= {\"메뉴\":menu_list, \"가격\":price_list, \"순위\":list1}"
   ]
  },
  {
   "cell_type": "code",
   "execution_count": null,
   "id": "855f5182",
   "metadata": {
    "ExecuteTime": {
     "end_time": "2023-07-18T03:49:01.328301Z",
     "start_time": "2023-07-18T03:49:01.328301Z"
    }
   },
   "outputs": [],
   "source": [
    "table = pd.DataFrame(hansot)\n",
    "\n",
    "table"
   ]
  },
  {
   "cell_type": "code",
   "execution_count": null,
   "id": "751c905a",
   "metadata": {
    "ExecuteTime": {
     "end_time": "2023-07-18T03:49:01.330295Z",
     "start_time": "2023-07-18T03:49:01.330295Z"
    }
   },
   "outputs": [],
   "source": [
    "table.to_csv(\"한솥메뉴.csv\", encoding = \"utf-8\")\n",
    "table.to_html(\"한솥메뉴.html\", encoding = \"utf-8\")"
   ]
  },
  {
   "cell_type": "code",
   "execution_count": null,
   "id": "f2e5446b",
   "metadata": {},
   "outputs": [],
   "source": []
  },
  {
   "cell_type": "code",
   "execution_count": null,
   "id": "d896175b",
   "metadata": {
    "ExecuteTime": {
     "end_time": "2023-07-18T03:49:01.331293Z",
     "start_time": "2023-07-18T03:49:01.331293Z"
    },
    "scrolled": true
   },
   "outputs": [],
   "source": [
    "list1=[]\n",
    "for i in range(5,len(menu_list)+5):\n",
    "    list1.append(i)\n",
    "list1"
   ]
  },
  {
   "cell_type": "code",
   "execution_count": null,
   "id": "dda6ff51",
   "metadata": {
    "ExecuteTime": {
     "end_time": "2023-07-18T03:49:01.332291Z",
     "start_time": "2023-07-18T03:49:01.332291Z"
    }
   },
   "outputs": [],
   "source": [
    "=table.set_index(\"순위\")"
   ]
  },
  {
   "cell_type": "markdown",
   "id": "5246efd7",
   "metadata": {},
   "source": [
    "# 한셀에 합치기"
   ]
  },
  {
   "cell_type": "code",
   "execution_count": 13,
   "id": "038db600",
   "metadata": {
    "ExecuteTime": {
     "end_time": "2023-07-18T03:50:15.646354Z",
     "start_time": "2023-07-18T03:50:10.483667Z"
    }
   },
   "outputs": [
    {
     "name": "stdout",
     "output_type": "stream",
     "text": [
      "더보기가 완료되었습니다.\n"
     ]
    }
   ],
   "source": [
    "from selenium import webdriver as wb\n",
    "from selenium.webdriver.common.keys import Keys \n",
    "from selenium.webdriver.common.by import By\n",
    "import pandas as pd\n",
    "import time\n",
    "\n",
    "driver = wb.Chrome()\n",
    "driver.get(\"https://www.hsd.co.kr/menu/menu_list%22\")\n",
    "time.sleep(1)\n",
    "\n",
    "try :\n",
    "    while True :\n",
    "        btn_more =  driver.find_element(By.CSS_SELECTOR, \"a.c_05\")\n",
    "        btn_more.click()\n",
    "        time.sleep(1)\n",
    "except :\n",
    "    print(\"더보기가 완료되었습니다.\")\n",
    "\n",
    "menu = driver.find_elements(By.CLASS_NAME,\"h.fz_03\")\n",
    "price = driver.find_elements(By.CSS_SELECTOR,\"div.item-price>strong\")\n",
    "\n",
    "menuList = []\n",
    "priceList = []\n",
    "numList = []\n",
    "for i in range(len(menu)) :\n",
    "    menuList.append(menu[i].text)\n",
    "    priceList.append(price[i].text)\n",
    "    numList.append(i+1)\n",
    "\n",
    "menuChart = {\"메뉴\":menuList , \"가격\":priceList , \"순서\" : numList}\n",
    "menuChart = pd.DataFrame(menuChart)\n",
    "menuChart.set_index(\"순서\" , inplace = True)\n",
    "menuChart.to_csv(\"한솥메뉴3.csv\" , encoding = 'euc-kr')\n",
    "\n",
    "driver.quit()\n",
    "           \n",
    "           \n",
    "# 타임슬립은 서버에 요청을 보낼때만 사용\n",
    "# 사람인척 하는게 중요\n",
    "           "
   ]
  },
  {
   "cell_type": "code",
   "execution_count": null,
   "id": "2e579c22",
   "metadata": {},
   "outputs": [],
   "source": []
  },
  {
   "cell_type": "code",
   "execution_count": null,
   "id": "de0572b7",
   "metadata": {},
   "outputs": [],
   "source": []
  },
  {
   "cell_type": "code",
   "execution_count": null,
   "id": "cda60ee2",
   "metadata": {},
   "outputs": [],
   "source": []
  },
  {
   "cell_type": "code",
   "execution_count": null,
   "id": "df457b87",
   "metadata": {},
   "outputs": [],
   "source": []
  },
  {
   "cell_type": "code",
   "execution_count": null,
   "id": "02a44d10",
   "metadata": {},
   "outputs": [],
   "source": []
  }
 ],
 "metadata": {
  "kernelspec": {
   "display_name": "Python 3 (ipykernel)",
   "language": "python",
   "name": "python3"
  },
  "language_info": {
   "codemirror_mode": {
    "name": "ipython",
    "version": 3
   },
   "file_extension": ".py",
   "mimetype": "text/x-python",
   "name": "python",
   "nbconvert_exporter": "python",
   "pygments_lexer": "ipython3",
   "version": "3.9.13"
  },
  "toc": {
   "base_numbering": 1,
   "nav_menu": {},
   "number_sections": true,
   "sideBar": true,
   "skip_h1_title": false,
   "title_cell": "Table of Contents",
   "title_sidebar": "Contents",
   "toc_cell": false,
   "toc_position": {},
   "toc_section_display": true,
   "toc_window_display": false
  },
  "varInspector": {
   "cols": {
    "lenName": 16,
    "lenType": 16,
    "lenVar": 40
   },
   "kernels_config": {
    "python": {
     "delete_cmd_postfix": "",
     "delete_cmd_prefix": "del ",
     "library": "var_list.py",
     "varRefreshCmd": "print(var_dic_list())"
    },
    "r": {
     "delete_cmd_postfix": ") ",
     "delete_cmd_prefix": "rm(",
     "library": "var_list.r",
     "varRefreshCmd": "cat(var_dic_list()) "
    }
   },
   "types_to_exclude": [
    "module",
    "function",
    "builtin_function_or_method",
    "instance",
    "_Feature"
   ],
   "window_display": false
  }
 },
 "nbformat": 4,
 "nbformat_minor": 5
}
