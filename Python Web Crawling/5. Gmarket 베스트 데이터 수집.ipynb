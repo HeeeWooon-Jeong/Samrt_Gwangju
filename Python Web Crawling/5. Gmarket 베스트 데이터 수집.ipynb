{
 "cells": [
  {
   "cell_type": "code",
   "execution_count": 4,
   "id": "2e90df9d",
   "metadata": {
    "ExecuteTime": {
     "end_time": "2023-07-19T00:32:19.224682Z",
     "start_time": "2023-07-19T00:32:19.111012Z"
    }
   },
   "outputs": [],
   "source": [
    "from selenium import webdriver as wb\n",
    "# 셀레니움 웹드라이버  커먼파일에서 불러오기  \n",
    "from selenium.webdriver.common.by import By\n",
    "import time"
   ]
  },
  {
   "cell_type": "code",
   "execution_count": 6,
   "id": "c5f913d9",
   "metadata": {
    "ExecuteTime": {
     "end_time": "2023-07-19T00:34:33.363375Z",
     "start_time": "2023-07-19T00:34:32.301913Z"
    }
   },
   "outputs": [],
   "source": [
    "driver = wb.Chrome()\n"
   ]
  },
  {
   "cell_type": "code",
   "execution_count": 7,
   "id": "00e144c5",
   "metadata": {
    "ExecuteTime": {
     "end_time": "2023-07-19T00:34:58.787966Z",
     "start_time": "2023-07-19T00:34:57.638503Z"
    }
   },
   "outputs": [],
   "source": [
    "driver.get(\"https://www.gmarket.co.kr/n/best\")"
   ]
  },
  {
   "cell_type": "code",
   "execution_count": null,
   "id": "ae8138bd",
   "metadata": {},
   "outputs": [],
   "source": [
    "# find_element(s)(By.)\n",
    "# CSS_SELECTOR\n",
    "# CLASS_NAME\n",
    "# ID_NAME"
   ]
  },
  {
   "cell_type": "code",
   "execution_count": 40,
   "id": "2255a95f",
   "metadata": {
    "ExecuteTime": {
     "end_time": "2023-07-19T01:33:57.494124Z",
     "start_time": "2023-07-19T01:33:57.472213Z"
    },
    "scrolled": true
   },
   "outputs": [
    {
     "data": {
      "text/plain": [
       "200"
      ]
     },
     "execution_count": 40,
     "metadata": {},
     "output_type": "execute_result"
    }
   ],
   "source": [
    "# 1. 첫번째 상품의 이미지를 클릭해서 이동\n",
    "\n",
    "# 리스트 객체를 생성하지 않아도 리스트가 만들어지네\n",
    "# best_img_list = []\n",
    "best_img_list = []\n",
    "best_img_list = driver.find_elements(By.CLASS_NAME, \"image__lazy.image__load\")\n",
    "\n",
    "# 셀렉터 \n",
    "# best_img_list = driver.find_elements(By.CSS_SELECTOR, \"img.image__lazy.image__load\")\n",
    "best_img_list\n",
    "\n",
    "len(best_img_list)"
   ]
  },
  {
   "cell_type": "code",
   "execution_count": 27,
   "id": "5132f4ff",
   "metadata": {
    "ExecuteTime": {
     "end_time": "2023-07-19T01:13:18.099239Z",
     "start_time": "2023-07-19T01:13:15.554418Z"
    }
   },
   "outputs": [],
   "source": [
    "best_img_list[0].click()"
   ]
  },
  {
   "cell_type": "code",
   "execution_count": 28,
   "id": "0863b276",
   "metadata": {
    "ExecuteTime": {
     "end_time": "2023-07-19T01:13:22.525752Z",
     "start_time": "2023-07-19T01:13:22.506778Z"
    }
   },
   "outputs": [],
   "source": [
    "driver.back()"
   ]
  },
  {
   "cell_type": "code",
   "execution_count": null,
   "id": "9b2d14da",
   "metadata": {},
   "outputs": [],
   "source": [
    "# 상품명\n",
    "name = driver.find_element(By.CSS_SELECTOR,\"h1.itemtit\")\n",
    "name.text"
   ]
  },
  {
   "cell_type": "code",
   "execution_count": null,
   "id": "68f4cdc9",
   "metadata": {},
   "outputs": [],
   "source": [
    "# 가격\n",
    "price = driver.find_element(By.CSS_SELECTOR,\"strong.price_real\")\n",
    "price.text"
   ]
  },
  {
   "cell_type": "code",
   "execution_count": 24,
   "id": "33b044e2",
   "metadata": {
    "ExecuteTime": {
     "end_time": "2023-07-19T01:08:08.091021Z",
     "start_time": "2023-07-19T01:08:08.050893Z"
    }
   },
   "outputs": [
    {
     "data": {
      "text/plain": [
       "'썬골드키위 점보 사이즈(146g이상) 15개입+2개 증정(총 17개) 2.6kg'"
      ]
     },
     "execution_count": 24,
     "metadata": {},
     "output_type": "execute_result"
    }
   ],
   "source": [
    "driver.find_element(By.CLASS_NAME, \"itemtit\").text"
   ]
  },
  {
   "cell_type": "code",
   "execution_count": 33,
   "id": "1570ee49",
   "metadata": {
    "ExecuteTime": {
     "end_time": "2023-07-19T01:28:09.741609Z",
     "start_time": "2023-07-19T01:28:09.736622Z"
    }
   },
   "outputs": [],
   "source": [
    "# 1번부터 5번까지 상품의 정보를 수집\n",
    "# 수집된 가격정보와 상품명을 저장할 리스트 생성\n",
    "\n",
    "item_name = []\n",
    "item_price = []"
   ]
  },
  {
   "cell_type": "code",
   "execution_count": 41,
   "id": "e0bd9acd",
   "metadata": {
    "ExecuteTime": {
     "end_time": "2023-07-19T01:37:54.051702Z",
     "start_time": "2023-07-19T01:37:27.472786Z"
    }
   },
   "outputs": [],
   "source": [
    "for i in range(0,5):\n",
    "    imgs = driver.find_elements(By.CSS_SELECTOR, \".image__lazy.image__load\")\n",
    "   # imgs = driver.find_elements(By.CSS_SELECTOR, \"img.image__lazy.image__load\")\n",
    "   # 둘다 실행 가능\n",
    "    \n",
    "    \n",
    "    imgs[i].click()\n",
    "    time.sleep(1)\n",
    "    name = driver.find_element(By.CSS_SELECTOR,\"h1.itemtit\")\n",
    "    price = driver.find_element(By.CSS_SELECTOR,\"strong.price_real\")\n",
    "    item_name.append(name.text)\n",
    "    item_price.append(price.text)\n",
    "    driver.back()\n",
    "    time.sleep(1)\n",
    "    \n"
   ]
  },
  {
   "cell_type": "code",
   "execution_count": null,
   "id": "5cf5dc5c",
   "metadata": {},
   "outputs": [],
   "source": [
    "# for i in range(1,2) :\n",
    "        item_name = driver.find_element(By.CLASS_NAME, \"itemtit\").text\n",
    "        time.sleep(1)\n",
    "        item_price = driver.find_element(By.CLASS_NAME, \"price_real\").text\n",
    "    \n",
    "    driver.back()"
   ]
  },
  {
   "cell_type": "code",
   "execution_count": 36,
   "id": "6c9102d4",
   "metadata": {
    "ExecuteTime": {
     "end_time": "2023-07-19T01:31:59.705848Z",
     "start_time": "2023-07-19T01:31:59.695893Z"
    }
   },
   "outputs": [
    {
     "name": "stdout",
     "output_type": "stream",
     "text": [
      "['썬골드키위 점보 사이즈(146g이상) 15개입+2개 증정(총 17개) 2.6kg', '단하루 18320원) 청정우 차돌박이 (3초구이 샤브용) 250gX4팩', '생 새우살 (대) 200g 3팩', '동아오츠카 T 포카리스웨트 340ml 펫트 x 2박스(총 40개)', '수안보농협 햇 대학찰옥수수 15개 특 16cm이상(쿠폰가 10220원)']\n"
     ]
    },
    {
     "data": {
      "text/plain": [
       "['25,000원', '22,900원', '16,500원', '29,310원', '12,900원']"
      ]
     },
     "execution_count": 36,
     "metadata": {},
     "output_type": "execute_result"
    }
   ],
   "source": [
    "print(item_name)\n",
    "item_price\n"
   ]
  },
  {
   "cell_type": "code",
   "execution_count": null,
   "id": "a3cd0cb9",
   "metadata": {},
   "outputs": [],
   "source": [
    " # 같은 종류로 분류된 복수의 정보를 가져올 때 !\n",
    "# elements (복수계)로 가져와서\n",
    "# -1 인덱스로 가져온다\n",
    "\n",
    "# 예를들어서 지마켓 정가, 쿠폰가의 경우\n",
    "# 쿠폰없는가격, 쿠폰있는가격 정보를 가져올때\n",
    "# index[0] , index[1] 순서로 가져오기 때문\n",
    "# 마지막 인덱스만 가져오면 가격 정보 중에 둘중 하나가 없더라도 \n",
    "# 마지막에 가져온 정보를 무조건 가져옴 (오류없이)\n",
    "# 예외처리보다 깔끔함\n",
    "\n",
    "# [쿠폰없는가격]\n",
    "# [쿠폰없는가격 , 쿠폰있는가격]\n",
    "# [쿠폰없는가격 , 쿠폰있는가격]\n",
    "# [쿠폰없는가격]\n",
    "# [쿠폰없는가격 , 쿠폰있는가격]\n",
    "\n",
    "# 이런식으로 데이터가 있어도\n",
    "# -1 인덱스는 결국 뒤에서 마지막 번호의 정보를 가져오는거니까!!! "
   ]
  },
  {
   "cell_type": "code",
   "execution_count": null,
   "id": "7d901509",
   "metadata": {},
   "outputs": [],
   "source": []
  },
  {
   "cell_type": "code",
   "execution_count": null,
   "id": "99d0c5ac",
   "metadata": {},
   "outputs": [],
   "source": []
  },
  {
   "cell_type": "code",
   "execution_count": null,
   "id": "072d6876",
   "metadata": {},
   "outputs": [],
   "source": []
  },
  {
   "cell_type": "code",
   "execution_count": null,
   "id": "8d9a3cf5",
   "metadata": {},
   "outputs": [],
   "source": []
  }
 ],
 "metadata": {
  "kernelspec": {
   "display_name": "Python 3 (ipykernel)",
   "language": "python",
   "name": "python3"
  },
  "language_info": {
   "codemirror_mode": {
    "name": "ipython",
    "version": 3
   },
   "file_extension": ".py",
   "mimetype": "text/x-python",
   "name": "python",
   "nbconvert_exporter": "python",
   "pygments_lexer": "ipython3",
   "version": "3.9.13"
  },
  "toc": {
   "base_numbering": 1,
   "nav_menu": {},
   "number_sections": true,
   "sideBar": true,
   "skip_h1_title": false,
   "title_cell": "Table of Contents",
   "title_sidebar": "Contents",
   "toc_cell": false,
   "toc_position": {},
   "toc_section_display": true,
   "toc_window_display": false
  },
  "varInspector": {
   "cols": {
    "lenName": 16,
    "lenType": 16,
    "lenVar": 40
   },
   "kernels_config": {
    "python": {
     "delete_cmd_postfix": "",
     "delete_cmd_prefix": "del ",
     "library": "var_list.py",
     "varRefreshCmd": "print(var_dic_list())"
    },
    "r": {
     "delete_cmd_postfix": ") ",
     "delete_cmd_prefix": "rm(",
     "library": "var_list.r",
     "varRefreshCmd": "cat(var_dic_list()) "
    }
   },
   "types_to_exclude": [
    "module",
    "function",
    "builtin_function_or_method",
    "instance",
    "_Feature"
   ],
   "window_display": false
  }
 },
 "nbformat": 4,
 "nbformat_minor": 5
}
