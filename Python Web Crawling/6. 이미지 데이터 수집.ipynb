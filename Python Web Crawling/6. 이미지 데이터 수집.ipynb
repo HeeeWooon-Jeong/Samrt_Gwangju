{
 "cells": [
  {
   "cell_type": "code",
   "execution_count": 2,
   "id": "088649d6",
   "metadata": {
    "ExecuteTime": {
     "end_time": "2023-07-19T02:09:46.192316Z",
     "start_time": "2023-07-19T02:09:46.180373Z"
    }
   },
   "outputs": [],
   "source": [
    "from selenium import webdriver as wb\n",
    "from selenium.webdriver.common.keys import Keys\n",
    "from selenium.webdriver.common.by import By\n",
    "import time\n",
    "# 파일시스템 관리 (폴더, 파일을 생성 혹은 삭제)\n",
    "import os \n",
    "# 이미지의 경로를 파일로 바꿔주는 라이브러리\n",
    "# urlretrieve - url 검사\n",
    "from urllib.request import urlretrieve"
   ]
  },
  {
   "cell_type": "code",
   "execution_count": 3,
   "id": "1c52a5bd",
   "metadata": {
    "ExecuteTime": {
     "end_time": "2023-07-19T02:11:10.136590Z",
     "start_time": "2023-07-19T02:11:08.796323Z"
    }
   },
   "outputs": [],
   "source": [
    "driver = wb.Chrome()\n",
    "driver.get(\"https://search.naver.com/search.naver?where=image&query=%EC%9D%B4%EA%B0%95%EC%9D%B8+%EC%B6%95%EA%B5%AC%EC%84%A0%EC%88%98&sm=tab_txc\")"
   ]
  },
  {
   "cell_type": "code",
   "execution_count": 21,
   "id": "18e433d5",
   "metadata": {
    "ExecuteTime": {
     "end_time": "2023-07-19T02:39:01.214509Z",
     "start_time": "2023-07-19T02:39:01.176872Z"
    }
   },
   "outputs": [],
   "source": [
    "# <br> 은 사실 <br/> 닫음을 혼자 처리\n",
    "img = driver.find_elements(By.CSS_SELECTOR, (\"._image._listImage\"))\n"
   ]
  },
  {
   "cell_type": "code",
   "execution_count": 10,
   "id": "15a8c212",
   "metadata": {
    "ExecuteTime": {
     "end_time": "2023-07-19T02:17:47.378447Z",
     "start_time": "2023-07-19T02:17:47.347232Z"
    }
   },
   "outputs": [
    {
     "data": {
      "text/plain": [
       "'https://search.pstatic.net/common/?src=http%3A%2F%2Fimgnews.naver.net%2Fimage%2F076%2F2022%2F06%2F26%2F2022062601001903100121431_20220626164205352.jpg&type=a340'"
      ]
     },
     "execution_count": 10,
     "metadata": {},
     "output_type": "execute_result"
    }
   ],
   "source": [
    "img[0].get_attribute(\"src\")"
   ]
  },
  {
   "cell_type": "code",
   "execution_count": 22,
   "id": "65a7044f",
   "metadata": {
    "ExecuteTime": {
     "end_time": "2023-07-19T02:39:17.612612Z",
     "start_time": "2023-07-19T02:39:16.465233Z"
    }
   },
   "outputs": [],
   "source": [
    "src = []\n",
    "for i in range(len(img)) :\n",
    "    src.append(img[i].get_attribute(\"src\"))"
   ]
  },
  {
   "cell_type": "code",
   "execution_count": 14,
   "id": "e606d844",
   "metadata": {
    "ExecuteTime": {
     "end_time": "2023-07-19T02:21:54.972478Z",
     "start_time": "2023-07-19T02:21:54.962505Z"
    },
    "scrolled": true
   },
   "outputs": [
    {
     "data": {
      "text/plain": [
       "['https://search.pstatic.net/common/?src=http%3A%2F%2Fimgnews.naver.net%2Fimage%2F076%2F2022%2F06%2F26%2F2022062601001903100121431_20220626164205352.jpg&type=a340',\n",
       " 'https://search.pstatic.net/common/?src=http%3A%2F%2Fimgnews.naver.net%2Fimage%2F079%2F2021%2F07%2F28%2F0003534864_001_20210728195906155.jpg&type=a340',\n",
       " 'https://search.pstatic.net/common/?src=http%3A%2F%2Fblogfiles.naver.net%2FMjAyMTA3MTNfNDMg%2FMDAxNjI2MTYwNzIxMTM0.OFXg78zH9DzWAtcplBKHSkQLt5INsqoDZqDfmc6vS-kg.XwX4SvDYxOhTbxel1bNctyIVIf2D0ysWv5Oszjd8Mkkg.JPEG.bhh0501%2F1626160720021.jpg&type=a340',\n",
       " 'https://search.pstatic.net/common/?src=http%3A%2F%2Fimgnews.naver.net%2Fimage%2F5353%2F2019%2F06%2F18%2F0000545801_002_20190618213705644.png&type=l340_165',\n",
       " 'data:image/gif;base64,R0lGODlhAQABAIAAAAAAAP///yH5BAEAAAAALAAAAAABAAEAAAIBRAA7',\n",
       " 'https://search.pstatic.net/common/?src=http%3A%2F%2Fimgnews.naver.net%2Fimage%2F005%2F2022%2F09%2F21%2F2022092116491441276_1663746555_0017494116_20220921165302669.jpg&type=a340',\n",
       " 'https://search.pstatic.net/common/?src=http%3A%2F%2Fblogfiles.naver.net%2FMjAxOTA2MTZfMTE2%2FMDAxNTYwNjQ3NzAzOTc5.6Ak2BXg4dY4b9sxGaLJHfPYdmPFuNkIjR6jYNiIjlL4g.KBQtjWPrqMHkBv8M9vtAbunyqT13ixMEf9bi-TBvsT4g.JPEG.supra750%2Fdownloadfile-35.jpg&type=a340',\n",
       " 'https://search.pstatic.net/common/?src=http%3A%2F%2Fblogfiles.naver.net%2FMjAyMDA4MjJfNjcg%2FMDAxNTk4MDk2NjcyNzA5.dwSdMsfzJbY-6z2A9So6vvcNVv0W2ksaw0D30zDEvPUg.6B0FrxeRdHe_C4FT5TRtG22bGb5kAmfMDrVOjDRsXIYg.PNG.j767asde%2Fimage.png&type=a340',\n",
       " 'https://search.pstatic.net/sunny/?src=https%3A%2F%2Ft1.daumcdn.net%2Fcafeattach%2FUzlo%2F27bd65839cbd5d56b44cc6c269c33e5c9b2d84bf&type=a340',\n",
       " 'https://search.pstatic.net/common/?src=http%3A%2F%2Fimgnews.naver.net%2Fimage%2F003%2F2019%2F03%2F19%2FNISI20190319_0015005104_web_20190319164435_20190319170611867.jpg&type=a340',\n",
       " 'data:image/gif;base64,R0lGODlhAQABAIAAAAAAAP///yH5BAEAAAAALAAAAAABAAEAAAIBRAA7',\n",
       " 'https://search.pstatic.net/common/?src=http%3A%2F%2Fimgnews.naver.net%2Fimage%2F5291%2F2022%2F09%2F28%2F0001640890_001_20220928194002773.jpg&type=a340',\n",
       " 'https://search.pstatic.net/common/?src=http%3A%2F%2Fimgnews.naver.net%2Fimage%2F001%2F2017%2F05%2F02%2FAKR20170502138600007_01_i_20170502163203815.jpg&type=a340',\n",
       " 'https://search.pstatic.net/common/?src=http%3A%2F%2Fblogfiles.naver.net%2FMjAyMzA0MjVfMjkz%2FMDAxNjgyMzk0NzU5OTAw.A_xid3kx-5Vn5msddM6NZctWndMVT-iMHAkEOUOhp0Ig.msIurfZud6IY8-dPCmnQ-ihhQrIKTCNXpOhmVW09PDog.JPEG.hjcsj0620%2F%25B4%25D9%25BF%25EE%25B7%25CE%25B5%25E5%25C6%25C4%25C0%25CF%25A3%25DF20230425%25A3%25DF124743.jpg&type=a340',\n",
       " 'data:image/gif;base64,R0lGODlhAQABAIAAAAAAAP///yH5BAEAAAAALAAAAAABAAEAAAIBRAA7',\n",
       " 'https://search.pstatic.net/common/?src=http%3A%2F%2Fblogfiles.naver.net%2FMjAyMTAyMDRfMjE0%2FMDAxNjEyMzczMTcwMjYy.8NeNzt4vjhBiTqRWLv0mZ0j9bW4fP6K4Xt93vsbUwzMg.sX9uxoziey67fQhRH2wqrr5Yw4kQRFCizFmYrB4ZN-8g.JPEG.kyb030636%2F%25B4%25D9%25BF%25EE%25B7%25CE%25B5%25E5.jpeg%25A3%25AD4.jpg&type=a340',\n",
       " 'https://search.pstatic.net/common/?src=http%3A%2F%2Fimgnews.naver.net%2Fimage%2F382%2F2022%2F09%2F29%2F0001007127_001_20220929060104273.jpg&type=a340',\n",
       " 'https://search.pstatic.net/common/?src=http%3A%2F%2Fimgnews.naver.net%2Fimage%2F117%2F2018%2F07%2F02%2F201807020927457978_1_20180702092819946.jpg&type=a340',\n",
       " 'data:image/gif;base64,R0lGODlhAQABAIAAAAAAAP///yH5BAEAAAAALAAAAAABAAEAAAIBRAA7',\n",
       " 'data:image/gif;base64,R0lGODlhAQABAIAAAAAAAP///yH5BAEAAAAALAAAAAABAAEAAAIBRAA7',\n",
       " 'data:image/gif;base64,R0lGODlhAQABAIAAAAAAAP///yH5BAEAAAAALAAAAAABAAEAAAIBRAA7',\n",
       " 'data:image/gif;base64,R0lGODlhAQABAIAAAAAAAP///yH5BAEAAAAALAAAAAABAAEAAAIBRAA7',\n",
       " 'data:image/gif;base64,R0lGODlhAQABAIAAAAAAAP///yH5BAEAAAAALAAAAAABAAEAAAIBRAA7',\n",
       " 'data:image/gif;base64,R0lGODlhAQABAIAAAAAAAP///yH5BAEAAAAALAAAAAABAAEAAAIBRAA7',\n",
       " 'data:image/gif;base64,R0lGODlhAQABAIAAAAAAAP///yH5BAEAAAAALAAAAAABAAEAAAIBRAA7',\n",
       " 'data:image/gif;base64,R0lGODlhAQABAIAAAAAAAP///yH5BAEAAAAALAAAAAABAAEAAAIBRAA7',\n",
       " 'data:image/gif;base64,R0lGODlhAQABAIAAAAAAAP///yH5BAEAAAAALAAAAAABAAEAAAIBRAA7',\n",
       " 'data:image/gif;base64,R0lGODlhAQABAIAAAAAAAP///yH5BAEAAAAALAAAAAABAAEAAAIBRAA7',\n",
       " 'data:image/gif;base64,R0lGODlhAQABAIAAAAAAAP///yH5BAEAAAAALAAAAAABAAEAAAIBRAA7',\n",
       " 'data:image/gif;base64,R0lGODlhAQABAIAAAAAAAP///yH5BAEAAAAALAAAAAABAAEAAAIBRAA7',\n",
       " 'data:image/gif;base64,R0lGODlhAQABAIAAAAAAAP///yH5BAEAAAAALAAAAAABAAEAAAIBRAA7',\n",
       " 'data:image/gif;base64,R0lGODlhAQABAIAAAAAAAP///yH5BAEAAAAALAAAAAABAAEAAAIBRAA7',\n",
       " 'data:image/gif;base64,R0lGODlhAQABAIAAAAAAAP///yH5BAEAAAAALAAAAAABAAEAAAIBRAA7',\n",
       " 'data:image/gif;base64,R0lGODlhAQABAIAAAAAAAP///yH5BAEAAAAALAAAAAABAAEAAAIBRAA7',\n",
       " 'data:image/gif;base64,R0lGODlhAQABAIAAAAAAAP///yH5BAEAAAAALAAAAAABAAEAAAIBRAA7',\n",
       " 'data:image/gif;base64,R0lGODlhAQABAIAAAAAAAP///yH5BAEAAAAALAAAAAABAAEAAAIBRAA7',\n",
       " 'data:image/gif;base64,R0lGODlhAQABAIAAAAAAAP///yH5BAEAAAAALAAAAAABAAEAAAIBRAA7',\n",
       " 'data:image/gif;base64,R0lGODlhAQABAIAAAAAAAP///yH5BAEAAAAALAAAAAABAAEAAAIBRAA7',\n",
       " 'data:image/gif;base64,R0lGODlhAQABAIAAAAAAAP///yH5BAEAAAAALAAAAAABAAEAAAIBRAA7',\n",
       " 'data:image/gif;base64,R0lGODlhAQABAIAAAAAAAP///yH5BAEAAAAALAAAAAABAAEAAAIBRAA7',\n",
       " 'data:image/gif;base64,R0lGODlhAQABAIAAAAAAAP///yH5BAEAAAAALAAAAAABAAEAAAIBRAA7',\n",
       " 'data:image/gif;base64,R0lGODlhAQABAIAAAAAAAP///yH5BAEAAAAALAAAAAABAAEAAAIBRAA7',\n",
       " 'data:image/gif;base64,R0lGODlhAQABAIAAAAAAAP///yH5BAEAAAAALAAAAAABAAEAAAIBRAA7',\n",
       " 'data:image/gif;base64,R0lGODlhAQABAIAAAAAAAP///yH5BAEAAAAALAAAAAABAAEAAAIBRAA7',\n",
       " 'data:image/gif;base64,R0lGODlhAQABAIAAAAAAAP///yH5BAEAAAAALAAAAAABAAEAAAIBRAA7',\n",
       " 'data:image/gif;base64,R0lGODlhAQABAIAAAAAAAP///yH5BAEAAAAALAAAAAABAAEAAAIBRAA7',\n",
       " 'data:image/gif;base64,R0lGODlhAQABAIAAAAAAAP///yH5BAEAAAAALAAAAAABAAEAAAIBRAA7',\n",
       " 'data:image/gif;base64,R0lGODlhAQABAIAAAAAAAP///yH5BAEAAAAALAAAAAABAAEAAAIBRAA7',\n",
       " 'data:image/gif;base64,R0lGODlhAQABAIAAAAAAAP///yH5BAEAAAAALAAAAAABAAEAAAIBRAA7',\n",
       " 'data:image/gif;base64,R0lGODlhAQABAIAAAAAAAP///yH5BAEAAAAALAAAAAABAAEAAAIBRAA7']"
      ]
     },
     "execution_count": 14,
     "metadata": {},
     "output_type": "execute_result"
    }
   ],
   "source": [
    "src\n"
   ]
  },
  {
   "cell_type": "code",
   "execution_count": 17,
   "id": "b9b73f66",
   "metadata": {
    "ExecuteTime": {
     "end_time": "2023-07-19T02:30:12.156128Z",
     "start_time": "2023-07-19T02:30:12.146176Z"
    }
   },
   "outputs": [
    {
     "name": "stdout",
     "output_type": "stream",
     "text": [
      "폴더가 존재합니다.\n"
     ]
    }
   ],
   "source": [
    "# 바탕화면에 이미지라는 폴더가 없다면 만들어줘\n",
    "if not os.path.isdir(\"C:/Users/smhrd/Desktop/이미지\") :\n",
    "    os.mkdir(\"C:/Users/smhrd/Desktop/이미지\")\n",
    "else : \n",
    "    print(\"폴더가 존재합니다.\")"
   ]
  },
  {
   "cell_type": "code",
   "execution_count": 20,
   "id": "b5f5e343",
   "metadata": {
    "ExecuteTime": {
     "end_time": "2023-07-19T02:37:30.533587Z",
     "start_time": "2023-07-19T02:37:29.897772Z"
    }
   },
   "outputs": [],
   "source": [
    "# img 수집\n",
    "# 파일의 이름에 중복이 있을수 있으므로 cnt 하나 설정\n",
    "cnt = 0\n",
    "for i in src :\n",
    "    urlretrieve(i, \"C:/Users/smhrd/Desktop/이미지/\"+str(cnt)+\".jpg\")\n",
    "    cnt+=1\n"
   ]
  },
  {
   "cell_type": "code",
   "execution_count": null,
   "id": "fc4c10b7",
   "metadata": {},
   "outputs": [],
   "source": []
  },
  {
   "cell_type": "code",
   "execution_count": null,
   "id": "a7d5fc66",
   "metadata": {},
   "outputs": [],
   "source": []
  }
 ],
 "metadata": {
  "kernelspec": {
   "display_name": "Python 3 (ipykernel)",
   "language": "python",
   "name": "python3"
  },
  "language_info": {
   "codemirror_mode": {
    "name": "ipython",
    "version": 3
   },
   "file_extension": ".py",
   "mimetype": "text/x-python",
   "name": "python",
   "nbconvert_exporter": "python",
   "pygments_lexer": "ipython3",
   "version": "3.9.13"
  },
  "toc": {
   "base_numbering": 1,
   "nav_menu": {},
   "number_sections": true,
   "sideBar": true,
   "skip_h1_title": false,
   "title_cell": "Table of Contents",
   "title_sidebar": "Contents",
   "toc_cell": false,
   "toc_position": {},
   "toc_section_display": true,
   "toc_window_display": false
  },
  "varInspector": {
   "cols": {
    "lenName": 16,
    "lenType": 16,
    "lenVar": 40
   },
   "kernels_config": {
    "python": {
     "delete_cmd_postfix": "",
     "delete_cmd_prefix": "del ",
     "library": "var_list.py",
     "varRefreshCmd": "print(var_dic_list())"
    },
    "r": {
     "delete_cmd_postfix": ") ",
     "delete_cmd_prefix": "rm(",
     "library": "var_list.r",
     "varRefreshCmd": "cat(var_dic_list()) "
    }
   },
   "types_to_exclude": [
    "module",
    "function",
    "builtin_function_or_method",
    "instance",
    "_Feature"
   ],
   "window_display": false
  }
 },
 "nbformat": 4,
 "nbformat_minor": 5
}
