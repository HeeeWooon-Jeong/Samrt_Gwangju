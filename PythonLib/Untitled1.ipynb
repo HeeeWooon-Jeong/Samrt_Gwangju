{
 "cells": [
  {
   "cell_type": "markdown",
   "id": "ea201770",
   "metadata": {},
   "source": [
    "Numpy \n",
    "- 파이썬에서 다차원 배열, 행렬 데이터 구조를 제공하는 과학계산에 특화된 라이브러리(모듈)\n",
    "- 동일한 자료형을 가지는 값들이 배열의 형태로 존재\n",
    "- 데이터 접근을 최적화하기 위해 인덱스 부여\n",
    "   ==> 인덱싱, 슬라이싱\n",
    "- 배열 생성 \n",
    "   1차원 : np.array(단일리스트) \n",
    "               np.arange(시작값, 끝값, 증감값) \n",
    "               --> 1차원으로만 생성\n",
    "   2차원 : np.array(이중리스트)\n",
    "               arange() 함수를 통해 만들어진 1차원 배열을 2차원으로 바꾸고자 할때.\n",
    "               - .reshape(행, 열)\n",
    "- 배열 속성 확인\n",
    "   크기 : shape\n",
    "   차원 : ndim\n",
    "   요소 개수 : size\n",
    "   타입 : dtype\n",
    "- 데이터 접근 :\n",
    "   - 인덱스 기반으로 접근 : 인덱싱, 슬라이싱\n",
    "   - 특정 기준에 의해 접근 : 불리언 인덱싱\n",
    "      논리연산자를 활용하여 True, False 결과 출력 후 True에 해당하는 데이터만 접근 (False 값은 출력하지 않음)\n",
    "      두 가지 조건에 대해 비교할때 비트논리연산자\n",
    "      : &(and), |(or)\n",
    "- 여러 요소의 데이터에 접근할 때는 대괄호 []를 한 번 더 써줘야 함.\n",
    "   ex) 1차원 : arr[[0, 2]]\n",
    "          2차원 : arr2[행][열], arr2[행, 열]\n",
    "                       arr2[시작행:끝행, 시작열:끝열],\n",
    "                       arr2[행, [열1, 열2]]\n",
    "- 연산 : 배열 요소의 위치적으로 대응된 배열 간 연산 수행"
   ]
  },
  {
   "cell_type": "code",
   "execution_count": null,
   "id": "0feb3213",
   "metadata": {},
   "outputs": [],
   "source": []
  }
 ],
 "metadata": {
  "kernelspec": {
   "display_name": "Python 3 (ipykernel)",
   "language": "python",
   "name": "python3"
  },
  "language_info": {
   "codemirror_mode": {
    "name": "ipython",
    "version": 3
   },
   "file_extension": ".py",
   "mimetype": "text/x-python",
   "name": "python",
   "nbconvert_exporter": "python",
   "pygments_lexer": "ipython3",
   "version": "3.9.13"
  },
  "toc": {
   "base_numbering": 1,
   "nav_menu": {},
   "number_sections": true,
   "sideBar": true,
   "skip_h1_title": false,
   "title_cell": "Table of Contents",
   "title_sidebar": "Contents",
   "toc_cell": false,
   "toc_position": {},
   "toc_section_display": true,
   "toc_window_display": false
  },
  "varInspector": {
   "cols": {
    "lenName": 16,
    "lenType": 16,
    "lenVar": 40
   },
   "kernels_config": {
    "python": {
     "delete_cmd_postfix": "",
     "delete_cmd_prefix": "del ",
     "library": "var_list.py",
     "varRefreshCmd": "print(var_dic_list())"
    },
    "r": {
     "delete_cmd_postfix": ") ",
     "delete_cmd_prefix": "rm(",
     "library": "var_list.r",
     "varRefreshCmd": "cat(var_dic_list()) "
    }
   },
   "types_to_exclude": [
    "module",
    "function",
    "builtin_function_or_method",
    "instance",
    "_Feature"
   ],
   "window_display": false
  }
 },
 "nbformat": 4,
 "nbformat_minor": 5
}
