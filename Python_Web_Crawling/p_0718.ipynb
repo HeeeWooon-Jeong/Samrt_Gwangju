{
 "cells": [
  {
   "cell_type": "code",
   "execution_count": 12,
   "id": "5e2f5890",
   "metadata": {},
   "outputs": [],
   "source": [
    "# 셀레니움 기본\n",
    "from selenium import webdriver as wb\n",
    "from selenium.webdriver.common.keys import Keys\n",
    "from selenium.webdriver.common.by import By\n",
    "import time"
   ]
  },
  {
   "cell_type": "code",
   "execution_count": 2,
   "id": "8f7666f5",
   "metadata": {},
   "outputs": [],
   "source": [
    "# 웹드라이버로 크롬 실행메서드 실행하고 driver에 대입\n",
    "driver = wb.Chrome()"
   ]
  },
  {
   "cell_type": "code",
   "execution_count": 3,
   "id": "1153ca70",
   "metadata": {},
   "outputs": [],
   "source": [
    "# 깃허브 주소로 이동\n",
    "driver.get(\"https://github.com/HeeeWooon-Jeong/Manage_Pro\")"
   ]
  },
  {
   "cell_type": "code",
   "execution_count": 4,
   "id": "93a62b6b",
   "metadata": {},
   "outputs": [],
   "source": [
    "#login_field"
   ]
  },
  {
   "cell_type": "code",
   "execution_count": 5,
   "id": "5ad87f10",
   "metadata": {},
   "outputs": [],
   "source": [
    "# driver기능중 \n",
    "# find_element - 요소 위치 찾기\n",
    "# By - \n",
    "login = driver.find_element(By.ID, \"login_field\")"
   ]
  },
  {
   "cell_type": "code",
   "execution_count": 6,
   "id": "0f5e4d9f",
   "metadata": {},
   "outputs": [],
   "source": [
    "login.send_keys(\"heewoon9210@naver.com\")"
   ]
  },
  {
   "cell_type": "code",
   "execution_count": 7,
   "id": "f4c3a957",
   "metadata": {},
   "outputs": [
    {
     "data": {
      "text/plain": [
       "<selenium.webdriver.remote.webelement.WebElement (session=\"a44d834262825f4d6205fe0b632b065d\", element=\"023A063952031B6030511BB07E191B3F_element_12\")>"
      ]
     },
     "execution_count": 7,
     "metadata": {},
     "output_type": "execute_result"
    }
   ],
   "source": [
    "password = driver.find_element(By.ID, \"password\")\n",
    "password"
   ]
  },
  {
   "cell_type": "code",
   "execution_count": 8,
   "id": "af66663f",
   "metadata": {},
   "outputs": [],
   "source": [
    "password.send_keys(\"gmldns92##\")"
   ]
  },
  {
   "cell_type": "code",
   "execution_count": 9,
   "id": "dd9da964",
   "metadata": {
    "scrolled": true
   },
   "outputs": [],
   "source": [
    "sign_in_btn = driver.find_element(By.CLASS_NAME, \"btn.btn-primary.btn-block.js-sign-in-button\")\n",
    "sign_in_btn.click()"
   ]
  },
  {
   "cell_type": "code",
   "execution_count": 13,
   "id": "05c6b27c",
   "metadata": {},
   "outputs": [
    {
     "data": {
      "text/plain": [
       "<selenium.webdriver.remote.webelement.WebElement (session=\"a44d834262825f4d6205fe0b632b065d\", element=\"0220E04206988AECB496BE2A6500ACBC_element_35\")>"
      ]
     },
     "execution_count": 13,
     "metadata": {},
     "output_type": "execute_result"
    }
   ],
   "source": [
    "time.sleep(7)\n",
    "add_btn = driver.find_element(By.CLASS_NAME, \"d-none.d-md-flex.flex-items-center\")\n",
    "add_btn"
   ]
  },
  {
   "cell_type": "code",
   "execution_count": 31,
   "id": "c31a8e2f",
   "metadata": {},
   "outputs": [],
   "source": [
    "add_btn.click()"
   ]
  },
  {
   "cell_type": "code",
   "execution_count": 29,
   "id": "99aaa924",
   "metadata": {},
   "outputs": [
    {
     "data": {
      "text/plain": [
       "<selenium.webdriver.remote.webelement.WebElement (session=\"a44d834262825f4d6205fe0b632b065d\", element=\"0220E04206988AECB496BE2A6500ACBC_element_37\")>"
      ]
     },
     "execution_count": 29,
     "metadata": {},
     "output_type": "execute_result"
    }
   ],
   "source": [
    "upload = driver.find_element(By.CLASS_NAME, \"dropdown-item\")\n",
    "upload"
   ]
  },
  {
   "cell_type": "code",
   "execution_count": 32,
   "id": "b655ce1a",
   "metadata": {
    "scrolled": true
   },
   "outputs": [
    {
     "ename": "ElementNotInteractableException",
     "evalue": "Message: element not interactable\n  (Session info: chrome=114.0.5735.199)\nStacktrace:\nBacktrace:\n\tGetHandleVerifier [0x00CAA813+48355]\n\t(No symbol) [0x00C3C4B1]\n\t(No symbol) [0x00B45220]\n\t(No symbol) [0x00B71846]\n\t(No symbol) [0x00B69F5C]\n\t(No symbol) [0x00B8A73C]\n\t(No symbol) [0x00B69A36]\n\t(No symbol) [0x00B8AA94]\n\t(No symbol) [0x00B9C922]\n\t(No symbol) [0x00B8A536]\n\t(No symbol) [0x00B682DC]\n\t(No symbol) [0x00B693DD]\n\tGetHandleVerifier [0x00F0AABD+2539405]\n\tGetHandleVerifier [0x00F4A78F+2800735]\n\tGetHandleVerifier [0x00F4456C+2775612]\n\tGetHandleVerifier [0x00D351E0+616112]\n\t(No symbol) [0x00C45F8C]\n\t(No symbol) [0x00C42328]\n\t(No symbol) [0x00C4240B]\n\t(No symbol) [0x00C34FF7]\n\tBaseThreadInitThunk [0x777800C9+25]\n\tRtlGetAppContainerNamedObjectPath [0x77A37B1E+286]\n\tRtlGetAppContainerNamedObjectPath [0x77A37AEE+238]\n",
     "output_type": "error",
     "traceback": [
      "\u001b[1;31m---------------------------------------------------------------------------\u001b[0m",
      "\u001b[1;31mElementNotInteractableException\u001b[0m           Traceback (most recent call last)",
      "Cell \u001b[1;32mIn[32], line 2\u001b[0m\n\u001b[0;32m      1\u001b[0m time\u001b[38;5;241m.\u001b[39msleep(\u001b[38;5;241m2\u001b[39m)\n\u001b[1;32m----> 2\u001b[0m \u001b[43mupload\u001b[49m\u001b[38;5;241;43m.\u001b[39;49m\u001b[43mclick\u001b[49m\u001b[43m(\u001b[49m\u001b[43m)\u001b[49m\n",
      "File \u001b[1;32m~\\anaconda3\\lib\\site-packages\\selenium\\webdriver\\remote\\webelement.py:94\u001b[0m, in \u001b[0;36mWebElement.click\u001b[1;34m(self)\u001b[0m\n\u001b[0;32m     92\u001b[0m \u001b[38;5;28;01mdef\u001b[39;00m \u001b[38;5;21mclick\u001b[39m(\u001b[38;5;28mself\u001b[39m) \u001b[38;5;241m-\u001b[39m\u001b[38;5;241m>\u001b[39m \u001b[38;5;28;01mNone\u001b[39;00m:\n\u001b[0;32m     93\u001b[0m     \u001b[38;5;124;03m\"\"\"Clicks the element.\"\"\"\u001b[39;00m\n\u001b[1;32m---> 94\u001b[0m     \u001b[38;5;28;43mself\u001b[39;49m\u001b[38;5;241;43m.\u001b[39;49m\u001b[43m_execute\u001b[49m\u001b[43m(\u001b[49m\u001b[43mCommand\u001b[49m\u001b[38;5;241;43m.\u001b[39;49m\u001b[43mCLICK_ELEMENT\u001b[49m\u001b[43m)\u001b[49m\n",
      "File \u001b[1;32m~\\anaconda3\\lib\\site-packages\\selenium\\webdriver\\remote\\webelement.py:395\u001b[0m, in \u001b[0;36mWebElement._execute\u001b[1;34m(self, command, params)\u001b[0m\n\u001b[0;32m    393\u001b[0m     params \u001b[38;5;241m=\u001b[39m {}\n\u001b[0;32m    394\u001b[0m params[\u001b[38;5;124m\"\u001b[39m\u001b[38;5;124mid\u001b[39m\u001b[38;5;124m\"\u001b[39m] \u001b[38;5;241m=\u001b[39m \u001b[38;5;28mself\u001b[39m\u001b[38;5;241m.\u001b[39m_id\n\u001b[1;32m--> 395\u001b[0m \u001b[38;5;28;01mreturn\u001b[39;00m \u001b[38;5;28;43mself\u001b[39;49m\u001b[38;5;241;43m.\u001b[39;49m\u001b[43m_parent\u001b[49m\u001b[38;5;241;43m.\u001b[39;49m\u001b[43mexecute\u001b[49m\u001b[43m(\u001b[49m\u001b[43mcommand\u001b[49m\u001b[43m,\u001b[49m\u001b[43m \u001b[49m\u001b[43mparams\u001b[49m\u001b[43m)\u001b[49m\n",
      "File \u001b[1;32m~\\anaconda3\\lib\\site-packages\\selenium\\webdriver\\remote\\webdriver.py:346\u001b[0m, in \u001b[0;36mWebDriver.execute\u001b[1;34m(self, driver_command, params)\u001b[0m\n\u001b[0;32m    344\u001b[0m response \u001b[38;5;241m=\u001b[39m \u001b[38;5;28mself\u001b[39m\u001b[38;5;241m.\u001b[39mcommand_executor\u001b[38;5;241m.\u001b[39mexecute(driver_command, params)\n\u001b[0;32m    345\u001b[0m \u001b[38;5;28;01mif\u001b[39;00m response:\n\u001b[1;32m--> 346\u001b[0m     \u001b[38;5;28;43mself\u001b[39;49m\u001b[38;5;241;43m.\u001b[39;49m\u001b[43merror_handler\u001b[49m\u001b[38;5;241;43m.\u001b[39;49m\u001b[43mcheck_response\u001b[49m\u001b[43m(\u001b[49m\u001b[43mresponse\u001b[49m\u001b[43m)\u001b[49m\n\u001b[0;32m    347\u001b[0m     response[\u001b[38;5;124m\"\u001b[39m\u001b[38;5;124mvalue\u001b[39m\u001b[38;5;124m\"\u001b[39m] \u001b[38;5;241m=\u001b[39m \u001b[38;5;28mself\u001b[39m\u001b[38;5;241m.\u001b[39m_unwrap_value(response\u001b[38;5;241m.\u001b[39mget(\u001b[38;5;124m\"\u001b[39m\u001b[38;5;124mvalue\u001b[39m\u001b[38;5;124m\"\u001b[39m, \u001b[38;5;28;01mNone\u001b[39;00m))\n\u001b[0;32m    348\u001b[0m     \u001b[38;5;28;01mreturn\u001b[39;00m response\n",
      "File \u001b[1;32m~\\anaconda3\\lib\\site-packages\\selenium\\webdriver\\remote\\errorhandler.py:245\u001b[0m, in \u001b[0;36mErrorHandler.check_response\u001b[1;34m(self, response)\u001b[0m\n\u001b[0;32m    243\u001b[0m         alert_text \u001b[38;5;241m=\u001b[39m value[\u001b[38;5;124m\"\u001b[39m\u001b[38;5;124malert\u001b[39m\u001b[38;5;124m\"\u001b[39m]\u001b[38;5;241m.\u001b[39mget(\u001b[38;5;124m\"\u001b[39m\u001b[38;5;124mtext\u001b[39m\u001b[38;5;124m\"\u001b[39m)\n\u001b[0;32m    244\u001b[0m     \u001b[38;5;28;01mraise\u001b[39;00m exception_class(message, screen, stacktrace, alert_text)  \u001b[38;5;66;03m# type: ignore[call-arg]  # mypy is not smart enough here\u001b[39;00m\n\u001b[1;32m--> 245\u001b[0m \u001b[38;5;28;01mraise\u001b[39;00m exception_class(message, screen, stacktrace)\n",
      "\u001b[1;31mElementNotInteractableException\u001b[0m: Message: element not interactable\n  (Session info: chrome=114.0.5735.199)\nStacktrace:\nBacktrace:\n\tGetHandleVerifier [0x00CAA813+48355]\n\t(No symbol) [0x00C3C4B1]\n\t(No symbol) [0x00B45220]\n\t(No symbol) [0x00B71846]\n\t(No symbol) [0x00B69F5C]\n\t(No symbol) [0x00B8A73C]\n\t(No symbol) [0x00B69A36]\n\t(No symbol) [0x00B8AA94]\n\t(No symbol) [0x00B9C922]\n\t(No symbol) [0x00B8A536]\n\t(No symbol) [0x00B682DC]\n\t(No symbol) [0x00B693DD]\n\tGetHandleVerifier [0x00F0AABD+2539405]\n\tGetHandleVerifier [0x00F4A78F+2800735]\n\tGetHandleVerifier [0x00F4456C+2775612]\n\tGetHandleVerifier [0x00D351E0+616112]\n\t(No symbol) [0x00C45F8C]\n\t(No symbol) [0x00C42328]\n\t(No symbol) [0x00C4240B]\n\t(No symbol) [0x00C34FF7]\n\tBaseThreadInitThunk [0x777800C9+25]\n\tRtlGetAppContainerNamedObjectPath [0x77A37B1E+286]\n\tRtlGetAppContainerNamedObjectPath [0x77A37AEE+238]\n"
     ]
    }
   ],
   "source": [
    "time.sleep(2)\n",
    "upload.click()"
   ]
  },
  {
   "cell_type": "code",
   "execution_count": null,
   "id": "c0901ef6",
   "metadata": {},
   "outputs": [],
   "source": []
  }
 ],
 "metadata": {
  "kernelspec": {
   "display_name": "Python 3 (ipykernel)",
   "language": "python",
   "name": "python3"
  },
  "language_info": {
   "codemirror_mode": {
    "name": "ipython",
    "version": 3
   },
   "file_extension": ".py",
   "mimetype": "text/x-python",
   "name": "python",
   "nbconvert_exporter": "python",
   "pygments_lexer": "ipython3",
   "version": "3.10.9"
  }
 },
 "nbformat": 4,
 "nbformat_minor": 5
}
