{
 "cells": [
  {
   "cell_type": "code",
   "execution_count": 1,
   "id": "c3f68b23",
   "metadata": {
    "ExecuteTime": {
     "end_time": "2023-07-04T10:36:54.852419Z",
     "start_time": "2023-07-04T10:36:54.847433Z"
    }
   },
   "outputs": [],
   "source": [
    "import numpy as np"
   ]
  },
  {
   "cell_type": "code",
   "execution_count": 5,
   "id": "c438fb0a",
   "metadata": {
    "ExecuteTime": {
     "end_time": "2023-07-04T10:42:48.391380Z",
     "start_time": "2023-07-04T10:42:48.374425Z"
    }
   },
   "outputs": [
    {
     "data": {
      "text/plain": [
       "array([[0., 0., 0., 0.],\n",
       "       [0., 0., 0., 0.],\n",
       "       [0., 0., 0., 0.]])"
      ]
     },
     "execution_count": 5,
     "metadata": {},
     "output_type": "execute_result"
    }
   ],
   "source": [
    "arr_zeros = np.zeros((3,4))\n",
    "arr_zeros"
   ]
  },
  {
   "cell_type": "code",
   "execution_count": 7,
   "id": "53c833e5",
   "metadata": {
    "ExecuteTime": {
     "end_time": "2023-07-04T10:43:07.682703Z",
     "start_time": "2023-07-04T10:43:07.670736Z"
    }
   },
   "outputs": [
    {
     "data": {
      "text/plain": [
       "array([[1., 1., 1., 1.],\n",
       "       [1., 1., 1., 1.],\n",
       "       [1., 1., 1., 1.]])"
      ]
     },
     "execution_count": 7,
     "metadata": {},
     "output_type": "execute_result"
    }
   ],
   "source": [
    "arr_ones = np.ones((3,4))\n",
    "arr_ones"
   ]
  },
  {
   "cell_type": "code",
   "execution_count": 9,
   "id": "a5dab909",
   "metadata": {
    "ExecuteTime": {
     "end_time": "2023-07-04T10:43:41.852480Z",
     "start_time": "2023-07-04T10:43:41.846496Z"
    }
   },
   "outputs": [
    {
     "data": {
      "text/plain": [
       "array([[7, 7, 7, 7, 7],\n",
       "       [7, 7, 7, 7, 7],\n",
       "       [7, 7, 7, 7, 7],\n",
       "       [7, 7, 7, 7, 7],\n",
       "       [7, 7, 7, 7, 7]])"
      ]
     },
     "execution_count": 9,
     "metadata": {},
     "output_type": "execute_result"
    }
   ],
   "source": [
    "arr_full = np.full((5,5),7)\n",
    "arr_full"
   ]
  },
  {
   "cell_type": "code",
   "execution_count": 11,
   "id": "b8f58643",
   "metadata": {
    "ExecuteTime": {
     "end_time": "2023-07-04T10:44:04.542992Z",
     "start_time": "2023-07-04T10:44:04.527039Z"
    }
   },
   "outputs": [
    {
     "data": {
      "text/plain": [
       "array([ 0, 10, 20, 30, 40, 50])"
      ]
     },
     "execution_count": 11,
     "metadata": {},
     "output_type": "execute_result"
    }
   ],
   "source": [
    "arr = np.arange(0,51,10)\n",
    "arr"
   ]
  },
  {
   "cell_type": "code",
   "execution_count": 20,
   "id": "26fa0319",
   "metadata": {
    "ExecuteTime": {
     "end_time": "2023-07-04T10:45:11.940499Z",
     "start_time": "2023-07-04T10:45:11.934505Z"
    }
   },
   "outputs": [
    {
     "data": {
      "text/plain": [
       "array([[0.89431435, 0.68054889, 0.22705168],\n",
       "       [0.70551894, 0.17145708, 0.50611514]])"
      ]
     },
     "execution_count": 20,
     "metadata": {},
     "output_type": "execute_result"
    }
   ],
   "source": [
    "arr_ran = np.random.rand(2,3)\n",
    "arr_ran"
   ]
  },
  {
   "cell_type": "code",
   "execution_count": 45,
   "id": "2f7ea5f1",
   "metadata": {
    "ExecuteTime": {
     "end_time": "2023-07-04T10:47:16.009533Z",
     "start_time": "2023-07-04T10:47:15.990584Z"
    }
   },
   "outputs": [
    {
     "data": {
      "text/plain": [
       "array([ 9,  6,  2,  3,  3,  8,  7,  2, 10,  3,  9,  1,  5,  2,  1,  2,  7,\n",
       "        9,  4,  4,  8, 10,  6,  5,  7,  8, 10,  4,  5,  4,  4, 10,  3, 10,\n",
       "        1,  4,  9,  8,  9, 10,  5,  6, 10,  9,  6,  2,  5,  6,  1,  2,  4,\n",
       "       10,  1, 10,  8,  4,  6,  2,  9,  9,  2,  4,  7,  2,  6,  1,  2,  9,\n",
       "        1,  3,  3,  6,  3,  1,  1,  3,  1,  7,  6,  9,  4,  2,  3,  3,  5,\n",
       "        8,  2,  9,  7,  1,  3,  5,  5,  1,  9, 10,  2,  3,  1,  2])"
      ]
     },
     "execution_count": 45,
     "metadata": {},
     "output_type": "execute_result"
    }
   ],
   "source": [
    "# 1 ~ 10 수로 100개 뽑기\n",
    "np.random.seed() # 시드에 숫자를  입력하면 그숫자의 해당하는 랜덤 숫자가 나온다.\n",
    "np.random.randint(1, 11, 100)"
   ]
  },
  {
   "cell_type": "code",
   "execution_count": 78,
   "id": "c066d84e",
   "metadata": {
    "ExecuteTime": {
     "end_time": "2023-07-04T10:50:48.572084Z",
     "start_time": "2023-07-04T10:50:48.559118Z"
    }
   },
   "outputs": [
    {
     "name": "stdout",
     "output_type": "stream",
     "text": [
      "[[7 7]\n",
      " [3 3]]\n"
     ]
    }
   ],
   "source": [
    "a=np.random.randint(2, 10, size=(2, 2))\n",
    "print(a) "
   ]
  },
  {
   "cell_type": "code",
   "execution_count": null,
   "id": "8a7b440c",
   "metadata": {},
   "outputs": [],
   "source": [
    "arr3 = np.array"
   ]
  }
 ],
 "metadata": {
  "kernelspec": {
   "display_name": "Python 3 (ipykernel)",
   "language": "python",
   "name": "python3"
  },
  "language_info": {
   "codemirror_mode": {
    "name": "ipython",
    "version": 3
   },
   "file_extension": ".py",
   "mimetype": "text/x-python",
   "name": "python",
   "nbconvert_exporter": "python",
   "pygments_lexer": "ipython3",
   "version": "3.9.13"
  },
  "toc": {
   "base_numbering": 1,
   "nav_menu": {},
   "number_sections": true,
   "sideBar": true,
   "skip_h1_title": false,
   "title_cell": "Table of Contents",
   "title_sidebar": "Contents",
   "toc_cell": false,
   "toc_position": {},
   "toc_section_display": true,
   "toc_window_display": false
  },
  "varInspector": {
   "cols": {
    "lenName": 16,
    "lenType": 16,
    "lenVar": 40
   },
   "kernels_config": {
    "python": {
     "delete_cmd_postfix": "",
     "delete_cmd_prefix": "del ",
     "library": "var_list.py",
     "varRefreshCmd": "print(var_dic_list())"
    },
    "r": {
     "delete_cmd_postfix": ") ",
     "delete_cmd_prefix": "rm(",
     "library": "var_list.r",
     "varRefreshCmd": "cat(var_dic_list()) "
    }
   },
   "types_to_exclude": [
    "module",
    "function",
    "builtin_function_or_method",
    "instance",
    "_Feature"
   ],
   "window_display": false
  }
 },
 "nbformat": 4,
 "nbformat_minor": 5
}
