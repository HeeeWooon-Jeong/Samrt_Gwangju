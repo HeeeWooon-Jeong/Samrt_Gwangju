{
 "cells": [
  {
   "cell_type": "code",
   "execution_count": 27,
   "id": "d21a03c1",
   "metadata": {
    "ExecuteTime": {
     "end_time": "2023-08-14T06:36:56.499951Z",
     "start_time": "2023-08-14T06:36:49.579313Z"
    }
   },
   "outputs": [],
   "source": [
    "from selenium import webdriver \n",
    "\n",
    "from selenium.webdriver.common.keys import Keys\n",
    "from selenium.webdriver.chrome.service import Service\n",
    "from selenium.webdriver.common.by import By\n",
    "from webdriver_manager.chrome import ChromeDriverManager  # 크롬드라이버 자동업데이트\n",
    "import time\n",
    "import openpyxl\n",
    "import requests as req\n",
    "from bs4 import BeautifulSoup as bs\n",
    "\n",
    "# 에러뜨면 터미널이나 prompt 에서  pip install webdriver_manager 해주기\n",
    "service = Service(executable_path=ChromeDriverManager().install())\n",
    "driver = webdriver.Chrome(service=service)\n"
   ]
  },
  {
   "cell_type": "code",
   "execution_count": null,
   "id": "f5065580",
   "metadata": {
    "ExecuteTime": {
     "end_time": "2023-08-14T06:36:56.533860Z",
     "start_time": "2023-08-14T06:36:56.533860Z"
    }
   },
   "outputs": [],
   "source": [
    "driver = wb.Chrome()\n",
    "res = req.get('https://fow.kr/ranking#1')\n",
    "res\n",
    "soup = bs(res.text , 'lxml')"
   ]
  },
  {
   "cell_type": "code",
   "execution_count": 37,
   "id": "20caa696",
   "metadata": {
    "ExecuteTime": {
     "end_time": "2023-08-14T06:47:30.148830Z",
     "start_time": "2023-08-14T06:47:30.138857Z"
    }
   },
   "outputs": [],
   "source": [
    "sheet =[]\n",
    "i = 0"
   ]
  },
  {
   "cell_type": "code",
   "execution_count": 38,
   "id": "f3abd7d9",
   "metadata": {
    "ExecuteTime": {
     "end_time": "2023-08-14T06:47:39.219352Z",
     "start_time": "2023-08-14T06:47:31.922020Z"
    }
   },
   "outputs": [],
   "source": [
    "# 아직 미완성!!!   \n",
    "# 주석으로 가둬놓은 부분 반복문으로 자동화 시켜줘야합니다.\n",
    "\n",
    "# 8/14 완성 \n",
    "# 크롤링시 7번 range 조정해서 사용\n",
    "# 충분히 기다릴것  range( 10 ) 으로 실행시 완료까지 41.8초 걸림\n",
    "\n",
    "\n",
    "driver = wb.Chrome()\n",
    "\n",
    "i = 0\n",
    "page = 1\n",
    "driver.get('https://fow.kr/ranking#8601')\n",
    "for _ in range(2):\n",
    "    try:\n",
    "        time.sleep(1)\n",
    "\n",
    "        table = driver.find_element(By.XPATH, \"/html/body/div[5]/div[1]/div/table\")\n",
    "        tbody = table.find_element(By.TAG_NAME, \"tbody\")\n",
    "        rows = tbody.find_elements(By.TAG_NAME, \"tr\")\n",
    "        \n",
    "\n",
    "        for index, value in enumerate(rows):\n",
    "            summonerNick = value.find_elements(By.TAG_NAME, \"td\")[1].text.split(\"\\n\")[0]\n",
    "            #rank = value.find_elements(By.TAG_NAME, \"td\")[2].text\n",
    "\n",
    "            sheet.append([i, summonerNick])\n",
    "            i += 1\n",
    "        \n",
    "    except Exception as e:\n",
    "        print(\"예외 발생:\", e)\n",
    "    \n",
    "    # 다음 페이지로 이동\n",
    "    try:\n",
    "        next = driver.find_element(By.CSS_SELECTOR, '#content-container > div:nth-child(1) > div > input:nth-child(6)')\n",
    "        next.click()\n",
    "    except Exception as e:\n",
    "        print(\"다음 페이지로 이동하는 동안 예외 발생:\", e)\n",
    "    \n",
    "\n"
   ]
  },
  {
   "cell_type": "code",
   "execution_count": 39,
   "id": "2d79df7c",
   "metadata": {
    "ExecuteTime": {
     "end_time": "2023-08-14T06:47:40.268975Z",
     "start_time": "2023-08-14T06:47:40.249029Z"
    }
   },
   "outputs": [
    {
     "data": {
      "text/plain": [
       "[[0, 'йNйNйNй'],\n",
       " [1, '시바다'],\n",
       " [2, 'training arc'],\n",
       " [3, '공자도아침은선다'],\n",
       " [4, '군고구마초록매실'],\n",
       " [5, 'Unbreakable MlND'],\n",
       " [6, '가야지반드시'],\n",
       " [7, '댄스 야스오'],\n",
       " [8, 'takutea'],\n",
       " [9, '고춘맘1'],\n",
       " [10, '가락이엄마'],\n",
       " [11, 'DEL_1210182749229186018'],\n",
       " [12, 'injbglpjrrgsgvc'],\n",
       " [13, '몽키게임'],\n",
       " [14, '그 챔프 왜 함'],\n",
       " [15, '봇유기하면큰결심'],\n",
       " [16, '크세로의 검'],\n",
       " [17, 'CLCL fans'],\n",
       " [18, '하나이치'],\n",
       " [19, '5vs5 game'],\n",
       " [20, '캣맘식카이팅'],\n",
       " [21, '스스로일어나기'],\n",
       " [22, 'iibukii'],\n",
       " [23, '작살 든 민지'],\n",
       " [24, 'OCE Diamond4'],\n",
       " [25, 'EDG DEFT'],\n",
       " [26, '고속도로 로망쓰'],\n",
       " [27, 'lelking'],\n",
       " [28, '새우잠을자더라도고래꿈을꾸어라'],\n",
       " [29, 'meijuheibang'],\n",
       " [30, 'danqiuwukuiwoxin'],\n",
       " [31, 'zddzz'],\n",
       " [32, '마음이평안해지길'],\n",
       " [33, '브리슬할계요'],\n",
       " [34, '축구킹손흥민'],\n",
       " [35, '구면상'],\n",
       " [36, '서 미 오'],\n",
       " [37, 'arpeh'],\n",
       " [38, '알파카Deft'],\n",
       " [39, '주운태'],\n",
       " [40, '최애의 케인'],\n",
       " [41, '5계절24달'],\n",
       " [42, 'MPDYH'],\n",
       " [43, '페 르 네 포 네'],\n",
       " [44, '첫경험은소중해'],\n",
       " [45, '렉이슈'],\n",
       " [46, 'qwerqwerzxc'],\n",
       " [47, '미련한사랑김동욱'],\n",
       " [48, '정다희사랑해'],\n",
       " [49, 'emotionaI'],\n",
       " [50, 'Xiaocan'],\n",
       " [51, 'ScreamY0Y'],\n",
       " [52, 'Heroic Jayce'],\n",
       " [53, 'Migungg'],\n",
       " [54, '영일고 김동진'],\n",
       " [55, '너진짜죽지좀마라'],\n",
       " [56, 'southdragon'],\n",
       " [57, '잉뚜 정글계정'],\n",
       " [58, '후수니'],\n",
       " [59, 'kiйg of mid jug'],\n",
       " [60, '달 콤 잼'],\n",
       " [61, '솔로만보이는닉'],\n",
       " [62, '금붕어'],\n",
       " [63, '강해율'],\n",
       " [64, '당수당수'],\n",
       " [65, '왕 자'],\n",
       " [66, '달의 요정 세미'],\n",
       " [67, '최미뇽'],\n",
       " [68, '햄 쬬'],\n",
       " [69, '2choco'],\n",
       " [70, '스즈메에게'],\n",
       " [71, 'BAD AND SAD MAD'],\n",
       " [72, 'big head shich'],\n",
       " [73, '망가져'],\n",
       " [74, 'seyxxn'],\n",
       " [75, 'YouOn99'],\n",
       " [76, '팀지면 안할란다'],\n",
       " [77, '안산호스트에이스'],\n",
       " [78, 'We The North'],\n",
       " [79, 'йAD'],\n",
       " [80, '06년생 도윤'],\n",
       " [81, 'ruber ovis'],\n",
       " [82, '세 소수의 합'],\n",
       " [83, 'World Is Yours'],\n",
       " [84, 'kytsch'],\n",
       " [85, '병점동페미도살자'],\n",
       " [86, 'lllIIIIIlIll'],\n",
       " [87, 'T1 Nice'],\n",
       " [88, '사려1'],\n",
       " [89, '혁준공주'],\n",
       " [90, '상냥해 좋아해'],\n",
       " [91, 'ni zhen me ku le'],\n",
       " [92, 'Song Cry And'],\n",
       " [93, 'play like me'],\n",
       " [94, '쫄깃쫄깃오동동동'],\n",
       " [95, '먹잇감 사냥꾼'],\n",
       " [96, '깜 프'],\n",
       " [97, '쓰레기통입니다'],\n",
       " [98, '백 현'],\n",
       " [99, 'nothingtohappy']]"
      ]
     },
     "execution_count": 39,
     "metadata": {},
     "output_type": "execute_result"
    }
   ],
   "source": [
    "sheet"
   ]
  },
  {
   "cell_type": "code",
   "execution_count": 40,
   "id": "c416c1df",
   "metadata": {
    "ExecuteTime": {
     "end_time": "2023-08-14T06:47:47.768489Z",
     "start_time": "2023-08-14T06:47:47.753530Z"
    }
   },
   "outputs": [],
   "source": [
    "import pandas as pd"
   ]
  },
  {
   "cell_type": "code",
   "execution_count": 41,
   "id": "8768d0b0",
   "metadata": {
    "ExecuteTime": {
     "end_time": "2023-08-14T06:47:49.517024Z",
     "start_time": "2023-08-14T06:47:49.498075Z"
    }
   },
   "outputs": [
    {
     "data": {
      "text/html": [
       "<div>\n",
       "<style scoped>\n",
       "    .dataframe tbody tr th:only-of-type {\n",
       "        vertical-align: middle;\n",
       "    }\n",
       "\n",
       "    .dataframe tbody tr th {\n",
       "        vertical-align: top;\n",
       "    }\n",
       "\n",
       "    .dataframe thead th {\n",
       "        text-align: right;\n",
       "    }\n",
       "</style>\n",
       "<table border=\"1\" class=\"dataframe\">\n",
       "  <thead>\n",
       "    <tr style=\"text-align: right;\">\n",
       "      <th></th>\n",
       "      <th>0</th>\n",
       "      <th>1</th>\n",
       "    </tr>\n",
       "  </thead>\n",
       "  <tbody>\n",
       "    <tr>\n",
       "      <th>0</th>\n",
       "      <td>0</td>\n",
       "      <td>йNйNйNй</td>\n",
       "    </tr>\n",
       "    <tr>\n",
       "      <th>1</th>\n",
       "      <td>1</td>\n",
       "      <td>시바다</td>\n",
       "    </tr>\n",
       "    <tr>\n",
       "      <th>2</th>\n",
       "      <td>2</td>\n",
       "      <td>training arc</td>\n",
       "    </tr>\n",
       "    <tr>\n",
       "      <th>3</th>\n",
       "      <td>3</td>\n",
       "      <td>공자도아침은선다</td>\n",
       "    </tr>\n",
       "    <tr>\n",
       "      <th>4</th>\n",
       "      <td>4</td>\n",
       "      <td>군고구마초록매실</td>\n",
       "    </tr>\n",
       "    <tr>\n",
       "      <th>...</th>\n",
       "      <td>...</td>\n",
       "      <td>...</td>\n",
       "    </tr>\n",
       "    <tr>\n",
       "      <th>95</th>\n",
       "      <td>95</td>\n",
       "      <td>먹잇감 사냥꾼</td>\n",
       "    </tr>\n",
       "    <tr>\n",
       "      <th>96</th>\n",
       "      <td>96</td>\n",
       "      <td>깜 프</td>\n",
       "    </tr>\n",
       "    <tr>\n",
       "      <th>97</th>\n",
       "      <td>97</td>\n",
       "      <td>쓰레기통입니다</td>\n",
       "    </tr>\n",
       "    <tr>\n",
       "      <th>98</th>\n",
       "      <td>98</td>\n",
       "      <td>백 현</td>\n",
       "    </tr>\n",
       "    <tr>\n",
       "      <th>99</th>\n",
       "      <td>99</td>\n",
       "      <td>nothingtohappy</td>\n",
       "    </tr>\n",
       "  </tbody>\n",
       "</table>\n",
       "<p>100 rows × 2 columns</p>\n",
       "</div>"
      ],
      "text/plain": [
       "     0               1\n",
       "0    0         йNйNйNй\n",
       "1    1             시바다\n",
       "2    2    training arc\n",
       "3    3        공자도아침은선다\n",
       "4    4        군고구마초록매실\n",
       "..  ..             ...\n",
       "95  95         먹잇감 사냥꾼\n",
       "96  96             깜 프\n",
       "97  97         쓰레기통입니다\n",
       "98  98             백 현\n",
       "99  99  nothingtohappy\n",
       "\n",
       "[100 rows x 2 columns]"
      ]
     },
     "execution_count": 41,
     "metadata": {},
     "output_type": "execute_result"
    }
   ],
   "source": [
    "table =  pd.DataFrame(sheet)\n",
    "table"
   ]
  },
  {
   "cell_type": "code",
   "execution_count": 43,
   "id": "75e595f0",
   "metadata": {
    "ExecuteTime": {
     "end_time": "2023-08-14T06:48:41.081516Z",
     "start_time": "2023-08-14T06:48:41.057663Z"
    }
   },
   "outputs": [],
   "source": [
    "df = pd.DataFrame(table)\n",
    "\n",
    "column_1_content = df[1]\n",
    "column_1_content.to_csv(\"다이아_Nick(euc-kr).csv\", encoding = \"euc-kr\")\n",
    "column_1_content.to_csv(\"다이아_Nick(utf-8).csv\", encoding = \"utf-8\")\n",
    "\n"
   ]
  }
 ],
 "metadata": {
  "kernelspec": {
   "display_name": "Python 3 (ipykernel)",
   "language": "python",
   "name": "python3"
  },
  "language_info": {
   "codemirror_mode": {
    "name": "ipython",
    "version": 3
   },
   "file_extension": ".py",
   "mimetype": "text/x-python",
   "name": "python",
   "nbconvert_exporter": "python",
   "pygments_lexer": "ipython3",
   "version": "3.9.13"
  },
  "toc": {
   "base_numbering": 1,
   "nav_menu": {},
   "number_sections": true,
   "sideBar": true,
   "skip_h1_title": false,
   "title_cell": "Table of Contents",
   "title_sidebar": "Contents",
   "toc_cell": false,
   "toc_position": {},
   "toc_section_display": true,
   "toc_window_display": false
  },
  "varInspector": {
   "cols": {
    "lenName": 16,
    "lenType": 16,
    "lenVar": 40
   },
   "kernels_config": {
    "python": {
     "delete_cmd_postfix": "",
     "delete_cmd_prefix": "del ",
     "library": "var_list.py",
     "varRefreshCmd": "print(var_dic_list())"
    },
    "r": {
     "delete_cmd_postfix": ") ",
     "delete_cmd_prefix": "rm(",
     "library": "var_list.r",
     "varRefreshCmd": "cat(var_dic_list()) "
    }
   },
   "types_to_exclude": [
    "module",
    "function",
    "builtin_function_or_method",
    "instance",
    "_Feature"
   ],
   "window_display": false
  }
 },
 "nbformat": 4,
 "nbformat_minor": 5
}
