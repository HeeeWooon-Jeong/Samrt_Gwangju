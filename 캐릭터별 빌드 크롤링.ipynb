{
 "cells": [
  {
   "cell_type": "code",
   "execution_count": 7,
   "id": "925d42ec",
   "metadata": {
    "ExecuteTime": {
     "end_time": "2023-08-14T06:50:30.332947Z",
     "start_time": "2023-08-14T06:50:30.314494Z"
    }
   },
   "outputs": [],
   "source": [
    "\n",
    "from selenium import webdriver as wb\n",
    "\n",
    "from selenium.webdriver.common.keys import Keys\n",
    "from selenium.webdriver.chrome.service import Service\n",
    "from selenium.webdriver.common.by import By\n",
    "from webdriver_manager.chrome import ChromeDriverManager  # 크롬드라이버 자동업데이트\n",
    "import time\n",
    "import openpyxl\n",
    "import requests as req\n",
    "from bs4 import BeautifulSoup as bs\n"
   ]
  },
  {
   "cell_type": "code",
   "execution_count": 9,
   "id": "00883230",
   "metadata": {
    "ExecuteTime": {
     "end_time": "2023-08-14T06:52:45.208638Z",
     "start_time": "2023-08-14T06:52:30.849679Z"
    }
   },
   "outputs": [],
   "source": [
    "driver = wb.Chrome()\n",
    "driver.get('https://www.op.gg/champions')\n",
    "\n",
    "#content-container > div.css-g5c2cp.e1fe8s350 > aside > nav > ul > li:nth-child(1) > a > div > img\n"
   ]
  },
  {
   "cell_type": "code",
   "execution_count": 14,
   "id": "0d087ee0",
   "metadata": {
    "ExecuteTime": {
     "end_time": "2023-08-14T06:53:43.009990Z",
     "start_time": "2023-08-14T06:53:42.944536Z"
    }
   },
   "outputs": [],
   "source": [
    "charactor = driver.find_element(By.CSS_SELECTOR, \"#content-container > div.css-g5c2cp.e1fe8s350 > aside > nav > ul > li:nth-child(1) > a > div > img\")\n",
    "charactor.click()"
   ]
  },
  {
   "cell_type": "code",
   "execution_count": 57,
   "id": "3f2e5669",
   "metadata": {
    "ExecuteTime": {
     "end_time": "2023-08-14T07:41:40.850316Z",
     "start_time": "2023-08-14T07:41:40.812641Z"
    }
   },
   "outputs": [
    {
     "ename": "TypeError",
     "evalue": "object of type 'WebElement' has no len()",
     "output_type": "error",
     "traceback": [
      "\u001b[1;31m---------------------------------------------------------------------------\u001b[0m",
      "\u001b[1;31mTypeError\u001b[0m                                 Traceback (most recent call last)",
      "\u001b[1;32m~\\AppData\\Local\\Temp\\ipykernel_30792\\2672413046.py\u001b[0m in \u001b[0;36m<module>\u001b[1;34m\u001b[0m\n\u001b[0;32m      2\u001b[0m \u001b[0mhtml_code\u001b[0m \u001b[1;33m=\u001b[0m \u001b[0mbuild1\u001b[0m\u001b[1;33m\u001b[0m\u001b[1;33m\u001b[0m\u001b[0m\n\u001b[0;32m      3\u001b[0m \u001b[1;33m\u001b[0m\u001b[0m\n\u001b[1;32m----> 4\u001b[1;33m \u001b[0mbs\u001b[0m\u001b[1;33m(\u001b[0m\u001b[0mbuild1\u001b[0m\u001b[1;33m,\u001b[0m \u001b[1;34m'html.parser'\u001b[0m\u001b[1;33m)\u001b[0m\u001b[1;33m\u001b[0m\u001b[1;33m\u001b[0m\u001b[0m\n\u001b[0m\u001b[0;32m      5\u001b[0m \u001b[1;31m# BeautifulSoup 객체 생성\u001b[0m\u001b[1;33m\u001b[0m\u001b[1;33m\u001b[0m\u001b[0m\n\u001b[0;32m      6\u001b[0m \u001b[0msoup\u001b[0m \u001b[1;33m=\u001b[0m \u001b[0mbs\u001b[0m\u001b[1;33m(\u001b[0m\u001b[0mhtml_code\u001b[0m\u001b[1;33m,\u001b[0m \u001b[1;34m'html.parser'\u001b[0m\u001b[1;33m)\u001b[0m\u001b[1;33m\u001b[0m\u001b[1;33m\u001b[0m\u001b[0m\n",
      "\u001b[1;32m~\\anaconda3\\lib\\site-packages\\bs4\\__init__.py\u001b[0m in \u001b[0;36m__init__\u001b[1;34m(self, markup, features, builder, parse_only, from_encoding, exclude_encodings, element_classes, **kwargs)\u001b[0m\n\u001b[0;32m    311\u001b[0m         \u001b[1;32mif\u001b[0m \u001b[0mhasattr\u001b[0m\u001b[1;33m(\u001b[0m\u001b[0mmarkup\u001b[0m\u001b[1;33m,\u001b[0m \u001b[1;34m'read'\u001b[0m\u001b[1;33m)\u001b[0m\u001b[1;33m:\u001b[0m        \u001b[1;31m# It's a file-type object.\u001b[0m\u001b[1;33m\u001b[0m\u001b[1;33m\u001b[0m\u001b[0m\n\u001b[0;32m    312\u001b[0m             \u001b[0mmarkup\u001b[0m \u001b[1;33m=\u001b[0m \u001b[0mmarkup\u001b[0m\u001b[1;33m.\u001b[0m\u001b[0mread\u001b[0m\u001b[1;33m(\u001b[0m\u001b[1;33m)\u001b[0m\u001b[1;33m\u001b[0m\u001b[1;33m\u001b[0m\u001b[0m\n\u001b[1;32m--> 313\u001b[1;33m         elif len(markup) <= 256 and (\n\u001b[0m\u001b[0;32m    314\u001b[0m                 \u001b[1;33m(\u001b[0m\u001b[0misinstance\u001b[0m\u001b[1;33m(\u001b[0m\u001b[0mmarkup\u001b[0m\u001b[1;33m,\u001b[0m \u001b[0mbytes\u001b[0m\u001b[1;33m)\u001b[0m \u001b[1;32mand\u001b[0m \u001b[1;32mnot\u001b[0m \u001b[1;34mb'<'\u001b[0m \u001b[1;32min\u001b[0m \u001b[0mmarkup\u001b[0m\u001b[1;33m)\u001b[0m\u001b[1;33m\u001b[0m\u001b[1;33m\u001b[0m\u001b[0m\n\u001b[0;32m    315\u001b[0m                 \u001b[1;32mor\u001b[0m \u001b[1;33m(\u001b[0m\u001b[0misinstance\u001b[0m\u001b[1;33m(\u001b[0m\u001b[0mmarkup\u001b[0m\u001b[1;33m,\u001b[0m \u001b[0mstr\u001b[0m\u001b[1;33m)\u001b[0m \u001b[1;32mand\u001b[0m \u001b[1;32mnot\u001b[0m \u001b[1;34m'<'\u001b[0m \u001b[1;32min\u001b[0m \u001b[0mmarkup\u001b[0m\u001b[1;33m)\u001b[0m\u001b[1;33m\u001b[0m\u001b[1;33m\u001b[0m\u001b[0m\n",
      "\u001b[1;31mTypeError\u001b[0m: object of type 'WebElement' has no len()"
     ]
    }
   ],
   "source": [
    "build1 = driver.find_element(By.CSS_SELECTOR, \"#content-container > main > div:nth-child(3) > div > div.css-11qoik6.e1fhxr8k1 > div > table > tbody > tr:nth-child(1) > td.css-1g7m8av.e14sgc0n2 > div > div > div:nth-child(3) > div > img\")\n",
    "html_code = \n",
    "\n",
    "bs(build1, 'html.parser')\n",
    "# BeautifulSoup 객체 생성\n",
    "soup = bs(html_code, 'html.parser')\n",
    "\n",
    "# 모든 img 태그 선택\n",
    "img_tags = soup.find_all('img')\n",
    "\n",
    "# 각 img 태그에서 alt 속성 값 추출 및 출력\n",
    "for img_tag in img_tags:\n",
    "    alt_value = img_tag.get('alt')\n",
    "    print(alt_value)\n",
    "#content-container > main > div:nth-child(3) > div > div.css-11qoik6.e1fhxr8k1 > div > table > tbody > tr:nth-child(1) > td.css-1g7m8av.e14sgc0n2 > div > div > div.item_icon.css-ae9wme.e12mb7fa2 > div > img\n",
    "#content-container > main > div:nth-child(3) > div > div.css-11qoik6.e1fhxr8k1 > div > table > tbody > tr:nth-child(1) > td.css-1g7m8av.e14sgc0n2 > div > div > div:nth-child(3) > div > img"
   ]
  },
  {
   "cell_type": "code",
   "execution_count": 67,
   "id": "4735212e",
   "metadata": {
    "ExecuteTime": {
     "end_time": "2023-08-14T07:59:41.055720Z",
     "start_time": "2023-08-14T07:59:40.953689Z"
    },
    "scrolled": false
   },
   "outputs": [
    {
     "name": "stdout",
     "output_type": "stream",
     "text": [
      "선체파괴자\n",
      "선체파괴자\n",
      "칠흑의 양날 도끼\n"
     ]
    }
   ],
   "source": [
    "# build1 요소 선택\n",
    "build1 = driver.find_element(By.CSS_SELECTOR, \"#content-container > main > div:nth-child(3) > div > div.css-11qoik6.e1fhxr8k1 > div > table > tbody > tr:nth-child(1) > td.css-1g7m8av.e14sgc0n2 > div > div > div:nth-child(3) > div > img\")\n",
    "                                            #content-container > main > div:nth-child(3) > div > div.css-11qoik6.e1fhxr8k1 > div > table > tbody > tr:nth-child(1) > td.css-1g7m8av.e14sgc0n2 > div > div > div.item_icon.css-ae9wme.e12mb7fa2 > div > img\n",
    "                                               #content-container > main > div:nth-child(3) > div > div.css-11qoik6.e1fhxr8k1 > div > table > tbody > tr:nth-child(1) > td.css-1g7m8av.e14sgc0n2 > div > div\n",
    "    \n",
    "    \n",
    "    # build2 요소 선택\n",
    "build2 = driver.find_element(By.CSS_SELECTOR, \"#content-container > main > div:nth-child(3) > div > div.css-11qoik6.e1fhxr8k1 > div > table > tbody > tr:nth-child(1) > td.css-1g7m8av.e14sgc0n2 > div > div > div:nth-child(3) > div > img\")\n",
    "\n",
    "# build3 요소 선택\n",
    "build3 = driver.find_element(By.CSS_SELECTOR, \"#content-container > main > div:nth-child(3) > div > div.css-11qoik6.e1fhxr8k1 > div > table > tbody > tr:nth-child(3) > td.css-1g7m8av.e14sgc0n2 > div > div > div:nth-child(3) > div > img\")\n",
    "\n",
    "# alt 속성 값 추출 및 출력\n",
    "build_name1 = build1.get_attribute('alt')\n",
    "build_name2 = build2.get_attribute('alt')\n",
    "build_name3 = build3.get_attribute('alt')\n",
    "\n",
    "print(build_name1)\n",
    "print(build_name2)\n",
    "print(build_name3)"
   ]
  },
  {
   "cell_type": "code",
   "execution_count": 30,
   "id": "4ab25950",
   "metadata": {
    "ExecuteTime": {
     "end_time": "2023-08-14T07:18:10.077926Z",
     "start_time": "2023-08-14T07:17:55.998011Z"
    }
   },
   "outputs": [],
   "source": [
    "# op.gg\n",
    "# 캐릭터 반복 클릭 for문\n",
    "cnt = 1\n",
    "for _ in range(164):  # 캐릭터 164 개\n",
    "    charactor = driver.find_element(By.CSS_SELECTOR, '#content-container > div.css-g5c2cp.e1fe8s350 > aside > nav > ul > li:nth-child({}) > a > div'.format(cnt))\n",
    "    \n",
    "    charactor.click()\n",
    "    time.sleep(2)\n",
    "    # 해당 캐릭터 에서 뽑을 내용\n",
    "    \n",
    "    \n",
    "    \n",
    "    \n",
    "    \n",
    "    \n",
    "    driver.back()\n",
    "    cnt += 1\n",
    "    time.sleep(2)\n",
    "\n"
   ]
  },
  {
   "cell_type": "code",
   "execution_count": 18,
   "id": "2d39028e",
   "metadata": {
    "ExecuteTime": {
     "end_time": "2023-08-14T06:54:46.806460Z",
     "start_time": "2023-08-14T06:54:46.713003Z"
    }
   },
   "outputs": [],
   "source": [
    "charactor = driver.find_element(By.CSS_SELECTOR, \"#content-container > div.css-g5c2cp.e1fe8s350 > aside > nav > ul > li:nth-child(2) > a > div > img\")\n",
    "\n",
    "charactor.click()"
   ]
  },
  {
   "cell_type": "code",
   "execution_count": null,
   "id": "9011e0e1",
   "metadata": {},
   "outputs": [],
   "source": [
    "#content-container > main > div:nth-child(3) > div > div.css-11qoik6.e1fhxr8k1 > div > table > tbody > tr:nth-child(1) > td.css-1g7m8av.e14sgc0n2 > div > div >nth-child(1)"
   ]
  }
 ],
 "metadata": {
  "kernelspec": {
   "display_name": "Python 3 (ipykernel)",
   "language": "python",
   "name": "python3"
  },
  "language_info": {
   "codemirror_mode": {
    "name": "ipython",
    "version": 3
   },
   "file_extension": ".py",
   "mimetype": "text/x-python",
   "name": "python",
   "nbconvert_exporter": "python",
   "pygments_lexer": "ipython3",
   "version": "3.9.13"
  },
  "toc": {
   "base_numbering": 1,
   "nav_menu": {},
   "number_sections": true,
   "sideBar": true,
   "skip_h1_title": false,
   "title_cell": "Table of Contents",
   "title_sidebar": "Contents",
   "toc_cell": false,
   "toc_position": {},
   "toc_section_display": true,
   "toc_window_display": false
  },
  "varInspector": {
   "cols": {
    "lenName": 16,
    "lenType": 16,
    "lenVar": 40
   },
   "kernels_config": {
    "python": {
     "delete_cmd_postfix": "",
     "delete_cmd_prefix": "del ",
     "library": "var_list.py",
     "varRefreshCmd": "print(var_dic_list())"
    },
    "r": {
     "delete_cmd_postfix": ") ",
     "delete_cmd_prefix": "rm(",
     "library": "var_list.r",
     "varRefreshCmd": "cat(var_dic_list()) "
    }
   },
   "types_to_exclude": [
    "module",
    "function",
    "builtin_function_or_method",
    "instance",
    "_Feature"
   ],
   "window_display": false
  }
 },
 "nbformat": 4,
 "nbformat_minor": 5
}
